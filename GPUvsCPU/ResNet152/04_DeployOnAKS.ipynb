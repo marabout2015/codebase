{
 "cells": [
  {
   "cell_type": "markdown",
   "metadata": {},
   "source": [
    "# Deploy Web App on Azure Container Services (AKS)\n"
   ]
  },
  {
   "cell_type": "markdown",
   "metadata": {},
   "source": [
    "In this notebook, we will set up an Azure Container Service which will be managed by Kubernetes. We will then take the Docker image we created earlier that contains our app and deploy it to the AKS cluster. Then, we will check everything is working by sending an image to it and getting it scored. \n",
    "\n",
    "The process is split into the following steps:\n",
    "- Define our resource names\n",
    "- Login to Azure\n",
    "- Create resource group and create AKS\n",
    "- Connect to AKS\n",
    "- Deploy our app\n",
    "- Tear it all down\n",
    "\n",
    "We assume that this notebook is running on Linux and Azure CLI is installed before proceeding."
   ]
  },
  {
   "cell_type": "markdown",
   "metadata": {},
   "source": [
    "## Setup"
   ]
  },
  {
   "cell_type": "markdown",
   "metadata": {},
   "source": [
    "Below are the various name definitions for the resources needed to setup AKS as well as the name of the Docker image we will be using."
   ]
  },
  {
   "cell_type": "code",
   "execution_count": 1,
   "metadata": {
    "collapsed": true
   },
   "outputs": [],
   "source": [
    "# Please modify the below as you see fit\n",
    "resource_group = \"<RESOURCE_GROUP>\" \n",
    "aks_name = \"<AKS_CLUSTER_NAME>\"\n",
    "location = \"eastus\"\n",
    "\n",
    "image_name = '<YOUR_DOCKER_IMAGE>' # 'fboylu/kerastf-gpu' Feel free to use this image if you want to \n",
    "                                   # skip creating your own container\n",
    "selected_subscription = \"'<YOUR_SUBSCRIPTION>'\" # If you have multiple subscriptions select \n",
    "                                                # the subscription you want to use here"
   ]
  },
  {
   "cell_type": "code",
   "execution_count": 1,
   "metadata": {},
   "outputs": [],
   "source": [
    "resource_group = \"fbaksrg\" # Feel free to modify these\n",
    "aks_name = \"fbAKSClustergpu\"\n",
    "location = \"eastus\"\n",
    "\n",
    "image_name = \"fboylu/kerasres152-gpu\" \n",
    "selected_subscription = \"'Team Danielle Internal'\""
   ]
  },
  {
   "cell_type": "markdown",
   "metadata": {},
   "source": [
    "## Azure account login"
   ]
  },
  {
   "cell_type": "markdown",
   "metadata": {},
   "source": [
    "The command below will initiate a login to your Azure account. It will pop up with an url to go to where you will enter a one off code and log into your Azure account using your browser."
   ]
  },
  {
   "cell_type": "code",
   "execution_count": 6,
   "metadata": {
    "collapsed": true
   },
   "outputs": [],
   "source": [
    "!az login -o table"
   ]
  },
  {
   "cell_type": "code",
   "execution_count": 7,
   "metadata": {
    "collapsed": true
   },
   "outputs": [],
   "source": [
    "!az account set --subscription $selected_subscription"
   ]
  },
  {
   "cell_type": "code",
   "execution_count": 43,
   "metadata": {},
   "outputs": [
    {
     "name": "stdout",
     "output_type": "stream",
     "text": [
      "{\r\n",
      "  \"environmentName\": \"AzureCloud\",\r\n",
      "  \"id\": \"edf507a2-6235-46c5-b560-fd463ba2e771\",\r\n",
      "  \"isDefault\": true,\r\n",
      "  \"name\": \"Team Danielle Internal\",\r\n",
      "  \"state\": \"Enabled\",\r\n",
      "  \"tenantId\": \"72f988bf-86f1-41af-91ab-2d7cd011db47\",\r\n",
      "  \"user\": {\r\n",
      "    \"name\": \"fboylu@microsoft.com\",\r\n",
      "    \"type\": \"user\"\r\n",
      "  }\r\n",
      "}\r\n"
     ]
    }
   ],
   "source": [
    "!az account show"
   ]
  },
  {
   "cell_type": "markdown",
   "metadata": {},
   "source": [
    "You will also need to register the container service resources on your subscription if you haven't already done so."
   ]
  },
  {
   "cell_type": "code",
   "execution_count": 9,
   "metadata": {
    "collapsed": true
   },
   "outputs": [],
   "source": [
    "!az provider register -n Microsoft.ContainerService"
   ]
  },
  {
   "cell_type": "code",
   "execution_count": 10,
   "metadata": {
    "collapsed": true
   },
   "outputs": [],
   "source": [
    "!az provider show -n Microsoft.ContainerService"
   ]
  },
  {
   "cell_type": "markdown",
   "metadata": {},
   "source": [
    "## Create resources and dependencies"
   ]
  },
  {
   "cell_type": "markdown",
   "metadata": {},
   "source": [
    "### Create resource group and AKS cluster"
   ]
  },
  {
   "cell_type": "markdown",
   "metadata": {},
   "source": [
    "Azure encourages the use of groups to organize all the Azure components you deploy. That way it is easier to find them but also we can delete a number of resources simply by deleting the group."
   ]
  },
  {
   "cell_type": "code",
   "execution_count": 11,
   "metadata": {
    "collapsed": true
   },
   "outputs": [],
   "source": [
    "# !az group create --name $resource_group --location $location"
   ]
  },
  {
   "cell_type": "markdown",
   "metadata": {},
   "source": [
    "Below, we create the AKS cluster in the resource group we created earlier."
   ]
  },
  {
   "cell_type": "code",
   "execution_count": 12,
   "metadata": {},
   "outputs": [
    {
     "name": "stdout",
     "output_type": "stream",
     "text": [
      "\u001b[K{- Finished ..\n",
      "  \"additionalProperties\": {},\n",
      "  \"agentPoolProfiles\": [\n",
      "    {\n",
      "      \"additionalProperties\": {},\n",
      "      \"count\": 1,\n",
      "      \"dnsPrefix\": null,\n",
      "      \"fqdn\": null,\n",
      "      \"name\": \"nodepool1\",\n",
      "      \"osDiskSizeGb\": null,\n",
      "      \"osType\": \"Linux\",\n",
      "      \"ports\": null,\n",
      "      \"storageProfile\": \"ManagedDisks\",\n",
      "      \"vmSize\": \"Standard_NC6\",\n",
      "      \"vnetSubnetId\": null\n",
      "    }\n",
      "  ],\n",
      "  \"dnsPrefix\": \"fbAKSClust-fbaksrg-edf507\",\n",
      "  \"fqdn\": \"fbaksclust-fbaksrg-edf507-97ac4d0f.hcp.eastus.azmk8s.io\",\n",
      "  \"id\": \"/subscriptions/edf507a2-6235-46c5-b560-fd463ba2e771/resourcegroups/fbaksrg/providers/Microsoft.ContainerService/managedClusters/fbAKSCluster\",\n",
      "  \"kubernetesVersion\": \"1.8.10\",\n",
      "  \"linuxProfile\": {\n",
      "    \"additionalProperties\": {},\n",
      "    \"adminUsername\": \"azureuser\",\n",
      "    \"ssh\": {\n",
      "      \"additionalProperties\": {},\n",
      "      \"publicKeys\": [\n",
      "        {\n",
      "          \"additionalProperties\": {},\n",
      "          \"keyData\": \"ssh-rsa AAAAB3NzaC1yc2EAAAADAQABAAABAQCgTNSnvmSzdPGTzAvv8RkIm0wntQNwHEm0weIYisqfLFxYkfEAe2q5gyWgZzvRqn4u5SX8YQjj8TPxSJBp2z9VDh7OD2WdMP0ApbhgREsaCdycIb+6Ykeu8YMA6f+mlCbz4xrHh3L2SsjaLXkaA2GBPMAHwnK0eXcZlJIKO51/1j2jcd9dgx3k0FdEanTnG/15MkC32VixMmPUBEdmkSvUiZwdOncX6CzpkzTaCmdncrGJ9TlX1qAgsPH4SBFAn4wyj7213yX1xGD/nkpJLEXhe+QVBgIC1s4OLtSFNdK3yER26hT9teE5FQSpTye9SfsT+MzztThskDhzmWVAxewR\"\n",
      "        }\n",
      "      ]\n",
      "    }\n",
      "  },\n",
      "  \"location\": \"eastus\",\n",
      "  \"name\": \"fbAKSCluster\",\n",
      "  \"provisioningState\": \"Succeeded\",\n",
      "  \"resourceGroup\": \"fbaksrg\",\n",
      "  \"servicePrincipalProfile\": {\n",
      "    \"additionalProperties\": {},\n",
      "    \"clientId\": \"613f7349-cc3a-49f7-9d65-2ab3afc4453a\",\n",
      "    \"keyVaultSecretRef\": null,\n",
      "    \"secret\": null\n",
      "  },\n",
      "  \"tags\": null,\n",
      "  \"type\": \"Microsoft.ContainerService/ManagedClusters\"\n",
      "}\n",
      "\u001b[0mCPU times: user 11.5 s, sys: 4.51 s, total: 16 s\n",
      "Wall time: 10min 36s\n"
     ]
    }
   ],
   "source": [
    "%%time\n",
    "# !az aks create --resource-group $resource_group --name $aks_name --node-count 1 --generate-ssh-keys -s Standard_NC6"
   ]
  },
  {
   "cell_type": "markdown",
   "metadata": {},
   "source": [
    "### Install kubectl CLI"
   ]
  },
  {
   "cell_type": "markdown",
   "metadata": {},
   "source": [
    "To connect to the Kubernetes cluster, we will use kubectl, the Kubernetes command-line client. To install, run the following:"
   ]
  },
  {
   "cell_type": "code",
   "execution_count": 54,
   "metadata": {},
   "outputs": [
    {
     "name": "stdout",
     "output_type": "stream",
     "text": [
      "\u001b[33mDownloading client to /usr/local/bin/kubectl from https://storage.googleapis.com/kubernetes-release/release/v1.10.4/bin/linux/amd64/kubectl\u001b[0m\n",
      "\u001b[33mPlease ensure that /usr/local/bin is in your search PATH, so the `kubectl` command can be found.\u001b[0m\n"
     ]
    }
   ],
   "source": [
    "!sudo az aks install-cli"
   ]
  },
  {
   "cell_type": "markdown",
   "metadata": {},
   "source": [
    "## Connect to AKS cluster"
   ]
  },
  {
   "cell_type": "markdown",
   "metadata": {},
   "source": [
    "To configure kubectl to connect to the Kubernetes cluster, run the following command:"
   ]
  },
  {
   "cell_type": "code",
   "execution_count": 55,
   "metadata": {},
   "outputs": [
    {
     "name": "stdout",
     "output_type": "stream",
     "text": [
      "Merged \"fbAKSClustergpu\" as current context in /home/fboylu/.kube/config\r\n"
     ]
    }
   ],
   "source": [
    "!az aks get-credentials --resource-group $resource_group --name $aks_name"
   ]
  },
  {
   "cell_type": "markdown",
   "metadata": {},
   "source": [
    "Let's verify connection by listing the nodes."
   ]
  },
  {
   "cell_type": "code",
   "execution_count": 56,
   "metadata": {},
   "outputs": [
    {
     "name": "stdout",
     "output_type": "stream",
     "text": [
      "NAME                       STATUS    ROLES     AGE       VERSION\r\n",
      "aks-nodepool1-28016997-0   Ready     agent     7d        v1.9.6\r\n",
      "aks-nodepool1-28016997-1   Ready     agent     6d        v1.9.6\r\n",
      "aks-nodepool1-28016997-2   Ready     agent     2d        v1.9.6\r\n"
     ]
    }
   ],
   "source": [
    "!kubectl get nodes"
   ]
  },
  {
   "cell_type": "markdown",
   "metadata": {},
   "source": [
    "Let's check the pods on our cluster."
   ]
  },
  {
   "cell_type": "code",
   "execution_count": 57,
   "metadata": {},
   "outputs": [
    {
     "name": "stdout",
     "output_type": "stream",
     "text": [
      "NAMESPACE     NAME                                    READY     STATUS    RESTARTS   AGE\r\n",
      "kube-system   azureproxy-79c5db744-r5ggd              1/1       Running   2          7d\r\n",
      "kube-system   heapster-55f855b47-4m7xr                2/2       Running   0          7d\r\n",
      "kube-system   kube-dns-v20-7c556f89c5-4z4z6           3/3       Running   0          7d\r\n",
      "kube-system   kube-dns-v20-7c556f89c5-mp5fh           3/3       Running   0          7d\r\n",
      "kube-system   kube-proxy-6bkzt                        1/1       Running   0          2d\r\n",
      "kube-system   kube-proxy-k8t2c                        1/1       Running   0          7d\r\n",
      "kube-system   kube-proxy-qxnrq                        1/1       Running   0          6d\r\n",
      "kube-system   kube-svc-redirect-fwwfn                 1/1       Running   0          6d\r\n",
      "kube-system   kube-svc-redirect-pwkxv                 1/1       Running   0          2d\r\n",
      "kube-system   kube-svc-redirect-z6ppp                 1/1       Running   0          7d\r\n",
      "kube-system   kubernetes-dashboard-546f987686-8krxm   1/1       Running   2          7d\r\n",
      "kube-system   tunnelfront-695bcbdc68-t4l8t            1/1       Running   0          7d\r\n"
     ]
    }
   ],
   "source": [
    "!kubectl get pods --all-namespaces"
   ]
  },
  {
   "cell_type": "markdown",
   "metadata": {},
   "source": [
    "## Deploy application"
   ]
  },
  {
   "cell_type": "markdown",
   "metadata": {},
   "source": [
    "Below we define our Kubernetes manifest file for our service and load balancer. Note that we have to specify the volume mounts to the drivers that are located on the node."
   ]
  },
  {
   "cell_type": "code",
   "execution_count": 8,
   "metadata": {},
   "outputs": [],
   "source": [
    "app_template = {\n",
    "  \"apiVersion\": \"apps/v1beta1\",\n",
    "  \"kind\": \"Deployment\",\n",
    "  \"metadata\": {\n",
    "      \"name\": \"azure-dl\"\n",
    "  },\n",
    "  \"spec\":{\n",
    "      \"replicas\":1,\n",
    "      \"template\":{\n",
    "          \"metadata\":{\n",
    "              \"labels\":{\n",
    "                  \"app\":\"azure-dl\"\n",
    "              }\n",
    "          },\n",
    "          \"spec\":{\n",
    "              \"containers\":[\n",
    "                  {\n",
    "                      \"name\": \"azure-dl\",\n",
    "                      \"image\": \"fboylu/kerasres152-gpu\",\n",
    "                      \"env\":[\n",
    "                          {\n",
    "                              \"name\": \"LD_LIBRARY_PATH\",\n",
    "                              \"value\": \"$LD_LIBRARY_PATH:/usr/local/nvidia/lib64:/opt/conda/envs/py3.5/lib\"\n",
    "                          }\n",
    "                      ],\n",
    "                      \"ports\":[\n",
    "                          {\n",
    "                              \"containerPort\":80,\n",
    "                              \"name\":\"model\"\n",
    "                          }\n",
    "                      ],\n",
    "                      \"volumeMounts\":[\n",
    "                          {\n",
    "                              \"mountPath\":\"/usr/local/nvidia\",\n",
    "                              \"name\": \"nvidia\",\n",
    "                          }\n",
    "                      ],\n",
    "                      \"resources\":{\n",
    "                           \"requests\":{\n",
    "                               \"alpha.kubernetes.io/nvidia-gpu\": 1\n",
    "                           },\n",
    "                           \"limits\":{\n",
    "                               \"alpha.kubernetes.io/nvidia-gpu\": 1\n",
    "                           }\n",
    "                       }  \n",
    "                  }\n",
    "              ],\n",
    "              \"volumes\":[\n",
    "                  {\n",
    "                      \"name\": \"nvidia\",\n",
    "                      \"hostPath\":{\n",
    "                          \"path\":\"/usr/local/nvidia\"\n",
    "                      },\n",
    "                  },\n",
    "              ]\n",
    "          }\n",
    "      }\n",
    "  }\n",
    "}\n",
    "\n",
    "service_temp = {\n",
    "  \"apiVersion\": \"v1\",\n",
    "  \"kind\": \"Service\",\n",
    "  \"metadata\": {\n",
    "      \"name\": \"azure-dl\"\n",
    "  },\n",
    "  \"spec\":{\n",
    "      \"type\": \"LoadBalancer\",\n",
    "      \"ports\":[\n",
    "          {\n",
    "              \"port\":80\n",
    "          }\n",
    "      ],\n",
    "      \"selector\":{\n",
    "            \"app\":\"azure-dl\"\n",
    "      }\n",
    "   }\n",
    "}"
   ]
  },
  {
   "cell_type": "code",
   "execution_count": 9,
   "metadata": {},
   "outputs": [],
   "source": [
    "import json\n",
    "def write_json_to_file(json_dict, filename, mode='w'):\n",
    "    with open(filename, mode) as outfile:\n",
    "        json.dump(json_dict, outfile, indent=4, sort_keys=True)\n",
    "        outfile.write('\\n\\n')"
   ]
  },
  {
   "cell_type": "code",
   "execution_count": 10,
   "metadata": {},
   "outputs": [],
   "source": [
    "write_json_to_file(app_template, 'az-dl.json')"
   ]
  },
  {
   "cell_type": "code",
   "execution_count": 11,
   "metadata": {},
   "outputs": [],
   "source": [
    "write_json_to_file(service_temp, 'az-dl.json', mode='a')"
   ]
  },
  {
   "cell_type": "markdown",
   "metadata": {},
   "source": [
    "Let's check the manifest created."
   ]
  },
  {
   "cell_type": "code",
   "execution_count": 12,
   "metadata": {},
   "outputs": [
    {
     "name": "stdout",
     "output_type": "stream",
     "text": [
      "{\r\n",
      "    \"apiVersion\": \"apps/v1beta1\",\r\n",
      "    \"kind\": \"Deployment\",\r\n",
      "    \"metadata\": {\r\n",
      "        \"name\": \"azure-dl\"\r\n",
      "    },\r\n",
      "    \"spec\": {\r\n",
      "        \"replicas\": 1,\r\n",
      "        \"template\": {\r\n",
      "            \"metadata\": {\r\n",
      "                \"labels\": {\r\n",
      "                    \"app\": \"azure-dl\"\r\n",
      "                }\r\n",
      "            },\r\n",
      "            \"spec\": {\r\n",
      "                \"containers\": [\r\n",
      "                    {\r\n",
      "                        \"env\": [\r\n",
      "                            {\r\n",
      "                                \"name\": \"LD_LIBRARY_PATH\",\r\n",
      "                                \"value\": \"$LD_LIBRARY_PATH:/usr/local/nvidia/lib64:/opt/conda/envs/py3.5/lib\"\r\n",
      "                            }\r\n",
      "                        ],\r\n",
      "                        \"image\": \"fboylu/kerasres152-gpu\",\r\n",
      "                        \"name\": \"azure-dl\",\r\n",
      "                        \"ports\": [\r\n",
      "                            {\r\n",
      "                                \"containerPort\": 80,\r\n",
      "                                \"name\": \"model\"\r\n",
      "                            }\r\n",
      "                        ],\r\n",
      "                        \"resources\": {\r\n",
      "                            \"limits\": {\r\n",
      "                                \"alpha.kubernetes.io/nvidia-gpu\": 1\r\n",
      "                            },\r\n",
      "                            \"requests\": {\r\n",
      "                                \"alpha.kubernetes.io/nvidia-gpu\": 1\r\n",
      "                            }\r\n",
      "                        },\r\n",
      "                        \"volumeMounts\": [\r\n",
      "                            {\r\n",
      "                                \"mountPath\": \"/usr/local/nvidia\",\r\n",
      "                                \"name\": \"nvidia\"\r\n",
      "                            }\r\n",
      "                        ]\r\n",
      "                    }\r\n",
      "                ],\r\n",
      "                \"volumes\": [\r\n",
      "                    {\r\n",
      "                        \"hostPath\": {\r\n",
      "                            \"path\": \"/usr/local/nvidia\"\r\n",
      "                        },\r\n",
      "                        \"name\": \"nvidia\"\r\n",
      "                    }\r\n",
      "                ]\r\n",
      "            }\r\n",
      "        }\r\n",
      "    }\r\n",
      "}\r\n",
      "\r\n",
      "{\r\n",
      "    \"apiVersion\": \"v1\",\r\n",
      "    \"kind\": \"Service\",\r\n",
      "    \"metadata\": {\r\n",
      "        \"name\": \"azure-dl\"\r\n",
      "    },\r\n",
      "    \"spec\": {\r\n",
      "        \"ports\": [\r\n",
      "            {\r\n",
      "                \"port\": 80\r\n",
      "            }\r\n",
      "        ],\r\n",
      "        \"selector\": {\r\n",
      "            \"app\": \"azure-dl\"\r\n",
      "        },\r\n",
      "        \"type\": \"LoadBalancer\"\r\n",
      "    }\r\n",
      "}\r\n",
      "\r\n"
     ]
    }
   ],
   "source": [
    "!cat az-dl.json"
   ]
  },
  {
   "cell_type": "markdown",
   "metadata": {},
   "source": [
    "Next, we will use kubectl create command to deploy our application."
   ]
  },
  {
   "cell_type": "code",
   "execution_count": 13,
   "metadata": {},
   "outputs": [
    {
     "name": "stdout",
     "output_type": "stream",
     "text": [
      "deployment.apps \"azure-dl\" created\n",
      "service \"azure-dl\" created\n"
     ]
    }
   ],
   "source": [
    "!kubectl create -f az-dl.json"
   ]
  },
  {
   "cell_type": "markdown",
   "metadata": {},
   "source": [
    "Let's check if the pod is deployed."
   ]
  },
  {
   "cell_type": "code",
   "execution_count": 22,
   "metadata": {},
   "outputs": [
    {
     "name": "stdout",
     "output_type": "stream",
     "text": [
      "NAMESPACE     NAME                                    READY     STATUS    RESTARTS   AGE\r\n",
      "default       azure-dl-5c4d56c8d8-cg2fb               1/1       Running   0          7m\r\n",
      "kube-system   azureproxy-79c5db744-r5ggd              1/1       Running   2          4h\r\n",
      "kube-system   heapster-55f855b47-4m7xr                2/2       Running   0          3h\r\n",
      "kube-system   kube-dns-v20-7c556f89c5-4z4z6           3/3       Running   0          4h\r\n",
      "kube-system   kube-dns-v20-7c556f89c5-mp5fh           3/3       Running   0          4h\r\n",
      "kube-system   kube-proxy-k8t2c                        1/1       Running   0          3h\r\n",
      "kube-system   kube-svc-redirect-z6ppp                 1/1       Running   0          3h\r\n",
      "kube-system   kubernetes-dashboard-546f987686-8krxm   1/1       Running   2          4h\r\n",
      "kube-system   tunnelfront-695bcbdc68-t4l8t            1/1       Running   0          4h\r\n"
     ]
    }
   ],
   "source": [
    "!kubectl get pods --all-namespaces"
   ]
  },
  {
   "cell_type": "markdown",
   "metadata": {},
   "source": [
    "If anything goes wrong you can use the commands below to observe the events on the node as well as review the logs."
   ]
  },
  {
   "cell_type": "code",
   "execution_count": 34,
   "metadata": {},
   "outputs": [
    {
     "name": "stdout",
     "output_type": "stream",
     "text": [
      "LAST SEEN   FIRST SEEN   COUNT     NAME                                         KIND         SUBOBJECT                   TYPE      REASON                    SOURCE                                 MESSAGE\r\n",
      "4m          4m           1         aks-nodepool1-28016997-1.153642ae272fe113    Node                                     Normal    Starting                  kubelet, aks-nodepool1-28016997-1      Starting kubelet.\r\n",
      "4m          4m           2         aks-nodepool1-28016997-1.153642ae2a310adb    Node                                     Normal    NodeHasSufficientDisk     kubelet, aks-nodepool1-28016997-1      Node aks-nodepool1-28016997-1 status is now: NodeHasSufficientDisk\r\n",
      "4m          4m           2         aks-nodepool1-28016997-1.153642ae2a35dbb0    Node                                     Normal    NodeHasSufficientMemory   kubelet, aks-nodepool1-28016997-1      Node aks-nodepool1-28016997-1 status is now: NodeHasSufficientMemory\r\n",
      "4m          4m           2         aks-nodepool1-28016997-1.153642ae2a3a90c9    Node                                     Normal    NodeHasNoDiskPressure     kubelet, aks-nodepool1-28016997-1      Node aks-nodepool1-28016997-1 status is now: NodeHasNoDiskPressure\r\n",
      "4m          4m           1         aks-nodepool1-28016997-1.153642ae2b265c39    Node                                     Normal    NodeAllocatableEnforced   kubelet, aks-nodepool1-28016997-1      Updated Node Allocatable limit across pods\r\n",
      "4m          4m           1         aks-nodepool1-28016997-1.153642af393da548    Node                                     Normal    RegisteredNode            node-controller                        Node aks-nodepool1-28016997-1 event: Registered Node aks-nodepool1-28016997-1 in Controller\r\n",
      "3m          3m           1         aks-nodepool1-28016997-1.153642b140abff64    Node                                     Normal    Starting                  kube-proxy, aks-nodepool1-28016997-1   Starting kube-proxy.\r\n",
      "3m          3m           1         aks-nodepool1-28016997-1.153642b2df534a50    Node                                     Normal    NodeReady                 kubelet, aks-nodepool1-28016997-1      Node aks-nodepool1-28016997-1 status is now: NodeReady\r\n",
      "2m          2m           1         azure-dl-5c4d56c8d8-lvjrw.153642c82ebe1f2f   Pod                                      Normal    Scheduled                 default-scheduler                      Successfully assigned azure-dl-5c4d56c8d8-lvjrw to aks-nodepool1-28016997-1\r\n",
      "2m          2m           1         azure-dl-5c4d56c8d8-lvjrw.153642c83ba7e291   Pod                                      Normal    SuccessfulMountVolume     kubelet, aks-nodepool1-28016997-1      MountVolume.SetUp succeeded for volume \"nvidia\" \r\n",
      "2m          2m           1         azure-dl-5c4d56c8d8-lvjrw.153642c83da67c8f   Pod                                      Normal    SuccessfulMountVolume     kubelet, aks-nodepool1-28016997-1      MountVolume.SetUp succeeded for volume \"default-token-crgnj\" \r\n",
      "10s         2m           2         azure-dl-5c4d56c8d8-lvjrw.153642c881a03ee9   Pod          spec.containers{azure-dl}   Normal    Pulling                   kubelet, aks-nodepool1-28016997-1      pulling image \"fboylu/kerasres152-gpu\"\r\n",
      "24s         24s          1         azure-dl-5c4d56c8d8-lvjrw.153642e2d9149515   Pod          spec.containers{azure-dl}   Warning   Failed                    kubelet, aks-nodepool1-28016997-1      Failed to pull image \"fboylu/kerasres152-gpu\": rpc error: code = Canceled desc = context canceled\r\n",
      "24s         24s          1         azure-dl-5c4d56c8d8-lvjrw.153642e2d914f659   Pod          spec.containers{azure-dl}   Warning   Failed                    kubelet, aks-nodepool1-28016997-1      Error: ErrImagePull\r\n",
      "23s         23s          1         azure-dl-5c4d56c8d8-lvjrw.153642e2ff7a6830   Pod          spec.containers{azure-dl}   Normal    BackOff                   kubelet, aks-nodepool1-28016997-1      Back-off pulling image \"fboylu/kerasres152-gpu\"\r\n",
      "23s         23s          1         azure-dl-5c4d56c8d8-lvjrw.153642e2ff7a8964   Pod          spec.containers{azure-dl}   Warning   Failed                    kubelet, aks-nodepool1-28016997-1      Error: ImagePullBackOff\r\n",
      "2m          2m           1         azure-dl-5c4d56c8d8.153642c82e1360f6         ReplicaSet                               Normal    SuccessfulCreate          replicaset-controller                  Created pod: azure-dl-5c4d56c8d8-lvjrw\r\n",
      "2m          2m           1         azure-dl.153642bebf9f6df6                    Service                                  Normal    UpdatedLoadBalancer       service-controller                     Updated load balancer with new hosts\r\n",
      "2m          2m           1         azure-dl.153642c82cf14735                    Deployment                               Normal    ScalingReplicaSet         deployment-controller                  Scaled up replica set azure-dl-5c4d56c8d8 to 2\r\n"
     ]
    }
   ],
   "source": [
    "!kubectl get events"
   ]
  },
  {
   "cell_type": "markdown",
   "metadata": {},
   "source": [
    "Check the logs for the application pod."
   ]
  },
  {
   "cell_type": "code",
   "execution_count": 23,
   "metadata": {},
   "outputs": [],
   "source": [
    "pod_json = !kubectl get pods -o json\n",
    "pod_dict = json.loads(''.join(pod_json))"
   ]
  },
  {
   "cell_type": "code",
   "execution_count": 24,
   "metadata": {},
   "outputs": [
    {
     "name": "stdout",
     "output_type": "stream",
     "text": [
      "2018-06-08 17:28:03,358 CRIT Supervisor running as root (no user in config file)\r\n",
      "2018-06-08 17:28:03,360 INFO supervisord started with pid 1\r\n",
      "2018-06-08 17:28:04,362 INFO spawned: 'program_exit' with pid 9\r\n",
      "2018-06-08 17:28:04,364 INFO spawned: 'nginx' with pid 10\r\n",
      "2018-06-08 17:28:04,365 INFO spawned: 'gunicorn' with pid 11\r\n",
      "2018-06-08 17:28:05,398 INFO success: program_exit entered RUNNING state, process has stayed up for > than 1 seconds (startsecs)\r\n",
      "2018-06-08 17:28:05.757550: I tensorflow/core/platform/cpu_feature_guard.cc:140] Your CPU supports instructions that this TensorFlow binary was not compiled to use: AVX2 FMA\r\n",
      "2018-06-08 17:28:05.939224: I tensorflow/core/common_runtime/gpu/gpu_device.cc:1212] Found device 0 with properties: \r\n",
      "name: Tesla K80 major: 3 minor: 7 memoryClockRate(GHz): 0.8235\r\n",
      "pciBusID: ddde:00:00.0\r\n",
      "totalMemory: 11.17GiB freeMemory: 11.10GiB\r\n",
      "2018-06-08 17:28:05.939269: I tensorflow/core/common_runtime/gpu/gpu_device.cc:1312] Adding visible gpu devices: 0\r\n",
      "2018-06-08 17:28:06.251843: I tensorflow/core/common_runtime/gpu/gpu_device.cc:993] Creating TensorFlow device (/job:localhost/replica:0/task:0/device:GPU:0 with 10765 MB memory) -> physical GPU (device: 0, name: Tesla K80, pci bus id: ddde:00:00.0, compute capability: 3.7)\r\n",
      "2018-06-08 17:28:10,256 INFO success: nginx entered RUNNING state, process has stayed up for > than 5 seconds (startsecs)\r\n",
      "Downloading data from https://github.com/adamcasson/resnet152/releases/download/v0.1/resnet152_weights_tf.h5\r\n",
      "\r\n",
      "     8192/243179624 [..............................] - ETA: 39s\r\n",
      "  1482752/243179624 [..............................] - ETA: 8s \r\n",
      "  4112384/243179624 [..............................] - ETA: 5s\r\n",
      "  6496256/243179624 [..............................] - ETA: 5s\r\n",
      "  9003008/243179624 [>.............................] - ETA: 5s\r\n",
      " 12001280/243179624 [>.............................] - ETA: 4s\r\n",
      " 12648448/243179624 [>.............................] - ETA: 6s\r\n",
      " 13762560/243179624 [>.............................] - ETA: 6s\r\n",
      " 16105472/243179624 [>.............................] - ETA: 6s\r\n",
      " 17809408/243179624 [=>............................] - ETA: 6s\r\n",
      " 19447808/243179624 [=>............................] - ETA: 6s\r\n",
      " 21307392/243179624 [=>............................] - ETA: 6s\r\n",
      " 22913024/243179624 [=>............................] - ETA: 6s\r\n",
      " 25034752/243179624 [==>...........................] - ETA: 6s\r\n",
      " 27508736/243179624 [==>...........................] - ETA: 5s\r\n",
      " 29368320/243179624 [==>...........................] - ETA: 5s\r\n",
      " 29908992/243179624 [==>...........................] - ETA: 6s\r\n",
      " 30433280/243179624 [==>...........................] - ETA: 6s\r\n",
      " 32710656/243179624 [===>..........................] - ETA: 6s\r\n",
      " 35078144/243179624 [===>..........................] - ETA: 5s\r\n",
      " 37855232/243179624 [===>..........................] - ETA: 5s\r\n",
      " 39886848/243179624 [===>..........................] - ETA: 5s\r\n",
      " 42958848/243179624 [====>.........................] - ETA: 5s\r\n",
      " 45965312/243179624 [====>.........................] - ETA: 5s\r\n",
      " 49094656/243179624 [=====>........................] - ETA: 4s\r\n",
      " 52756480/243179624 [=====>........................] - ETA: 4s\r\n",
      " 55984128/243179624 [=====>........................] - ETA: 4s\r\n",
      " 59793408/243179624 [======>.......................] - ETA: 4s\r\n",
      " 63627264/243179624 [======>.......................] - ETA: 4s\r\n",
      " 67526656/243179624 [=======>......................] - ETA: 3s\r\n",
      " 71630848/243179624 [=======>......................] - ETA: 3s2018-06-08 17:28:24,400 INFO success: gunicorn entered RUNNING state, process has stayed up for > than 20 seconds (startsecs)\r\n",
      "\r\n",
      " 76251136/243179624 [========>.....................] - ETA: 3s\r\n",
      " 80166912/243179624 [========>.....................] - ETA: 3s\r\n",
      " 84451328/243179624 [=========>....................] - ETA: 3s\r\n",
      " 88195072/243179624 [=========>....................] - ETA: 3s\r\n",
      " 92667904/243179624 [==========>...................] - ETA: 2s\r\n",
      " 97157120/243179624 [==========>...................] - ETA: 2s\r\n",
      "102088704/243179624 [===========>..................] - ETA: 2s\r\n",
      "106921984/243179624 [============>.................] - ETA: 2s\r\n",
      "112304128/243179624 [============>.................] - ETA: 2s\r\n",
      "117751808/243179624 [=============>................] - ETA: 2s\r\n",
      "123338752/243179624 [==============>...............] - ETA: 2s\r\n",
      "128843776/243179624 [==============>...............] - ETA: 1s\r\n",
      "132931584/243179624 [===============>..............] - ETA: 1s\r\n",
      "137142272/243179624 [===============>..............] - ETA: 1s\r\n",
      "141795328/243179624 [================>.............] - ETA: 1s\r\n",
      "146456576/243179624 [=================>............] - ETA: 1s\r\n",
      "149512192/243179624 [=================>............] - ETA: 1s\r\n",
      "150249472/243179624 [=================>............] - ETA: 1s\r\n",
      "152846336/243179624 [=================>............] - ETA: 1s\r\n",
      "155049984/243179624 [==================>...........] - ETA: 1s\r\n",
      "158031872/243179624 [==================>...........] - ETA: 1s\r\n",
      "160833536/243179624 [==================>...........] - ETA: 1s\r\n",
      "163987456/243179624 [===================>..........] - ETA: 1s\r\n",
      "168771584/243179624 [===================>..........] - ETA: 1s\r\n",
      "174219264/243179624 [====================>.........] - ETA: 1s\r\n",
      "179757056/243179624 [=====================>........] - ETA: 1s\r\n",
      "185081856/243179624 [=====================>........] - ETA: 0s\r\n",
      "188145664/243179624 [======================>.......] - ETA: 0s\r\n",
      "193724416/243179624 [======================>.......] - ETA: 0s\r\n",
      "198623232/243179624 [=======================>......] - ETA: 0s\r\n",
      "203087872/243179624 [========================>.....] - ETA: 0s\r\n",
      "208953344/243179624 [========================>.....] - ETA: 0s\r\n",
      "214736896/243179624 [=========================>....] - ETA: 0s\r\n",
      "219766784/243179624 [==========================>...] - ETA: 0s\r\n",
      "225116160/243179624 [==========================>...] - ETA: 0s\r\n",
      "230522880/243179624 [===========================>..] - ETA: 0s\r\n",
      "236265472/243179624 [============================>.] - ETA: 0s\r\n",
      "241688576/243179624 [============================>.] - ETA: 0s\r\n",
      "243187712/243179624 [==============================] - 4s 0us/step\r\n",
      "{\"host\": \"azure-dl-5c4d56c8d8-cg2fb\", \"level\": \"INFO\", \"logger\": \"model_driver\", \"message\": \"Model loading time: 30426.02 ms\", \"stack_info\": null, \"path\": \"/code/driver.py\", \"timestamp\": \"2018-06-08T17:28:36.155536Z\", \"tags\": []}\r\n",
      "Initialising\r\n",
      "{\"host\": \"azure-dl-5c4d56c8d8-cg2fb\", \"level\": \"INFO\", \"logger\": \"werkzeug\", \"message\": \" * Running on http://127.0.0.1:5000/ (Press CTRL+C to quit)\", \"stack_info\": null, \"path\": \"/opt/conda/envs/py3.5/lib/python3.5/site-packages/werkzeug/_internal.py\", \"msg\": \" * Running on %s://%s:%d/ %s\", \"timestamp\": \"2018-06-08T17:28:36.162381Z\", \"tags\": []}\r\n"
     ]
    }
   ],
   "source": [
    "!kubectl logs {pod_dict['items'][0]['metadata']['name']}"
   ]
  },
  {
   "cell_type": "code",
   "execution_count": 58,
   "metadata": {},
   "outputs": [
    {
     "name": "stdout",
     "output_type": "stream",
     "text": [
      "No resources found.\r\n"
     ]
    }
   ],
   "source": [
    "!kubectl get deployment"
   ]
  },
  {
   "cell_type": "markdown",
   "metadata": {},
   "source": [
    "It can take a few minutes for the service to populate the EXTERNAL-IP field below. This will be the IP you use to call the service. You can also specify an IP to use, please see the AKS documentation for further details."
   ]
  },
  {
   "cell_type": "code",
   "execution_count": 29,
   "metadata": {},
   "outputs": [
    {
     "name": "stdout",
     "output_type": "stream",
     "text": [
      "NAME       TYPE           CLUSTER-IP    EXTERNAL-IP    PORT(S)        AGE\r\n",
      "azure-dl   LoadBalancer   10.0.73.218   40.121.60.60   80:31452/TCP   19m\r\n"
     ]
    }
   ],
   "source": [
    "!kubectl get service azure-dl"
   ]
  },
  {
   "cell_type": "markdown",
   "metadata": {},
   "source": [
    "Next, we will [test our web application deployed on AKS](05_TestWebApp.ipynb). Once, we are done with all the notebooks of the tutorial, below instructions can be used to delete the cluster and free resources."
   ]
  },
  {
   "cell_type": "markdown",
   "metadata": {},
   "source": [
    "# Scaling"
   ]
  },
  {
   "cell_type": "code",
   "execution_count": 48,
   "metadata": {},
   "outputs": [
    {
     "name": "stdout",
     "output_type": "stream",
     "text": [
      "\u001b[K{- Finished ..\n",
      "  \"agentPoolProfiles\": [\n",
      "    {\n",
      "      \"count\": 3,\n",
      "      \"dnsPrefix\": null,\n",
      "      \"fqdn\": null,\n",
      "      \"name\": \"nodepool1\",\n",
      "      \"osDiskSizeGb\": null,\n",
      "      \"osType\": \"Linux\",\n",
      "      \"ports\": null,\n",
      "      \"storageProfile\": \"ManagedDisks\",\n",
      "      \"vmSize\": \"Standard_NC6\",\n",
      "      \"vnetSubnetId\": null\n",
      "    }\n",
      "  ],\n",
      "  \"dnsPrefix\": \"fbAKSClust-fbaksrg-edf507\",\n",
      "  \"fqdn\": \"fbaksclust-fbaksrg-edf507-e12d7f40.hcp.eastus.azmk8s.io\",\n",
      "  \"id\": \"/subscriptions/edf507a2-6235-46c5-b560-fd463ba2e771/resourcegroups/fbaksrg/providers/Microsoft.ContainerService/managedClusters/fbAKSClustergpu\",\n",
      "  \"kubernetesVersion\": \"1.9.6\",\n",
      "  \"linuxProfile\": {\n",
      "    \"adminUsername\": \"azureuser\",\n",
      "    \"ssh\": {\n",
      "      \"publicKeys\": [\n",
      "        {\n",
      "          \"keyData\": \"ssh-rsa AAAAB3NzaC1yc2EAAAADAQABAAABAQDTZYQFHNstYCR25qtvMrC6baTMS6TobaIRbgd0xOoafDy+2uBk0DMJuhGWoOcrsCnvadp5k/0K8qBRysyhlQGWb6+r8fBunThy+zpTKqdh3W8Q1y5UtKnGwwU1cqGXDOPUIXJYNPJqUKV829+MOrZjUynhHgSzDbY2ncGyoT+Farsvm01aGEdDapa+XRl4JAwtN1bb9q+Ii5y+MkpIOhLRMwATl05eNfAHmYQWtaIJZZJOHMNPswlBmLs293Wsj11vYh6/yo9S4ToEsc9Pbl5Zn6OFIu7jfzN2bM8cA3+8pru9WSthrxjJvPn8i4uTYozOdNIi09ArQ4lRT9t6rsMz\"\n",
      "        }\n",
      "      ]\n",
      "    }\n",
      "  },\n",
      "  \"location\": \"eastus\",\n",
      "  \"name\": \"fbAKSClustergpu\",\n",
      "  \"provisioningState\": \"Succeeded\",\n",
      "  \"resourceGroup\": \"fbaksrg\",\n",
      "  \"servicePrincipalProfile\": {\n",
      "    \"clientId\": \"eeba3bfe-45f9-42de-9bdb-54416b67382d\",\n",
      "    \"keyVaultSecretRef\": null,\n",
      "    \"secret\": null\n",
      "  },\n",
      "  \"tags\": null,\n",
      "  \"type\": \"Microsoft.ContainerService/ManagedClusters\"\n",
      "}\n",
      "\u001b[0m"
     ]
    }
   ],
   "source": [
    "!az aks scale --resource-group=$resource_group --name=$aks_name --node-count 3"
   ]
  },
  {
   "cell_type": "code",
   "execution_count": 49,
   "metadata": {},
   "outputs": [
    {
     "name": "stdout",
     "output_type": "stream",
     "text": [
      "NAME                       STATUS    ROLES     AGE       VERSION\r\n",
      "aks-nodepool1-28016997-0   Ready     agent     4d        v1.9.6\r\n",
      "aks-nodepool1-28016997-1   Ready     agent     4d        v1.9.6\r\n",
      "aks-nodepool1-28016997-2   Ready     agent     3m        v1.9.6\r\n"
     ]
    }
   ],
   "source": [
    "!kubectl get nodes"
   ]
  },
  {
   "cell_type": "code",
   "execution_count": 51,
   "metadata": {},
   "outputs": [
    {
     "name": "stdout",
     "output_type": "stream",
     "text": [
      "deployment.extensions \"azure-dl\" scaled\r\n"
     ]
    }
   ],
   "source": [
    "!kubectl scale --current-replicas=2 --replicas=3 deployment/azure-dl"
   ]
  },
  {
   "cell_type": "code",
   "execution_count": 52,
   "metadata": {},
   "outputs": [
    {
     "name": "stdout",
     "output_type": "stream",
     "text": [
      "NAMESPACE     NAME                                    READY     STATUS              RESTARTS   AGE\r\n",
      "default       azure-dl-5c4d56c8d8-cg2fb               1/1       Running             0          4d\r\n",
      "default       azure-dl-5c4d56c8d8-lvjrw               1/1       Running             0          4d\r\n",
      "default       azure-dl-5c4d56c8d8-wfj4m               0/1       ContainerCreating   0          4s\r\n",
      "kube-system   azureproxy-79c5db744-r5ggd              1/1       Running             2          4d\r\n",
      "kube-system   heapster-55f855b47-4m7xr                2/2       Running             0          4d\r\n",
      "kube-system   kube-dns-v20-7c556f89c5-4z4z6           3/3       Running             0          4d\r\n",
      "kube-system   kube-dns-v20-7c556f89c5-mp5fh           3/3       Running             0          4d\r\n",
      "kube-system   kube-proxy-6bkzt                        1/1       Running             0          3m\r\n",
      "kube-system   kube-proxy-k8t2c                        1/1       Running             0          4d\r\n",
      "kube-system   kube-proxy-qxnrq                        1/1       Running             0          4d\r\n",
      "kube-system   kube-svc-redirect-fwwfn                 1/1       Running             0          4d\r\n",
      "kube-system   kube-svc-redirect-pwkxv                 1/1       Running             0          3m\r\n",
      "kube-system   kube-svc-redirect-z6ppp                 1/1       Running             0          4d\r\n",
      "kube-system   kubernetes-dashboard-546f987686-8krxm   1/1       Running             2          4d\r\n",
      "kube-system   tunnelfront-695bcbdc68-t4l8t            1/1       Running             0          4d\r\n"
     ]
    }
   ],
   "source": [
    "!kubectl get pods --all-namespaces"
   ]
  },
  {
   "cell_type": "markdown",
   "metadata": {},
   "source": [
    "# Tear it all down"
   ]
  },
  {
   "cell_type": "markdown",
   "metadata": {},
   "source": [
    "Once you are done with your cluster you can use the following two commands to destroy it all."
   ]
  },
  {
   "cell_type": "code",
   "execution_count": 70,
   "metadata": {},
   "outputs": [
    {
     "name": "stdout",
     "output_type": "stream",
     "text": [
      "deployment \"azure-dl\" deleted\n",
      "service \"azure-dl\" deleted\n"
     ]
    }
   ],
   "source": [
    "!kubectl delete -f az-dl.json"
   ]
  },
  {
   "cell_type": "code",
   "execution_count": 3,
   "metadata": {},
   "outputs": [
    {
     "name": "stdout",
     "output_type": "stream",
     "text": [
      "\r",
      "\u001b[K - Starting ..\r",
      "\r",
      "\u001b[K - Finished ..\r",
      "\r",
      "\u001b[K\u001b[0m"
     ]
    }
   ],
   "source": [
    "!az aks delete -n $aks_name -g $resource_group -y"
   ]
  },
  {
   "cell_type": "code",
   "execution_count": 4,
   "metadata": {},
   "outputs": [
    {
     "name": "stdout",
     "output_type": "stream",
     "text": [
      "\u001b[K - Finished ..\u001b[0m"
     ]
    }
   ],
   "source": [
    "!az group delete --name $resource_group -y"
   ]
  }
 ],
 "metadata": {
  "kernelspec": {
   "display_name": "Python [conda env:py35]",
   "language": "python",
   "name": "conda-env-py35-py"
  },
  "language_info": {
   "codemirror_mode": {
    "name": "ipython",
    "version": 3
   },
   "file_extension": ".py",
   "mimetype": "text/x-python",
   "name": "python",
   "nbconvert_exporter": "python",
   "pygments_lexer": "ipython3",
   "version": "3.5.4"
  }
 },
 "nbformat": 4,
 "nbformat_minor": 2
}
