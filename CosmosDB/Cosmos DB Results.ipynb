{
 "cells": [
  {
   "cell_type": "markdown",
   "metadata": {},
   "source": [
    "## Cosmos DB "
   ]
  },
  {
   "cell_type": "markdown",
   "metadata": {},
   "source": [
    "Reference: https://github.com/Azure/azure-documentdb-python/tree/master/samples"
   ]
  },
  {
   "cell_type": "code",
   "execution_count": 1,
   "metadata": {
    "collapsed": true
   },
   "outputs": [],
   "source": [
    "%matplotlib inline\n",
    "\n",
    "import pydocumentdb.document_client as document_client\n",
    "import pandas as pd\n",
    "import numpy as np\n",
    "import matplotlib.pyplot as plt\n",
    "from sklearn.metrics import accuracy_score, precision_score, recall_score, f1_score\n",
    "from sklearn.metrics import confusion_matrix, roc_auc_score\n",
    "from pprint import pprint\n",
    "import itertools\n",
    "\n",
    "import config as cfg"
   ]
  },
  {
   "cell_type": "code",
   "execution_count": 2,
   "metadata": {
    "collapsed": true
   },
   "outputs": [],
   "source": [
    "ENDPOINT = cfg.settings['end_point']\n",
    "MASTERKEY = cfg.settings['master_key']"
   ]
  },
  {
   "cell_type": "code",
   "execution_count": 3,
   "metadata": {
    "collapsed": true
   },
   "outputs": [],
   "source": [
    "client = document_client.DocumentClient(ENDPOINT, {'masterKey': MASTERKEY})"
   ]
  },
  {
   "cell_type": "code",
   "execution_count": 1,
   "metadata": {},
   "outputs": [],
   "source": [
    "# list(client.ReadDatabases())\n",
    "list(db['id'] for db in client.ReadDatabases())"
   ]
  },
  {
   "cell_type": "code",
   "execution_count": 5,
   "metadata": {
    "collapsed": true
   },
   "outputs": [],
   "source": [
    "db_id = cfg.settings['database_id']"
   ]
  },
  {
   "cell_type": "code",
   "execution_count": 2,
   "metadata": {},
   "outputs": [],
   "source": [
    "for db in client.ReadDatabases():\n",
    "    if db['id'] == db_id:\n",
    "         db_link = db['_self']\n",
    "db_link"
   ]
  },
  {
   "cell_type": "code",
   "execution_count": 3,
   "metadata": {},
   "outputs": [],
   "source": [
    "# list(client.ReadCollections(db_link))\n",
    "list(coll['id'] for coll in client.ReadCollections(db_link))"
   ]
  },
  {
   "cell_type": "code",
   "execution_count": 8,
   "metadata": {
    "collapsed": true
   },
   "outputs": [],
   "source": [
    "coll_id = cfg.settings['collection_id']"
   ]
  },
  {
   "cell_type": "code",
   "execution_count": 11,
   "metadata": {},
   "outputs": [],
   "source": [
    "for coll in client.ReadCollections(db_link):\n",
    "    if coll['id'] == coll_id:\n",
    "         coll_link = coll['_self']\n",
    "coll_link"
   ]
  },
  {
   "cell_type": "markdown",
   "metadata": {},
   "source": [
    "# Query with SQL"
   ]
  },
  {
   "cell_type": "code",
   "execution_count": 44,
   "metadata": {
    "collapsed": true
   },
   "outputs": [],
   "source": [
    "query = \"\"\"\n",
    "SELECT c.timestamp, \n",
    "    c.modelscore,\n",
    "    c.predictpassfail,\n",
    "    c.groundtruth,\n",
    "    c.tester,\n",
    "    c.failType,\n",
    "    c.imagename\n",
    "FROM c\n",
    "WHERE c.timestamp > '2018-03-12'\n",
    "\"\"\""
   ]
  },
  {
   "cell_type": "code",
   "execution_count": 45,
   "metadata": {},
   "outputs": [],
   "source": [
    "docs = client.QueryDocuments(coll_link, query)"
   ]
  },
  {
   "cell_type": "code",
   "execution_count": 12,
   "metadata": {
    "collapsed": true
   },
   "outputs": [],
   "source": [
    "# for i in range (1,10):\n",
    "#     pprint(next(iter(docs)))"
   ]
  },
  {
   "cell_type": "code",
   "execution_count": 78,
   "metadata": {},
   "outputs": [
    {
     "name": "stdout",
     "output_type": "stream",
     "text": [
      "CPU times: user 8min 10s, sys: 116 ms, total: 8min 10s\n",
      "Wall time: 10min 24s\n"
     ]
    }
   ],
   "source": [
    "# %%time\n",
    "# df_query = pd.DataFrame()\n",
    "# for doc in docs:\n",
    "#     df_query = df_query.append(doc, ignore_index=True)"
   ]
  },
  {
   "cell_type": "code",
   "execution_count": 4,
   "metadata": {},
   "outputs": [],
   "source": [
    "# df_query.info()"
   ]
  },
  {
   "cell_type": "code",
   "execution_count": 46,
   "metadata": {},
   "outputs": [
    {
     "name": "stdout",
     "output_type": "stream",
     "text": [
      "CPU times: user 2.95 s, sys: 0 ns, total: 2.95 s\n",
      "Wall time: 5min 10s\n"
     ]
    }
   ],
   "source": [
    "%%time\n",
    "timestamp = []\n",
    "score = []\n",
    "modelresult = []\n",
    "groundtruth = []\n",
    "tester = []\n",
    "warning_reason = []\n",
    "imagename = []\n",
    "\n",
    "for doc in docs:\n",
    "    timestamp.append(doc['timestamp'])\n",
    "    score.append(doc['modelscore'])\n",
    "    modelresult.append(doc['predictpassfail'])\n",
    "    groundtruth.append(doc['groundtruth'])\n",
    "    tester.append(doc['tester'])\n",
    "    warning_reason.append(doc['failType'])\n",
    "    imagename.append(doc['imagename'])"
   ]
  },
  {
   "cell_type": "code",
   "execution_count": 13,
   "metadata": {
    "collapsed": true
   },
   "outputs": [],
   "source": [
    "df_query = pd.DataFrame({\n",
    "    'timestamp':timestamp,\n",
    "    'score':score,\n",
    "    'modelresult':modelresult,\n",
    "    'groundtruth':groundtruth,\n",
    "    'tester':tester,\n",
    "    'warning_reason':warning_reason,\n",
    "    'imagename':imagename\n",
    "})"
   ]
  },
  {
   "cell_type": "code",
   "execution_count": 14,
   "metadata": {},
   "outputs": [
    {
     "data": {
      "text/plain": [
       "(24906, 12)"
      ]
     },
     "execution_count": 14,
     "metadata": {},
     "output_type": "execute_result"
    }
   ],
   "source": [
    "df_query.shape"
   ]
  },
  {
   "cell_type": "markdown",
   "metadata": {},
   "source": [
    "# Query all documents"
   ]
  },
  {
   "cell_type": "code",
   "execution_count": 14,
   "metadata": {
    "collapsed": true
   },
   "outputs": [],
   "source": [
    "docs = client.ReadDocuments(coll_link)\n",
    "# print (list(docs))\n",
    "# next(iter(docs))\n",
    "# for i in range (1,10):\n",
    "#     print(next(iter(docs)))"
   ]
  },
  {
   "cell_type": "code",
   "execution_count": 15,
   "metadata": {
    "scrolled": true
   },
   "outputs": [
    {
     "name": "stdout",
     "output_type": "stream",
     "text": [
      "CPU times: user 3.93 s, sys: 0 ns, total: 3.93 s\n",
      "Wall time: 4min 30s\n"
     ]
    }
   ],
   "source": [
    "%%time\n",
    "startime = []\n",
    "endtime = []\n",
    "score = []\n",
    "modelresult = []\n",
    "groundtruth = []\n",
    "tester = []\n",
    "warning_reason = []\n",
    "imagename = []\n",
    "\n",
    "for doc in docs:\n",
    "    startime.append(doc['starttime'])\n",
    "    endtime.append(doc['endtime'])\n",
    "    score.append(doc['modelscore'])\n",
    "    modelresult.append(doc['predictpassfail'])\n",
    "    groundtruth.append(doc['groundtruth'])\n",
    "    tester.append(doc['tester'])\n",
    "    warning_reason.append(doc['failType'])\n",
    "    imagename.append(doc['imagename'])"
   ]
  },
  {
   "cell_type": "code",
   "execution_count": 16,
   "metadata": {
    "collapsed": true
   },
   "outputs": [],
   "source": [
    "df_cosmos = pd.DataFrame({\n",
    "    'starttime':startime,\n",
    "    'endtime':endtime,\n",
    "    'score':score,\n",
    "    'modelresult':modelresult,\n",
    "    'groundtruth':groundtruth'\n",
    "    'tester':tester,\n",
    "    'warning_reason':warning_reason,\n",
    "    'imagename':imagename\n",
    "})"
   ]
  },
  {
   "cell_type": "code",
   "execution_count": 5,
   "metadata": {},
   "outputs": [],
   "source": [
    "df_cosmos.info()"
   ]
  },
  {
   "cell_type": "code",
   "execution_count": 6,
   "metadata": {},
   "outputs": [],
   "source": [
    "print(df_cosmos[1:100])"
   ]
  },
  {
   "cell_type": "code",
   "execution_count": 7,
   "metadata": {
    "scrolled": true
   },
   "outputs": [],
   "source": [
    "df_cosmos['starttime'] = pd.to_datetime(df_cosmos['starttime'],format='%Y-%m-%d-%H-%M-%S')\n",
    "df_cosmos['endtime'] = pd.to_datetime(df_cosmos['endtime'],format='%Y-%m-%d-%H-%M-%S')\n",
    "df_cosmos.sort_values(by='starttime')"
   ]
  },
  {
   "cell_type": "markdown",
   "metadata": {},
   "source": [
    "# Evaluate Results"
   ]
  },
  {
   "cell_type": "markdown",
   "metadata": {},
   "source": [
    "1 means pass\n",
    "\n",
    "3 means fail\n",
    "\n",
    "There are also 4 and 0 which were considered as pass but we will be removing these since their classification is uncertain."
   ]
  },
  {
   "cell_type": "code",
   "execution_count": 20,
   "metadata": {},
   "outputs": [
    {
     "data": {
      "text/plain": [
       "(62295, 11)"
      ]
     },
     "execution_count": 20,
     "metadata": {},
     "output_type": "execute_result"
    }
   ],
   "source": [
    "# df = df_cosmos[df_cosmos['starttime']>'2018-03-03'] \n",
    "df = df_cosmos\n",
    "df.shape"
   ]
  },
  {
   "cell_type": "code",
   "execution_count": 8,
   "metadata": {},
   "outputs": [],
   "source": [
    "df[1:100]"
   ]
  },
  {
   "cell_type": "code",
   "execution_count": 22,
   "metadata": {},
   "outputs": [
    {
     "data": {
      "text/plain": [
       "1    48074\n",
       "0     9732\n",
       "3     3325\n",
       "4     1164\n",
       "Name: opresult, dtype: int64"
      ]
     },
     "execution_count": 22,
     "metadata": {},
     "output_type": "execute_result"
    }
   ],
   "source": [
    "df['groundtruth'].value_counts()"
   ]
  },
  {
   "cell_type": "code",
   "execution_count": 23,
   "metadata": {
    "scrolled": true
   },
   "outputs": [
    {
     "data": {
      "text/plain": [
       "1    36129\n",
       "3    26166\n",
       "Name: modelresult, dtype: int64"
      ]
     },
     "execution_count": 23,
     "metadata": {},
     "output_type": "execute_result"
    }
   ],
   "source": [
    "df['modelresult'].value_counts()"
   ]
  },
  {
   "cell_type": "code",
   "execution_count": 42,
   "metadata": {
    "collapsed": true
   },
   "outputs": [],
   "source": [
    "# width = 0.35\n",
    "# mp=plt.hist(df['modelresult'])"
   ]
  },
  {
   "cell_type": "code",
   "execution_count": 24,
   "metadata": {
    "collapsed": true
   },
   "outputs": [],
   "source": [
    "metrics_dict = {\n",
    "    'Accuracy': accuracy_score,\n",
    "    'Precision': precision_score,\n",
    "    'Recall': recall_score,\n",
    "    'F1': f1_score,\n",
    "}"
   ]
  },
  {
   "cell_type": "code",
   "execution_count": 25,
   "metadata": {
    "collapsed": true
   },
   "outputs": [],
   "source": [
    "def classification_metrics(y_true, y_pred, metrics=metrics_dict):\n",
    "    return {metric_name:metric(y_true, y_pred) for metric_name, metric in metrics.items()}"
   ]
  },
  {
   "cell_type": "code",
   "execution_count": 26,
   "metadata": {
    "collapsed": true
   },
   "outputs": [],
   "source": [
    "def all_metrics(y_test, y_pred):\n",
    "#     y_pred = binarize_prediction(y_pred_proba)\n",
    "    cm_dict = classification_metrics(y_test, y_pred)\n",
    "#     cm_dict['AUC'] = roc_auc_score(y_test, y_pred_proba)\n",
    "    cm_dict['Confusion Matrix'] = confusion_matrix(y_test, y_pred).tolist()\n",
    "    return cm_dict"
   ]
  },
  {
   "cell_type": "code",
   "execution_count": 27,
   "metadata": {},
   "outputs": [
    {
     "data": {
      "text/plain": [
       "(51399, 11)"
      ]
     },
     "execution_count": 27,
     "metadata": {},
     "output_type": "execute_result"
    }
   ],
   "source": [
    "# filter out 0 and 4\n",
    "df = df[df.opresult.isin([1,3])]\n",
    "df.shape"
   ]
  },
  {
   "cell_type": "code",
   "execution_count": 9,
   "metadata": {},
   "outputs": [],
   "source": [
    "# df = df.reset_index(drop=True)\n",
    "df"
   ]
  },
  {
   "cell_type": "code",
   "execution_count": 29,
   "metadata": {},
   "outputs": [
    {
     "data": {
      "text/plain": [
       "0"
      ]
     },
     "execution_count": 29,
     "metadata": {},
     "output_type": "execute_result"
    }
   ],
   "source": [
    "df[df.columns.difference(['warning_reason'])].duplicated().sum()"
   ]
  },
  {
   "cell_type": "code",
   "execution_count": 181,
   "metadata": {
    "collapsed": true
   },
   "outputs": [],
   "source": [
    "# df = df[df.columns.difference(['warning_reason'])]\n",
    "# df.drop_duplicates(inplace=True)"
   ]
  },
  {
   "cell_type": "code",
   "execution_count": 30,
   "metadata": {},
   "outputs": [
    {
     "data": {
      "text/plain": [
       "(51399, 11)"
      ]
     },
     "execution_count": 30,
     "metadata": {},
     "output_type": "execute_result"
    }
   ],
   "source": [
    "df.shape"
   ]
  },
  {
   "cell_type": "code",
   "execution_count": 31,
   "metadata": {},
   "outputs": [
    {
     "data": {
      "text/plain": [
       "1    48074\n",
       "3     3325\n",
       "Name: opresult, dtype: int64"
      ]
     },
     "execution_count": 31,
     "metadata": {},
     "output_type": "execute_result"
    }
   ],
   "source": [
    "df['groundtruth'].value_counts()"
   ]
  },
  {
   "cell_type": "code",
   "execution_count": 32,
   "metadata": {
    "collapsed": true
   },
   "outputs": [],
   "source": [
    "y_series = [0 if value == 1 else 1 for value in df['groundtruth']]\n",
    "y = np.array(y_series)"
   ]
  },
  {
   "cell_type": "code",
   "execution_count": 117,
   "metadata": {
    "collapsed": true
   },
   "outputs": [],
   "source": [
    "# print(y[y==0].shape)\n",
    "# print(y[y==1].shape)"
   ]
  },
  {
   "cell_type": "code",
   "execution_count": 33,
   "metadata": {},
   "outputs": [
    {
     "data": {
      "text/plain": [
       "1    32690\n",
       "3    18709\n",
       "Name: modelresult, dtype: int64"
      ]
     },
     "execution_count": 33,
     "metadata": {},
     "output_type": "execute_result"
    }
   ],
   "source": [
    "df['modelresult'].value_counts()"
   ]
  },
  {
   "cell_type": "code",
   "execution_count": 34,
   "metadata": {
    "collapsed": true
   },
   "outputs": [],
   "source": [
    "pred_series = [0 if value == 1 else 1 for value in df['modelresult']]\n",
    "pred = np.array(pred_series)"
   ]
  },
  {
   "cell_type": "code",
   "execution_count": 37,
   "metadata": {
    "collapsed": true
   },
   "outputs": [],
   "source": [
    "# print(pred[pred==0].shape)\n",
    "# print(pred[pred==1].shape)"
   ]
  },
  {
   "cell_type": "code",
   "execution_count": 37,
   "metadata": {
    "collapsed": true
   },
   "outputs": [],
   "source": [
    "def plot_confusion_matrix(cm, classes, normalize=False, title='Confusion matrix', cmap=plt.cm.Blues):\n",
    "    \"\"\"Plots a confusion matrix.\n",
    "    Source: http://scikit-learn.org/stable/auto_examples/model_selection/plot_confusion_matrix.html\n",
    "    \"\"\"\n",
    "    cm_max = cm.max()\n",
    "    cm_min = cm.min()\n",
    "    if cm_min > 0: cm_min = 0\n",
    "    if normalize:\n",
    "        cm = cm.astype('float') / cm.sum(axis=1)[:, np.newaxis]\n",
    "        cm_max = 1\n",
    "    plt.imshow(cm, interpolation='nearest', cmap=cmap)\n",
    "    plt.title(title)\n",
    "    plt.colorbar()\n",
    "    tick_marks = np.arange(len(classes))\n",
    "    plt.xticks(tick_marks, classes, rotation=45)\n",
    "    plt.yticks(tick_marks, classes)\n",
    "    thresh = cm_max / 2.\n",
    "    plt.clim(cm_min, cm_max)\n",
    "\n",
    "    for i, j in itertools.product(range(cm.shape[0]), range(cm.shape[1])):\n",
    "        plt.text(j, i,\n",
    "                 round(cm[i, j], 3),  # round to 3 decimals if they are float\n",
    "                 horizontalalignment=\"center\",\n",
    "                 color=\"white\" if cm[i, j] > thresh else \"black\")\n",
    "    plt.ylabel('True label')\n",
    "    plt.xlabel('Predicted label')\n",
    "    plt.show()"
   ]
  },
  {
   "cell_type": "code",
   "execution_count": 35,
   "metadata": {},
   "outputs": [
    {
     "data": {
      "text/plain": [
       "{'Accuracy': 0.69353489367497423,\n",
       " 'Confusion Matrix': [[32506, 15568], [184, 3141]],\n",
       " 'F1': 0.28510483797767089,\n",
       " 'Precision': 0.16788711315409696,\n",
       " 'Recall': 0.94466165413533831}"
      ]
     },
     "execution_count": 35,
     "metadata": {},
     "output_type": "execute_result"
    }
   ],
   "source": [
    "cm_dict = all_metrics(y, pred)\n",
    "cm_dict"
   ]
  },
  {
   "cell_type": "code",
   "execution_count": 38,
   "metadata": {},
   "outputs": [
    {
     "data": {
      "image/png": "[encoded data removed]",
      "text/plain": [
       "<matplotlib.figure.Figure at 0x7fd7fc5292e8>"
      ]
     },
     "metadata": {},
     "output_type": "display_data"
    }
   ],
   "source": [
    "cm = np.asarray(cm_dict['Confusion Matrix'])\n",
    "plot_confusion_matrix(cm, ['0','1'], normalize=False)"
   ]
  },
  {
   "cell_type": "code",
   "execution_count": 10,
   "metadata": {},
   "outputs": [],
   "source": [
    "print( \"The model eleminates {:.2f}% of pass components at a false negative rate of 5.0%.\".format(cm[0][0] / (cm[0][0] + cm[0][1]) *100))"
   ]
  },
  {
   "cell_type": "markdown",
   "metadata": {},
   "source": [
    "# Evaluate by Machine"
   ]
  },
  {
   "cell_type": "code",
   "execution_count": 41,
   "metadata": {
    "collapsed": true
   },
   "outputs": [],
   "source": [
    "def tester_results(df_all, tester):\n",
    "    df_tester = df_all[df_all['tester'] == tester]\n",
    "    print(\"\\n\" + tester)\n",
    "    print(df_tester['groundtruth'].value_counts())\n",
    "    y_series = [0 if value == 1 else 1 for value in df_tester['opresult']]\n",
    "    y = np.array(y_series)\n",
    "    pred_series = [0 if value == 1 else 1 for value in df_tester['modelresult']]\n",
    "    pred = np.array(pred_series)\n",
    "    cm_dict = all_metrics(y, pred)\n",
    "    pprint(cm_dict)\n",
    "    cm = np.asarray(cm_dict['Confusion Matrix'])\n",
    "    plot_confusion_matrix(cm, ['0','1'], normalize=False)\n",
    "    print( \"The model eleminates {:.2f}% of pass components at a false negative rate of 5.0%.\".format(cm[0][0] / (cm[0][0] + cm[0][1]) *100))\n",
    "    return"
   ]
  },
  {
   "cell_type": "code",
   "execution_count": 13,
   "metadata": {},
   "outputs": [],
   "source": [
    "for tst in df['tester'].unique():\n",
    "    tester_results(df, tst)"
   ]
  }
 ],
 "metadata": {
  "kernelspec": {
   "display_name": "Python [conda env:py35]",
   "language": "python",
   "name": "conda-env-py35-py"
  },
  "language_info": {
   "codemirror_mode": {
    "name": "ipython",
    "version": 3
   },
   "file_extension": ".py",
   "mimetype": "text/x-python",
   "name": "python",
   "nbconvert_exporter": "python",
   "pygments_lexer": "ipython3",
   "version": "3.5.4"
  }
 },
 "nbformat": 4,
 "nbformat_minor": 2
}
