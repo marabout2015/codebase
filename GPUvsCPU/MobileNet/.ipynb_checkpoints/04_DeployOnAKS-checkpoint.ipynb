{
 "cells": [
  {
   "cell_type": "markdown",
   "metadata": {},
   "source": [
    "# Deploy Web App on Azure Container Services (AKS)\n"
   ]
  },
  {
   "cell_type": "markdown",
   "metadata": {},
   "source": [
    "In this notebook, we will set up an Azure Container Service which will be managed by Kubernetes. We will then take the Docker image we created earlier that contains our app and deploy it to the AKS cluster. Then, we will check everything is working by sending an image to it and getting it scored. \n",
    "\n",
    "The process is split into the following steps:\n",
    "- Define our resource names\n",
    "- Login to Azure\n",
    "- Create resource group and create AKS\n",
    "- Connect to AKS\n",
    "- Deploy our app\n",
    "- Tear it all down\n",
    "\n",
    "We assume that this notebook is running on Linux and Azure CLI is installed before proceeding."
   ]
  },
  {
   "cell_type": "markdown",
   "metadata": {},
   "source": [
    "## Setup"
   ]
  },
  {
   "cell_type": "markdown",
   "metadata": {},
   "source": [
    "Below are the various name definitions for the resources needed to setup AKS as well as the name of the Docker image we will be using."
   ]
  },
  {
   "cell_type": "code",
   "execution_count": 1,
   "metadata": {
    "collapsed": true
   },
   "outputs": [],
   "source": [
    "# Please modify the below as you see fit\n",
    "resource_group = \"<RESOURCE_GROUP>\" \n",
    "aks_name = \"<AKS_CLUSTER_NAME>\"\n",
    "location = \"eastus\"\n",
    "\n",
    "image_name = '<YOUR_DOCKER_IMAGE>' # 'fboylu/kerastf-gpu' Feel free to use this image if you want to \n",
    "                                   # skip creating your own container\n",
    "selected_subscription = \"'<YOUR_SUBSCRIPTION>'\" # If you have multiple subscriptions select \n",
    "                                                # the subscription you want to use here"
   ]
  },
  {
   "cell_type": "code",
   "execution_count": 1,
   "metadata": {},
   "outputs": [],
   "source": [
    "resource_group = \"fbaksrg\" # Feel free to modify these\n",
    "aks_name = \"fbAKSClustergpu\"\n",
    "location = \"eastus\"\n",
    "\n",
    "image_name = \"fboylu/kerasmnet-gpu\" \n",
    "selected_subscription = \"'Team Danielle Internal'\""
   ]
  },
  {
   "cell_type": "markdown",
   "metadata": {},
   "source": [
    "## Azure account login"
   ]
  },
  {
   "cell_type": "markdown",
   "metadata": {},
   "source": [
    "The command below will initiate a login to your Azure account. It will pop up with an url to go to where you will enter a one off code and log into your Azure account using your browser."
   ]
  },
  {
   "cell_type": "code",
   "execution_count": 2,
   "metadata": {},
   "outputs": [
    {
     "name": "stdout",
     "output_type": "stream",
     "text": [
      "\u001b[33mTo sign in, use a web browser to open the page https://microsoft.com/devicelogin and enter the code FL7HK2GV9 to authenticate.\u001b[0m\n",
      "CloudName    IsDefault    Name                           State    TenantId\n",
      "-----------  -----------  -----------------------------  -------  ------------------------------------\n",
      "AzureCloud   False        Boston DS Dev                  Enabled  72f988bf-86f1-41af-91ab-2d7cd011db47\n",
      "AzureCloud   False        Internal Consumption           Enabled  72f988bf-86f1-41af-91ab-2d7cd011db47\n",
      "AzureCloud   True         Team Danielle Internal         Enabled  72f988bf-86f1-41af-91ab-2d7cd011db47\n",
      "AzureCloud   False        Core-ES-BLD                    Enabled  72f988bf-86f1-41af-91ab-2d7cd011db47\n",
      "AzureCloud   False        Boston Engineering             Enabled  72f988bf-86f1-41af-91ab-2d7cd011db47\n",
      "AzureCloud   False        ADLTrainingMS                  Enabled  72f988bf-86f1-41af-91ab-2d7cd011db47\n",
      "AzureCloud   False        Ads Eng Big Data Subscription  Enabled  72f988bf-86f1-41af-91ab-2d7cd011db47\n",
      "AzureCloud   False        Data Wrangling Preview         Enabled  72f988bf-86f1-41af-91ab-2d7cd011db47\n",
      "AzureCloud   False        R portal - Production          Enabled  72f988bf-86f1-41af-91ab-2d7cd011db47\n",
      "AzureCloud   False        Project Vienna Demo 1          Enabled  72f988bf-86f1-41af-91ab-2d7cd011db47\n",
      "AzureCloud   False        Solution Template Testing      Enabled  72f988bf-86f1-41af-91ab-2d7cd011db47\n",
      "AzureCloud   False        Team Ilan                      Enabled  72f988bf-86f1-41af-91ab-2d7cd011db47\n"
     ]
    }
   ],
   "source": [
    "!az login -o table"
   ]
  },
  {
   "cell_type": "code",
   "execution_count": 7,
   "metadata": {
    "collapsed": true
   },
   "outputs": [],
   "source": [
    "!az account set --subscription $selected_subscription"
   ]
  },
  {
   "cell_type": "code",
   "execution_count": 2,
   "metadata": {},
   "outputs": [
    {
     "name": "stdout",
     "output_type": "stream",
     "text": [
      "{\r\n",
      "  \"environmentName\": \"AzureCloud\",\r\n",
      "  \"id\": \"edf507a2-6235-46c5-b560-fd463ba2e771\",\r\n",
      "  \"isDefault\": true,\r\n",
      "  \"name\": \"Team Danielle Internal\",\r\n",
      "  \"state\": \"Enabled\",\r\n",
      "  \"tenantId\": \"72f988bf-86f1-41af-91ab-2d7cd011db47\",\r\n",
      "  \"user\": {\r\n",
      "    \"name\": \"fboylu@microsoft.com\",\r\n",
      "    \"type\": \"user\"\r\n",
      "  }\r\n",
      "}\r\n"
     ]
    }
   ],
   "source": [
    "!az account show"
   ]
  },
  {
   "cell_type": "markdown",
   "metadata": {},
   "source": [
    "You will also need to register the container service resources on your subscription if you haven't already done so."
   ]
  },
  {
   "cell_type": "code",
   "execution_count": 9,
   "metadata": {
    "collapsed": true
   },
   "outputs": [],
   "source": [
    "!az provider register -n Microsoft.ContainerService"
   ]
  },
  {
   "cell_type": "code",
   "execution_count": 10,
   "metadata": {
    "collapsed": true
   },
   "outputs": [],
   "source": [
    "!az provider show -n Microsoft.ContainerService"
   ]
  },
  {
   "cell_type": "markdown",
   "metadata": {},
   "source": [
    "## Create resources and dependencies"
   ]
  },
  {
   "cell_type": "markdown",
   "metadata": {},
   "source": [
    "### Create resource group and AKS cluster"
   ]
  },
  {
   "cell_type": "markdown",
   "metadata": {},
   "source": [
    "Azure encourages the use of groups to organize all the Azure components you deploy. That way it is easier to find them but also we can delete a number of resources simply by deleting the group."
   ]
  },
  {
   "cell_type": "code",
   "execution_count": 4,
   "metadata": {},
   "outputs": [
    {
     "name": "stdout",
     "output_type": "stream",
     "text": [
      "{\r\n",
      "  \"id\": \"/subscriptions/edf507a2-6235-46c5-b560-fd463ba2e771/resourceGroups/fbaksmnetrg\",\r\n",
      "  \"location\": \"eastus\",\r\n",
      "  \"managedBy\": null,\r\n",
      "  \"name\": \"fbaksmnetrg\",\r\n",
      "  \"properties\": {\r\n",
      "    \"provisioningState\": \"Succeeded\"\r\n",
      "  },\r\n",
      "  \"tags\": null\r\n",
      "}\r\n"
     ]
    }
   ],
   "source": [
    "!az group create --name $resource_group --location $location"
   ]
  },
  {
   "cell_type": "markdown",
   "metadata": {},
   "source": [
    "Below, we create the AKS cluster in the resource group we created earlier."
   ]
  },
  {
   "cell_type": "code",
   "execution_count": 5,
   "metadata": {},
   "outputs": [
    {
     "name": "stdout",
     "output_type": "stream",
     "text": [
      "\u001b[K{- Finished ..\n",
      "  \"agentPoolProfiles\": [\n",
      "    {\n",
      "      \"count\": 1,\n",
      "      \"dnsPrefix\": null,\n",
      "      \"fqdn\": null,\n",
      "      \"name\": \"nodepool1\",\n",
      "      \"osDiskSizeGb\": null,\n",
      "      \"osType\": \"Linux\",\n",
      "      \"ports\": null,\n",
      "      \"storageProfile\": \"ManagedDisks\",\n",
      "      \"vmSize\": \"Standard_NC6\",\n",
      "      \"vnetSubnetId\": null\n",
      "    }\n",
      "  ],\n",
      "  \"dnsPrefix\": \"fbAKSmnetC-fbaksmnetrg-edf507\",\n",
      "  \"fqdn\": \"fbaksmnetc-fbaksmnetrg-edf507-aa710311.hcp.eastus.azmk8s.io\",\n",
      "  \"id\": \"/subscriptions/edf507a2-6235-46c5-b560-fd463ba2e771/resourcegroups/fbaksmnetrg/providers/Microsoft.ContainerService/managedClusters/fbAKSmnetCluster\",\n",
      "  \"kubernetesVersion\": \"1.9.6\",\n",
      "  \"linuxProfile\": {\n",
      "    \"adminUsername\": \"azureuser\",\n",
      "    \"ssh\": {\n",
      "      \"publicKeys\": [\n",
      "        {\n",
      "          \"keyData\": \"ssh-rsa AAAAB3NzaC1yc2EAAAADAQABAAABAQDTZYQFHNstYCR25qtvMrC6baTMS6TobaIRbgd0xOoafDy+2uBk0DMJuhGWoOcrsCnvadp5k/0K8qBRysyhlQGWb6+r8fBunThy+zpTKqdh3W8Q1y5UtKnGwwU1cqGXDOPUIXJYNPJqUKV829+MOrZjUynhHgSzDbY2ncGyoT+Farsvm01aGEdDapa+XRl4JAwtN1bb9q+Ii5y+MkpIOhLRMwATl05eNfAHmYQWtaIJZZJOHMNPswlBmLs293Wsj11vYh6/yo9S4ToEsc9Pbl5Zn6OFIu7jfzN2bM8cA3+8pru9WSthrxjJvPn8i4uTYozOdNIi09ArQ4lRT9t6rsMz\"\n",
      "        }\n",
      "      ]\n",
      "    }\n",
      "  },\n",
      "  \"location\": \"eastus\",\n",
      "  \"name\": \"fbAKSmnetCluster\",\n",
      "  \"provisioningState\": \"Succeeded\",\n",
      "  \"resourceGroup\": \"fbaksmnetrg\",\n",
      "  \"servicePrincipalProfile\": {\n",
      "    \"clientId\": \"eeba3bfe-45f9-42de-9bdb-54416b67382d\",\n",
      "    \"keyVaultSecretRef\": null,\n",
      "    \"secret\": null\n",
      "  },\n",
      "  \"tags\": null,\n",
      "  \"type\": \"Microsoft.ContainerService/ManagedClusters\"\n",
      "}\n",
      "\u001b[0mCPU times: user 10.5 s, sys: 1.58 s, total: 12.1 s\n",
      "Wall time: 13min 41s\n"
     ]
    }
   ],
   "source": [
    "%%time\n",
    "!az aks create --resource-group $resource_group --name $aks_name --node-count 1 --generate-ssh-keys -s Standard_NC6"
   ]
  },
  {
   "cell_type": "markdown",
   "metadata": {},
   "source": [
    "### Install kubectl CLI"
   ]
  },
  {
   "cell_type": "markdown",
   "metadata": {},
   "source": [
    "To connect to the Kubernetes cluster, we will use kubectl, the Kubernetes command-line client. To install, run the following:"
   ]
  },
  {
   "cell_type": "code",
   "execution_count": 3,
   "metadata": {},
   "outputs": [
    {
     "name": "stdout",
     "output_type": "stream",
     "text": [
      "\u001b[33mDownloading client to /usr/local/bin/kubectl from https://storage.googleapis.com/kubernetes-release/release/v1.10.4/bin/linux/amd64/kubectl\u001b[0m\n",
      "\u001b[33mPlease ensure that /usr/local/bin is in your search PATH, so the `kubectl` command can be found.\u001b[0m\n"
     ]
    }
   ],
   "source": [
    "!sudo az aks install-cli"
   ]
  },
  {
   "cell_type": "markdown",
   "metadata": {},
   "source": [
    "## Connect to AKS cluster"
   ]
  },
  {
   "cell_type": "markdown",
   "metadata": {},
   "source": [
    "To configure kubectl to connect to the Kubernetes cluster, run the following command:"
   ]
  },
  {
   "cell_type": "code",
   "execution_count": 4,
   "metadata": {},
   "outputs": [
    {
     "name": "stdout",
     "output_type": "stream",
     "text": [
      "Merged \"fbAKSClustergpu\" as current context in /home/fboylu/.kube/config\r\n"
     ]
    }
   ],
   "source": [
    "!az aks get-credentials --resource-group $resource_group --name $aks_name"
   ]
  },
  {
   "cell_type": "markdown",
   "metadata": {},
   "source": [
    "Let's verify connection by listing the nodes."
   ]
  },
  {
   "cell_type": "code",
   "execution_count": 5,
   "metadata": {},
   "outputs": [
    {
     "name": "stdout",
     "output_type": "stream",
     "text": [
      "NAME                       STATUS    ROLES     AGE       VERSION\r\n",
      "aks-nodepool1-28016997-0   Ready     agent     7d        v1.9.6\r\n",
      "aks-nodepool1-28016997-1   Ready     agent     6d        v1.9.6\r\n",
      "aks-nodepool1-28016997-2   Ready     agent     2d        v1.9.6\r\n"
     ]
    }
   ],
   "source": [
    "!kubectl get nodes"
   ]
  },
  {
   "cell_type": "markdown",
   "metadata": {},
   "source": [
    "Let's check the pods on our cluster."
   ]
  },
  {
   "cell_type": "code",
   "execution_count": 6,
   "metadata": {},
   "outputs": [
    {
     "name": "stdout",
     "output_type": "stream",
     "text": [
      "NAMESPACE     NAME                                    READY     STATUS    RESTARTS   AGE\r\n",
      "kube-system   azureproxy-79c5db744-r5ggd              1/1       Running   2          7d\r\n",
      "kube-system   heapster-55f855b47-4m7xr                2/2       Running   0          7d\r\n",
      "kube-system   kube-dns-v20-7c556f89c5-4z4z6           3/3       Running   0          7d\r\n",
      "kube-system   kube-dns-v20-7c556f89c5-mp5fh           3/3       Running   0          7d\r\n",
      "kube-system   kube-proxy-6bkzt                        1/1       Running   0          2d\r\n",
      "kube-system   kube-proxy-k8t2c                        1/1       Running   0          7d\r\n",
      "kube-system   kube-proxy-qxnrq                        1/1       Running   0          6d\r\n",
      "kube-system   kube-svc-redirect-fwwfn                 1/1       Running   0          6d\r\n",
      "kube-system   kube-svc-redirect-pwkxv                 1/1       Running   0          2d\r\n",
      "kube-system   kube-svc-redirect-z6ppp                 1/1       Running   0          7d\r\n",
      "kube-system   kubernetes-dashboard-546f987686-8krxm   1/1       Running   2          7d\r\n",
      "kube-system   tunnelfront-695bcbdc68-t4l8t            1/1       Running   0          7d\r\n"
     ]
    }
   ],
   "source": [
    "!kubectl get pods --all-namespaces"
   ]
  },
  {
   "cell_type": "markdown",
   "metadata": {},
   "source": [
    "## Deploy application"
   ]
  },
  {
   "cell_type": "markdown",
   "metadata": {},
   "source": [
    "Below we define our Kubernetes manifest file for our service and load balancer. Note that we have to specify the volume mounts to the drivers that are located on the node."
   ]
  },
  {
   "cell_type": "code",
   "execution_count": 7,
   "metadata": {},
   "outputs": [],
   "source": [
    "app_template = {\n",
    "  \"apiVersion\": \"apps/v1beta1\",\n",
    "  \"kind\": \"Deployment\",\n",
    "  \"metadata\": {\n",
    "      \"name\": \"azure-dl\"\n",
    "  },\n",
    "  \"spec\":{\n",
    "      \"replicas\":1,\n",
    "      \"template\":{\n",
    "          \"metadata\":{\n",
    "              \"labels\":{\n",
    "                  \"app\":\"azure-dl\"\n",
    "              }\n",
    "          },\n",
    "          \"spec\":{\n",
    "              \"containers\":[\n",
    "                  {\n",
    "                      \"name\": \"azure-dl\",\n",
    "                      \"image\": \"fboylu/kerasmnet-gpu\",\n",
    "                      \"env\":[\n",
    "                          {\n",
    "                              \"name\": \"LD_LIBRARY_PATH\",\n",
    "                              \"value\": \"$LD_LIBRARY_PATH:/usr/local/nvidia/lib64:/opt/conda/envs/py3.5/lib\"\n",
    "                          }\n",
    "                      ],\n",
    "                      \"ports\":[\n",
    "                          {\n",
    "                              \"containerPort\":80,\n",
    "                              \"name\":\"model\"\n",
    "                          }\n",
    "                      ],\n",
    "                      \"volumeMounts\":[\n",
    "                          {\n",
    "                              \"mountPath\":\"/usr/local/nvidia\",\n",
    "                              \"name\": \"nvidia\",\n",
    "                          }\n",
    "                      ],\n",
    "                      \"resources\":{\n",
    "                           \"requests\":{\n",
    "                               \"alpha.kubernetes.io/nvidia-gpu\": 1\n",
    "                           },\n",
    "                           \"limits\":{\n",
    "                               \"alpha.kubernetes.io/nvidia-gpu\": 1\n",
    "                           }\n",
    "                       }  \n",
    "                  }\n",
    "              ],\n",
    "              \"volumes\":[\n",
    "                  {\n",
    "                      \"name\": \"nvidia\",\n",
    "                      \"hostPath\":{\n",
    "                          \"path\":\"/usr/local/nvidia\"\n",
    "                      },\n",
    "                  },\n",
    "              ]\n",
    "          }\n",
    "      }\n",
    "  }\n",
    "}\n",
    "\n",
    "service_temp = {\n",
    "  \"apiVersion\": \"v1\",\n",
    "  \"kind\": \"Service\",\n",
    "  \"metadata\": {\n",
    "      \"name\": \"azure-dl\"\n",
    "  },\n",
    "  \"spec\":{\n",
    "      \"type\": \"LoadBalancer\",\n",
    "      \"ports\":[\n",
    "          {\n",
    "              \"port\":80\n",
    "          }\n",
    "      ],\n",
    "      \"selector\":{\n",
    "            \"app\":\"azure-dl\"\n",
    "      }\n",
    "   }\n",
    "}"
   ]
  },
  {
   "cell_type": "code",
   "execution_count": 8,
   "metadata": {},
   "outputs": [],
   "source": [
    "import json\n",
    "def write_json_to_file(json_dict, filename, mode='w'):\n",
    "    with open(filename, mode) as outfile:\n",
    "        json.dump(json_dict, outfile, indent=4, sort_keys=True)\n",
    "        outfile.write('\\n\\n')"
   ]
  },
  {
   "cell_type": "code",
   "execution_count": 9,
   "metadata": {},
   "outputs": [],
   "source": [
    "write_json_to_file(app_template, 'az-dl.json')"
   ]
  },
  {
   "cell_type": "code",
   "execution_count": 10,
   "metadata": {},
   "outputs": [],
   "source": [
    "write_json_to_file(service_temp, 'az-dl.json', mode='a')"
   ]
  },
  {
   "cell_type": "markdown",
   "metadata": {},
   "source": [
    "Let's check the manifest created."
   ]
  },
  {
   "cell_type": "code",
   "execution_count": 11,
   "metadata": {},
   "outputs": [
    {
     "name": "stdout",
     "output_type": "stream",
     "text": [
      "{\r\n",
      "    \"apiVersion\": \"apps/v1beta1\",\r\n",
      "    \"kind\": \"Deployment\",\r\n",
      "    \"metadata\": {\r\n",
      "        \"name\": \"azure-dl\"\r\n",
      "    },\r\n",
      "    \"spec\": {\r\n",
      "        \"replicas\": 1,\r\n",
      "        \"template\": {\r\n",
      "            \"metadata\": {\r\n",
      "                \"labels\": {\r\n",
      "                    \"app\": \"azure-dl\"\r\n",
      "                }\r\n",
      "            },\r\n",
      "            \"spec\": {\r\n",
      "                \"containers\": [\r\n",
      "                    {\r\n",
      "                        \"env\": [\r\n",
      "                            {\r\n",
      "                                \"name\": \"LD_LIBRARY_PATH\",\r\n",
      "                                \"value\": \"$LD_LIBRARY_PATH:/usr/local/nvidia/lib64:/opt/conda/envs/py3.5/lib\"\r\n",
      "                            }\r\n",
      "                        ],\r\n",
      "                        \"image\": \"fboylu/kerasmnet-gpu\",\r\n",
      "                        \"name\": \"azure-dl\",\r\n",
      "                        \"ports\": [\r\n",
      "                            {\r\n",
      "                                \"containerPort\": 80,\r\n",
      "                                \"name\": \"model\"\r\n",
      "                            }\r\n",
      "                        ],\r\n",
      "                        \"resources\": {\r\n",
      "                            \"limits\": {\r\n",
      "                                \"alpha.kubernetes.io/nvidia-gpu\": 1\r\n",
      "                            },\r\n",
      "                            \"requests\": {\r\n",
      "                                \"alpha.kubernetes.io/nvidia-gpu\": 1\r\n",
      "                            }\r\n",
      "                        },\r\n",
      "                        \"volumeMounts\": [\r\n",
      "                            {\r\n",
      "                                \"mountPath\": \"/usr/local/nvidia\",\r\n",
      "                                \"name\": \"nvidia\"\r\n",
      "                            }\r\n",
      "                        ]\r\n",
      "                    }\r\n",
      "                ],\r\n",
      "                \"volumes\": [\r\n",
      "                    {\r\n",
      "                        \"hostPath\": {\r\n",
      "                            \"path\": \"/usr/local/nvidia\"\r\n",
      "                        },\r\n",
      "                        \"name\": \"nvidia\"\r\n",
      "                    }\r\n",
      "                ]\r\n",
      "            }\r\n",
      "        }\r\n",
      "    }\r\n",
      "}\r\n",
      "\r\n",
      "{\r\n",
      "    \"apiVersion\": \"v1\",\r\n",
      "    \"kind\": \"Service\",\r\n",
      "    \"metadata\": {\r\n",
      "        \"name\": \"azure-dl\"\r\n",
      "    },\r\n",
      "    \"spec\": {\r\n",
      "        \"ports\": [\r\n",
      "            {\r\n",
      "                \"port\": 80\r\n",
      "            }\r\n",
      "        ],\r\n",
      "        \"selector\": {\r\n",
      "            \"app\": \"azure-dl\"\r\n",
      "        },\r\n",
      "        \"type\": \"LoadBalancer\"\r\n",
      "    }\r\n",
      "}\r\n",
      "\r\n"
     ]
    }
   ],
   "source": [
    "!cat az-dl.json"
   ]
  },
  {
   "cell_type": "markdown",
   "metadata": {},
   "source": [
    "Next, we will use kubectl create command to deploy our application."
   ]
  },
  {
   "cell_type": "code",
   "execution_count": 12,
   "metadata": {},
   "outputs": [
    {
     "name": "stdout",
     "output_type": "stream",
     "text": [
      "deployment.apps \"azure-dl\" created\n",
      "service \"azure-dl\" created\n"
     ]
    }
   ],
   "source": [
    "!kubectl create -f az-dl.json"
   ]
  },
  {
   "cell_type": "markdown",
   "metadata": {},
   "source": [
    "Let's check if the pod is deployed."
   ]
  },
  {
   "cell_type": "code",
   "execution_count": 56,
   "metadata": {},
   "outputs": [],
   "source": [
    "!kubectl get pods --all-namespaces"
   ]
  },
  {
   "cell_type": "markdown",
   "metadata": {},
   "source": [
    "If anything goes wrong you can use the commands below to observe the events on the node as well as review the logs."
   ]
  },
  {
   "cell_type": "code",
   "execution_count": 45,
   "metadata": {},
   "outputs": [
    {
     "name": "stdout",
     "output_type": "stream",
     "text": [
      "LAST SEEN   FIRST SEEN   COUNT     NAME                                         KIND         SUBOBJECT                   TYPE      REASON                  SOURCE                              MESSAGE\r\n",
      "1m          1m           1         azure-dl-5bf5b784b8-nm746.1538661dbaafd916   Pod                                      Normal    Scheduled               default-scheduler                   Successfully assigned azure-dl-5bf5b784b8-nm746 to aks-nodepool1-28016997-1\r\n",
      "1m          1m           1         azure-dl-5bf5b784b8-nm746.1538661dcb8ce3a8   Pod                                      Normal    SuccessfulMountVolume   kubelet, aks-nodepool1-28016997-1   MountVolume.SetUp succeeded for volume \"nvidia\" \r\n",
      "1m          1m           1         azure-dl-5bf5b784b8-nm746.1538661dcd1e5507   Pod                                      Normal    SuccessfulMountVolume   kubelet, aks-nodepool1-28016997-1   MountVolume.SetUp succeeded for volume \"default-token-crgnj\" \r\n",
      "1m          1m           1         azure-dl-5bf5b784b8-nm746.1538661e0c095a6e   Pod          spec.containers{azure-dl}   Normal    Pulling                 kubelet, aks-nodepool1-28016997-1   pulling image \"fboylu/kerasmnet-gpu\"\r\n",
      "17m         17m          1         azure-dl-5bf5b784b8-pjtq6.1538653d0ed948b3   Pod                                      Normal    Scheduled               default-scheduler                   Successfully assigned azure-dl-5bf5b784b8-pjtq6 to aks-nodepool1-28016997-2\r\n",
      "17m         17m          1         azure-dl-5bf5b784b8-pjtq6.1538653d1e30e646   Pod                                      Normal    SuccessfulMountVolume   kubelet, aks-nodepool1-28016997-2   MountVolume.SetUp succeeded for volume \"nvidia\" \r\n",
      "17m         17m          1         azure-dl-5bf5b784b8-pjtq6.1538653d1f3d5c4a   Pod                                      Normal    SuccessfulMountVolume   kubelet, aks-nodepool1-28016997-2   MountVolume.SetUp succeeded for volume \"default-token-crgnj\" \r\n",
      "16m         17m          2         azure-dl-5bf5b784b8-pjtq6.1538653d4ed431b9   Pod          spec.containers{azure-dl}   Normal    Pulling                 kubelet, aks-nodepool1-28016997-2   pulling image \"fboylu/kerasmnet-gpu\"\r\n",
      "16m         16m          1         azure-dl-5bf5b784b8-pjtq6.15386550a12b2147   Pod          spec.containers{azure-dl}   Warning   Failed                  kubelet, aks-nodepool1-28016997-2   Failed to pull image \"fboylu/kerasmnet-gpu\": rpc error: code = Canceled desc = context canceled\r\n",
      "16m         16m          1         azure-dl-5bf5b784b8-pjtq6.15386550a12bc7af   Pod          spec.containers{azure-dl}   Warning   Failed                  kubelet, aks-nodepool1-28016997-2   Error: ErrImagePull\r\n",
      "16m         16m          1         azure-dl-5bf5b784b8-pjtq6.15386550cf120dd1   Pod          spec.containers{azure-dl}   Normal    BackOff                 kubelet, aks-nodepool1-28016997-2   Back-off pulling image \"fboylu/kerasmnet-gpu\"\r\n",
      "16m         16m          1         azure-dl-5bf5b784b8-pjtq6.15386550cf123ea5   Pod          spec.containers{azure-dl}   Warning   Failed                  kubelet, aks-nodepool1-28016997-2   Error: ImagePullBackOff\r\n",
      "4m          4m           1         azure-dl-5bf5b784b8-pjtq6.153865f4140418dc   Pod          spec.containers{azure-dl}   Normal    Pulled                  kubelet, aks-nodepool1-28016997-2   Successfully pulled image \"fboylu/kerasmnet-gpu\"\r\n",
      "4m          4m           1         azure-dl-5bf5b784b8-pjtq6.153865f421ca0302   Pod          spec.containers{azure-dl}   Normal    Created                 kubelet, aks-nodepool1-28016997-2   Created container\r\n",
      "4m          4m           1         azure-dl-5bf5b784b8-pjtq6.153865f42a4c9549   Pod          spec.containers{azure-dl}   Normal    Started                 kubelet, aks-nodepool1-28016997-2   Started container\r\n",
      "1m          1m           1         azure-dl-5bf5b784b8-wsb4q.1538661dbb286b11   Pod                                      Normal    Scheduled               default-scheduler                   Successfully assigned azure-dl-5bf5b784b8-wsb4q to aks-nodepool1-28016997-0\r\n",
      "1m          1m           1         azure-dl-5bf5b784b8-wsb4q.1538661dc60f353e   Pod                                      Normal    SuccessfulMountVolume   kubelet, aks-nodepool1-28016997-0   MountVolume.SetUp succeeded for volume \"nvidia\" \r\n",
      "1m          1m           1         azure-dl-5bf5b784b8-wsb4q.1538661dc710f571   Pod                                      Normal    SuccessfulMountVolume   kubelet, aks-nodepool1-28016997-0   MountVolume.SetUp succeeded for volume \"default-token-crgnj\" \r\n",
      "1m          1m           1         azure-dl-5bf5b784b8-wsb4q.1538661df8fa8cb5   Pod          spec.containers{azure-dl}   Normal    Pulling                 kubelet, aks-nodepool1-28016997-0   pulling image \"fboylu/kerasmnet-gpu\"\r\n",
      "17m         17m          1         azure-dl-5bf5b784b8.1538653d0e52832b         ReplicaSet                               Normal    SuccessfulCreate        replicaset-controller               Created pod: azure-dl-5bf5b784b8-pjtq6\r\n",
      "1m          1m           1         azure-dl-5bf5b784b8.1538661db98147cf         ReplicaSet                               Normal    SuccessfulCreate        replicaset-controller               Created pod: azure-dl-5bf5b784b8-nm746\r\n",
      "1m          1m           1         azure-dl-5bf5b784b8.1538661dbab7ae27         ReplicaSet                               Normal    SuccessfulCreate        replicaset-controller               Created pod: azure-dl-5bf5b784b8-wsb4q\r\n",
      "17m         17m          1         azure-dl.1538653d0dc50d71                    Deployment                               Normal    ScalingReplicaSet       deployment-controller               Scaled up replica set azure-dl-5bf5b784b8 to 1\r\n",
      "17m         17m          1         azure-dl.1538653d12a0fb0e                    Service                                  Normal    EnsuringLoadBalancer    service-controller                  Ensuring load balancer\r\n",
      "15m         15m          1         azure-dl.153865621a463e0d                    Service                                  Normal    EnsuredLoadBalancer     service-controller                  Ensured load balancer\r\n",
      "1m          1m           1         azure-dl.1538661db822d803                    Deployment                               Normal    ScalingReplicaSet       deployment-controller               Scaled up replica set azure-dl-5bf5b784b8 to 3\r\n"
     ]
    }
   ],
   "source": [
    "!kubectl get events"
   ]
  },
  {
   "cell_type": "markdown",
   "metadata": {},
   "source": [
    "Check the logs for the application pod."
   ]
  },
  {
   "cell_type": "code",
   "execution_count": 32,
   "metadata": {},
   "outputs": [],
   "source": [
    "pod_json = !kubectl get pods -o json\n",
    "pod_dict = json.loads(''.join(pod_json))"
   ]
  },
  {
   "cell_type": "code",
   "execution_count": 47,
   "metadata": {},
   "outputs": [
    {
     "name": "stdout",
     "output_type": "stream",
     "text": [
      "NAME                        READY     STATUS    RESTARTS   AGE\r\n",
      "azure-dl-5bf5b784b8-nm746   1/1       Running   0          2m\r\n",
      "azure-dl-5bf5b784b8-pjtq6   1/1       Running   0          18m\r\n",
      "azure-dl-5bf5b784b8-wsb4q   1/1       Running   0          2m\r\n"
     ]
    }
   ],
   "source": [
    "!kubectl get pods"
   ]
  },
  {
   "cell_type": "code",
   "execution_count": 152,
   "metadata": {},
   "outputs": [
    {
     "data": {
      "text/plain": [
       "{'azure-dl-5bf5b784b8-d5zrt'}"
      ]
     },
     "execution_count": 152,
     "metadata": {},
     "output_type": "execute_result"
    }
   ],
   "source": [
    "{pod_dict['items'][0]['metadata']['name']}"
   ]
  },
  {
   "cell_type": "code",
   "execution_count": 48,
   "metadata": {},
   "outputs": [
    {
     "name": "stdout",
     "output_type": "stream",
     "text": [
      "2018-06-15 17:36:12,907 CRIT Supervisor running as root (no user in config file)\r\n",
      "2018-06-15 17:36:12,909 INFO supervisord started with pid 1\r\n",
      "2018-06-15 17:36:13,911 INFO spawned: 'program_exit' with pid 10\r\n",
      "2018-06-15 17:36:13,913 INFO spawned: 'nginx' with pid 11\r\n",
      "2018-06-15 17:36:13,915 INFO spawned: 'gunicorn' with pid 12\r\n",
      "2018-06-15 17:36:14,949 INFO success: program_exit entered RUNNING state, process has stayed up for > than 1 seconds (startsecs)\r\n",
      "2018-06-15 17:36:15.486197: I tensorflow/core/platform/cpu_feature_guard.cc:140] Your CPU supports instructions that this TensorFlow binary was not compiled to use: AVX2 FMA\r\n",
      "2018-06-15 17:36:15.674911: I tensorflow/core/common_runtime/gpu/gpu_device.cc:1212] Found device 0 with properties: \r\n",
      "name: Tesla K80 major: 3 minor: 7 memoryClockRate(GHz): 0.8235\r\n",
      "pciBusID: 35e4:00:00.0\r\n",
      "totalMemory: 11.17GiB freeMemory: 11.10GiB\r\n",
      "2018-06-15 17:36:15.674964: I tensorflow/core/common_runtime/gpu/gpu_device.cc:1312] Adding visible gpu devices: 0\r\n",
      "2018-06-15 17:36:16.027331: I tensorflow/core/common_runtime/gpu/gpu_device.cc:993] Creating TensorFlow device (/job:localhost/replica:0/task:0/device:GPU:0 with 10765 MB memory) -> physical GPU (device: 0, name: Tesla K80, pci bus id: 35e4:00:00.0, compute capability: 3.7)\r\n",
      "Downloading data from https://github.com/fchollet/deep-learning-models/releases/download/v0.6/mobilenet_1_0_224_tf.h5\r\n",
      "\r\n",
      "    8192/17225924 [..............................] - ETA: 8s2018-06-15 17:36:18,935 INFO success: nginx entered RUNNING state, process has stayed up for > than 5 seconds (startsecs)\r\n",
      "\r\n",
      "  647168/17225924 [>.............................] - ETA: 1s\r\n",
      " 2211840/17225924 [==>...........................] - ETA: 0s\r\n",
      " 5169152/17225924 [========>.....................] - ETA: 0s\r\n",
      "10485760/17225924 [=================>............] - ETA: 0s\r\n",
      "16277504/17225924 [===========================>..] - ETA: 0s\r\n",
      "17227776/17225924 [==============================] - 0s 0us/step\r\n",
      "{\"message\": \"Model loading time: 4924.96 ms\", \"host\": \"azure-dl-5bf5b784b8-pjtq6\", \"tags\": [], \"timestamp\": \"2018-06-15T17:36:20.376306Z\", \"path\": \"/code/driver.py\", \"logger\": \"model_driver\", \"stack_info\": null, \"level\": \"INFO\"}\r\n",
      "Initialising\r\n",
      "{\"message\": \" * Running on http://127.0.0.1:5000/ (Press CTRL+C to quit)\", \"host\": \"azure-dl-5bf5b784b8-pjtq6\", \"tags\": [], \"timestamp\": \"2018-06-15T17:36:20.381613Z\", \"path\": \"/opt/conda/envs/py3.5/lib/python3.5/site-packages/werkzeug/_internal.py\", \"logger\": \"werkzeug\", \"stack_info\": null, \"msg\": \" * Running on %s://%s:%d/ %s\", \"level\": \"INFO\"}\r\n",
      "2018-06-15 17:36:34,398 INFO success: gunicorn entered RUNNING state, process has stayed up for > than 20 seconds (startsecs)\r\n",
      "{\"message\": \"127.0.0.1 - - [15/Jun/2018 17:38:04] \\\"\\u001b[37mGET / HTTP/1.0\\u001b[0m\\\" 200 -\", \"host\": \"azure-dl-5bf5b784b8-pjtq6\", \"tags\": [], \"timestamp\": \"2018-06-15T17:38:04.858558Z\", \"path\": \"/opt/conda/envs/py3.5/lib/python3.5/site-packages/werkzeug/_internal.py\", \"logger\": \"werkzeug\", \"stack_info\": null, \"level\": \"INFO\"}\r\n",
      "{\"message\": \"127.0.0.1 - - [15/Jun/2018 17:38:40] \\\"\\u001b[37mGET /version HTTP/1.0\\u001b[0m\\\" 200 -\", \"host\": \"azure-dl-5bf5b784b8-pjtq6\", \"tags\": [], \"timestamp\": \"2018-06-15T17:38:40.189034Z\", \"path\": \"/opt/conda/envs/py3.5/lib/python3.5/site-packages/werkzeug/_internal.py\", \"logger\": \"werkzeug\", \"stack_info\": null, \"level\": \"INFO\"}\r\n",
      "Downloading data from https://s3.amazonaws.com/deep-learning-models/image-models/imagenet_class_index.json\r\n",
      "\r\n",
      " 8192/35363 [=====>........................] - ETA: 0s\r\n",
      "40960/35363 [==================================] - 0s 0us/step\r\n",
      "{\"message\": \"Predictions: [{'image': [('n02127052', 'lynx', 0.8855132), ('n02128385', 'leopard', 0.047536284), ('n02128757', 'snow_leopard', 0.026318483)]}]\", \"host\": \"azure-dl-5bf5b784b8-pjtq6\", \"tags\": [], \"timestamp\": \"2018-06-15T17:38:48.067789Z\", \"path\": \"/code/driver.py\", \"logger\": \"model_driver\", \"stack_info\": null, \"level\": \"INFO\"}\r\n",
      "{\"message\": \"Predictions took 1227.47 ms\", \"host\": \"azure-dl-5bf5b784b8-pjtq6\", \"tags\": [], \"timestamp\": \"2018-06-15T17:38:48.067973Z\", \"path\": \"/code/driver.py\", \"logger\": \"model_driver\", \"stack_info\": null, \"level\": \"INFO\"}\r\n",
      "([{'image': [('n02127052', 'lynx', 0.8855132), ('n02128385', 'leopard', 0.047536284), ('n02128757', 'snow_leopard', 0.026318483)]}], 'Computed in 1227.47 ms')\r\n",
      "{\"message\": \"127.0.0.1 - - [15/Jun/2018 17:38:48] \\\"\\u001b[37mPOST /score HTTP/1.0\\u001b[0m\\\" 200 -\", \"host\": \"azure-dl-5bf5b784b8-pjtq6\", \"tags\": [], \"timestamp\": \"2018-06-15T17:38:48.068522Z\", \"path\": \"/opt/conda/envs/py3.5/lib/python3.5/site-packages/werkzeug/_internal.py\", \"logger\": \"werkzeug\", \"stack_info\": null, \"level\": \"INFO\"}\r\n",
      "{\"message\": \"Predictions: [{'image': [('n02127052', 'lynx', 0.8855132), ('n02128385', 'leopard', 0.047536284), ('n02128757', 'snow_leopard', 0.026318483)]}]\", \"host\": \"azure-dl-5bf5b784b8-pjtq6\", \"tags\": [], \"timestamp\": \"2018-06-15T17:38:48.259729Z\", \"path\": \"/code/driver.py\", \"logger\": \"model_driver\", \"stack_info\": null, \"level\": \"INFO\"}\r\n",
      "{\"message\": \"Predictions took 19.63 ms\", \"host\": \"azure-dl-5bf5b784b8-pjtq6\", \"tags\": [], \"timestamp\": \"2018-06-15T17:38:48.259873Z\", \"path\": \"/code/driver.py\", \"logger\": \"model_driver\", \"stack_info\": null, \"level\": \"INFO\"}\r\n",
      "([{'image': [('n02127052', 'lynx', 0.8855132), ('n02128385', 'leopard', 0.047536284), ('n02128757', 'snow_leopard', 0.026318483)]}], 'Computed in 19.63 ms')\r\n",
      "{\"message\": \"127.0.0.1 - - [15/Jun/2018 17:38:48] \\\"\\u001b[37mPOST /score HTTP/1.0\\u001b[0m\\\" 200 -\", \"host\": \"azure-dl-5bf5b784b8-pjtq6\", \"tags\": [], \"timestamp\": \"2018-06-15T17:38:48.260369Z\", \"path\": \"/opt/conda/envs/py3.5/lib/python3.5/site-packages/werkzeug/_internal.py\", \"logger\": \"werkzeug\", \"stack_info\": null, \"level\": \"INFO\"}\r\n"
     ]
    }
   ],
   "source": [
    "!kubectl logs {pod_dict['items'][0]['metadata']['name']}"
   ]
  },
  {
   "cell_type": "code",
   "execution_count": 51,
   "metadata": {},
   "outputs": [
    {
     "name": "stdout",
     "output_type": "stream",
     "text": [
      "2018-06-15 17:41:42,344 CRIT Supervisor running as root (no user in config file)\r\n",
      "2018-06-15 17:41:42,347 INFO supervisord started with pid 1\r\n",
      "2018-06-15 17:41:43,349 INFO spawned: 'program_exit' with pid 8\r\n",
      "2018-06-15 17:41:43,350 INFO spawned: 'nginx' with pid 9\r\n",
      "2018-06-15 17:41:43,352 INFO spawned: 'gunicorn' with pid 10\r\n",
      "2018-06-15 17:41:44,384 INFO success: program_exit entered RUNNING state, process has stayed up for > than 1 seconds (startsecs)\r\n",
      "2018-06-15 17:41:44.787261: I tensorflow/core/platform/cpu_feature_guard.cc:140] Your CPU supports instructions that this TensorFlow binary was not compiled to use: AVX2 FMA\r\n",
      "2018-06-15 17:41:44.968350: I tensorflow/core/common_runtime/gpu/gpu_device.cc:1212] Found device 0 with properties: \r\n",
      "name: Tesla K80 major: 3 minor: 7 memoryClockRate(GHz): 0.8235\r\n",
      "pciBusID: b5a8:00:00.0\r\n",
      "totalMemory: 11.17GiB freeMemory: 11.10GiB\r\n",
      "2018-06-15 17:41:44.968393: I tensorflow/core/common_runtime/gpu/gpu_device.cc:1312] Adding visible gpu devices: 0\r\n",
      "2018-06-15 17:41:45.276859: I tensorflow/core/common_runtime/gpu/gpu_device.cc:993] Creating TensorFlow device (/job:localhost/replica:0/task:0/device:GPU:0 with 10765 MB memory) -> physical GPU (device: 0, name: Tesla K80, pci bus id: b5a8:00:00.0, compute capability: 3.7)\r\n",
      "Downloading data from https://github.com/fchollet/deep-learning-models/releases/download/v0.6/mobilenet_1_0_224_tf.h5\r\n",
      "\r\n",
      "    8192/17225924 [..............................] - ETA: 3s\r\n",
      " 1048576/17225924 [>.............................] - ETA: 0s\r\n",
      " 3989504/17225924 [=====>........................] - ETA: 0s\r\n",
      " 8749056/17225924 [==============>...............] - ETA: 0s\r\n",
      "16613376/17225924 [===========================>..] - ETA: 0s\r\n",
      "17227776/17225924 [==============================] - 0s 0us/step\r\n",
      "2018-06-15 17:41:49,153 INFO success: nginx entered RUNNING state, process has stayed up for > than 5 seconds (startsecs)\r\n",
      "{\"host\": \"azure-dl-5bf5b784b8-nm746\", \"logger\": \"model_driver\", \"tags\": [], \"stack_info\": null, \"timestamp\": \"2018-06-15T17:41:49.260046Z\", \"message\": \"Model loading time: 4501.19 ms\", \"path\": \"/code/driver.py\", \"level\": \"INFO\"}\r\n",
      "Initialising\r\n",
      "{\"host\": \"azure-dl-5bf5b784b8-nm746\", \"logger\": \"werkzeug\", \"tags\": [], \"stack_info\": null, \"timestamp\": \"2018-06-15T17:41:49.266092Z\", \"msg\": \" * Running on %s://%s:%d/ %s\", \"message\": \" * Running on http://127.0.0.1:5000/ (Press CTRL+C to quit)\", \"path\": \"/opt/conda/envs/py3.5/lib/python3.5/site-packages/werkzeug/_internal.py\", \"level\": \"INFO\"}\r\n",
      "2018-06-15 17:42:04,279 INFO success: gunicorn entered RUNNING state, process has stayed up for > than 20 seconds (startsecs)\r\n"
     ]
    }
   ],
   "source": [
    "!kubectl logs azure-dl-5bf5b784b8-nm746"
   ]
  },
  {
   "cell_type": "code",
   "execution_count": 54,
   "metadata": {},
   "outputs": [
    {
     "name": "stdout",
     "output_type": "stream",
     "text": [
      "NAME       DESIRED   CURRENT   UP-TO-DATE   AVAILABLE   AGE\r\n",
      "azure-dl   3         3         3            3           26m\r\n"
     ]
    }
   ],
   "source": [
    "!kubectl get deployment"
   ]
  },
  {
   "cell_type": "markdown",
   "metadata": {},
   "source": [
    "It can take a few minutes for the service to populate the EXTERNAL-IP field below. This will be the IP you use to call the service. You can also specify an IP to use, please see the AKS documentation for further details."
   ]
  },
  {
   "cell_type": "code",
   "execution_count": 53,
   "metadata": {},
   "outputs": [
    {
     "name": "stdout",
     "output_type": "stream",
     "text": [
      "NAME       TYPE           CLUSTER-IP     EXTERNAL-IP    PORT(S)        AGE\r\n",
      "azure-dl   LoadBalancer   10.0.250.100   40.121.34.54   80:32165/TCP   25m\r\n"
     ]
    }
   ],
   "source": [
    "!kubectl get service azure-dl"
   ]
  },
  {
   "cell_type": "markdown",
   "metadata": {},
   "source": [
    "# Scaling"
   ]
  },
  {
   "cell_type": "code",
   "execution_count": 84,
   "metadata": {},
   "outputs": [
    {
     "name": "stdout",
     "output_type": "stream",
     "text": [
      "\u001b[K{- Finished ..\n",
      "  \"agentPoolProfiles\": [\n",
      "    {\n",
      "      \"count\": 2,\n",
      "      \"dnsPrefix\": null,\n",
      "      \"fqdn\": null,\n",
      "      \"name\": \"nodepool1\",\n",
      "      \"osDiskSizeGb\": null,\n",
      "      \"osType\": \"Linux\",\n",
      "      \"ports\": null,\n",
      "      \"storageProfile\": \"ManagedDisks\",\n",
      "      \"vmSize\": \"Standard_NC6\",\n",
      "      \"vnetSubnetId\": null\n",
      "    }\n",
      "  ],\n",
      "  \"dnsPrefix\": \"fbAKSmnetC-fbaksmnetrg-edf507\",\n",
      "  \"fqdn\": \"fbaksmnetc-fbaksmnetrg-edf507-aa710311.hcp.eastus.azmk8s.io\",\n",
      "  \"id\": \"/subscriptions/edf507a2-6235-46c5-b560-fd463ba2e771/resourcegroups/fbaksmnetrg/providers/Microsoft.ContainerService/managedClusters/fbAKSmnetCluster\",\n",
      "  \"kubernetesVersion\": \"1.9.6\",\n",
      "  \"linuxProfile\": {\n",
      "    \"adminUsername\": \"azureuser\",\n",
      "    \"ssh\": {\n",
      "      \"publicKeys\": [\n",
      "        {\n",
      "          \"keyData\": \"ssh-rsa AAAAB3NzaC1yc2EAAAADAQABAAABAQDTZYQFHNstYCR25qtvMrC6baTMS6TobaIRbgd0xOoafDy+2uBk0DMJuhGWoOcrsCnvadp5k/0K8qBRysyhlQGWb6+r8fBunThy+zpTKqdh3W8Q1y5UtKnGwwU1cqGXDOPUIXJYNPJqUKV829+MOrZjUynhHgSzDbY2ncGyoT+Farsvm01aGEdDapa+XRl4JAwtN1bb9q+Ii5y+MkpIOhLRMwATl05eNfAHmYQWtaIJZZJOHMNPswlBmLs293Wsj11vYh6/yo9S4ToEsc9Pbl5Zn6OFIu7jfzN2bM8cA3+8pru9WSthrxjJvPn8i4uTYozOdNIi09ArQ4lRT9t6rsMz\"\n",
      "        }\n",
      "      ]\n",
      "    }\n",
      "  },\n",
      "  \"location\": \"eastus\",\n",
      "  \"name\": \"fbAKSmnetCluster\",\n",
      "  \"provisioningState\": \"Succeeded\",\n",
      "  \"resourceGroup\": \"fbaksmnetrg\",\n",
      "  \"servicePrincipalProfile\": {\n",
      "    \"clientId\": \"eeba3bfe-45f9-42de-9bdb-54416b67382d\",\n",
      "    \"keyVaultSecretRef\": null,\n",
      "    \"secret\": null\n",
      "  },\n",
      "  \"tags\": null,\n",
      "  \"type\": \"Microsoft.ContainerService/ManagedClusters\"\n",
      "}\n",
      "\u001b[0m"
     ]
    }
   ],
   "source": [
    "!az aks scale --resource-group=$resource_group --name=$aks_name --node-count 2"
   ]
  },
  {
   "cell_type": "code",
   "execution_count": 166,
   "metadata": {},
   "outputs": [
    {
     "name": "stdout",
     "output_type": "stream",
     "text": [
      "NAME                       STATUS    ROLES     AGE       VERSION\r\n",
      "aks-nodepool1-20780302-0   Ready     agent     1d        v1.9.6\r\n",
      "aks-nodepool1-20780302-1   Ready     agent     1d        v1.9.6\r\n"
     ]
    }
   ],
   "source": [
    "!kubectl get nodes"
   ]
  },
  {
   "cell_type": "code",
   "execution_count": 42,
   "metadata": {},
   "outputs": [
    {
     "name": "stdout",
     "output_type": "stream",
     "text": [
      "deployment.extensions \"azure-dl\" scaled\r\n"
     ]
    }
   ],
   "source": [
    "!kubectl scale --current-replicas=1 --replicas=3 deployment/azure-dl"
   ]
  },
  {
   "cell_type": "markdown",
   "metadata": {},
   "source": [
    "# Tear it all down"
   ]
  },
  {
   "cell_type": "markdown",
   "metadata": {},
   "source": [
    "Once you are done with your cluster you can use the following two commands to destroy it all."
   ]
  },
  {
   "cell_type": "code",
   "execution_count": 165,
   "metadata": {},
   "outputs": [
    {
     "name": "stdout",
     "output_type": "stream",
     "text": [
      "deployment.apps \"azure-dl\" deleted\n",
      "service \"azure-dl\" deleted\n"
     ]
    }
   ],
   "source": [
    "!kubectl delete -f az-dl.json"
   ]
  },
  {
   "cell_type": "code",
   "execution_count": 169,
   "metadata": {},
   "outputs": [
    {
     "name": "stdout",
     "output_type": "stream",
     "text": [
      "\u001b[K\u001b[0minished .."
     ]
    }
   ],
   "source": [
    "!az aks delete -n $aks_name -g $resource_group -y"
   ]
  },
  {
   "cell_type": "code",
   "execution_count": 170,
   "metadata": {},
   "outputs": [
    {
     "name": "stdout",
     "output_type": "stream",
     "text": [
      "\u001b[K\u001b[0minished .."
     ]
    }
   ],
   "source": [
    "!az group delete --name $resource_group -y"
   ]
  }
 ],
 "metadata": {
  "kernelspec": {
   "display_name": "Python [conda env:aksenv]",
   "language": "python",
   "name": "conda-env-aksenv-py"
  },
  "language_info": {
   "codemirror_mode": {
    "name": "ipython",
    "version": 3
   },
   "file_extension": ".py",
   "mimetype": "text/x-python",
   "name": "python",
   "nbconvert_exporter": "python",
   "pygments_lexer": "ipython3",
   "version": "3.5.5"
  }
 },
 "nbformat": 4,
 "nbformat_minor": 2
}
