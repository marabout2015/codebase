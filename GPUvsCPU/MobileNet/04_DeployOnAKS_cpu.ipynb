{
 "cells": [
  {
   "cell_type": "markdown",
   "metadata": {},
   "source": [
    "# Deploy Web App on Azure Container Services (AKS)\n"
   ]
  },
  {
   "cell_type": "markdown",
   "metadata": {},
   "source": [
    "In this notebook, we will set up an Azure Container Service which will be managed by Kubernetes. We will then take the Docker image we created earlier that contains our app and deploy it to the AKS cluster. Then, we will check everything is working by sending an image to it and getting it scored. \n",
    "\n",
    "The process is split into the following steps:\n",
    "- Define our resource names\n",
    "- Login to Azure\n",
    "- Create resource group and create AKS\n",
    "- Connect to AKS\n",
    "- Deploy our app\n",
    "- Tear it all down\n",
    "\n",
    "We assume that this notebook is running on Linux and Azure CLI is installed before proceeding."
   ]
  },
  {
   "cell_type": "markdown",
   "metadata": {},
   "source": [
    "## Setup"
   ]
  },
  {
   "cell_type": "markdown",
   "metadata": {},
   "source": [
    "Below are the various name definitions for the resources needed to setup AKS as well as the name of the Docker image we will be using."
   ]
  },
  {
   "cell_type": "code",
   "execution_count": 1,
   "metadata": {
    "collapsed": true
   },
   "outputs": [],
   "source": [
    "# Please modify the below as you see fit\n",
    "resource_group = \"<RESOURCE_GROUP>\" \n",
    "aks_name = \"<AKS_CLUSTER_NAME>\"\n",
    "location = \"eastus\"\n",
    "\n",
    "image_name = '<YOUR_DOCKER_IMAGE>' # 'fboylu/kerastf-gpu' Feel free to use this image if you want to \n",
    "                                   # skip creating your own container\n",
    "selected_subscription = \"'<YOUR_SUBSCRIPTION>'\" # If you have multiple subscriptions select \n",
    "                                                # the subscription you want to use here"
   ]
  },
  {
   "cell_type": "code",
   "execution_count": 1,
   "metadata": {},
   "outputs": [],
   "source": [
    "resource_group = \"fbakscpurg\" # Feel free to modify these\n",
    "aks_name = \"fbAKSClustercpu\"\n",
    "location = \"eastus\"\n",
    "\n",
    "image_name = \"fboylu/kerasmnet-cpu\" \n",
    "selected_subscription = \"'Team Danielle Internal'\""
   ]
  },
  {
   "cell_type": "markdown",
   "metadata": {},
   "source": [
    "## Azure account login"
   ]
  },
  {
   "cell_type": "markdown",
   "metadata": {},
   "source": [
    "The command below will initiate a login to your Azure account. It will pop up with an url to go to where you will enter a one off code and log into your Azure account using your browser."
   ]
  },
  {
   "cell_type": "code",
   "execution_count": 2,
   "metadata": {},
   "outputs": [
    {
     "name": "stdout",
     "output_type": "stream",
     "text": [
      "\u001b[33mTo sign in, use a web browser to open the page https://microsoft.com/devicelogin and enter the code FL7HK2GV9 to authenticate.\u001b[0m\n",
      "CloudName    IsDefault    Name                           State    TenantId\n",
      "-----------  -----------  -----------------------------  -------  ------------------------------------\n",
      "AzureCloud   False        Boston DS Dev                  Enabled  72f988bf-86f1-41af-91ab-2d7cd011db47\n",
      "AzureCloud   False        Internal Consumption           Enabled  72f988bf-86f1-41af-91ab-2d7cd011db47\n",
      "AzureCloud   True         Team Danielle Internal         Enabled  72f988bf-86f1-41af-91ab-2d7cd011db47\n",
      "AzureCloud   False        Core-ES-BLD                    Enabled  72f988bf-86f1-41af-91ab-2d7cd011db47\n",
      "AzureCloud   False        Boston Engineering             Enabled  72f988bf-86f1-41af-91ab-2d7cd011db47\n",
      "AzureCloud   False        ADLTrainingMS                  Enabled  72f988bf-86f1-41af-91ab-2d7cd011db47\n",
      "AzureCloud   False        Ads Eng Big Data Subscription  Enabled  72f988bf-86f1-41af-91ab-2d7cd011db47\n",
      "AzureCloud   False        Data Wrangling Preview         Enabled  72f988bf-86f1-41af-91ab-2d7cd011db47\n",
      "AzureCloud   False        R portal - Production          Enabled  72f988bf-86f1-41af-91ab-2d7cd011db47\n",
      "AzureCloud   False        Project Vienna Demo 1          Enabled  72f988bf-86f1-41af-91ab-2d7cd011db47\n",
      "AzureCloud   False        Solution Template Testing      Enabled  72f988bf-86f1-41af-91ab-2d7cd011db47\n",
      "AzureCloud   False        Team Ilan                      Enabled  72f988bf-86f1-41af-91ab-2d7cd011db47\n"
     ]
    }
   ],
   "source": [
    "!az login -o table"
   ]
  },
  {
   "cell_type": "code",
   "execution_count": 7,
   "metadata": {
    "collapsed": true
   },
   "outputs": [],
   "source": [
    "!az account set --subscription $selected_subscription"
   ]
  },
  {
   "cell_type": "code",
   "execution_count": 4,
   "metadata": {},
   "outputs": [
    {
     "name": "stdout",
     "output_type": "stream",
     "text": [
      "{\r\n",
      "  \"environmentName\": \"AzureCloud\",\r\n",
      "  \"id\": \"edf507a2-6235-46c5-b560-fd463ba2e771\",\r\n",
      "  \"isDefault\": true,\r\n",
      "  \"name\": \"Team Danielle Internal\",\r\n",
      "  \"state\": \"Enabled\",\r\n",
      "  \"tenantId\": \"72f988bf-86f1-41af-91ab-2d7cd011db47\",\r\n",
      "  \"user\": {\r\n",
      "    \"name\": \"fboylu@microsoft.com\",\r\n",
      "    \"type\": \"user\"\r\n",
      "  }\r\n",
      "}\r\n"
     ]
    }
   ],
   "source": [
    "!az account show"
   ]
  },
  {
   "cell_type": "markdown",
   "metadata": {},
   "source": [
    "You will also need to register the container service resources on your subscription if you haven't already done so."
   ]
  },
  {
   "cell_type": "code",
   "execution_count": 9,
   "metadata": {
    "collapsed": true
   },
   "outputs": [],
   "source": [
    "!az provider register -n Microsoft.ContainerService"
   ]
  },
  {
   "cell_type": "code",
   "execution_count": 10,
   "metadata": {
    "collapsed": true
   },
   "outputs": [],
   "source": [
    "!az provider show -n Microsoft.ContainerService"
   ]
  },
  {
   "cell_type": "markdown",
   "metadata": {},
   "source": [
    "## Create resources and dependencies"
   ]
  },
  {
   "cell_type": "markdown",
   "metadata": {},
   "source": [
    "### Create resource group and AKS cluster"
   ]
  },
  {
   "cell_type": "markdown",
   "metadata": {},
   "source": [
    "Azure encourages the use of groups to organize all the Azure components you deploy. That way it is easier to find them but also we can delete a number of resources simply by deleting the group."
   ]
  },
  {
   "cell_type": "code",
   "execution_count": 2,
   "metadata": {},
   "outputs": [],
   "source": [
    "# !az group create --name $resource_group --location $location"
   ]
  },
  {
   "cell_type": "markdown",
   "metadata": {},
   "source": [
    "Below, we create the AKS cluster in the resource group we created earlier."
   ]
  },
  {
   "cell_type": "code",
   "execution_count": 3,
   "metadata": {},
   "outputs": [
    {
     "name": "stdout",
     "output_type": "stream",
     "text": [
      "CPU times: user 4 µs, sys: 1 µs, total: 5 µs\n",
      "Wall time: 10.5 µs\n"
     ]
    }
   ],
   "source": [
    "%%time\n",
    "# !az aks create --resource-group $resource_group --name $aks_name --node-count 1 --generate-ssh-keys -s Standard_D4_v2"
   ]
  },
  {
   "cell_type": "markdown",
   "metadata": {},
   "source": [
    "### Install kubectl CLI"
   ]
  },
  {
   "cell_type": "markdown",
   "metadata": {},
   "source": [
    "To connect to the Kubernetes cluster, we will use kubectl, the Kubernetes command-line client. To install, run the following:"
   ]
  },
  {
   "cell_type": "code",
   "execution_count": 57,
   "metadata": {},
   "outputs": [
    {
     "name": "stdout",
     "output_type": "stream",
     "text": [
      "\u001b[33mDownloading client to /usr/local/bin/kubectl from https://storage.googleapis.com/kubernetes-release/release/v1.10.4/bin/linux/amd64/kubectl\u001b[0m\n",
      "\u001b[33mPlease ensure that /usr/local/bin is in your search PATH, so the `kubectl` command can be found.\u001b[0m\n"
     ]
    }
   ],
   "source": [
    "!sudo az aks install-cli"
   ]
  },
  {
   "cell_type": "markdown",
   "metadata": {},
   "source": [
    "## Connect to AKS cluster"
   ]
  },
  {
   "cell_type": "markdown",
   "metadata": {},
   "source": [
    "To configure kubectl to connect to the Kubernetes cluster, run the following command:"
   ]
  },
  {
   "cell_type": "code",
   "execution_count": 5,
   "metadata": {},
   "outputs": [
    {
     "name": "stdout",
     "output_type": "stream",
     "text": [
      "Merged \"fbAKSClustercpu\" as current context in /home/fboylu/.kube/config\r\n"
     ]
    }
   ],
   "source": [
    "!az aks get-credentials --resource-group $resource_group --name $aks_name"
   ]
  },
  {
   "cell_type": "markdown",
   "metadata": {},
   "source": [
    "Let's verify connection by listing the nodes."
   ]
  },
  {
   "cell_type": "code",
   "execution_count": 9,
   "metadata": {},
   "outputs": [
    {
     "name": "stdout",
     "output_type": "stream",
     "text": [
      "NAME                       STATUS    ROLES     AGE       VERSION\r\n",
      "aks-nodepool1-13347348-0   Ready     agent     10d       v1.9.6\r\n",
      "aks-nodepool1-13347348-1   Ready     agent     10d       v1.9.6\r\n",
      "aks-nodepool1-13347348-2   Ready     agent     10d       v1.9.6\r\n",
      "aks-nodepool1-13347348-3   Ready     agent     10d       v1.9.6\r\n",
      "aks-nodepool1-13347348-4   Ready     agent     10d       v1.9.6\r\n"
     ]
    }
   ],
   "source": [
    "!kubectl get nodes"
   ]
  },
  {
   "cell_type": "markdown",
   "metadata": {},
   "source": [
    "Let's check the pods on our cluster."
   ]
  },
  {
   "cell_type": "code",
   "execution_count": 10,
   "metadata": {},
   "outputs": [
    {
     "name": "stdout",
     "output_type": "stream",
     "text": [
      "NAMESPACE     NAME                                    READY     STATUS    RESTARTS   AGE\r\n",
      "kube-system   azureproxy-79c5db744-j5hj4              1/1       Running   3          10d\r\n",
      "kube-system   heapster-55f855b47-bs86x                2/2       Running   0          10d\r\n",
      "kube-system   kube-dns-v20-7c556f89c5-96dfd           3/3       Running   0          10d\r\n",
      "kube-system   kube-dns-v20-7c556f89c5-fm7v2           3/3       Running   0          10d\r\n",
      "kube-system   kube-proxy-225hz                        1/1       Running   0          10d\r\n",
      "kube-system   kube-proxy-g5x5p                        1/1       Running   0          10d\r\n",
      "kube-system   kube-proxy-hw7fk                        1/1       Running   0          10d\r\n",
      "kube-system   kube-proxy-ttnsh                        1/1       Running   0          10d\r\n",
      "kube-system   kube-proxy-tvnpv                        1/1       Running   0          10d\r\n",
      "kube-system   kube-svc-redirect-278jk                 1/1       Running   0          10d\r\n",
      "kube-system   kube-svc-redirect-bhvsk                 1/1       Running   0          10d\r\n",
      "kube-system   kube-svc-redirect-chkj2                 1/1       Running   0          10d\r\n",
      "kube-system   kube-svc-redirect-k7fs6                 1/1       Running   0          10d\r\n",
      "kube-system   kube-svc-redirect-mg5cj                 1/1       Running   0          10d\r\n",
      "kube-system   kubernetes-dashboard-546f987686-rznkm   1/1       Running   2          10d\r\n",
      "kube-system   tunnelfront-5fcfb8fb44-ht5r8            1/1       Running   0          10d\r\n"
     ]
    }
   ],
   "source": [
    "!kubectl get pods --all-namespaces"
   ]
  },
  {
   "cell_type": "markdown",
   "metadata": {},
   "source": [
    "## Deploy application"
   ]
  },
  {
   "cell_type": "markdown",
   "metadata": {},
   "source": [
    "Below we define our Kubernetes manifest file for our service and load balancer. Note that we have to specify the volume mounts to the drivers that are located on the node."
   ]
  },
  {
   "cell_type": "code",
   "execution_count": 11,
   "metadata": {},
   "outputs": [],
   "source": [
    "app_template = {\n",
    "  \"apiVersion\": \"apps/v1beta1\",\n",
    "  \"kind\": \"Deployment\",\n",
    "  \"metadata\": {\n",
    "      \"name\": \"azure-dl\"\n",
    "  },\n",
    "  \"spec\":{\n",
    "      \"replicas\":2,\n",
    "      \"template\":{\n",
    "          \"metadata\":{\n",
    "              \"labels\":{\n",
    "                  \"app\":\"azure-dl\"\n",
    "              }\n",
    "          },\n",
    "          \"spec\":{\n",
    "              \"containers\":[\n",
    "                  {\n",
    "                      \"name\": \"azure-dl\",\n",
    "                      \"image\": \"fboylu/kerasmnet-cpu\",\n",
    "\n",
    "                      \"ports\":[\n",
    "                          {\n",
    "                              \"containerPort\":80,\n",
    "                              \"name\":\"model\"\n",
    "                          }\n",
    "                      ],\n",
    "                      \"resources\":{\n",
    "                           \"requests\":{\n",
    "                               \"cpu\": 1\n",
    "                           },\n",
    "                           \"limits\":{\n",
    "                               \"cpu\": 1.25\n",
    "                           }\n",
    "                       }  \n",
    "                  }\n",
    "              ]\n",
    "          }\n",
    "      }\n",
    "  }\n",
    "}\n",
    "\n",
    "service_temp = {\n",
    "  \"apiVersion\": \"v1\",\n",
    "  \"kind\": \"Service\",\n",
    "  \"metadata\": {\n",
    "      \"name\": \"azure-dl\"\n",
    "  },\n",
    "  \"spec\":{\n",
    "      \"type\": \"LoadBalancer\",\n",
    "      \"ports\":[\n",
    "          {\n",
    "              \"port\":80\n",
    "          }\n",
    "      ],\n",
    "      \"selector\":{\n",
    "            \"app\":\"azure-dl\"\n",
    "      }\n",
    "   }\n",
    "}"
   ]
  },
  {
   "cell_type": "code",
   "execution_count": 12,
   "metadata": {},
   "outputs": [],
   "source": [
    "import json\n",
    "def write_json_to_file(json_dict, filename, mode='w'):\n",
    "    with open(filename, mode) as outfile:\n",
    "        json.dump(json_dict, outfile, indent=4, sort_keys=True)\n",
    "        outfile.write('\\n\\n')"
   ]
  },
  {
   "cell_type": "code",
   "execution_count": 13,
   "metadata": {},
   "outputs": [],
   "source": [
    "write_json_to_file(app_template, 'az-dl.json')"
   ]
  },
  {
   "cell_type": "code",
   "execution_count": 14,
   "metadata": {},
   "outputs": [],
   "source": [
    "write_json_to_file(service_temp, 'az-dl.json', mode='a')"
   ]
  },
  {
   "cell_type": "markdown",
   "metadata": {},
   "source": [
    "Let's check the manifest created."
   ]
  },
  {
   "cell_type": "code",
   "execution_count": 15,
   "metadata": {},
   "outputs": [
    {
     "name": "stdout",
     "output_type": "stream",
     "text": [
      "{\r\n",
      "    \"apiVersion\": \"apps/v1beta1\",\r\n",
      "    \"kind\": \"Deployment\",\r\n",
      "    \"metadata\": {\r\n",
      "        \"name\": \"azure-dl\"\r\n",
      "    },\r\n",
      "    \"spec\": {\r\n",
      "        \"replicas\": 2,\r\n",
      "        \"template\": {\r\n",
      "            \"metadata\": {\r\n",
      "                \"labels\": {\r\n",
      "                    \"app\": \"azure-dl\"\r\n",
      "                }\r\n",
      "            },\r\n",
      "            \"spec\": {\r\n",
      "                \"containers\": [\r\n",
      "                    {\r\n",
      "                        \"image\": \"fboylu/kerasmnet-cpu\",\r\n",
      "                        \"name\": \"azure-dl\",\r\n",
      "                        \"ports\": [\r\n",
      "                            {\r\n",
      "                                \"containerPort\": 80,\r\n",
      "                                \"name\": \"model\"\r\n",
      "                            }\r\n",
      "                        ],\r\n",
      "                        \"resources\": {\r\n",
      "                            \"limits\": {\r\n",
      "                                \"cpu\": 1.25\r\n",
      "                            },\r\n",
      "                            \"requests\": {\r\n",
      "                                \"cpu\": 1\r\n",
      "                            }\r\n",
      "                        }\r\n",
      "                    }\r\n",
      "                ]\r\n",
      "            }\r\n",
      "        }\r\n",
      "    }\r\n",
      "}\r\n",
      "\r\n",
      "{\r\n",
      "    \"apiVersion\": \"v1\",\r\n",
      "    \"kind\": \"Service\",\r\n",
      "    \"metadata\": {\r\n",
      "        \"name\": \"azure-dl\"\r\n",
      "    },\r\n",
      "    \"spec\": {\r\n",
      "        \"ports\": [\r\n",
      "            {\r\n",
      "                \"port\": 80\r\n",
      "            }\r\n",
      "        ],\r\n",
      "        \"selector\": {\r\n",
      "            \"app\": \"azure-dl\"\r\n",
      "        },\r\n",
      "        \"type\": \"LoadBalancer\"\r\n",
      "    }\r\n",
      "}\r\n",
      "\r\n"
     ]
    }
   ],
   "source": [
    "!cat az-dl.json"
   ]
  },
  {
   "cell_type": "markdown",
   "metadata": {},
   "source": [
    "Next, we will use kubectl create command to deploy our application."
   ]
  },
  {
   "cell_type": "code",
   "execution_count": 16,
   "metadata": {},
   "outputs": [
    {
     "name": "stdout",
     "output_type": "stream",
     "text": [
      "deployment.apps \"azure-dl\" created\n",
      "service \"azure-dl\" created\n"
     ]
    }
   ],
   "source": [
    "!kubectl create -f az-dl.json"
   ]
  },
  {
   "cell_type": "markdown",
   "metadata": {},
   "source": [
    "Let's check if the pod is deployed."
   ]
  },
  {
   "cell_type": "code",
   "execution_count": 21,
   "metadata": {},
   "outputs": [
    {
     "name": "stdout",
     "output_type": "stream",
     "text": [
      "NAMESPACE     NAME                                    READY     STATUS    RESTARTS   AGE\r\n",
      "default       azure-dl-78c46df777-kpg5l               1/1       Running   0          3m\r\n",
      "default       azure-dl-78c46df777-vwt47               1/1       Running   0          3m\r\n",
      "kube-system   azureproxy-79c5db744-j5hj4              1/1       Running   3          10d\r\n",
      "kube-system   heapster-55f855b47-bs86x                2/2       Running   0          10d\r\n",
      "kube-system   kube-dns-v20-7c556f89c5-96dfd           3/3       Running   0          10d\r\n",
      "kube-system   kube-dns-v20-7c556f89c5-fm7v2           3/3       Running   0          10d\r\n",
      "kube-system   kube-proxy-225hz                        1/1       Running   0          10d\r\n",
      "kube-system   kube-proxy-g5x5p                        1/1       Running   0          10d\r\n",
      "kube-system   kube-proxy-hw7fk                        1/1       Running   0          10d\r\n",
      "kube-system   kube-proxy-ttnsh                        1/1       Running   0          10d\r\n",
      "kube-system   kube-proxy-tvnpv                        1/1       Running   0          10d\r\n",
      "kube-system   kube-svc-redirect-278jk                 1/1       Running   0          10d\r\n",
      "kube-system   kube-svc-redirect-bhvsk                 1/1       Running   0          10d\r\n",
      "kube-system   kube-svc-redirect-chkj2                 1/1       Running   0          10d\r\n",
      "kube-system   kube-svc-redirect-k7fs6                 1/1       Running   0          10d\r\n",
      "kube-system   kube-svc-redirect-mg5cj                 1/1       Running   0          10d\r\n",
      "kube-system   kubernetes-dashboard-546f987686-rznkm   1/1       Running   2          10d\r\n",
      "kube-system   tunnelfront-5fcfb8fb44-ht5r8            1/1       Running   0          10d\r\n"
     ]
    }
   ],
   "source": [
    "!kubectl get pods --all-namespaces"
   ]
  },
  {
   "cell_type": "markdown",
   "metadata": {},
   "source": [
    "If anything goes wrong you can use the commands below to observe the events on the node as well as review the logs."
   ]
  },
  {
   "cell_type": "code",
   "execution_count": 22,
   "metadata": {},
   "outputs": [
    {
     "name": "stdout",
     "output_type": "stream",
     "text": [
      "LAST SEEN   FIRST SEEN   COUNT     NAME                                         KIND         SUBOBJECT                   TYPE      REASON                  SOURCE                              MESSAGE\r\n",
      "5m          5m           1         azure-dl-56bf5dd85c-462vr.153993de5d047cc0   Pod          spec.containers{azure-dl}   Normal    Killing                 kubelet, aks-nodepool1-13347348-2   Killing container with id docker://azure-dl:Need to kill Pod\r\n",
      "5m          5m           1         azure-dl-56bf5dd85c-46z7c.153993de5eab62ed   Pod          spec.containers{azure-dl}   Normal    Killing                 kubelet, aks-nodepool1-13347348-1   Killing container with id docker://azure-dl:Need to kill Pod\r\n",
      "5m          5m           1         azure-dl-56bf5dd85c-5q4z8.153993de5e937219   Pod          spec.containers{azure-dl}   Normal    Killing                 kubelet, aks-nodepool1-13347348-0   Killing container with id docker://azure-dl:Need to kill Pod\r\n",
      "5m          5m           1         azure-dl-56bf5dd85c-5s78k.153993de5e92c50b   Pod          spec.containers{azure-dl}   Normal    Killing                 kubelet, aks-nodepool1-13347348-0   Killing container with id docker://azure-dl:Need to kill Pod\r\n",
      "5m          5m           1         azure-dl-56bf5dd85c-7xwgg.153993de5d5d28e9   Pod          spec.containers{azure-dl}   Normal    Killing                 kubelet, aks-nodepool1-13347348-3   Killing container with id docker://azure-dl:Need to kill Pod\r\n",
      "5m          5m           1         azure-dl-56bf5dd85c-946br.153993de5f82fdeb   Pod          spec.containers{azure-dl}   Normal    Killing                 kubelet, aks-nodepool1-13347348-0   Killing container with id docker://azure-dl:Need to kill Pod\r\n",
      "5m          5m           1         azure-dl-56bf5dd85c-9zvdh.153993de5f916328   Pod          spec.containers{azure-dl}   Normal    Killing                 kubelet, aks-nodepool1-13347348-1   Killing container with id docker://azure-dl:Need to kill Pod\r\n",
      "5m          5m           1         azure-dl-56bf5dd85c-drkb4.153993de59f56efb   Pod          spec.containers{azure-dl}   Normal    Killing                 kubelet, aks-nodepool1-13347348-4   Killing container with id docker://azure-dl:Need to kill Pod\r\n",
      "5m          5m           1         azure-dl-56bf5dd85c-fw5l7.153993de5fd0cd66   Pod          spec.containers{azure-dl}   Normal    Killing                 kubelet, aks-nodepool1-13347348-2   Killing container with id docker://azure-dl:Need to kill Pod\r\n",
      "5m          5m           1         azure-dl-56bf5dd85c-gkgmd.153993de61f9b93c   Pod          spec.containers{azure-dl}   Normal    Killing                 kubelet, aks-nodepool1-13347348-3   Killing container with id docker://azure-dl:Need to kill Pod\r\n",
      "5m          5m           1         azure-dl-56bf5dd85c-gmbf9.153993de63fe0474   Pod          spec.containers{azure-dl}   Normal    Killing                 kubelet, aks-nodepool1-13347348-4   Killing container with id docker://azure-dl:Need to kill Pod\r\n",
      "5m          5m           1         azure-dl-56bf5dd85c-hhjmh.153993de5c1b1836   Pod          spec.containers{azure-dl}   Normal    Killing                 kubelet, aks-nodepool1-13347348-4   Killing container with id docker://azure-dl:Need to kill Pod\r\n",
      "5m          5m           1         azure-dl-56bf5dd85c-knkrm.153993de5d5d104c   Pod          spec.containers{azure-dl}   Normal    Killing                 kubelet, aks-nodepool1-13347348-3   Killing container with id docker://azure-dl:Need to kill Pod\r\n",
      "5m          5m           1         azure-dl-56bf5dd85c-knnkq.153993de5ce0b0f7   Pod          spec.containers{azure-dl}   Normal    Killing                 kubelet, aks-nodepool1-13347348-0   Killing container with id docker://azure-dl:Need to kill Pod\r\n",
      "5m          5m           1         azure-dl-56bf5dd85c-kpbgr.153993de5b8a378a   Pod          spec.containers{azure-dl}   Normal    Killing                 kubelet, aks-nodepool1-13347348-0   Killing container with id docker://azure-dl:Need to kill Pod\r\n",
      "5m          5m           1         azure-dl-56bf5dd85c-m7pvt.153993de61fb2294   Pod          spec.containers{azure-dl}   Normal    Killing                 kubelet, aks-nodepool1-13347348-3   Killing container with id docker://azure-dl:Need to kill Pod\r\n",
      "5m          5m           1         azure-dl-56bf5dd85c-mx97g.153993de59f425ac   Pod          spec.containers{azure-dl}   Normal    Killing                 kubelet, aks-nodepool1-13347348-4   Killing container with id docker://azure-dl:Need to kill Pod\r\n",
      "5m          5m           1         azure-dl-56bf5dd85c-p6l7f.153993de5c19cc8f   Pod          spec.containers{azure-dl}   Normal    Killing                 kubelet, aks-nodepool1-13347348-4   Killing container with id docker://azure-dl:Need to kill Pod\r\n",
      "5m          5m           1         azure-dl-56bf5dd85c-ppcbc.153993de607966a5   Pod          spec.containers{azure-dl}   Normal    Killing                 kubelet, aks-nodepool1-13347348-1   Killing container with id docker://azure-dl:Need to kill Pod\r\n",
      "5m          5m           1         azure-dl-56bf5dd85c-ppdcq.153993de61ad3af1   Pod          spec.containers{azure-dl}   Normal    Killing                 kubelet, aks-nodepool1-13347348-2   Killing container with id docker://azure-dl:Need to kill Pod\r\n",
      "5m          5m           1         azure-dl-56bf5dd85c-rftpc.153993de61607b04   Pod          spec.containers{azure-dl}   Normal    Killing                 kubelet, aks-nodepool1-13347348-4   Killing container with id docker://azure-dl:Need to kill Pod\r\n",
      "5m          5m           1         azure-dl-56bf5dd85c-rt7fg.153993de59f47111   Pod          spec.containers{azure-dl}   Normal    Killing                 kubelet, aks-nodepool1-13347348-4   Killing container with id docker://azure-dl:Need to kill Pod\r\n",
      "5m          5m           1         azure-dl-56bf5dd85c-rv4x7.153993de5af8c3b1   Pod          spec.containers{azure-dl}   Normal    Killing                 kubelet, aks-nodepool1-13347348-1   Killing container with id docker://azure-dl:Need to kill Pod\r\n",
      "5m          5m           1         azure-dl-56bf5dd85c-rzhtb.153993de61fcbeb5   Pod          spec.containers{azure-dl}   Normal    Killing                 kubelet, aks-nodepool1-13347348-3   Killing container with id docker://azure-dl:Need to kill Pod\r\n",
      "5m          5m           1         azure-dl-56bf5dd85c-rzlmt.153993de5fd25ca3   Pod          spec.containers{azure-dl}   Normal    Killing                 kubelet, aks-nodepool1-13347348-3   Killing container with id docker://azure-dl:Need to kill Pod\r\n",
      "5m          5m           1         azure-dl-56bf5dd85c-scclg.153993de5df80ceb   Pod          spec.containers{azure-dl}   Normal    Killing                 kubelet, aks-nodepool1-13347348-2   Killing container with id docker://azure-dl:Need to kill Pod\r\n",
      "5m          5m           1         azure-dl-56bf5dd85c-ss7dm.153993de5cc9015a   Pod          spec.containers{azure-dl}   Normal    Killing                 kubelet, aks-nodepool1-13347348-1   Killing container with id docker://azure-dl:Need to kill Pod\r\n",
      "5m          5m           1         azure-dl-56bf5dd85c-sxsgs.153993de5cc9a313   Pod          spec.containers{azure-dl}   Normal    Killing                 kubelet, aks-nodepool1-13347348-1   Killing container with id docker://azure-dl:Need to kill Pod\r\n",
      "5m          5m           1         azure-dl-56bf5dd85c-v288r.153993de5fd28223   Pod          spec.containers{azure-dl}   Normal    Killing                 kubelet, aks-nodepool1-13347348-3   Killing container with id docker://azure-dl:Need to kill Pod\r\n",
      "5m          5m           1         azure-dl-56bf5dd85c-v4vjs.153993de61b1675a   Pod          spec.containers{azure-dl}   Normal    Killing                 kubelet, aks-nodepool1-13347348-2   Killing container with id docker://azure-dl:Need to kill Pod\r\n",
      "5m          5m           1         azure-dl-56bf5dd85c-vlctc.153993de5df86084   Pod          spec.containers{azure-dl}   Normal    Killing                 kubelet, aks-nodepool1-13347348-2   Killing container with id docker://azure-dl:Need to kill Pod\r\n",
      "5m          5m           1         azure-dl-56bf5dd85c-vmhwp.153993de5f8a4cb4   Pod          spec.containers{azure-dl}   Normal    Killing                 kubelet, aks-nodepool1-13347348-0   Killing container with id docker://azure-dl:Need to kill Pod\r\n",
      "5m          5m           1         azure-dl-56bf5dd85c-w8jnb.153993de5f8a9f21   Pod          spec.containers{azure-dl}   Normal    Killing                 kubelet, aks-nodepool1-13347348-0   Killing container with id docker://azure-dl:Need to kill Pod\r\n",
      "5m          5m           1         azure-dl-56bf5dd85c-xqvfn.153993de5db2e99e   Pod          spec.containers{azure-dl}   Normal    Killing                 kubelet, aks-nodepool1-13347348-1   Killing container with id docker://azure-dl:Need to kill Pod\r\n",
      "5m          5m           1         azure-dl-56bf5dd85c-z7jpr.153993de5fcb0d10   Pod          spec.containers{azure-dl}   Normal    Killing                 kubelet, aks-nodepool1-13347348-2   Killing container with id docker://azure-dl:Need to kill Pod\r\n",
      "5m          5m           1         azure-dl-56bf5dd85c.153993dbf3747c71         ReplicaSet                               Normal    SuccessfulDelete        replicaset-controller               Deleted pod: azure-dl-56bf5dd85c-462vr\r\n",
      "5m          5m           1         azure-dl-56bf5dd85c.153993dbf3760375         ReplicaSet                               Normal    SuccessfulDelete        replicaset-controller               Deleted pod: azure-dl-56bf5dd85c-scclg\r\n",
      "5m          5m           1         azure-dl-56bf5dd85c.153993dbf3bbb2d6         ReplicaSet                               Normal    SuccessfulDelete        replicaset-controller               Deleted pod: azure-dl-56bf5dd85c-5q4z8\r\n",
      "5m          5m           1         azure-dl-56bf5dd85c.153993dbf3ee0b74         ReplicaSet                               Normal    SuccessfulDelete        replicaset-controller               Deleted pod: azure-dl-56bf5dd85c-knnkq\r\n",
      "5m          5m           1         azure-dl-56bf5dd85c.153993dbf413bd6a         ReplicaSet                               Normal    SuccessfulDelete        replicaset-controller               Deleted pod: azure-dl-56bf5dd85c-7xwgg\r\n",
      "5m          5m           1         azure-dl-56bf5dd85c.153993dbf414ae0a         ReplicaSet                               Normal    SuccessfulDelete        replicaset-controller               Deleted pod: azure-dl-56bf5dd85c-p6l7f\r\n",
      "5m          5m           1         azure-dl-56bf5dd85c.153993dbf4164575         ReplicaSet                               Normal    SuccessfulDelete        replicaset-controller               Deleted pod: azure-dl-56bf5dd85c-ss7dm\r\n",
      "5m          5m           1         azure-dl-56bf5dd85c.153993dbf418bf0d         ReplicaSet                               Normal    SuccessfulDelete        replicaset-controller               Deleted pod: azure-dl-56bf5dd85c-w8jnb\r\n",
      "5m          5m           1         azure-dl-56bf5dd85c.153993dbf41b5f50         ReplicaSet                               Normal    SuccessfulDelete        replicaset-controller               Deleted pod: azure-dl-56bf5dd85c-rzhtb\r\n",
      "5m          5m           16        azure-dl-56bf5dd85c.153993dc2d1a784a         ReplicaSet                               Normal    SuccessfulDelete        replicaset-controller               (combined from similar events): Deleted pod: azure-dl-56bf5dd85c-z7jpr\r\n",
      "3m          3m           1         azure-dl-78c46df777-kpg5l.153993eea60388de   Pod                                      Normal    Scheduled               default-scheduler                   Successfully assigned azure-dl-78c46df777-kpg5l to aks-nodepool1-13347348-1\r\n",
      "3m          3m           1         azure-dl-78c46df777-kpg5l.153993eeb34e00f6   Pod                                      Normal    SuccessfulMountVolume   kubelet, aks-nodepool1-13347348-1   MountVolume.SetUp succeeded for volume \"default-token-lls54\" \r\n",
      "3m          3m           1         azure-dl-78c46df777-kpg5l.153993eeeb312b80   Pod          spec.containers{azure-dl}   Normal    Pulling                 kubelet, aks-nodepool1-13347348-1   pulling image \"fboylu/kerasmnet-cpu\"\r\n",
      "1m          1m           1         azure-dl-78c46df777-kpg5l.1539940a74960790   Pod          spec.containers{azure-dl}   Normal    Pulled                  kubelet, aks-nodepool1-13347348-1   Successfully pulled image \"fboylu/kerasmnet-cpu\"\r\n",
      "1m          1m           1         azure-dl-78c46df777-kpg5l.1539940a82c986bf   Pod          spec.containers{azure-dl}   Normal    Created                 kubelet, aks-nodepool1-13347348-1   Created container\r\n",
      "1m          1m           1         azure-dl-78c46df777-kpg5l.1539940a8b4a9a65   Pod          spec.containers{azure-dl}   Normal    Started                 kubelet, aks-nodepool1-13347348-1   Started container\r\n",
      "3m          3m           1         azure-dl-78c46df777-vwt47.153993eea73a9350   Pod                                      Normal    Scheduled               default-scheduler                   Successfully assigned azure-dl-78c46df777-vwt47 to aks-nodepool1-13347348-3\r\n",
      "3m          3m           1         azure-dl-78c46df777-vwt47.153993eeb5925914   Pod                                      Normal    SuccessfulMountVolume   kubelet, aks-nodepool1-13347348-3   MountVolume.SetUp succeeded for volume \"default-token-lls54\" \r\n",
      "3m          3m           1         azure-dl-78c46df777-vwt47.153993eeeb5b1ec6   Pod          spec.containers{azure-dl}   Normal    Pulling                 kubelet, aks-nodepool1-13347348-3   pulling image \"fboylu/kerasmnet-cpu\"\r\n",
      "1m          1m           1         azure-dl-78c46df777-vwt47.1539940ceb6d9539   Pod          spec.containers{azure-dl}   Normal    Pulled                  kubelet, aks-nodepool1-13347348-3   Successfully pulled image \"fboylu/kerasmnet-cpu\"\r\n",
      "1m          1m           1         azure-dl-78c46df777-vwt47.1539940cf9ff3d49   Pod          spec.containers{azure-dl}   Normal    Created                 kubelet, aks-nodepool1-13347348-3   Created container\r\n",
      "1m          1m           1         azure-dl-78c46df777-vwt47.1539940d064a6227   Pod          spec.containers{azure-dl}   Normal    Started                 kubelet, aks-nodepool1-13347348-3   Started container\r\n",
      "3m          3m           1         azure-dl-78c46df777.153993eea5b8e5bb         ReplicaSet                               Normal    SuccessfulCreate        replicaset-controller               Created pod: azure-dl-78c46df777-kpg5l\r\n",
      "3m          3m           1         azure-dl-78c46df777.153993eea667fa3f         ReplicaSet                               Normal    SuccessfulCreate        replicaset-controller               Created pod: azure-dl-78c46df777-vwt47\r\n",
      "5m          5m           1         azure-dl.153993dbf2f07ad5                    Deployment                               Normal    ScalingReplicaSet       deployment-controller               Scaled down replica set azure-dl-56bf5dd85c to 0\r\n",
      "5m          5m           1         azure-dl.153993dc48ca75a4                    Service                                  Normal    DeletingLoadBalancer    service-controller                  Deleting load balancer\r\n",
      "3m          3m           1         azure-dl.153993eea44609e3                    Deployment                               Normal    ScalingReplicaSet       deployment-controller               Scaled up replica set azure-dl-78c46df777 to 2\r\n",
      "2m          2m           1         azure-dl.15399407380ff483                    Service                                  Normal    DeletedLoadBalancer     service-controller                  Deleted load balancer\r\n",
      "2m          2m           1         azure-dl.153994073810724b                    Service                                  Normal    EnsuringLoadBalancer    service-controller                  Ensuring load balancer\r\n"
     ]
    }
   ],
   "source": [
    "!kubectl get events"
   ]
  },
  {
   "cell_type": "markdown",
   "metadata": {},
   "source": [
    "Check the logs for the application pod."
   ]
  },
  {
   "cell_type": "code",
   "execution_count": 23,
   "metadata": {},
   "outputs": [],
   "source": [
    "pod_json = !kubectl get pods -o json\n",
    "pod_dict = json.loads(''.join(pod_json))"
   ]
  },
  {
   "cell_type": "code",
   "execution_count": 24,
   "metadata": {},
   "outputs": [
    {
     "name": "stdout",
     "output_type": "stream",
     "text": [
      "NAME                        READY     STATUS    RESTARTS   AGE\r\n",
      "azure-dl-78c46df777-kpg5l   1/1       Running   0          3m\r\n",
      "azure-dl-78c46df777-vwt47   1/1       Running   0          3m\r\n"
     ]
    }
   ],
   "source": [
    "!kubectl get pods"
   ]
  },
  {
   "cell_type": "code",
   "execution_count": 25,
   "metadata": {},
   "outputs": [
    {
     "data": {
      "text/plain": [
       "{'azure-dl-78c46df777-kpg5l'}"
      ]
     },
     "execution_count": 25,
     "metadata": {},
     "output_type": "execute_result"
    }
   ],
   "source": [
    "{pod_dict['items'][0]['metadata']['name']}"
   ]
  },
  {
   "cell_type": "code",
   "execution_count": 26,
   "metadata": {},
   "outputs": [
    {
     "name": "stdout",
     "output_type": "stream",
     "text": [
      "2018-06-19 13:52:01,555 CRIT Supervisor running as root (no user in config file)\r\n",
      "2018-06-19 13:52:01,557 INFO supervisord started with pid 1\r\n",
      "2018-06-19 13:52:02,560 INFO spawned: 'program_exit' with pid 9\r\n",
      "2018-06-19 13:52:02,561 INFO spawned: 'nginx' with pid 10\r\n",
      "2018-06-19 13:52:02,563 INFO spawned: 'gunicorn' with pid 11\r\n",
      "2018-06-19 13:52:03,609 INFO success: program_exit entered RUNNING state, process has stayed up for > than 1 seconds (startsecs)\r\n",
      "2018-06-19 13:52:04.254661: I tensorflow/core/platform/cpu_feature_guard.cc:140] Your CPU supports instructions that this TensorFlow binary was not compiled to use: AVX2 FMA\r\n",
      "Downloading data from https://github.com/fchollet/deep-learning-models/releases/download/v0.6/mobilenet_1_0_224_tf.h5\r\n",
      "\r\n",
      "    8192/17225924 [..............................] - ETA: 5s\r\n",
      "  557056/17225924 [..............................] - ETA: 1s\r\n",
      " 1310720/17225924 [=>............................] - ETA: 1s\r\n",
      " 2408448/17225924 [===>..........................] - ETA: 0s\r\n",
      " 2891776/17225924 [====>.........................] - ETA: 1s2018-06-19 13:52:07,588 INFO success: nginx entered RUNNING state, process has stayed up for > than 5 seconds (startsecs)\r\n",
      "\r\n",
      " 3784704/17225924 [=====>........................] - ETA: 0s\r\n",
      " 4874240/17225924 [=======>......................] - ETA: 0s\r\n",
      " 5906432/17225924 [=========>....................] - ETA: 0s\r\n",
      " 6963200/17225924 [===========>..................] - ETA: 0s\r\n",
      " 8011776/17225924 [============>.................] - ETA: 0s\r\n",
      " 9019392/17225924 [==============>...............] - ETA: 0s\r\n",
      "10117120/17225924 [================>.............] - ETA: 0s\r\n",
      "11304960/17225924 [==================>...........] - ETA: 0s\r\n",
      "12484608/17225924 [====================>.........] - ETA: 0s\r\n",
      "13754368/17225924 [======================>.......] - ETA: 0s\r\n",
      "14974976/17225924 [=========================>....] - ETA: 0s\r\n",
      "16211968/17225924 [===========================>..] - ETA: 0s\r\n",
      "17227776/17225924 [==============================] - 1s 0us/step\r\n",
      "{\"logger\": \"model_driver\", \"path\": \"/code/driver.py\", \"tags\": [], \"timestamp\": \"2018-06-19T13:52:09.578938Z\", \"stack_info\": null, \"host\": \"azure-dl-78c46df777-kpg5l\", \"level\": \"INFO\", \"message\": \"Model loading time: 5356.32 ms\"}\r\n",
      "Initialising\r\n",
      "{\"logger\": \"werkzeug\", \"path\": \"/opt/conda/envs/py3.5/lib/python3.5/site-packages/werkzeug/_internal.py\", \"tags\": [], \"timestamp\": \"2018-06-19T13:52:09.584279Z\", \"stack_info\": null, \"host\": \"azure-dl-78c46df777-kpg5l\", \"level\": \"INFO\", \"message\": \" * Running on http://127.0.0.1:5000/ (Press CTRL+C to quit)\", \"msg\": \" * Running on %s://%s:%d/ %s\"}\r\n",
      "2018-06-19 13:52:22,601 INFO success: gunicorn entered RUNNING state, process has stayed up for > than 20 seconds (startsecs)\r\n"
     ]
    }
   ],
   "source": [
    "!kubectl logs {pod_dict['items'][0]['metadata']['name']}"
   ]
  },
  {
   "cell_type": "code",
   "execution_count": 51,
   "metadata": {},
   "outputs": [
    {
     "name": "stdout",
     "output_type": "stream",
     "text": [
      "2018-06-15 17:41:42,344 CRIT Supervisor running as root (no user in config file)\r\n",
      "2018-06-15 17:41:42,347 INFO supervisord started with pid 1\r\n",
      "2018-06-15 17:41:43,349 INFO spawned: 'program_exit' with pid 8\r\n",
      "2018-06-15 17:41:43,350 INFO spawned: 'nginx' with pid 9\r\n",
      "2018-06-15 17:41:43,352 INFO spawned: 'gunicorn' with pid 10\r\n",
      "2018-06-15 17:41:44,384 INFO success: program_exit entered RUNNING state, process has stayed up for > than 1 seconds (startsecs)\r\n",
      "2018-06-15 17:41:44.787261: I tensorflow/core/platform/cpu_feature_guard.cc:140] Your CPU supports instructions that this TensorFlow binary was not compiled to use: AVX2 FMA\r\n",
      "2018-06-15 17:41:44.968350: I tensorflow/core/common_runtime/gpu/gpu_device.cc:1212] Found device 0 with properties: \r\n",
      "name: Tesla K80 major: 3 minor: 7 memoryClockRate(GHz): 0.8235\r\n",
      "pciBusID: b5a8:00:00.0\r\n",
      "totalMemory: 11.17GiB freeMemory: 11.10GiB\r\n",
      "2018-06-15 17:41:44.968393: I tensorflow/core/common_runtime/gpu/gpu_device.cc:1312] Adding visible gpu devices: 0\r\n",
      "2018-06-15 17:41:45.276859: I tensorflow/core/common_runtime/gpu/gpu_device.cc:993] Creating TensorFlow device (/job:localhost/replica:0/task:0/device:GPU:0 with 10765 MB memory) -> physical GPU (device: 0, name: Tesla K80, pci bus id: b5a8:00:00.0, compute capability: 3.7)\r\n",
      "Downloading data from https://github.com/fchollet/deep-learning-models/releases/download/v0.6/mobilenet_1_0_224_tf.h5\r\n",
      "\r\n",
      "    8192/17225924 [..............................] - ETA: 3s\r\n",
      " 1048576/17225924 [>.............................] - ETA: 0s\r\n",
      " 3989504/17225924 [=====>........................] - ETA: 0s\r\n",
      " 8749056/17225924 [==============>...............] - ETA: 0s\r\n",
      "16613376/17225924 [===========================>..] - ETA: 0s\r\n",
      "17227776/17225924 [==============================] - 0s 0us/step\r\n",
      "2018-06-15 17:41:49,153 INFO success: nginx entered RUNNING state, process has stayed up for > than 5 seconds (startsecs)\r\n",
      "{\"host\": \"azure-dl-5bf5b784b8-nm746\", \"logger\": \"model_driver\", \"tags\": [], \"stack_info\": null, \"timestamp\": \"2018-06-15T17:41:49.260046Z\", \"message\": \"Model loading time: 4501.19 ms\", \"path\": \"/code/driver.py\", \"level\": \"INFO\"}\r\n",
      "Initialising\r\n",
      "{\"host\": \"azure-dl-5bf5b784b8-nm746\", \"logger\": \"werkzeug\", \"tags\": [], \"stack_info\": null, \"timestamp\": \"2018-06-15T17:41:49.266092Z\", \"msg\": \" * Running on %s://%s:%d/ %s\", \"message\": \" * Running on http://127.0.0.1:5000/ (Press CTRL+C to quit)\", \"path\": \"/opt/conda/envs/py3.5/lib/python3.5/site-packages/werkzeug/_internal.py\", \"level\": \"INFO\"}\r\n",
      "2018-06-15 17:42:04,279 INFO success: gunicorn entered RUNNING state, process has stayed up for > than 20 seconds (startsecs)\r\n"
     ]
    }
   ],
   "source": [
    "!kubectl logs azure-dl-5bf5b784b8-nm746"
   ]
  },
  {
   "cell_type": "code",
   "execution_count": 45,
   "metadata": {},
   "outputs": [
    {
     "name": "stdout",
     "output_type": "stream",
     "text": [
      "NAME       DESIRED   CURRENT   UP-TO-DATE   AVAILABLE   AGE\r\n",
      "azure-dl   35        35        35           35          46m\r\n"
     ]
    }
   ],
   "source": [
    "!kubectl get deployment"
   ]
  },
  {
   "cell_type": "markdown",
   "metadata": {},
   "source": [
    "It can take a few minutes for the service to populate the EXTERNAL-IP field below. This will be the IP you use to call the service. You can also specify an IP to use, please see the AKS documentation for further details."
   ]
  },
  {
   "cell_type": "code",
   "execution_count": 35,
   "metadata": {},
   "outputs": [
    {
     "name": "stdout",
     "output_type": "stream",
     "text": [
      "NAME       TYPE           CLUSTER-IP    EXTERNAL-IP     PORT(S)        AGE\r\n",
      "azure-dl   LoadBalancer   10.0.215.15   13.68.134.150   80:32673/TCP   6m\r\n"
     ]
    }
   ],
   "source": [
    "!kubectl get service azure-dl"
   ]
  },
  {
   "cell_type": "markdown",
   "metadata": {},
   "source": [
    "# Scaling"
   ]
  },
  {
   "cell_type": "code",
   "execution_count": 29,
   "metadata": {},
   "outputs": [],
   "source": [
    "# !az aks scale --resource-group=$resource_group --name=$aks_name --node-count 2"
   ]
  },
  {
   "cell_type": "code",
   "execution_count": 30,
   "metadata": {},
   "outputs": [
    {
     "name": "stdout",
     "output_type": "stream",
     "text": [
      "NAME                       STATUS    ROLES     AGE       VERSION\r\n",
      "aks-nodepool1-13347348-0   Ready     agent     10d       v1.9.6\r\n",
      "aks-nodepool1-13347348-1   Ready     agent     10d       v1.9.6\r\n",
      "aks-nodepool1-13347348-2   Ready     agent     10d       v1.9.6\r\n",
      "aks-nodepool1-13347348-3   Ready     agent     10d       v1.9.6\r\n",
      "aks-nodepool1-13347348-4   Ready     agent     10d       v1.9.6\r\n"
     ]
    }
   ],
   "source": [
    "!kubectl get nodes"
   ]
  },
  {
   "cell_type": "code",
   "execution_count": 36,
   "metadata": {},
   "outputs": [
    {
     "name": "stdout",
     "output_type": "stream",
     "text": [
      "deployment.extensions \"azure-dl\" scaled\r\n"
     ]
    }
   ],
   "source": [
    "!kubectl scale --current-replicas=2 --replicas=20 deployment/azure-dl"
   ]
  },
  {
   "cell_type": "code",
   "execution_count": 46,
   "metadata": {},
   "outputs": [
    {
     "name": "stdout",
     "output_type": "stream",
     "text": [
      "NAMESPACE     NAME                                    READY     STATUS    RESTARTS   AGE\r\n",
      "default       azure-dl-78c46df777-4gvvk               1/1       Running   0          36m\r\n",
      "default       azure-dl-78c46df777-5ln72               1/1       Running   0          40m\r\n",
      "default       azure-dl-78c46df777-6r5s4               1/1       Running   0          40m\r\n",
      "default       azure-dl-78c46df777-6vcvb               1/1       Running   0          36m\r\n",
      "default       azure-dl-78c46df777-7ng74               1/1       Running   0          40m\r\n",
      "default       azure-dl-78c46df777-884k7               1/1       Running   0          40m\r\n",
      "default       azure-dl-78c46df777-88t4j               1/1       Running   0          40m\r\n",
      "default       azure-dl-78c46df777-chgnb               1/1       Running   0          36m\r\n",
      "default       azure-dl-78c46df777-f4ph6               1/1       Running   0          40m\r\n",
      "default       azure-dl-78c46df777-fg247               1/1       Running   0          40m\r\n",
      "default       azure-dl-78c46df777-ggsr2               1/1       Running   0          36m\r\n",
      "default       azure-dl-78c46df777-gh7rj               1/1       Running   0          36m\r\n",
      "default       azure-dl-78c46df777-knqg2               1/1       Running   0          40m\r\n",
      "default       azure-dl-78c46df777-kpg5l               1/1       Running   0          49m\r\n",
      "default       azure-dl-78c46df777-ldprs               1/1       Running   0          36m\r\n",
      "default       azure-dl-78c46df777-lrz7c               1/1       Running   0          40m\r\n",
      "default       azure-dl-78c46df777-mbfkx               1/1       Running   0          40m\r\n",
      "default       azure-dl-78c46df777-mk7v8               1/1       Running   0          40m\r\n",
      "default       azure-dl-78c46df777-mkfxn               1/1       Running   0          36m\r\n",
      "default       azure-dl-78c46df777-mqm5z               1/1       Running   0          40m\r\n",
      "default       azure-dl-78c46df777-n8n9c               1/1       Running   0          36m\r\n",
      "default       azure-dl-78c46df777-q7frz               1/1       Running   0          36m\r\n",
      "default       azure-dl-78c46df777-q957p               1/1       Running   0          36m\r\n",
      "default       azure-dl-78c46df777-s8hb4               1/1       Running   0          36m\r\n",
      "default       azure-dl-78c46df777-s9hvq               1/1       Running   0          40m\r\n",
      "default       azure-dl-78c46df777-srmq6               1/1       Running   0          36m\r\n",
      "default       azure-dl-78c46df777-t4h8f               1/1       Running   0          36m\r\n",
      "default       azure-dl-78c46df777-td78h               1/1       Running   0          40m\r\n",
      "default       azure-dl-78c46df777-tkxlw               1/1       Running   0          40m\r\n",
      "default       azure-dl-78c46df777-vvx8f               1/1       Running   0          40m\r\n",
      "default       azure-dl-78c46df777-vwt47               1/1       Running   0          49m\r\n",
      "default       azure-dl-78c46df777-wpxgv               1/1       Running   0          40m\r\n",
      "default       azure-dl-78c46df777-x87d2               1/1       Running   0          36m\r\n",
      "default       azure-dl-78c46df777-zdgxl               1/1       Running   0          36m\r\n",
      "default       azure-dl-78c46df777-zwc8b               1/1       Running   0          40m\r\n",
      "kube-system   azureproxy-79c5db744-j5hj4              1/1       Running   3          10d\r\n",
      "kube-system   heapster-55f855b47-bs86x                2/2       Running   0          10d\r\n",
      "kube-system   kube-dns-v20-7c556f89c5-96dfd           3/3       Running   0          10d\r\n",
      "kube-system   kube-dns-v20-7c556f89c5-fm7v2           3/3       Running   0          10d\r\n",
      "kube-system   kube-proxy-225hz                        1/1       Running   0          10d\r\n",
      "kube-system   kube-proxy-g5x5p                        1/1       Running   0          10d\r\n",
      "kube-system   kube-proxy-hw7fk                        1/1       Running   0          10d\r\n",
      "kube-system   kube-proxy-ttnsh                        1/1       Running   0          10d\r\n",
      "kube-system   kube-proxy-tvnpv                        1/1       Running   0          10d\r\n",
      "kube-system   kube-svc-redirect-278jk                 1/1       Running   0          10d\r\n",
      "kube-system   kube-svc-redirect-bhvsk                 1/1       Running   0          10d\r\n",
      "kube-system   kube-svc-redirect-chkj2                 1/1       Running   0          10d\r\n",
      "kube-system   kube-svc-redirect-k7fs6                 1/1       Running   0          10d\r\n",
      "kube-system   kube-svc-redirect-mg5cj                 1/1       Running   0          10d\r\n",
      "kube-system   kubernetes-dashboard-546f987686-rznkm   1/1       Running   2          10d\r\n",
      "kube-system   tunnelfront-5fcfb8fb44-ht5r8            1/1       Running   0          10d\r\n"
     ]
    }
   ],
   "source": [
    "!kubectl get pods --all-namespaces"
   ]
  },
  {
   "cell_type": "code",
   "execution_count": 42,
   "metadata": {},
   "outputs": [
    {
     "name": "stdout",
     "output_type": "stream",
     "text": [
      "deployment.extensions \"azure-dl\" scaled\r\n"
     ]
    }
   ],
   "source": [
    "!kubectl scale --current-replicas=20 --replicas=35 deployment/azure-dl"
   ]
  },
  {
   "cell_type": "code",
   "execution_count": 37,
   "metadata": {},
   "outputs": [],
   "source": [
    "# !az aks scale --resource-group=$resource_group --name=$aks_name --node-count 1"
   ]
  },
  {
   "cell_type": "markdown",
   "metadata": {},
   "source": [
    "# Tear it all down"
   ]
  },
  {
   "cell_type": "markdown",
   "metadata": {},
   "source": [
    "Once you are done with your cluster you can use the following two commands to destroy it all."
   ]
  },
  {
   "cell_type": "code",
   "execution_count": 165,
   "metadata": {},
   "outputs": [
    {
     "name": "stdout",
     "output_type": "stream",
     "text": [
      "deployment.apps \"azure-dl\" deleted\n",
      "service \"azure-dl\" deleted\n"
     ]
    }
   ],
   "source": [
    "!kubectl delete -f az-dl.json"
   ]
  },
  {
   "cell_type": "code",
   "execution_count": 169,
   "metadata": {},
   "outputs": [
    {
     "name": "stdout",
     "output_type": "stream",
     "text": [
      "\u001b[K\u001b[0minished .."
     ]
    }
   ],
   "source": [
    "!az aks delete -n $aks_name -g $resource_group -y"
   ]
  },
  {
   "cell_type": "code",
   "execution_count": 170,
   "metadata": {},
   "outputs": [
    {
     "name": "stdout",
     "output_type": "stream",
     "text": [
      "\u001b[K\u001b[0minished .."
     ]
    }
   ],
   "source": [
    "!az group delete --name $resource_group -y"
   ]
  }
 ],
 "metadata": {
  "kernelspec": {
   "display_name": "Python [conda env:aksenv]",
   "language": "python",
   "name": "conda-env-aksenv-py"
  },
  "language_info": {
   "codemirror_mode": {
    "name": "ipython",
    "version": 3
   },
   "file_extension": ".py",
   "mimetype": "text/x-python",
   "name": "python",
   "nbconvert_exporter": "python",
   "pygments_lexer": "ipython3",
   "version": "3.5.5"
  }
 },
 "nbformat": 4,
 "nbformat_minor": 2
}
