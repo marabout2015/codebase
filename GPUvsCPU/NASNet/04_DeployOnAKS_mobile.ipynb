{
 "cells": [
  {
   "cell_type": "markdown",
   "metadata": {},
   "source": [
    "# Deploy Web App on Azure Container Services (AKS)\n"
   ]
  },
  {
   "cell_type": "markdown",
   "metadata": {},
   "source": [
    "In this notebook, we will set up an Azure Container Service which will be managed by Kubernetes. We will then take the Docker image we created earlier that contains our app and deploy it to the AKS cluster. Then, we will check everything is working by sending an image to it and getting it scored. \n",
    "\n",
    "The process is split into the following steps:\n",
    "- Define our resource names\n",
    "- Login to Azure\n",
    "- Create resource group and create AKS\n",
    "- Connect to AKS\n",
    "- Deploy our app\n",
    "- Tear it all down\n",
    "\n",
    "We assume that this notebook is running on Linux and Azure CLI is installed before proceeding."
   ]
  },
  {
   "cell_type": "markdown",
   "metadata": {},
   "source": [
    "## Setup"
   ]
  },
  {
   "cell_type": "markdown",
   "metadata": {},
   "source": [
    "Below are the various name definitions for the resources needed to setup AKS as well as the name of the Docker image we will be using."
   ]
  },
  {
   "cell_type": "code",
   "execution_count": 1,
   "metadata": {
    "collapsed": true
   },
   "outputs": [],
   "source": [
    "# Please modify the below as you see fit\n",
    "resource_group = \"<RESOURCE_GROUP>\" \n",
    "aks_name = \"<AKS_CLUSTER_NAME>\"\n",
    "location = \"eastus\"\n",
    "\n",
    "image_name = '<YOUR_DOCKER_IMAGE>' # 'fboylu/kerastf-gpu' Feel free to use this image if you want to \n",
    "                                   # skip creating your own container\n",
    "selected_subscription = \"'<YOUR_SUBSCRIPTION>'\" # If you have multiple subscriptions select \n",
    "                                                # the subscription you want to use here"
   ]
  },
  {
   "cell_type": "code",
   "execution_count": 6,
   "metadata": {},
   "outputs": [],
   "source": [
    "resource_group = \"fbaksnasmrg\" # Feel free to modify these\n",
    "aks_name = \"fbAKSnasmCluster\"\n",
    "location = \"eastus\"\n",
    "\n",
    "image_name = \"fboylu/kerasnasm-gpu\" \n",
    "selected_subscription = \"'Team Danielle Internal'\""
   ]
  },
  {
   "cell_type": "markdown",
   "metadata": {},
   "source": [
    "## Azure account login"
   ]
  },
  {
   "cell_type": "markdown",
   "metadata": {},
   "source": [
    "The command below will initiate a login to your Azure account. It will pop up with an url to go to where you will enter a one off code and log into your Azure account using your browser."
   ]
  },
  {
   "cell_type": "code",
   "execution_count": 3,
   "metadata": {},
   "outputs": [
    {
     "name": "stdout",
     "output_type": "stream",
     "text": [
      "\u001b[33mTo sign in, use a web browser to open the page https://microsoft.com/devicelogin and enter the code FQ9PHU9ND to authenticate.\u001b[0m\n",
      "CloudName    IsDefault    Name                           State    TenantId\n",
      "-----------  -----------  -----------------------------  -------  ------------------------------------\n",
      "AzureCloud   False        Boston DS Dev                  Enabled  72f988bf-86f1-41af-91ab-2d7cd011db47\n",
      "AzureCloud   False        Internal Consumption           Enabled  72f988bf-86f1-41af-91ab-2d7cd011db47\n",
      "AzureCloud   True         Team Danielle Internal         Enabled  72f988bf-86f1-41af-91ab-2d7cd011db47\n",
      "AzureCloud   False        Boston Engineering             Enabled  72f988bf-86f1-41af-91ab-2d7cd011db47\n",
      "AzureCloud   False        ADLTrainingMS                  Enabled  72f988bf-86f1-41af-91ab-2d7cd011db47\n",
      "AzureCloud   False        Ads Eng Big Data Subscription  Enabled  72f988bf-86f1-41af-91ab-2d7cd011db47\n",
      "AzureCloud   False        Data Wrangling Preview         Enabled  72f988bf-86f1-41af-91ab-2d7cd011db47\n",
      "AzureCloud   False        R portal - Production          Enabled  72f988bf-86f1-41af-91ab-2d7cd011db47\n",
      "AzureCloud   False        Project Vienna Demo 1          Enabled  72f988bf-86f1-41af-91ab-2d7cd011db47\n",
      "AzureCloud   False        Solution Template Testing      Enabled  72f988bf-86f1-41af-91ab-2d7cd011db47\n",
      "AzureCloud   False        Team Ilan                      Enabled  72f988bf-86f1-41af-91ab-2d7cd011db47\n"
     ]
    }
   ],
   "source": [
    "!az login -o table"
   ]
  },
  {
   "cell_type": "code",
   "execution_count": 7,
   "metadata": {
    "collapsed": true
   },
   "outputs": [],
   "source": [
    "!az account set --subscription $selected_subscription"
   ]
  },
  {
   "cell_type": "code",
   "execution_count": 5,
   "metadata": {},
   "outputs": [
    {
     "name": "stdout",
     "output_type": "stream",
     "text": [
      "{\r\n",
      "  \"environmentName\": \"AzureCloud\",\r\n",
      "  \"id\": \"edf507a2-6235-46c5-b560-fd463ba2e771\",\r\n",
      "  \"isDefault\": true,\r\n",
      "  \"name\": \"Team Danielle Internal\",\r\n",
      "  \"state\": \"Enabled\",\r\n",
      "  \"tenantId\": \"72f988bf-86f1-41af-91ab-2d7cd011db47\",\r\n",
      "  \"user\": {\r\n",
      "    \"name\": \"fboylu@microsoft.com\",\r\n",
      "    \"type\": \"user\"\r\n",
      "  }\r\n",
      "}\r\n"
     ]
    }
   ],
   "source": [
    "!az account show"
   ]
  },
  {
   "cell_type": "markdown",
   "metadata": {},
   "source": [
    "You will also need to register the container service resources on your subscription if you haven't already done so."
   ]
  },
  {
   "cell_type": "code",
   "execution_count": 9,
   "metadata": {
    "collapsed": true
   },
   "outputs": [],
   "source": [
    "!az provider register -n Microsoft.ContainerService"
   ]
  },
  {
   "cell_type": "code",
   "execution_count": 5,
   "metadata": {},
   "outputs": [
    {
     "name": "stdout",
     "output_type": "stream",
     "text": [
      "{\r\n",
      "  \"additionalProperties\": {\r\n",
      "    \"authorization\": {\r\n",
      "      \"applicationId\": \"7319c514-987d-4e9b-ac3d-d38c4f427f4c\",\r\n",
      "      \"managedByRoleDefinitionId\": \"8e3af657-a8ff-443c-a75c-2fe8c4bcb635\",\r\n",
      "      \"roleDefinitionId\": \"1b4a0c7f-2217-416f-acfa-cf73452fdc1c\"\r\n",
      "    }\r\n",
      "  },\r\n",
      "  \"id\": \"/subscriptions/edf507a2-6235-46c5-b560-fd463ba2e771/providers/Microsoft.ContainerService\",\r\n",
      "  \"namespace\": \"Microsoft.ContainerService\",\r\n",
      "  \"registrationState\": \"Registered\",\r\n",
      "  \"resourceTypes\": [\r\n",
      "    {\r\n",
      "      \"additionalProperties\": {\r\n",
      "        \"capabilities\": \"None\"\r\n",
      "      },\r\n",
      "      \"aliases\": null,\r\n",
      "      \"apiVersions\": [\r\n",
      "        \"2017-07-01\",\r\n",
      "        \"2017-01-31\",\r\n",
      "        \"2016-09-30\",\r\n",
      "        \"2016-03-30\"\r\n",
      "      ],\r\n",
      "      \"locations\": [\r\n",
      "        \"Japan East\",\r\n",
      "        \"Central US\",\r\n",
      "        \"East US 2\",\r\n",
      "        \"Japan West\",\r\n",
      "        \"East Asia\",\r\n",
      "        \"South Central US\",\r\n",
      "        \"Australia East\",\r\n",
      "        \"Australia Southeast\",\r\n",
      "        \"Brazil South\",\r\n",
      "        \"Southeast Asia\",\r\n",
      "        \"West US\",\r\n",
      "        \"North Central US\",\r\n",
      "        \"West Europe\",\r\n",
      "        \"North Europe\",\r\n",
      "        \"East US\",\r\n",
      "        \"UK West\",\r\n",
      "        \"UK South\",\r\n",
      "        \"West Central US\",\r\n",
      "        \"West US 2\",\r\n",
      "        \"South India\",\r\n",
      "        \"Central India\",\r\n",
      "        \"West India\",\r\n",
      "        \"Canada East\",\r\n",
      "        \"Canada Central\",\r\n",
      "        \"Korea South\",\r\n",
      "        \"Korea Central\"\r\n",
      "      ],\r\n",
      "      \"properties\": null,\r\n",
      "      \"resourceType\": \"containerServices\"\r\n",
      "    },\r\n",
      "    {\r\n",
      "      \"additionalProperties\": {\r\n",
      "        \"capabilities\": \"None\"\r\n",
      "      },\r\n",
      "      \"aliases\": null,\r\n",
      "      \"apiVersions\": [\r\n",
      "        \"2018-03-31\",\r\n",
      "        \"2017-08-31\"\r\n",
      "      ],\r\n",
      "      \"locations\": [\r\n",
      "        \"East US\",\r\n",
      "        \"West Europe\",\r\n",
      "        \"Central US\",\r\n",
      "        \"Canada Central\",\r\n",
      "        \"Canada East\"\r\n",
      "      ],\r\n",
      "      \"properties\": null,\r\n",
      "      \"resourceType\": \"managedClusters\"\r\n",
      "    },\r\n",
      "    {\r\n",
      "      \"aliases\": null,\r\n",
      "      \"apiVersions\": [\r\n",
      "        \"2017-08-31\",\r\n",
      "        \"2017-01-31\",\r\n",
      "        \"2016-09-30\",\r\n",
      "        \"2016-03-30\",\r\n",
      "        \"2015-11-01-preview\"\r\n",
      "      ],\r\n",
      "      \"locations\": [],\r\n",
      "      \"properties\": null,\r\n",
      "      \"resourceType\": \"locations\"\r\n",
      "    },\r\n",
      "    {\r\n",
      "      \"aliases\": null,\r\n",
      "      \"apiVersions\": [\r\n",
      "        \"2017-08-31\",\r\n",
      "        \"2016-03-30\"\r\n",
      "      ],\r\n",
      "      \"locations\": [\r\n",
      "        \"East US\",\r\n",
      "        \"West Europe\",\r\n",
      "        \"Central US\",\r\n",
      "        \"UK West\",\r\n",
      "        \"UK South\",\r\n",
      "        \"West Central US\",\r\n",
      "        \"West US 2\",\r\n",
      "        \"South India\",\r\n",
      "        \"Central India\",\r\n",
      "        \"West India\",\r\n",
      "        \"Canada East\",\r\n",
      "        \"Canada Central\",\r\n",
      "        \"Korea South\",\r\n",
      "        \"Korea Central\"\r\n",
      "      ],\r\n",
      "      \"properties\": null,\r\n",
      "      \"resourceType\": \"locations/operationresults\"\r\n",
      "    },\r\n",
      "    {\r\n",
      "      \"aliases\": null,\r\n",
      "      \"apiVersions\": [\r\n",
      "        \"2017-07-01\",\r\n",
      "        \"2017-01-31\",\r\n",
      "        \"2016-09-30\",\r\n",
      "        \"2016-03-30\"\r\n",
      "      ],\r\n",
      "      \"locations\": [\r\n",
      "        \"Japan East\",\r\n",
      "        \"Central US\",\r\n",
      "        \"East US 2\",\r\n",
      "        \"Japan West\",\r\n",
      "        \"East Asia\",\r\n",
      "        \"South Central US\",\r\n",
      "        \"Australia East\",\r\n",
      "        \"Australia Southeast\",\r\n",
      "        \"Brazil South\",\r\n",
      "        \"Southeast Asia\",\r\n",
      "        \"West US\",\r\n",
      "        \"North Central US\",\r\n",
      "        \"West Europe\",\r\n",
      "        \"North Europe\",\r\n",
      "        \"East US\",\r\n",
      "        \"UK West\",\r\n",
      "        \"UK South\",\r\n",
      "        \"West Central US\",\r\n",
      "        \"West US 2\",\r\n",
      "        \"South India\",\r\n",
      "        \"Central India\",\r\n",
      "        \"West India\",\r\n",
      "        \"Canada East\",\r\n",
      "        \"Canada Central\",\r\n",
      "        \"Korea South\",\r\n",
      "        \"Korea Central\"\r\n",
      "      ],\r\n",
      "      \"properties\": null,\r\n",
      "      \"resourceType\": \"locations/operations\"\r\n",
      "    },\r\n",
      "    {\r\n",
      "      \"aliases\": null,\r\n",
      "      \"apiVersions\": [\r\n",
      "        \"2017-07-01\",\r\n",
      "        \"2017-01-31\",\r\n",
      "        \"2016-09-30\",\r\n",
      "        \"2016-03-30\",\r\n",
      "        \"2015-11-01-preview\"\r\n",
      "      ],\r\n",
      "      \"locations\": [],\r\n",
      "      \"properties\": null,\r\n",
      "      \"resourceType\": \"operations\"\r\n",
      "    },\r\n",
      "    {\r\n",
      "      \"aliases\": null,\r\n",
      "      \"apiVersions\": [\r\n",
      "        \"2017-09-30\"\r\n",
      "      ],\r\n",
      "      \"locations\": [\r\n",
      "        \"UK West\",\r\n",
      "        \"West US 2\",\r\n",
      "        \"East US\",\r\n",
      "        \"West Europe\",\r\n",
      "        \"Central US\",\r\n",
      "        \"Canada East\",\r\n",
      "        \"Canada Central\"\r\n",
      "      ],\r\n",
      "      \"properties\": null,\r\n",
      "      \"resourceType\": \"locations/orchestrators\"\r\n",
      "    }\r\n",
      "  ]\r\n",
      "}\r\n"
     ]
    }
   ],
   "source": [
    "!az provider show -n Microsoft.ContainerService"
   ]
  },
  {
   "cell_type": "markdown",
   "metadata": {},
   "source": [
    "## Create resources and dependencies"
   ]
  },
  {
   "cell_type": "markdown",
   "metadata": {},
   "source": [
    "### Create resource group and AKS cluster"
   ]
  },
  {
   "cell_type": "markdown",
   "metadata": {},
   "source": [
    "Azure encourages the use of groups to organize all the Azure components you deploy. That way it is easier to find them but also we can delete a number of resources simply by deleting the group."
   ]
  },
  {
   "cell_type": "code",
   "execution_count": 6,
   "metadata": {},
   "outputs": [
    {
     "name": "stdout",
     "output_type": "stream",
     "text": [
      "{\r\n",
      "  \"id\": \"/subscriptions/edf507a2-6235-46c5-b560-fd463ba2e771/resourceGroups/fbaksnasmrg\",\r\n",
      "  \"location\": \"eastus\",\r\n",
      "  \"managedBy\": null,\r\n",
      "  \"name\": \"fbaksnasmrg\",\r\n",
      "  \"properties\": {\r\n",
      "    \"provisioningState\": \"Succeeded\"\r\n",
      "  },\r\n",
      "  \"tags\": null\r\n",
      "}\r\n"
     ]
    }
   ],
   "source": [
    "!az group create --name $resource_group --location $location"
   ]
  },
  {
   "cell_type": "markdown",
   "metadata": {},
   "source": [
    "Below, we create the AKS cluster in the resource group we created earlier."
   ]
  },
  {
   "cell_type": "code",
   "execution_count": 7,
   "metadata": {},
   "outputs": [
    {
     "name": "stdout",
     "output_type": "stream",
     "text": [
      "\u001b[33mSSH key files '/home/fboylu/.ssh/id_rsa' and '/home/fboylu/.ssh/id_rsa.pub' have been generated under ~/.ssh to allow SSH access to the VM. If using machines without permanent storage like Azure Cloud Shell without an attached file share, back up your keys to a safe location\u001b[0m\n",
      "\u001b[K{| Finished ..ion done[############################################]  100.0000%\n",
      "  \"id\": \"/subscriptions/edf507a2-6235-46c5-b560-fd463ba2e771/resourcegroups/fbaksnasmrg/providers/Microsoft.ContainerService/managedClusters/fbAKSnasmCluster\",\n",
      "  \"location\": \"eastus\",\n",
      "  \"name\": \"fbAKSnasmCluster\",\n",
      "  \"properties\": {\n",
      "    \"accessProfiles\": null,\n",
      "    \"agentPoolProfiles\": [\n",
      "      {\n",
      "        \"count\": 1,\n",
      "        \"dnsPrefix\": null,\n",
      "        \"fqdn\": null,\n",
      "        \"name\": \"nodepool1\",\n",
      "        \"osDiskSizeGb\": null,\n",
      "        \"osType\": \"Linux\",\n",
      "        \"ports\": null,\n",
      "        \"storageProfile\": \"ManagedDisks\",\n",
      "        \"vmSize\": \"Standard_NC6\",\n",
      "        \"vnetSubnetId\": null\n",
      "      }\n",
      "    ],\n",
      "    \"dnsPrefix\": \"fbAKSnasmC-fbaksnasmrg-edf507\",\n",
      "    \"fqdn\": \"fbaksnasmc-fbaksnasmrg-edf507-71d3348d.hcp.eastus.azmk8s.io\",\n",
      "    \"kubernetesVersion\": \"1.7.7\",\n",
      "    \"linuxProfile\": {\n",
      "      \"adminUsername\": \"azureuser\",\n",
      "      \"ssh\": {\n",
      "        \"publicKeys\": [\n",
      "          {\n",
      "            \"keyData\": \"ssh-rsa AAAAB3NzaC1yc2EAAAADAQABAAABAQDTZYQFHNstYCR25qtvMrC6baTMS6TobaIRbgd0xOoafDy+2uBk0DMJuhGWoOcrsCnvadp5k/0K8qBRysyhlQGWb6+r8fBunThy+zpTKqdh3W8Q1y5UtKnGwwU1cqGXDOPUIXJYNPJqUKV829+MOrZjUynhHgSzDbY2ncGyoT+Farsvm01aGEdDapa+XRl4JAwtN1bb9q+Ii5y+MkpIOhLRMwATl05eNfAHmYQWtaIJZZJOHMNPswlBmLs293Wsj11vYh6/yo9S4ToEsc9Pbl5Zn6OFIu7jfzN2bM8cA3+8pru9WSthrxjJvPn8i4uTYozOdNIi09ArQ4lRT9t6rsMz\"\n",
      "          }\n",
      "        ]\n",
      "      }\n",
      "    },\n",
      "    \"provisioningState\": \"Succeeded\",\n",
      "    \"servicePrincipalProfile\": {\n",
      "      \"clientId\": \"b4fb9e67-db42-4056-9cfa-8d9e572148eb\",\n",
      "      \"keyVaultSecretRef\": null,\n",
      "      \"secret\": null\n",
      "    }\n",
      "  },\n",
      "  \"resourceGroup\": \"fbaksnasmrg\",\n",
      "  \"tags\": null,\n",
      "  \"type\": \"Microsoft.ContainerService/ManagedClusters\"\n",
      "}\n",
      "CPU times: user 14.6 s, sys: 5.57 s, total: 20.1 s\n",
      "Wall time: 14min 52s\n"
     ]
    }
   ],
   "source": [
    "%%time\n",
    "!az aks create --resource-group $resource_group --name $aks_name --node-count 1 --generate-ssh-keys -s Standard_NC6"
   ]
  },
  {
   "cell_type": "code",
   "execution_count": 7,
   "metadata": {},
   "outputs": [
    {
     "name": "stdout",
     "output_type": "stream",
     "text": [
      "Name              Location    ResourceGroup    KubernetesVersion    ProvisioningState    Fqdn\r\n",
      "----------------  ----------  ---------------  -------------------  -------------------  -----------------------------------------------------------\r\n",
      "dangdevopsclstr   eastus      dangdevops       1.9.6                Succeeded            devops-3b040ce9.hcp.eastus.azmk8s.io\r\n",
      "ddaks             eastus      ddaksdeploy      1.8.11               Failed               ddaks-ddaksdeploy-edf507-eefe283f.hcp.eastus.azmk8s.io\r\n",
      "fbAKSClustercpu   eastus      fbakscpurg       1.8.10               Succeeded            fbaksclust-fbakscpurg-edf507-17685694.hcp.eastus.azmk8s.io\r\n",
      "fbAKSnasmCluster  eastus      fbaksnasmrg      1.7.7                Succeeded            fbaksnasmc-fbaksnasmrg-edf507-71d3348d.hcp.eastus.azmk8s.io\r\n",
      "msaksgpu          eastus      msaksrg          1.7.7                Succeeded            msaksgpu-msaksrg-edf507-08d4dbae.hcp.eastus.azmk8s.io\r\n"
     ]
    }
   ],
   "source": [
    "!az aks list -o table"
   ]
  },
  {
   "cell_type": "markdown",
   "metadata": {},
   "source": [
    "### Install kubectl CLI"
   ]
  },
  {
   "cell_type": "markdown",
   "metadata": {},
   "source": [
    "To connect to the Kubernetes cluster, we will use kubectl, the Kubernetes command-line client. To install, run the following:"
   ]
  },
  {
   "cell_type": "code",
   "execution_count": 8,
   "metadata": {},
   "outputs": [
    {
     "name": "stdout",
     "output_type": "stream",
     "text": [
      "\u001b[33mDownloading client to /usr/local/bin/kubectl from https://storage.googleapis.com/kubernetes-release/release/v1.10.3/bin/linux/amd64/kubectl\u001b[0m\n",
      "\u001b[33mPlease ensure that /usr/local/bin is in your search PATH, so the `kubectl` command can be found.\u001b[0m\n"
     ]
    }
   ],
   "source": [
    "!sudo -i az aks install-cli"
   ]
  },
  {
   "cell_type": "markdown",
   "metadata": {},
   "source": [
    "## Connect to AKS cluster"
   ]
  },
  {
   "cell_type": "markdown",
   "metadata": {},
   "source": [
    "To configure kubectl to connect to the Kubernetes cluster, run the following command:"
   ]
  },
  {
   "cell_type": "code",
   "execution_count": 9,
   "metadata": {},
   "outputs": [
    {
     "name": "stdout",
     "output_type": "stream",
     "text": [
      "Merged \"fbAKSnasmCluster\" as current context in /home/fboylu/.kube/config\r\n"
     ]
    }
   ],
   "source": [
    "!az aks get-credentials --resource-group $resource_group --name $aks_name"
   ]
  },
  {
   "cell_type": "markdown",
   "metadata": {},
   "source": [
    "Let's verify connection by listing the nodes."
   ]
  },
  {
   "cell_type": "code",
   "execution_count": 11,
   "metadata": {},
   "outputs": [
    {
     "name": "stdout",
     "output_type": "stream",
     "text": [
      "NAME                       STATUS    ROLES     AGE       VERSION\r\n",
      "aks-nodepool1-28892049-0   Ready     agent     19h       v1.7.7\r\n"
     ]
    }
   ],
   "source": [
    "!kubectl get nodes"
   ]
  },
  {
   "cell_type": "markdown",
   "metadata": {},
   "source": [
    "Let's check the pods on our cluster."
   ]
  },
  {
   "cell_type": "code",
   "execution_count": 12,
   "metadata": {},
   "outputs": [
    {
     "name": "stdout",
     "output_type": "stream",
     "text": [
      "NAMESPACE     NAME                                    READY     STATUS    RESTARTS   AGE\r\n",
      "kube-system   azureproxy-3924340074-lkbvx             1/1       Running   2          19h\r\n",
      "kube-system   heapster-186967039-g1kkt                2/2       Running   0          19h\r\n",
      "kube-system   kube-dns-v20-2253765213-0wggg           3/3       Running   0          19h\r\n",
      "kube-system   kube-dns-v20-2253765213-rxtcx           3/3       Running   0          19h\r\n",
      "kube-system   kube-proxy-m5kbj                        1/1       Running   0          19h\r\n",
      "kube-system   kube-svc-redirect-rmgrk                 1/1       Running   0          19h\r\n",
      "kube-system   kubernetes-dashboard-2898242510-j9ld5   1/1       Running   1          19h\r\n",
      "kube-system   tunnelfront-2927545824-mxc2k            1/1       Running   0          19h\r\n"
     ]
    }
   ],
   "source": [
    "!kubectl get pods --all-namespaces"
   ]
  },
  {
   "cell_type": "markdown",
   "metadata": {},
   "source": [
    "## Deploy application"
   ]
  },
  {
   "cell_type": "markdown",
   "metadata": {},
   "source": [
    "Below we define our Kubernetes manifest file for our service and load balancer. Note that we have to specify the volume mounts to the drivers that are located on the node."
   ]
  },
  {
   "cell_type": "code",
   "execution_count": 14,
   "metadata": {},
   "outputs": [],
   "source": [
    "app_template = {\n",
    "  \"apiVersion\": \"apps/v1beta1\",\n",
    "  \"kind\": \"Deployment\",\n",
    "  \"metadata\": {\n",
    "      \"name\": \"azure-dl\"\n",
    "  },\n",
    "  \"spec\":{\n",
    "      \"replicas\":1,\n",
    "      \"template\":{\n",
    "          \"metadata\":{\n",
    "              \"labels\":{\n",
    "                  \"app\":\"azure-dl\"\n",
    "              }\n",
    "          },\n",
    "          \"spec\":{\n",
    "              \"containers\":[\n",
    "                  {\n",
    "                      \"name\": \"azure-dl\",\n",
    "                      \"image\": \"fboylu/kerasnasm-gpu\",\n",
    "                      \"env\":[\n",
    "                          {\n",
    "                              \"name\": \"LD_LIBRARY_PATH\",\n",
    "                              \"value\": \"$LD_LIBRARY_PATH:/usr/local/nvidia/lib64:/opt/conda/envs/py3.5/lib\"\n",
    "                          }\n",
    "                      ],\n",
    "                      \"ports\":[\n",
    "                          {\n",
    "                              \"containerPort\":80,\n",
    "                              \"name\":\"model\"\n",
    "                          }\n",
    "                      ],\n",
    "                      \"volumeMounts\":[\n",
    "                          {\n",
    "                              \"mountPath\":\"/usr/local/nvidia\",\n",
    "                              \"name\": \"nvidia\",\n",
    "                          }\n",
    "                      ],\n",
    "                      \"resources\":{\n",
    "                           \"requests\":{\n",
    "                               \"alpha.kubernetes.io/nvidia-gpu\": 1\n",
    "                           },\n",
    "                           \"limits\":{\n",
    "                               \"alpha.kubernetes.io/nvidia-gpu\": 1\n",
    "                           }\n",
    "                       }  \n",
    "                  }\n",
    "              ],\n",
    "              \"volumes\":[\n",
    "                  {\n",
    "                      \"name\": \"nvidia\",\n",
    "                      \"hostPath\":{\n",
    "                          \"path\":\"/usr/local/nvidia\"\n",
    "                      },\n",
    "                  },\n",
    "              ]\n",
    "          }\n",
    "      }\n",
    "  }\n",
    "}\n",
    "\n",
    "service_temp = {\n",
    "  \"apiVersion\": \"v1\",\n",
    "  \"kind\": \"Service\",\n",
    "  \"metadata\": {\n",
    "      \"name\": \"azure-dl\"\n",
    "  },\n",
    "  \"spec\":{\n",
    "      \"type\": \"LoadBalancer\",\n",
    "      \"ports\":[\n",
    "          {\n",
    "              \"port\":80\n",
    "          }\n",
    "      ],\n",
    "      \"selector\":{\n",
    "            \"app\":\"azure-dl\"\n",
    "      }\n",
    "   }\n",
    "}"
   ]
  },
  {
   "cell_type": "code",
   "execution_count": 15,
   "metadata": {},
   "outputs": [],
   "source": [
    "import json\n",
    "def write_json_to_file(json_dict, filename, mode='w'):\n",
    "    with open(filename, mode) as outfile:\n",
    "        json.dump(json_dict, outfile, indent=4, sort_keys=True)\n",
    "        outfile.write('\\n\\n')"
   ]
  },
  {
   "cell_type": "code",
   "execution_count": 16,
   "metadata": {},
   "outputs": [],
   "source": [
    "write_json_to_file(app_template, 'az-dl.json')"
   ]
  },
  {
   "cell_type": "code",
   "execution_count": 17,
   "metadata": {},
   "outputs": [],
   "source": [
    "write_json_to_file(service_temp, 'az-dl.json', mode='a')"
   ]
  },
  {
   "cell_type": "markdown",
   "metadata": {},
   "source": [
    "Let's check the manifest created."
   ]
  },
  {
   "cell_type": "code",
   "execution_count": 18,
   "metadata": {},
   "outputs": [
    {
     "name": "stdout",
     "output_type": "stream",
     "text": [
      "{\r\n",
      "    \"apiVersion\": \"apps/v1beta1\",\r\n",
      "    \"kind\": \"Deployment\",\r\n",
      "    \"metadata\": {\r\n",
      "        \"name\": \"azure-dl\"\r\n",
      "    },\r\n",
      "    \"spec\": {\r\n",
      "        \"replicas\": 1,\r\n",
      "        \"template\": {\r\n",
      "            \"metadata\": {\r\n",
      "                \"labels\": {\r\n",
      "                    \"app\": \"azure-dl\"\r\n",
      "                }\r\n",
      "            },\r\n",
      "            \"spec\": {\r\n",
      "                \"containers\": [\r\n",
      "                    {\r\n",
      "                        \"env\": [\r\n",
      "                            {\r\n",
      "                                \"name\": \"LD_LIBRARY_PATH\",\r\n",
      "                                \"value\": \"$LD_LIBRARY_PATH:/usr/local/nvidia/lib64:/opt/conda/envs/py3.5/lib\"\r\n",
      "                            }\r\n",
      "                        ],\r\n",
      "                        \"image\": \"fboylu/kerasnasm-gpu\",\r\n",
      "                        \"name\": \"azure-dl\",\r\n",
      "                        \"ports\": [\r\n",
      "                            {\r\n",
      "                                \"containerPort\": 80,\r\n",
      "                                \"name\": \"model\"\r\n",
      "                            }\r\n",
      "                        ],\r\n",
      "                        \"resources\": {\r\n",
      "                            \"limits\": {\r\n",
      "                                \"alpha.kubernetes.io/nvidia-gpu\": 1\r\n",
      "                            },\r\n",
      "                            \"requests\": {\r\n",
      "                                \"alpha.kubernetes.io/nvidia-gpu\": 1\r\n",
      "                            }\r\n",
      "                        },\r\n",
      "                        \"volumeMounts\": [\r\n",
      "                            {\r\n",
      "                                \"mountPath\": \"/usr/local/nvidia\",\r\n",
      "                                \"name\": \"nvidia\"\r\n",
      "                            }\r\n",
      "                        ]\r\n",
      "                    }\r\n",
      "                ],\r\n",
      "                \"volumes\": [\r\n",
      "                    {\r\n",
      "                        \"hostPath\": {\r\n",
      "                            \"path\": \"/usr/local/nvidia\"\r\n",
      "                        },\r\n",
      "                        \"name\": \"nvidia\"\r\n",
      "                    }\r\n",
      "                ]\r\n",
      "            }\r\n",
      "        }\r\n",
      "    }\r\n",
      "}\r\n",
      "\r\n",
      "{\r\n",
      "    \"apiVersion\": \"v1\",\r\n",
      "    \"kind\": \"Service\",\r\n",
      "    \"metadata\": {\r\n",
      "        \"name\": \"azure-dl\"\r\n",
      "    },\r\n",
      "    \"spec\": {\r\n",
      "        \"ports\": [\r\n",
      "            {\r\n",
      "                \"port\": 80\r\n",
      "            }\r\n",
      "        ],\r\n",
      "        \"selector\": {\r\n",
      "            \"app\": \"azure-dl\"\r\n",
      "        },\r\n",
      "        \"type\": \"LoadBalancer\"\r\n",
      "    }\r\n",
      "}\r\n",
      "\r\n"
     ]
    }
   ],
   "source": [
    "!cat az-dl.json"
   ]
  },
  {
   "cell_type": "markdown",
   "metadata": {},
   "source": [
    "Next, we will use kubectl create command to deploy our application."
   ]
  },
  {
   "cell_type": "code",
   "execution_count": 19,
   "metadata": {},
   "outputs": [
    {
     "name": "stdout",
     "output_type": "stream",
     "text": [
      "deployment.apps \"azure-dl\" created\n",
      "service \"azure-dl\" created\n"
     ]
    }
   ],
   "source": [
    "!kubectl create -f az-dl.json"
   ]
  },
  {
   "cell_type": "markdown",
   "metadata": {},
   "source": [
    "Let's check if the pod is deployed."
   ]
  },
  {
   "cell_type": "code",
   "execution_count": 32,
   "metadata": {},
   "outputs": [
    {
     "name": "stdout",
     "output_type": "stream",
     "text": [
      "NAMESPACE     NAME                                    READY     STATUS    RESTARTS   AGE\r\n",
      "default       azure-dl-2179268582-s9h4r               1/1       Running   0          14m\r\n",
      "kube-system   azureproxy-3924340074-lkbvx             1/1       Running   2          19h\r\n",
      "kube-system   heapster-186967039-g1kkt                2/2       Running   0          19h\r\n",
      "kube-system   kube-dns-v20-2253765213-0wggg           3/3       Running   0          19h\r\n",
      "kube-system   kube-dns-v20-2253765213-rxtcx           3/3       Running   0          19h\r\n",
      "kube-system   kube-proxy-m5kbj                        1/1       Running   0          19h\r\n",
      "kube-system   kube-svc-redirect-rmgrk                 1/1       Running   0          19h\r\n",
      "kube-system   kubernetes-dashboard-2898242510-j9ld5   1/1       Running   1          19h\r\n",
      "kube-system   tunnelfront-2927545824-mxc2k            1/1       Running   0          19h\r\n"
     ]
    }
   ],
   "source": [
    "!kubectl get pods --all-namespaces"
   ]
  },
  {
   "cell_type": "markdown",
   "metadata": {},
   "source": [
    "If anything goes wrong you can use the commands below to observe the events on the node as well as review the logs."
   ]
  },
  {
   "cell_type": "code",
   "execution_count": 31,
   "metadata": {},
   "outputs": [
    {
     "name": "stdout",
     "output_type": "stream",
     "text": [
      "LAST SEEN   FIRST SEEN   COUNT     NAME                                         KIND         SUBOBJECT                   TYPE      REASON                  SOURCE                              MESSAGE\r\n",
      "14m         14m          1         azure-dl-2179268582-s9h4r.1535465c14e7d88a   Pod                                      Normal    Scheduled               default-scheduler                   Successfully assigned azure-dl-2179268582-s9h4r to aks-nodepool1-28892049-0\r\n",
      "14m         14m          1         azure-dl-2179268582-s9h4r.1535465c2437bba5   Pod                                      Normal    SuccessfulMountVolume   kubelet, aks-nodepool1-28892049-0   MountVolume.SetUp succeeded for volume \"nvidia\" \r\n",
      "14m         14m          1         azure-dl-2179268582-s9h4r.1535465c27ea1f1f   Pod                                      Normal    SuccessfulMountVolume   kubelet, aks-nodepool1-28892049-0   MountVolume.SetUp succeeded for volume \"default-token-bcc2n\" \r\n",
      "7m          14m          4         azure-dl-2179268582-s9h4r.1535465c6db961fb   Pod          spec.containers{azure-dl}   Normal    Pulling                 kubelet, aks-nodepool1-28892049-0   pulling image \"fboylu/kerasnasm-gpu\"\r\n",
      "8m          12m          3         azure-dl-2179268582-s9h4r.15354676837cf697   Pod          spec.containers{azure-dl}   Warning   Failed                  kubelet, aks-nodepool1-28892049-0   Failed to pull image \"fboylu/kerasnasm-gpu\": rpc error: code = 2 desc = net/http: request canceled\r\n",
      "8m          12m          7         azure-dl-2179268582-s9h4r.15354676837fe7b8   Pod                                      Warning   FailedSync              kubelet, aks-nodepool1-28892049-0   Error syncing pod\r\n",
      "8m          12m          4         azure-dl-2179268582-s9h4r.15354676b25f87f1   Pod          spec.containers{azure-dl}   Normal    BackOff                 kubelet, aks-nodepool1-28892049-0   Back-off pulling image \"fboylu/kerasnasm-gpu\"\r\n",
      "3m          3m           1         azure-dl-2179268582-s9h4r.153546f7b21131e7   Pod          spec.containers{azure-dl}   Normal    Pulled                  kubelet, aks-nodepool1-28892049-0   Successfully pulled image \"fboylu/kerasnasm-gpu\"\r\n",
      "3m          3m           1         azure-dl-2179268582-s9h4r.153546f7c1af7f63   Pod          spec.containers{azure-dl}   Normal    Created                 kubelet, aks-nodepool1-28892049-0   Created container\r\n",
      "3m          3m           1         azure-dl-2179268582-s9h4r.153546f7ca2ae41b   Pod          spec.containers{azure-dl}   Normal    Started                 kubelet, aks-nodepool1-28892049-0   Started container\r\n",
      "14m         14m          1         azure-dl-2179268582.1535465c13f7241f         ReplicaSet                               Normal    SuccessfulCreate        replicaset-controller               Created pod: azure-dl-2179268582-s9h4r\r\n",
      "14m         14m          1         azure-dl.1535465c11384fc1                    Deployment                               Normal    ScalingReplicaSet       deployment-controller               Scaled up replica set azure-dl-2179268582 to 1\r\n",
      "14m         14m          1         azure-dl.1535465c159d198a                    Service                                  Normal    CreatingLoadBalancer    service-controller                  Creating load balancer\r\n",
      "11m         11m          1         azure-dl.15354683b5f8a656                    Service                                  Normal    CreatedLoadBalancer     service-controller                  Created load balancer\r\n"
     ]
    }
   ],
   "source": [
    "!kubectl get events"
   ]
  },
  {
   "cell_type": "markdown",
   "metadata": {},
   "source": [
    "Check the logs for the application pod."
   ]
  },
  {
   "cell_type": "code",
   "execution_count": 33,
   "metadata": {},
   "outputs": [],
   "source": [
    "pod_json = !kubectl get pods -o json\n",
    "pod_dict = json.loads(''.join(pod_json))"
   ]
  },
  {
   "cell_type": "code",
   "execution_count": 34,
   "metadata": {},
   "outputs": [
    {
     "name": "stdout",
     "output_type": "stream",
     "text": [
      "2018-06-05 13:34:38,672 CRIT Supervisor running as root (no user in config file)\r\n",
      "2018-06-05 13:34:38,674 INFO supervisord started with pid 9\r\n",
      "2018-06-05 13:34:39,677 INFO spawned: 'program_exit' with pid 17\r\n",
      "2018-06-05 13:34:39,678 INFO spawned: 'nginx' with pid 18\r\n",
      "2018-06-05 13:34:39,679 INFO spawned: 'gunicorn' with pid 19\r\n",
      "2018-06-05 13:34:40,709 INFO success: program_exit entered RUNNING state, process has stayed up for > than 1 seconds (startsecs)\r\n",
      "2018-06-05 13:34:41.069627: I tensorflow/core/platform/cpu_feature_guard.cc:140] Your CPU supports instructions that this TensorFlow binary was not compiled to use: AVX2 FMA\r\n",
      "2018-06-05 13:34:45,077 INFO success: nginx entered RUNNING state, process has stayed up for > than 5 seconds (startsecs)\r\n",
      "2018-06-05 13:34:47.487483: I tensorflow/core/common_runtime/gpu/gpu_device.cc:1212] Found device 0 with properties: \r\n",
      "name: Tesla K80 major: 3 minor: 7 memoryClockRate(GHz): 0.8235\r\n",
      "pciBusID: 6066:00:00.0\r\n",
      "totalMemory: 11.17GiB freeMemory: 11.10GiB\r\n",
      "2018-06-05 13:34:47.487527: I tensorflow/core/common_runtime/gpu/gpu_device.cc:1312] Adding visible gpu devices: 0\r\n",
      "2018-06-05 13:34:47.796318: I tensorflow/core/common_runtime/gpu/gpu_device.cc:993] Creating TensorFlow device (/job:localhost/replica:0/task:0/device:GPU:0 with 10765 MB memory) -> physical GPU (device: 0, name: Tesla K80, pci bus id: 6066:00:00.0, compute capability: 3.7)\r\n",
      "2018-06-05 13:34:59,810 INFO success: gunicorn entered RUNNING state, process has stayed up for > than 20 seconds (startsecs)\r\n",
      "Downloading data from https://github.com/fchollet/deep-learning-models/releases/download/v0.8/NASNet-mobile.h5\r\n",
      "\r\n",
      "    8192/24226656 [..............................] - ETA: 1:59:29\r\n",
      " 1048576/24226656 [>.............................] - ETA: 54s    \r\n",
      " 5472256/24226656 [=====>........................] - ETA: 8s \r\n",
      "12156928/24226656 [==============>...............] - ETA: 2s\r\n",
      "19537920/24226656 [=======================>......] - ETA: 0s\r\n",
      "24231936/24226656 [==============================] - 3s 0us/step\r\n",
      "{\"host\": \"azure-dl-2179268582-s9h4r\", \"path\": \"/code/driver.py\", \"stack_info\": null, \"timestamp\": \"2018-06-05T13:35:23.071395Z\", \"logger\": \"model_driver\", \"message\": \"Model loading time: 42028.05 ms\", \"tags\": [], \"level\": \"INFO\"}\r\n",
      "Initialising\r\n",
      "{\"host\": \"azure-dl-2179268582-s9h4r\", \"path\": \"/opt/conda/envs/py3.5/lib/python3.5/site-packages/werkzeug/_internal.py\", \"msg\": \" * Running on %s://%s:%d/ %s\", \"stack_info\": null, \"timestamp\": \"2018-06-05T13:35:23.076731Z\", \"logger\": \"werkzeug\", \"message\": \" * Running on http://127.0.0.1:5000/ (Press CTRL+C to quit)\", \"tags\": [], \"level\": \"INFO\"}\r\n"
     ]
    }
   ],
   "source": [
    "!kubectl logs {pod_dict['items'][0]['metadata']['name']}"
   ]
  },
  {
   "cell_type": "code",
   "execution_count": 35,
   "metadata": {},
   "outputs": [
    {
     "name": "stdout",
     "output_type": "stream",
     "text": [
      "NAME       DESIRED   CURRENT   UP-TO-DATE   AVAILABLE   AGE\r\n",
      "azure-dl   1         1         1            1           17m\r\n"
     ]
    }
   ],
   "source": [
    "!kubectl get deployment"
   ]
  },
  {
   "cell_type": "markdown",
   "metadata": {},
   "source": [
    "It can take a few minutes for the service to populate the EXTERNAL-IP field below. This will be the IP you use to call the service. You can also specify an IP to use, please see the AKS documentation for further details."
   ]
  },
  {
   "cell_type": "code",
   "execution_count": 44,
   "metadata": {},
   "outputs": [
    {
     "name": "stdout",
     "output_type": "stream",
     "text": [
      "NAME       TYPE           CLUSTER-IP    EXTERNAL-IP    PORT(S)        AGE\r\n",
      "azure-dl   LoadBalancer   10.0.41.218   40.121.56.27   80:30528/TCP   4h\r\n"
     ]
    }
   ],
   "source": [
    "!kubectl get service azure-dl"
   ]
  },
  {
   "cell_type": "markdown",
   "metadata": {},
   "source": [
    "Next, we will [test our web application deployed on AKS](05_TestWebApp.ipynb). Once, we are done with all the notebooks of the tutorial, below instructions can be used to delete the cluster and free resources."
   ]
  },
  {
   "cell_type": "markdown",
   "metadata": {},
   "source": [
    "# Scaling"
   ]
  },
  {
   "cell_type": "code",
   "execution_count": 45,
   "metadata": {},
   "outputs": [
    {
     "name": "stdout",
     "output_type": "stream",
     "text": [
      "\u001b[K{- Finished ..\n",
      "  \"agentPoolProfiles\": [\n",
      "    {\n",
      "      \"count\": 3,\n",
      "      \"dnsPrefix\": null,\n",
      "      \"fqdn\": null,\n",
      "      \"name\": \"nodepool1\",\n",
      "      \"osDiskSizeGb\": null,\n",
      "      \"osType\": \"Linux\",\n",
      "      \"ports\": null,\n",
      "      \"storageProfile\": \"ManagedDisks\",\n",
      "      \"vmSize\": \"Standard_NC6\",\n",
      "      \"vnetSubnetId\": null\n",
      "    }\n",
      "  ],\n",
      "  \"dnsPrefix\": \"fbAKSnasmC-fbaksnasmrg-edf507\",\n",
      "  \"fqdn\": \"fbaksnasmc-fbaksnasmrg-edf507-71d3348d.hcp.eastus.azmk8s.io\",\n",
      "  \"id\": \"/subscriptions/edf507a2-6235-46c5-b560-fd463ba2e771/resourcegroups/fbaksnasmrg/providers/Microsoft.ContainerService/managedClusters/fbAKSnasmCluster\",\n",
      "  \"kubernetesVersion\": \"1.7.7\",\n",
      "  \"linuxProfile\": {\n",
      "    \"adminUsername\": \"azureuser\",\n",
      "    \"ssh\": {\n",
      "      \"publicKeys\": [\n",
      "        {\n",
      "          \"keyData\": \"ssh-rsa AAAAB3NzaC1yc2EAAAADAQABAAABAQDTZYQFHNstYCR25qtvMrC6baTMS6TobaIRbgd0xOoafDy+2uBk0DMJuhGWoOcrsCnvadp5k/0K8qBRysyhlQGWb6+r8fBunThy+zpTKqdh3W8Q1y5UtKnGwwU1cqGXDOPUIXJYNPJqUKV829+MOrZjUynhHgSzDbY2ncGyoT+Farsvm01aGEdDapa+XRl4JAwtN1bb9q+Ii5y+MkpIOhLRMwATl05eNfAHmYQWtaIJZZJOHMNPswlBmLs293Wsj11vYh6/yo9S4ToEsc9Pbl5Zn6OFIu7jfzN2bM8cA3+8pru9WSthrxjJvPn8i4uTYozOdNIi09ArQ4lRT9t6rsMz\"\n",
      "        }\n",
      "      ]\n",
      "    }\n",
      "  },\n",
      "  \"location\": \"eastus\",\n",
      "  \"name\": \"fbAKSnasmCluster\",\n",
      "  \"provisioningState\": \"Succeeded\",\n",
      "  \"resourceGroup\": \"fbaksnasmrg\",\n",
      "  \"servicePrincipalProfile\": {\n",
      "    \"clientId\": \"b4fb9e67-db42-4056-9cfa-8d9e572148eb\",\n",
      "    \"keyVaultSecretRef\": null,\n",
      "    \"secret\": null\n",
      "  },\n",
      "  \"tags\": null,\n",
      "  \"type\": \"Microsoft.ContainerService/ManagedClusters\"\n",
      "}\n",
      "\u001b[0m"
     ]
    }
   ],
   "source": [
    "!az aks scale --resource-group=$resource_group --name=$aks_name --node-count 3"
   ]
  },
  {
   "cell_type": "code",
   "execution_count": 46,
   "metadata": {},
   "outputs": [
    {
     "name": "stdout",
     "output_type": "stream",
     "text": [
      "Name:               aks-nodepool1-28892049-0\n",
      "Roles:              agent\n",
      "Labels:             agentpool=nodepool1\n",
      "                    beta.kubernetes.io/arch=amd64\n",
      "                    beta.kubernetes.io/instance-type=Standard_NC6\n",
      "                    beta.kubernetes.io/os=linux\n",
      "                    failure-domain.beta.kubernetes.io/region=eastus\n",
      "                    failure-domain.beta.kubernetes.io/zone=0\n",
      "                    kubernetes.azure.com/cluster=MC_fbaksnasmrg_fbAKSnasmCluster_eastus\n",
      "                    kubernetes.io/hostname=aks-nodepool1-28892049-0\n",
      "                    kubernetes.io/role=agent\n",
      "                    storageprofile=managed\n",
      "                    storagetier=Standard_LRS\n",
      "Annotations:        node.alpha.kubernetes.io/ttl=0\n",
      "                    volumes.kubernetes.io/controller-managed-attach-detach=true\n",
      "CreationTimestamp:  Mon, 04 Jun 2018 18:04:49 +0000\n",
      "Taints:             <none>\n",
      "Unschedulable:      false\n",
      "Conditions:\n",
      "  Type                 Status  LastHeartbeatTime                 LastTransitionTime                Reason                       Message\n",
      "  ----                 ------  -----------------                 ------------------                ------                       -------\n",
      "  NetworkUnavailable   False   Mon, 04 Jun 2018 18:05:12 +0000   Mon, 04 Jun 2018 18:05:12 +0000   RouteCreated                 RouteController created a route\n",
      "  OutOfDisk            False   Tue, 05 Jun 2018 17:44:12 +0000   Tue, 05 Jun 2018 12:12:02 +0000   KubeletHasSufficientDisk     kubelet has sufficient disk space available\n",
      "  MemoryPressure       False   Tue, 05 Jun 2018 17:44:12 +0000   Tue, 05 Jun 2018 12:12:02 +0000   KubeletHasSufficientMemory   kubelet has sufficient memory available\n",
      "  DiskPressure         False   Tue, 05 Jun 2018 17:44:12 +0000   Tue, 05 Jun 2018 12:12:02 +0000   KubeletHasNoDiskPressure     kubelet has no disk pressure\n",
      "  Ready                True    Tue, 05 Jun 2018 17:44:12 +0000   Tue, 05 Jun 2018 12:12:02 +0000   KubeletReady                 kubelet is posting ready status. AppArmor enabled\n",
      "Addresses:\n",
      "  InternalIP:  10.240.0.4\n",
      "  Hostname:    aks-nodepool1-28892049-0\n",
      "Capacity:\n",
      " alpha.kubernetes.io/nvidia-gpu:  1\n",
      " cpu:                             6\n",
      " memory:                          57691676Ki\n",
      " pods:                            110\n",
      "Allocatable:\n",
      " alpha.kubernetes.io/nvidia-gpu:  1\n",
      " cpu:                             6\n",
      " memory:                          57589276Ki\n",
      " pods:                            110\n",
      "System Info:\n",
      " Machine ID:                 84be93e1261a479d9ef37336c916e8a3\n",
      " System UUID:                50A2F213-04CC-A742-AD68-42B2A387E616\n",
      " Boot ID:                    066a3572-6aed-4d55-b5e2-aeb75a330748\n",
      " Kernel Version:             4.13.0-1016-azure\n",
      " OS Image:                   Ubuntu 16.04.4 LTS\n",
      " Operating System:           linux\n",
      " Architecture:               amd64\n",
      " Container Runtime Version:  docker://1.13.1\n",
      " Kubelet Version:            v1.7.7\n",
      " Kube-Proxy Version:         v1.7.7\n",
      "PodCIDR:                     10.244.0.0/24\n",
      "ExternalID:                  /subscriptions/edf507a2-6235-46c5-b560-fd463ba2e771/resourceGroups/MC_fbaksnasmrg_fbAKSnasmCluster_eastus/providers/Microsoft.Compute/virtualMachines/aks-nodepool1-28892049-0\n",
      "ProviderID:                  azure:///subscriptions/edf507a2-6235-46c5-b560-fd463ba2e771/resourceGroups/MC_fbaksnasmrg_fbAKSnasmCluster_eastus/providers/Microsoft.Compute/virtualMachines/aks-nodepool1-28892049-0\n",
      "Non-terminated Pods:         (9 in total)\n",
      "  Namespace                  Name                                     CPU Requests  CPU Limits  Memory Requests  Memory Limits\n",
      "  ---------                  ----                                     ------------  ----------  ---------------  -------------\n",
      "  default                    azure-dl-2179268582-s9h4r                0 (0%)        0 (0%)      0 (0%)           0 (0%)\n",
      "  kube-system                azureproxy-3924340074-lkbvx              0 (0%)        0 (0%)      0 (0%)           0 (0%)\n",
      "  kube-system                heapster-186967039-g1kkt                 138m (2%)     138m (2%)   294Mi (0%)       294Mi (0%)\n",
      "  kube-system                kube-dns-v20-2253765213-0wggg            110m (1%)     0 (0%)      120Mi (0%)       220Mi (0%)\n",
      "  kube-system                kube-dns-v20-2253765213-rxtcx            110m (1%)     0 (0%)      120Mi (0%)       220Mi (0%)\n",
      "  kube-system                kube-proxy-m5kbj                         100m (1%)     0 (0%)      0 (0%)           0 (0%)\n",
      "  kube-system                kube-svc-redirect-rmgrk                  0 (0%)        0 (0%)      0 (0%)           0 (0%)\n",
      "  kube-system                kubernetes-dashboard-2898242510-j9ld5    100m (1%)     100m (1%)   50Mi (0%)        50Mi (0%)\n",
      "  kube-system                tunnelfront-2927545824-mxc2k             0 (0%)        0 (0%)      0 (0%)           0 (0%)\n",
      "Allocated resources:\n",
      "  (Total limits may be over 100 percent, i.e., overcommitted.)\n",
      "  CPU Requests  CPU Limits  Memory Requests  Memory Limits\n",
      "  ------------  ----------  ---------------  -------------\n",
      "  558m (9%)     238m (3%)   584Mi (1%)       784Mi (1%)\n",
      "Events:         <none>\n",
      "\n",
      "\n",
      "Name:               aks-nodepool1-28892049-1\n",
      "Roles:              agent\n",
      "Labels:             agentpool=nodepool1\n",
      "                    beta.kubernetes.io/arch=amd64\n",
      "                    beta.kubernetes.io/instance-type=Standard_NC6\n",
      "                    beta.kubernetes.io/os=linux\n",
      "                    failure-domain.beta.kubernetes.io/region=eastus\n",
      "                    failure-domain.beta.kubernetes.io/zone=1\n",
      "                    kubernetes.azure.com/cluster=MC_fbaksnasmrg_fbAKSnasmCluster_eastus\n",
      "                    kubernetes.io/hostname=aks-nodepool1-28892049-1\n",
      "                    kubernetes.io/role=agent\n",
      "                    storageprofile=managed\n",
      "                    storagetier=Standard_LRS\n",
      "Annotations:        node.alpha.kubernetes.io/ttl=0\n",
      "                    volumes.kubernetes.io/controller-managed-attach-detach=true\n",
      "CreationTimestamp:  Tue, 05 Jun 2018 15:14:42 +0000\n",
      "Taints:             <none>\n",
      "Unschedulable:      false\n",
      "Conditions:\n",
      "  Type                 Status  LastHeartbeatTime                 LastTransitionTime                Reason                       Message\n",
      "  ----                 ------  -----------------                 ------------------                ------                       -------\n",
      "  NetworkUnavailable   False   Tue, 05 Jun 2018 15:15:06 +0000   Tue, 05 Jun 2018 15:15:06 +0000   RouteCreated                 RouteController created a route\n",
      "  OutOfDisk            False   Tue, 05 Jun 2018 17:44:11 +0000   Tue, 05 Jun 2018 15:14:42 +0000   KubeletHasSufficientDisk     kubelet has sufficient disk space available\n",
      "  MemoryPressure       False   Tue, 05 Jun 2018 17:44:11 +0000   Tue, 05 Jun 2018 15:14:42 +0000   KubeletHasSufficientMemory   kubelet has sufficient memory available\n",
      "  DiskPressure         False   Tue, 05 Jun 2018 17:44:11 +0000   Tue, 05 Jun 2018 15:14:42 +0000   KubeletHasNoDiskPressure     kubelet has no disk pressure\n",
      "  Ready                True    Tue, 05 Jun 2018 17:44:11 +0000   Tue, 05 Jun 2018 15:15:06 +0000   KubeletReady                 kubelet is posting ready status. AppArmor enabled\n",
      "Addresses:\n",
      "  InternalIP:  10.240.0.5\n",
      "  Hostname:    aks-nodepool1-28892049-1\n",
      "Capacity:\n",
      " alpha.kubernetes.io/nvidia-gpu:  1\n",
      " cpu:                             6\n",
      " memory:                          57691676Ki\n",
      " pods:                            110\n",
      "Allocatable:\n",
      " alpha.kubernetes.io/nvidia-gpu:  1\n",
      " cpu:                             6\n",
      " memory:                          57589276Ki\n",
      " pods:                            110\n",
      "System Info:\n",
      " Machine ID:                 e80facdbc9374ceab44ba20f28942f92\n",
      " System UUID:                FDC58656-89F7-6A46-AF47-AE7576149B6A\n",
      " Boot ID:                    cfec54e5-566a-4090-b1a1-9a9c5725ed65\n",
      " Kernel Version:             4.13.0-1016-azure\n",
      " OS Image:                   Ubuntu 16.04.4 LTS\n",
      " Operating System:           linux\n",
      " Architecture:               amd64\n",
      " Container Runtime Version:  docker://1.13.1\n",
      " Kubelet Version:            v1.7.7\n",
      " Kube-Proxy Version:         v1.7.7\n",
      "PodCIDR:                     10.244.1.0/24\n",
      "ExternalID:                  /subscriptions/edf507a2-6235-46c5-b560-fd463ba2e771/resourceGroups/MC_fbaksnasmrg_fbAKSnasmCluster_eastus/providers/Microsoft.Compute/virtualMachines/aks-nodepool1-28892049-1\n",
      "ProviderID:                  azure:///subscriptions/edf507a2-6235-46c5-b560-fd463ba2e771/resourceGroups/MC_fbaksnasmrg_fbAKSnasmCluster_eastus/providers/Microsoft.Compute/virtualMachines/aks-nodepool1-28892049-1\n",
      "Non-terminated Pods:         (3 in total)\n",
      "  Namespace                  Name                         CPU Requests  CPU Limits  Memory Requests  Memory Limits\n",
      "  ---------                  ----                         ------------  ----------  ---------------  -------------\n",
      "  default                    azure-dl-2179268582-k73kx    0 (0%)        0 (0%)      0 (0%)           0 (0%)\n",
      "  kube-system                kube-proxy-4016r             100m (1%)     0 (0%)      0 (0%)           0 (0%)\n",
      "  kube-system                kube-svc-redirect-s16wt      0 (0%)        0 (0%)      0 (0%)           0 (0%)\n",
      "Allocated resources:\n",
      "  (Total limits may be over 100 percent, i.e., overcommitted.)\n",
      "  CPU Requests  CPU Limits  Memory Requests  Memory Limits\n",
      "  ------------  ----------  ---------------  -------------\n",
      "  100m (1%)     0 (0%)      0 (0%)           0 (0%)\n",
      "Events:         <none>\n"
     ]
    },
    {
     "name": "stdout",
     "output_type": "stream",
     "text": [
      "\r\n",
      "\r\n",
      "Name:               aks-nodepool1-28892049-2\r\n",
      "Roles:              agent\r\n",
      "Labels:             agentpool=nodepool1\r\n",
      "                    beta.kubernetes.io/arch=amd64\r\n",
      "                    beta.kubernetes.io/instance-type=Standard_NC6\r\n",
      "                    beta.kubernetes.io/os=linux\r\n",
      "                    failure-domain.beta.kubernetes.io/region=eastus\r\n",
      "                    failure-domain.beta.kubernetes.io/zone=0\r\n",
      "                    kubernetes.azure.com/cluster=MC_fbaksnasmrg_fbAKSnasmCluster_eastus\r\n",
      "                    kubernetes.io/hostname=aks-nodepool1-28892049-2\r\n",
      "                    kubernetes.io/role=agent\r\n",
      "                    storageprofile=managed\r\n",
      "                    storagetier=Standard_LRS\r\n",
      "Annotations:        node.alpha.kubernetes.io/ttl=0\r\n",
      "                    volumes.kubernetes.io/controller-managed-attach-detach=true\r\n",
      "CreationTimestamp:  Tue, 05 Jun 2018 17:40:59 +0000\r\n",
      "Taints:             <none>\r\n",
      "Unschedulable:      false\r\n",
      "Conditions:\r\n",
      "  Type                 Status  LastHeartbeatTime                 LastTransitionTime                Reason                       Message\r\n",
      "  ----                 ------  -----------------                 ------------------                ------                       -------\r\n",
      "  NetworkUnavailable   False   Tue, 05 Jun 2018 17:41:22 +0000   Tue, 05 Jun 2018 17:41:22 +0000   RouteCreated                 RouteController created a route\r\n",
      "  OutOfDisk            False   Tue, 05 Jun 2018 17:44:05 +0000   Tue, 05 Jun 2018 17:40:59 +0000   KubeletHasSufficientDisk     kubelet has sufficient disk space available\r\n",
      "  MemoryPressure       False   Tue, 05 Jun 2018 17:44:05 +0000   Tue, 05 Jun 2018 17:40:59 +0000   KubeletHasSufficientMemory   kubelet has sufficient memory available\r\n",
      "  DiskPressure         False   Tue, 05 Jun 2018 17:44:05 +0000   Tue, 05 Jun 2018 17:40:59 +0000   KubeletHasNoDiskPressure     kubelet has no disk pressure\r\n",
      "  Ready                True    Tue, 05 Jun 2018 17:44:05 +0000   Tue, 05 Jun 2018 17:41:23 +0000   KubeletReady                 kubelet is posting ready status. AppArmor enabled\r\n",
      "Addresses:\r\n",
      "  InternalIP:  10.240.0.6\r\n",
      "  Hostname:    aks-nodepool1-28892049-2\r\n",
      "Capacity:\r\n",
      " alpha.kubernetes.io/nvidia-gpu:  1\r\n",
      " cpu:                             6\r\n",
      " memory:                          57691676Ki\r\n",
      " pods:                            110\r\n",
      "Allocatable:\r\n",
      " alpha.kubernetes.io/nvidia-gpu:  1\r\n",
      " cpu:                             6\r\n",
      " memory:                          57589276Ki\r\n",
      " pods:                            110\r\n",
      "System Info:\r\n",
      " Machine ID:                 190899a221304a8095b3f9b7c9032f86\r\n",
      " System UUID:                8B01F2D4-8304-4E4C-A5BB-85242F09482E\r\n",
      " Boot ID:                    b22edcc3-2136-47a6-b467-394f42b2cdd6\r\n",
      " Kernel Version:             4.13.0-1016-azure\r\n",
      " OS Image:                   Ubuntu 16.04.4 LTS\r\n",
      " Operating System:           linux\r\n",
      " Architecture:               amd64\r\n",
      " Container Runtime Version:  docker://1.13.1\r\n",
      " Kubelet Version:            v1.7.7\r\n",
      " Kube-Proxy Version:         v1.7.7\r\n",
      "PodCIDR:                     10.244.2.0/24\r\n",
      "ExternalID:                  /subscriptions/edf507a2-6235-46c5-b560-fd463ba2e771/resourceGroups/MC_fbaksnasmrg_fbAKSnasmCluster_eastus/providers/Microsoft.Compute/virtualMachines/aks-nodepool1-28892049-2\r\n",
      "ProviderID:                  azure:///subscriptions/edf507a2-6235-46c5-b560-fd463ba2e771/resourceGroups/MC_fbaksnasmrg_fbAKSnasmCluster_eastus/providers/Microsoft.Compute/virtualMachines/aks-nodepool1-28892049-2\r\n",
      "Non-terminated Pods:         (2 in total)\r\n",
      "  Namespace                  Name                       CPU Requests  CPU Limits  Memory Requests  Memory Limits\r\n",
      "  ---------                  ----                       ------------  ----------  ---------------  -------------\r\n",
      "  kube-system                kube-proxy-z12t0           100m (1%)     0 (0%)      0 (0%)           0 (0%)\r\n",
      "  kube-system                kube-svc-redirect-bqcgk    0 (0%)        0 (0%)      0 (0%)           0 (0%)\r\n",
      "Allocated resources:\r\n",
      "  (Total limits may be over 100 percent, i.e., overcommitted.)\r\n",
      "  CPU Requests  CPU Limits  Memory Requests  Memory Limits\r\n",
      "  ------------  ----------  ---------------  -------------\r\n",
      "  100m (1%)     0 (0%)      0 (0%)           0 (0%)\r\n",
      "Events:\r\n",
      "  Type    Reason                   Age              From                                  Message\r\n",
      "  ----    ------                   ----             ----                                  -------\r\n",
      "  Normal  Starting                 4m               kubelet, aks-nodepool1-28892049-2     Starting kubelet.\r\n",
      "  Normal  NodeAllocatableEnforced  4m               kubelet, aks-nodepool1-28892049-2     Updated Node Allocatable limit across pods\r\n",
      "  Normal  NodeHasSufficientDisk    3m (x2 over 4m)  kubelet, aks-nodepool1-28892049-2     Node aks-nodepool1-28892049-2 status is now: NodeHasSufficientDisk\r\n",
      "  Normal  NodeHasSufficientMemory  3m (x2 over 4m)  kubelet, aks-nodepool1-28892049-2     Node aks-nodepool1-28892049-2 status is now: NodeHasSufficientMemory\r\n",
      "  Normal  NodeHasNoDiskPressure    3m (x2 over 4m)  kubelet, aks-nodepool1-28892049-2     Node aks-nodepool1-28892049-2 status is now: NodeHasNoDiskPressure\r\n",
      "  Normal  Starting                 3m               kube-proxy, aks-nodepool1-28892049-2  Starting kube-proxy.\r\n",
      "  Normal  NodeReady                2m               kubelet, aks-nodepool1-28892049-2     Node aks-nodepool1-28892049-2 status is now: NodeReady\r\n"
     ]
    }
   ],
   "source": [
    "!kubectl describe nodes"
   ]
  },
  {
   "cell_type": "code",
   "execution_count": 48,
   "metadata": {},
   "outputs": [
    {
     "name": "stdout",
     "output_type": "stream",
     "text": [
      "deployment.extensions \"azure-dl\" scaled\r\n"
     ]
    }
   ],
   "source": [
    "!kubectl scale --current-replicas=2 --replicas=3 deployment/azure-dl"
   ]
  },
  {
   "cell_type": "code",
   "execution_count": 53,
   "metadata": {},
   "outputs": [
    {
     "name": "stdout",
     "output_type": "stream",
     "text": [
      "NAMESPACE     NAME                                    READY     STATUS    RESTARTS   AGE\r\n",
      "default       azure-dl-2179268582-k73kx               1/1       Running   0          2h\r\n",
      "default       azure-dl-2179268582-q3xv9               1/1       Running   0          12m\r\n",
      "default       azure-dl-2179268582-s9h4r               1/1       Running   0          4h\r\n",
      "kube-system   azureproxy-3924340074-lkbvx             1/1       Running   2          23h\r\n",
      "kube-system   heapster-186967039-g1kkt                2/2       Running   0          23h\r\n",
      "kube-system   kube-dns-v20-2253765213-0wggg           3/3       Running   0          23h\r\n",
      "kube-system   kube-dns-v20-2253765213-rxtcx           3/3       Running   0          23h\r\n",
      "kube-system   kube-proxy-4016r                        1/1       Running   0          2h\r\n",
      "kube-system   kube-proxy-m5kbj                        1/1       Running   0          23h\r\n",
      "kube-system   kube-proxy-z12t0                        1/1       Running   0          16m\r\n",
      "kube-system   kube-svc-redirect-bqcgk                 1/1       Running   0          16m\r\n",
      "kube-system   kube-svc-redirect-rmgrk                 1/1       Running   0          23h\r\n",
      "kube-system   kube-svc-redirect-s16wt                 1/1       Running   0          2h\r\n",
      "kube-system   kubernetes-dashboard-2898242510-j9ld5   1/1       Running   1          23h\r\n",
      "kube-system   tunnelfront-2927545824-mxc2k            1/1       Running   0          23h\r\n"
     ]
    }
   ],
   "source": [
    "!kubectl get pods --all-namespaces"
   ]
  },
  {
   "cell_type": "markdown",
   "metadata": {},
   "source": [
    "# Tear it all down"
   ]
  },
  {
   "cell_type": "markdown",
   "metadata": {},
   "source": [
    "Once you are done with your cluster you can use the following two commands to destroy it all."
   ]
  },
  {
   "cell_type": "code",
   "execution_count": 54,
   "metadata": {},
   "outputs": [
    {
     "name": "stdout",
     "output_type": "stream",
     "text": [
      "deployment.apps \"azure-dl\" deleted\n",
      "service \"azure-dl\" deleted\n"
     ]
    }
   ],
   "source": [
    "!kubectl delete -f az-dl.json"
   ]
  },
  {
   "cell_type": "code",
   "execution_count": 55,
   "metadata": {},
   "outputs": [
    {
     "name": "stdout",
     "output_type": "stream",
     "text": [
      "\u001b[K\u001b[0minished .."
     ]
    }
   ],
   "source": [
    "!az aks delete -n $aks_name -g $resource_group -y"
   ]
  },
  {
   "cell_type": "code",
   "execution_count": 56,
   "metadata": {},
   "outputs": [
    {
     "name": "stdout",
     "output_type": "stream",
     "text": [
      "\u001b[K\u001b[0minished .."
     ]
    }
   ],
   "source": [
    "!az group delete --name $resource_group -y"
   ]
  }
 ],
 "metadata": {
  "kernelspec": {
   "display_name": "Python [conda env:aksenv]",
   "language": "python",
   "name": "conda-env-aksenv-py"
  },
  "language_info": {
   "codemirror_mode": {
    "name": "ipython",
    "version": 3
   },
   "file_extension": ".py",
   "mimetype": "text/x-python",
   "name": "python",
   "nbconvert_exporter": "python",
   "pygments_lexer": "ipython3",
   "version": "3.5.5"
  }
 },
 "nbformat": 4,
 "nbformat_minor": 2
}
