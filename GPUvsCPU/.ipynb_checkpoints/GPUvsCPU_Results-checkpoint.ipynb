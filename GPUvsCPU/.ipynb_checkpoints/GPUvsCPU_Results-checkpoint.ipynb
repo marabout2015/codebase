{
 "cells": [
  {
   "cell_type": "markdown",
   "metadata": {},
   "source": [
    "# GPU vs CPU Throughput Test Result Plots"
   ]
  },
  {
   "cell_type": "code",
   "execution_count": 1,
   "metadata": {},
   "outputs": [],
   "source": [
    "%matplotlib inline\n",
    "import os\n",
    "import matplotlib.pyplot as plt\n",
    "from azure.storage.blob import BlockBlobService\n",
    "import pandas as pd"
   ]
  },
  {
   "cell_type": "markdown",
   "metadata": {},
   "source": [
    "## Download data from blob storage¶ "
   ]
  },
  {
   "cell_type": "code",
   "execution_count": 2,
   "metadata": {},
   "outputs": [],
   "source": [
    "ACCOUNT_NAME = ''\n",
    "ACCOUNT_KEY = ''"
   ]
  },
  {
   "cell_type": "code",
   "execution_count": 3,
   "metadata": {},
   "outputs": [],
   "source": [
    "blob_service = BlockBlobService(account_name=ACCOUNT_NAME, account_key=ACCOUNT_KEY)"
   ]
  },
  {
   "cell_type": "code",
   "execution_count": 4,
   "metadata": {},
   "outputs": [
    {
     "data": {
      "text/plain": [
       "['results']"
      ]
     },
     "execution_count": 4,
     "metadata": {},
     "output_type": "execute_result"
    }
   ],
   "source": [
    "containers = blob_service.list_containers()\n",
    "blob_list = []\n",
    "container_list = []\n",
    "for c in containers:\n",
    "    container_list.append(c.name)\n",
    "    for b in blob_service.list_blobs(c.name):\n",
    "#         print(b.name)\n",
    "        blob_list.append(b.name)\n",
    "container_list"
   ]
  },
  {
   "cell_type": "code",
   "execution_count": 5,
   "metadata": {},
   "outputs": [],
   "source": [
    "CONTAINER_NAME = container_list[0]"
   ]
  },
  {
   "cell_type": "code",
   "execution_count": 6,
   "metadata": {},
   "outputs": [],
   "source": [
    "xlsx_list = [b for b in blob_list if '.xlsx' in b and 'EastUS' in b]"
   ]
  },
  {
   "cell_type": "code",
   "execution_count": 7,
   "metadata": {
    "scrolled": true
   },
   "outputs": [],
   "source": [
    "df_RPS_50 = pd.DataFrame(columns = ['Model', 'Framework', 'Cluster', 'RPS'])\n",
    "for XLS_FILE in xlsx_list:\n",
    "    DESTINATION_FILE = XLS_FILE.replace('GPUTesting/','')\n",
    "    DESTINATION_FILE = DESTINATION_FILE.replace('EastUS_Client/','')\n",
    "    DESTINATION_FILE = DESTINATION_FILE.replace('/','_')\n",
    "    DESTINATION_FILE = os.path.join(os.getcwd(),DESTINATION_FILE)\n",
    "    blob_service.get_blob_to_path(container_name=CONTAINER_NAME, blob_name=XLS_FILE, file_path=DESTINATION_FILE)\n",
    "    df = pd.read_excel(io=DESTINATION_FILE, sheet_name='Client')\n",
    "    df = df[['ThreadCount', 'AITime', 'RPS']]\n",
    "    row = [DESTINATION_FILE.split('/')[3].split('_')[0], DESTINATION_FILE.split('/')[3].split('_')[2],DESTINATION_FILE.split('/')[3].split('_')[-3], float(df[df['ThreadCount']==50]['RPS'])]\n",
    "    df_RPS_50.loc[len(df_RPS_50)] = row\n",
    "    \n",
    "#     print(DESTINATION_FILE)\n",
    "#     print(df)\n",
    "df_RPS_50.replace('35Pod','CPU', inplace=True )"
   ]
  },
  {
   "cell_type": "code",
   "execution_count": 8,
   "metadata": {},
   "outputs": [],
   "source": [
    "df_RPS_50_pivot = pd.pivot_table(df_RPS_50, values='RPS', index=['Model', 'Framework'], columns=['Cluster'])"
   ]
  },
  {
   "cell_type": "code",
   "execution_count": 9,
   "metadata": {},
   "outputs": [
    {
     "data": {
      "text/html": [
       "<div>\n",
       "<style scoped>\n",
       "    .dataframe tbody tr th:only-of-type {\n",
       "        vertical-align: middle;\n",
       "    }\n",
       "\n",
       "    .dataframe tbody tr th {\n",
       "        vertical-align: top;\n",
       "    }\n",
       "\n",
       "    .dataframe thead th {\n",
       "        text-align: right;\n",
       "    }\n",
       "</style>\n",
       "<table border=\"1\" class=\"dataframe\">\n",
       "  <thead>\n",
       "    <tr style=\"text-align: right;\">\n",
       "      <th></th>\n",
       "      <th>Cluster</th>\n",
       "      <th>1GPU</th>\n",
       "      <th>2GPU</th>\n",
       "      <th>3GPU</th>\n",
       "      <th>CPU</th>\n",
       "    </tr>\n",
       "    <tr>\n",
       "      <th>Model</th>\n",
       "      <th>Framework</th>\n",
       "      <th></th>\n",
       "      <th></th>\n",
       "      <th></th>\n",
       "      <th></th>\n",
       "    </tr>\n",
       "  </thead>\n",
       "  <tbody>\n",
       "    <tr>\n",
       "      <th rowspan=\"2\" valign=\"top\">MobileNet</th>\n",
       "      <th>Keras</th>\n",
       "      <td>55.122564</td>\n",
       "      <td>103.926475</td>\n",
       "      <td>141.808522</td>\n",
       "      <td>26.903556</td>\n",
       "    </tr>\n",
       "    <tr>\n",
       "      <th>TF</th>\n",
       "      <td>57.126202</td>\n",
       "      <td>87.522886</td>\n",
       "      <td>116.936442</td>\n",
       "      <td>NaN</td>\n",
       "    </tr>\n",
       "    <tr>\n",
       "      <th rowspan=\"2\" valign=\"top\">NasNetLarge</th>\n",
       "      <th>Keras</th>\n",
       "      <td>7.035507</td>\n",
       "      <td>13.816073</td>\n",
       "      <td>13.816073</td>\n",
       "      <td>2.196386</td>\n",
       "    </tr>\n",
       "    <tr>\n",
       "      <th>TF</th>\n",
       "      <td>12.049442</td>\n",
       "      <td>21.804046</td>\n",
       "      <td>30.041518</td>\n",
       "      <td>NaN</td>\n",
       "    </tr>\n",
       "    <tr>\n",
       "      <th rowspan=\"2\" valign=\"top\">NasNetMobile</th>\n",
       "      <th>Keras</th>\n",
       "      <td>24.122499</td>\n",
       "      <td>41.556104</td>\n",
       "      <td>50.420629</td>\n",
       "      <td>1.887626</td>\n",
       "    </tr>\n",
       "    <tr>\n",
       "      <th>TF</th>\n",
       "      <td>39.291007</td>\n",
       "      <td>73.918280</td>\n",
       "      <td>87.554202</td>\n",
       "      <td>NaN</td>\n",
       "    </tr>\n",
       "    <tr>\n",
       "      <th rowspan=\"2\" valign=\"top\">Resnet152</th>\n",
       "      <th>Keras</th>\n",
       "      <td>13.855050</td>\n",
       "      <td>26.467655</td>\n",
       "      <td>32.887834</td>\n",
       "      <td>5.199140</td>\n",
       "    </tr>\n",
       "    <tr>\n",
       "      <th>TF</th>\n",
       "      <td>18.489864</td>\n",
       "      <td>35.703668</td>\n",
       "      <td>48.897105</td>\n",
       "      <td>NaN</td>\n",
       "    </tr>\n",
       "    <tr>\n",
       "      <th rowspan=\"2\" valign=\"top\">Resnet50</th>\n",
       "      <th>Keras</th>\n",
       "      <td>31.834873</td>\n",
       "      <td>54.944249</td>\n",
       "      <td>76.459956</td>\n",
       "      <td>12.716302</td>\n",
       "    </tr>\n",
       "    <tr>\n",
       "      <th>TF</th>\n",
       "      <td>43.162852</td>\n",
       "      <td>87.276227</td>\n",
       "      <td>109.304595</td>\n",
       "      <td>NaN</td>\n",
       "    </tr>\n",
       "  </tbody>\n",
       "</table>\n",
       "</div>"
      ],
      "text/plain": [
       "Cluster                      1GPU        2GPU        3GPU        CPU\n",
       "Model        Framework                                              \n",
       "MobileNet    Keras      55.122564  103.926475  141.808522  26.903556\n",
       "             TF         57.126202   87.522886  116.936442        NaN\n",
       "NasNetLarge  Keras       7.035507   13.816073   13.816073   2.196386\n",
       "             TF         12.049442   21.804046   30.041518        NaN\n",
       "NasNetMobile Keras      24.122499   41.556104   50.420629   1.887626\n",
       "             TF         39.291007   73.918280   87.554202        NaN\n",
       "Resnet152    Keras      13.855050   26.467655   32.887834   5.199140\n",
       "             TF         18.489864   35.703668   48.897105        NaN\n",
       "Resnet50     Keras      31.834873   54.944249   76.459956  12.716302\n",
       "             TF         43.162852   87.276227  109.304595        NaN"
      ]
     },
     "execution_count": 9,
     "metadata": {},
     "output_type": "execute_result"
    }
   ],
   "source": [
    "df_RPS_50_pivot"
   ]
  },
  {
   "cell_type": "code",
   "execution_count": 21,
   "metadata": {},
   "outputs": [
    {
     "data": {
      "image/png": "[encoded data removed]",
      "text/plain": [
       "<Figure size 720x720 with 1 Axes>"
      ]
     },
     "metadata": {},
     "output_type": "display_data"
    }
   ],
   "source": [
    "# referance: https://stackoverflow.com/questions/22780563/group-labels-in-matplotlib-barchart-using-pandas-multiindex\n",
    "\n",
    "from itertools import groupby\n",
    "def add_line(ax, xpos, ypos):\n",
    "    line = plt.Line2D([xpos, xpos], [ypos + .1, ypos],\n",
    "                      transform=ax.transAxes, color='gray')\n",
    "    line.set_clip_on(False)\n",
    "    ax.add_line(line)\n",
    "\n",
    "def label_len(my_index,level):\n",
    "    labels = my_index.get_level_values(level)\n",
    "    return [(k, sum(1 for i in g)) for k,g in groupby(labels)]\n",
    "\n",
    "def label_group_bar_table(ax, df):\n",
    "    ypos = -.1\n",
    "    scale = 1./df.index.size\n",
    "    for level in range(df.index.nlevels)[::-1]:\n",
    "        pos = 0\n",
    "        for label, rpos in label_len(df.index,level):\n",
    "            lxpos = (pos + .5 * rpos)*scale\n",
    "            ax.text(lxpos, ypos, label, ha='center', transform=ax.transAxes)\n",
    "            add_line(ax, pos*scale, ypos)\n",
    "            pos += rpos\n",
    "        add_line(ax, pos*scale , ypos)\n",
    "        ypos -= .1\n",
    "\n",
    "# fig, ax = plt.subplots(figsize=(20, 10))\n",
    "ax = df_RPS_50_pivot.plot(kind='bar',stacked=False, figsize=(10,10))\n",
    "#Below 2 lines remove default labels\n",
    "ax.set_xticklabels('')\n",
    "ax.set_xlabel('')\n",
    "ax.set_title('Throughput')\n",
    "ax.set_ylabel('images/sec')\n",
    "label_group_bar_table(ax, df_RPS_50_pivot)"
   ]
  }
 ],
 "metadata": {
  "kernelspec": {
   "display_name": "Python [conda env:aksenv]",
   "language": "python",
   "name": "conda-env-aksenv-py"
  },
  "language_info": {
   "codemirror_mode": {
    "name": "ipython",
    "version": 3
   },
   "file_extension": ".py",
   "mimetype": "text/x-python",
   "name": "python",
   "nbconvert_exporter": "python",
   "pygments_lexer": "ipython3",
   "version": "3.5.5"
  }
 },
 "nbformat": 4,
 "nbformat_minor": 2
}
