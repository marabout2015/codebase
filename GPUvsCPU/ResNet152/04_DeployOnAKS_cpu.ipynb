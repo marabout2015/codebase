{
 "cells": [
  {
   "cell_type": "markdown",
   "metadata": {},
   "source": [
    "# Deploy Web App on Azure Container Services (AKS)\n"
   ]
  },
  {
   "cell_type": "markdown",
   "metadata": {},
   "source": [
    "In this notebook, we will set up an Azure Container Service which will be managed by Kubernetes. We will then take the Docker image we created earlier that contains our app and deploy it to the AKS cluster. Then, we will check everything is working by sending an image to it and getting it scored. \n",
    "\n",
    "The process is split into the following steps:\n",
    "- Define our resource names\n",
    "- Login to Azure\n",
    "- Create resource group and create AKS\n",
    "- Connect to AKS\n",
    "- Deploy our app\n",
    "- Tear it all down\n",
    "\n",
    "We assume that this notebook is running on Linux and Azure CLI is installed before proceeding."
   ]
  },
  {
   "cell_type": "markdown",
   "metadata": {},
   "source": [
    "## Setup"
   ]
  },
  {
   "cell_type": "markdown",
   "metadata": {},
   "source": [
    "Below are the various name definitions for the resources needed to setup AKS as well as the name of the Docker image we will be using."
   ]
  },
  {
   "cell_type": "code",
   "execution_count": 1,
   "metadata": {
    "collapsed": true
   },
   "outputs": [],
   "source": [
    "# Please modify the below as you see fit\n",
    "resource_group = \"<RESOURCE_GROUP>\" \n",
    "aks_name = \"<AKS_CLUSTER_NAME>\"\n",
    "location = \"eastus\"\n",
    "\n",
    "image_name = '<YOUR_DOCKER_IMAGE>' # 'fboylu/kerastf-gpu' Feel free to use this image if you want to \n",
    "                                   # skip creating your own container\n",
    "selected_subscription = \"'<YOUR_SUBSCRIPTION>'\" # If you have multiple subscriptions select \n",
    "                                                # the subscription you want to use here"
   ]
  },
  {
   "cell_type": "code",
   "execution_count": 1,
   "metadata": {},
   "outputs": [],
   "source": [
    "resource_group = \"fbakscpurg\" # Feel free to modify these\n",
    "aks_name = \"fbAKSClustercpu\"\n",
    "location = \"eastus\"\n",
    "\n",
    "image_name = \"fboylu/kerasres152-cpu\" \n",
    "selected_subscription = \"'Team Danielle Internal'\""
   ]
  },
  {
   "cell_type": "markdown",
   "metadata": {},
   "source": [
    "## Azure account login"
   ]
  },
  {
   "cell_type": "markdown",
   "metadata": {},
   "source": [
    "The command below will initiate a login to your Azure account. It will pop up with an url to go to where you will enter a one off code and log into your Azure account using your browser."
   ]
  },
  {
   "cell_type": "code",
   "execution_count": 6,
   "metadata": {
    "collapsed": true
   },
   "outputs": [],
   "source": [
    "!az login -o table"
   ]
  },
  {
   "cell_type": "code",
   "execution_count": 7,
   "metadata": {
    "collapsed": true
   },
   "outputs": [],
   "source": [
    "!az account set --subscription $selected_subscription"
   ]
  },
  {
   "cell_type": "code",
   "execution_count": 2,
   "metadata": {},
   "outputs": [
    {
     "name": "stdout",
     "output_type": "stream",
     "text": [
      "{\r\n",
      "  \"environmentName\": \"AzureCloud\",\r\n",
      "  \"id\": \"edf507a2-6235-46c5-b560-fd463ba2e771\",\r\n",
      "  \"isDefault\": true,\r\n",
      "  \"name\": \"Team Danielle Internal\",\r\n",
      "  \"state\": \"Enabled\",\r\n",
      "  \"tenantId\": \"72f988bf-86f1-41af-91ab-2d7cd011db47\",\r\n",
      "  \"user\": {\r\n",
      "    \"name\": \"fboylu@microsoft.com\",\r\n",
      "    \"type\": \"user\"\r\n",
      "  }\r\n",
      "}\r\n"
     ]
    }
   ],
   "source": [
    "!az account show"
   ]
  },
  {
   "cell_type": "markdown",
   "metadata": {},
   "source": [
    "You will also need to register the container service resources on your subscription if you haven't already done so."
   ]
  },
  {
   "cell_type": "code",
   "execution_count": 9,
   "metadata": {
    "collapsed": true
   },
   "outputs": [],
   "source": [
    "!az provider register -n Microsoft.ContainerService"
   ]
  },
  {
   "cell_type": "code",
   "execution_count": 10,
   "metadata": {
    "collapsed": true
   },
   "outputs": [],
   "source": [
    "!az provider show -n Microsoft.ContainerService"
   ]
  },
  {
   "cell_type": "markdown",
   "metadata": {},
   "source": [
    "## Create resources and dependencies"
   ]
  },
  {
   "cell_type": "markdown",
   "metadata": {},
   "source": [
    "### Create resource group and AKS cluster"
   ]
  },
  {
   "cell_type": "markdown",
   "metadata": {},
   "source": [
    "Azure encourages the use of groups to organize all the Azure components you deploy. That way it is easier to find them but also we can delete a number of resources simply by deleting the group."
   ]
  },
  {
   "cell_type": "code",
   "execution_count": 11,
   "metadata": {
    "collapsed": true
   },
   "outputs": [],
   "source": [
    "# !az group create --name $resource_group --location $location"
   ]
  },
  {
   "cell_type": "markdown",
   "metadata": {},
   "source": [
    "Below, we create the AKS cluster in the resource group we created earlier."
   ]
  },
  {
   "cell_type": "code",
   "execution_count": 46,
   "metadata": {},
   "outputs": [
    {
     "name": "stdout",
     "output_type": "stream",
     "text": [
      "CPU times: user 0 ns, sys: 6 µs, total: 6 µs\n",
      "Wall time: 9.78 µs\n"
     ]
    }
   ],
   "source": [
    "%%time\n",
    "# !az aks create --resource-group $resource_group --name $aks_name --node-count 1 --generate-ssh-keys -s Standard_D4_v2"
   ]
  },
  {
   "cell_type": "markdown",
   "metadata": {},
   "source": [
    "### Install kubectl CLI"
   ]
  },
  {
   "cell_type": "markdown",
   "metadata": {},
   "source": [
    "To connect to the Kubernetes cluster, we will use kubectl, the Kubernetes command-line client. To install, run the following:"
   ]
  },
  {
   "cell_type": "code",
   "execution_count": 3,
   "metadata": {},
   "outputs": [
    {
     "name": "stdout",
     "output_type": "stream",
     "text": [
      "\u001b[33mDownloading client to /usr/local/bin/kubectl from https://storage.googleapis.com/kubernetes-release/release/v1.10.4/bin/linux/amd64/kubectl\u001b[0m\n",
      "\u001b[33mPlease ensure that /usr/local/bin is in your search PATH, so the `kubectl` command can be found.\u001b[0m\n"
     ]
    }
   ],
   "source": [
    "!sudo az aks install-cli"
   ]
  },
  {
   "cell_type": "markdown",
   "metadata": {},
   "source": [
    "## Connect to AKS cluster"
   ]
  },
  {
   "cell_type": "markdown",
   "metadata": {},
   "source": [
    "To configure kubectl to connect to the Kubernetes cluster, run the following command:"
   ]
  },
  {
   "cell_type": "code",
   "execution_count": 4,
   "metadata": {},
   "outputs": [
    {
     "name": "stdout",
     "output_type": "stream",
     "text": [
      "Merged \"fbAKSClustercpu\" as current context in /home/fboylu/.kube/config\r\n"
     ]
    }
   ],
   "source": [
    "!az aks get-credentials --resource-group $resource_group --name $aks_name"
   ]
  },
  {
   "cell_type": "markdown",
   "metadata": {},
   "source": [
    "Let's verify connection by listing the nodes."
   ]
  },
  {
   "cell_type": "code",
   "execution_count": 5,
   "metadata": {},
   "outputs": [
    {
     "name": "stdout",
     "output_type": "stream",
     "text": [
      "NAME                       STATUS    ROLES     AGE       VERSION\r\n",
      "aks-nodepool1-13347348-0   Ready     agent     9d        v1.9.6\r\n",
      "aks-nodepool1-13347348-1   Ready     agent     9d        v1.9.6\r\n",
      "aks-nodepool1-13347348-2   Ready     agent     9d        v1.9.6\r\n",
      "aks-nodepool1-13347348-3   Ready     agent     9d        v1.9.6\r\n",
      "aks-nodepool1-13347348-4   Ready     agent     9d        v1.9.6\r\n"
     ]
    }
   ],
   "source": [
    "!kubectl get nodes"
   ]
  },
  {
   "cell_type": "markdown",
   "metadata": {},
   "source": [
    "Let's check the pods on our cluster."
   ]
  },
  {
   "cell_type": "code",
   "execution_count": 8,
   "metadata": {},
   "outputs": [
    {
     "name": "stdout",
     "output_type": "stream",
     "text": [
      "NAMESPACE     NAME                                    READY     STATUS    RESTARTS   AGE\r\n",
      "kube-system   azureproxy-79c5db744-j5hj4              1/1       Running   3          9d\r\n",
      "kube-system   heapster-55f855b47-bs86x                2/2       Running   0          9d\r\n",
      "kube-system   kube-dns-v20-7c556f89c5-96dfd           3/3       Running   0          9d\r\n",
      "kube-system   kube-dns-v20-7c556f89c5-fm7v2           3/3       Running   0          9d\r\n",
      "kube-system   kube-proxy-225hz                        1/1       Running   0          9d\r\n",
      "kube-system   kube-proxy-g5x5p                        1/1       Running   0          9d\r\n",
      "kube-system   kube-proxy-hw7fk                        1/1       Running   0          9d\r\n",
      "kube-system   kube-proxy-ttnsh                        1/1       Running   0          9d\r\n",
      "kube-system   kube-proxy-tvnpv                        1/1       Running   0          9d\r\n",
      "kube-system   kube-svc-redirect-278jk                 1/1       Running   0          9d\r\n",
      "kube-system   kube-svc-redirect-bhvsk                 1/1       Running   0          9d\r\n",
      "kube-system   kube-svc-redirect-chkj2                 1/1       Running   0          9d\r\n",
      "kube-system   kube-svc-redirect-k7fs6                 1/1       Running   0          9d\r\n",
      "kube-system   kube-svc-redirect-mg5cj                 1/1       Running   0          9d\r\n",
      "kube-system   kubernetes-dashboard-546f987686-rznkm   1/1       Running   2          9d\r\n",
      "kube-system   tunnelfront-5fcfb8fb44-ht5r8            1/1       Running   0          9d\r\n"
     ]
    }
   ],
   "source": [
    "!kubectl get pods --all-namespaces"
   ]
  },
  {
   "cell_type": "markdown",
   "metadata": {},
   "source": [
    "## Deploy application"
   ]
  },
  {
   "cell_type": "markdown",
   "metadata": {},
   "source": [
    "Below we define our Kubernetes manifest file for our service and load balancer. Note that we have to specify the volume mounts to the drivers that are located on the node."
   ]
  },
  {
   "cell_type": "code",
   "execution_count": 9,
   "metadata": {},
   "outputs": [],
   "source": [
    "app_template = {\n",
    "  \"apiVersion\": \"apps/v1beta1\",\n",
    "  \"kind\": \"Deployment\",\n",
    "  \"metadata\": {\n",
    "      \"name\": \"azure-dl\"\n",
    "  },\n",
    "  \"spec\":{\n",
    "      \"replicas\":2,\n",
    "      \"template\":{\n",
    "          \"metadata\":{\n",
    "              \"labels\":{\n",
    "                  \"app\":\"azure-dl\"\n",
    "              }\n",
    "          },\n",
    "          \"spec\":{\n",
    "              \"containers\":[\n",
    "                  {\n",
    "                      \"name\": \"azure-dl\",\n",
    "                      \"image\": \"fboylu/kerasres152-cpu\",\n",
    "\n",
    "                      \"ports\":[\n",
    "                          {\n",
    "                              \"containerPort\":80,\n",
    "                              \"name\":\"model\"\n",
    "                          }\n",
    "                      ],\n",
    "                      \"resources\":{\n",
    "                           \"requests\":{\n",
    "                               \"cpu\": 1\n",
    "                           },\n",
    "                           \"limits\":{\n",
    "                               \"cpu\": 1.25\n",
    "                           }\n",
    "                       }  \n",
    "                  }\n",
    "              ]\n",
    "          }\n",
    "      }\n",
    "  }\n",
    "}\n",
    "\n",
    "service_temp = {\n",
    "  \"apiVersion\": \"v1\",\n",
    "  \"kind\": \"Service\",\n",
    "  \"metadata\": {\n",
    "      \"name\": \"azure-dl\"\n",
    "  },\n",
    "  \"spec\":{\n",
    "      \"type\": \"LoadBalancer\",\n",
    "      \"ports\":[\n",
    "          {\n",
    "              \"port\":80\n",
    "          }\n",
    "      ],\n",
    "      \"selector\":{\n",
    "            \"app\":\"azure-dl\"\n",
    "      }\n",
    "   }\n",
    "}"
   ]
  },
  {
   "cell_type": "code",
   "execution_count": 10,
   "metadata": {},
   "outputs": [],
   "source": [
    "import json\n",
    "def write_json_to_file(json_dict, filename, mode='w'):\n",
    "    with open(filename, mode) as outfile:\n",
    "        json.dump(json_dict, outfile, indent=4, sort_keys=True)\n",
    "        outfile.write('\\n\\n')"
   ]
  },
  {
   "cell_type": "code",
   "execution_count": 11,
   "metadata": {},
   "outputs": [],
   "source": [
    "write_json_to_file(app_template, 'az-dl.json')"
   ]
  },
  {
   "cell_type": "code",
   "execution_count": 12,
   "metadata": {},
   "outputs": [],
   "source": [
    "write_json_to_file(service_temp, 'az-dl.json', mode='a')"
   ]
  },
  {
   "cell_type": "markdown",
   "metadata": {},
   "source": [
    "Let's check the manifest created."
   ]
  },
  {
   "cell_type": "code",
   "execution_count": 13,
   "metadata": {},
   "outputs": [
    {
     "name": "stdout",
     "output_type": "stream",
     "text": [
      "{\r\n",
      "    \"apiVersion\": \"apps/v1beta1\",\r\n",
      "    \"kind\": \"Deployment\",\r\n",
      "    \"metadata\": {\r\n",
      "        \"name\": \"azure-dl\"\r\n",
      "    },\r\n",
      "    \"spec\": {\r\n",
      "        \"replicas\": 2,\r\n",
      "        \"template\": {\r\n",
      "            \"metadata\": {\r\n",
      "                \"labels\": {\r\n",
      "                    \"app\": \"azure-dl\"\r\n",
      "                }\r\n",
      "            },\r\n",
      "            \"spec\": {\r\n",
      "                \"containers\": [\r\n",
      "                    {\r\n",
      "                        \"image\": \"fboylu/kerasres152-cpu\",\r\n",
      "                        \"name\": \"azure-dl\",\r\n",
      "                        \"ports\": [\r\n",
      "                            {\r\n",
      "                                \"containerPort\": 80,\r\n",
      "                                \"name\": \"model\"\r\n",
      "                            }\r\n",
      "                        ],\r\n",
      "                        \"resources\": {\r\n",
      "                            \"limits\": {\r\n",
      "                                \"cpu\": 1.25\r\n",
      "                            },\r\n",
      "                            \"requests\": {\r\n",
      "                                \"cpu\": 1\r\n",
      "                            }\r\n",
      "                        }\r\n",
      "                    }\r\n",
      "                ]\r\n",
      "            }\r\n",
      "        }\r\n",
      "    }\r\n",
      "}\r\n",
      "\r\n",
      "{\r\n",
      "    \"apiVersion\": \"v1\",\r\n",
      "    \"kind\": \"Service\",\r\n",
      "    \"metadata\": {\r\n",
      "        \"name\": \"azure-dl\"\r\n",
      "    },\r\n",
      "    \"spec\": {\r\n",
      "        \"ports\": [\r\n",
      "            {\r\n",
      "                \"port\": 80\r\n",
      "            }\r\n",
      "        ],\r\n",
      "        \"selector\": {\r\n",
      "            \"app\": \"azure-dl\"\r\n",
      "        },\r\n",
      "        \"type\": \"LoadBalancer\"\r\n",
      "    }\r\n",
      "}\r\n",
      "\r\n"
     ]
    }
   ],
   "source": [
    "!cat az-dl.json"
   ]
  },
  {
   "cell_type": "markdown",
   "metadata": {},
   "source": [
    "Next, we will use kubectl create command to deploy our application."
   ]
  },
  {
   "cell_type": "code",
   "execution_count": 14,
   "metadata": {},
   "outputs": [
    {
     "name": "stdout",
     "output_type": "stream",
     "text": [
      "deployment.apps \"azure-dl\" created\n",
      "service \"azure-dl\" created\n"
     ]
    }
   ],
   "source": [
    "!kubectl create -f az-dl.json"
   ]
  },
  {
   "cell_type": "markdown",
   "metadata": {},
   "source": [
    "Let's check if the pod is deployed."
   ]
  },
  {
   "cell_type": "code",
   "execution_count": 18,
   "metadata": {},
   "outputs": [
    {
     "name": "stdout",
     "output_type": "stream",
     "text": [
      "NAMESPACE     NAME                                    READY     STATUS    RESTARTS   AGE\r\n",
      "default       azure-dl-56bf5dd85c-drkb4               1/1       Running   0          11m\r\n",
      "default       azure-dl-56bf5dd85c-knnkq               1/1       Running   0          11m\r\n",
      "kube-system   azureproxy-79c5db744-j5hj4              1/1       Running   3          9d\r\n",
      "kube-system   heapster-55f855b47-bs86x                2/2       Running   0          9d\r\n",
      "kube-system   kube-dns-v20-7c556f89c5-96dfd           3/3       Running   0          9d\r\n",
      "kube-system   kube-dns-v20-7c556f89c5-fm7v2           3/3       Running   0          9d\r\n",
      "kube-system   kube-proxy-225hz                        1/1       Running   0          9d\r\n",
      "kube-system   kube-proxy-g5x5p                        1/1       Running   0          9d\r\n",
      "kube-system   kube-proxy-hw7fk                        1/1       Running   0          9d\r\n",
      "kube-system   kube-proxy-ttnsh                        1/1       Running   0          9d\r\n",
      "kube-system   kube-proxy-tvnpv                        1/1       Running   0          9d\r\n",
      "kube-system   kube-svc-redirect-278jk                 1/1       Running   0          9d\r\n",
      "kube-system   kube-svc-redirect-bhvsk                 1/1       Running   0          9d\r\n",
      "kube-system   kube-svc-redirect-chkj2                 1/1       Running   0          9d\r\n",
      "kube-system   kube-svc-redirect-k7fs6                 1/1       Running   0          9d\r\n",
      "kube-system   kube-svc-redirect-mg5cj                 1/1       Running   0          9d\r\n",
      "kube-system   kubernetes-dashboard-546f987686-rznkm   1/1       Running   2          9d\r\n",
      "kube-system   tunnelfront-5fcfb8fb44-ht5r8            1/1       Running   0          9d\r\n"
     ]
    }
   ],
   "source": [
    "!kubectl get pods --all-namespaces"
   ]
  },
  {
   "cell_type": "markdown",
   "metadata": {},
   "source": [
    "If anything goes wrong you can use the commands below to observe the events on the node as well as review the logs."
   ]
  },
  {
   "cell_type": "code",
   "execution_count": 19,
   "metadata": {},
   "outputs": [
    {
     "name": "stdout",
     "output_type": "stream",
     "text": [
      "LAST SEEN   FIRST SEEN   COUNT     NAME                                         KIND      SUBOBJECT                   TYPE      REASON                SOURCE                              MESSAGE\r\n",
      "59m         59m          1         azure-dl-56bf5dd85c-drkb4.15394cdc200a5c10   Pod       spec.containers{azure-dl}   Normal    Pulled                kubelet, aks-nodepool1-13347348-4   Successfully pulled image \"fboylu/kerasres152-cpu\"\r\n",
      "59m         59m          1         azure-dl-56bf5dd85c-drkb4.15394cdc2dedf92b   Pod       spec.containers{azure-dl}   Normal    Created               kubelet, aks-nodepool1-13347348-4   Created container\r\n",
      "59m         59m          1         azure-dl.15394cd99af490b5                    Service                               Normal    EnsuredLoadBalancer   service-controller                  Ensured load balancer\r\n"
     ]
    }
   ],
   "source": [
    "!kubectl get events"
   ]
  },
  {
   "cell_type": "markdown",
   "metadata": {},
   "source": [
    "Check the logs for the application pod."
   ]
  },
  {
   "cell_type": "code",
   "execution_count": 20,
   "metadata": {},
   "outputs": [],
   "source": [
    "pod_json = !kubectl get pods -o json\n",
    "pod_dict = json.loads(''.join(pod_json))"
   ]
  },
  {
   "cell_type": "code",
   "execution_count": 21,
   "metadata": {},
   "outputs": [
    {
     "name": "stdout",
     "output_type": "stream",
     "text": [
      "2018-06-18 16:07:37,273 CRIT Supervisor running as root (no user in config file)\r\n",
      "2018-06-18 16:07:37,277 INFO supervisord started with pid 1\r\n",
      "2018-06-18 16:07:38,279 INFO spawned: 'program_exit' with pid 9\r\n",
      "2018-06-18 16:07:38,281 INFO spawned: 'nginx' with pid 10\r\n",
      "2018-06-18 16:07:38,283 INFO spawned: 'gunicorn' with pid 11\r\n",
      "2018-06-18 16:07:39,377 INFO success: program_exit entered RUNNING state, process has stayed up for > than 1 seconds (startsecs)\r\n",
      "2018-06-18 16:07:40.050460: I tensorflow/core/platform/cpu_feature_guard.cc:140] Your CPU supports instructions that this TensorFlow binary was not compiled to use: AVX2 FMA\r\n",
      "2018-06-18 16:07:44,055 INFO success: nginx entered RUNNING state, process has stayed up for > than 5 seconds (startsecs)\r\n",
      "2018-06-18 16:07:59,073 INFO success: gunicorn entered RUNNING state, process has stayed up for > than 20 seconds (startsecs)\r\n",
      "Downloading data from https://github.com/adamcasson/resnet152/releases/download/v0.1/resnet152_weights_tf.h5\r\n",
      "\r\n",
      "     8192/243179624 [..............................] - ETA: 1:09\r\n",
      "   507904/243179624 [..............................] - ETA: 26s \r\n",
      "   974848/243179624 [..............................] - ETA: 26s\r\n",
      "  2441216/243179624 [..............................] - ETA: 15s\r\n",
      "  4947968/243179624 [..............................] - ETA: 9s \r\n",
      "  9609216/243179624 [>.............................] - ETA: 6s\r\n",
      " 15368192/243179624 [>.............................] - ETA: 4s\r\n",
      " 22405120/243179624 [=>............................] - ETA: 3s\r\n",
      " 30040064/243179624 [==>...........................] - ETA: 2s\r\n",
      " 37412864/243179624 [===>..........................] - ETA: 2s\r\n",
      " 44556288/243179624 [====>.........................] - ETA: 2s\r\n",
      " 52133888/243179624 [=====>........................] - ETA: 2s\r\n",
      " 59449344/243179624 [======>.......................] - ETA: 1s\r\n",
      " 66682880/243179624 [=======>......................] - ETA: 1s\r\n",
      " 73768960/243179624 [========>.....................] - ETA: 1s\r\n",
      " 80519168/243179624 [========>.....................] - ETA: 1s\r\n",
      " 87638016/243179624 [=========>....................] - ETA: 1s\r\n",
      " 94633984/243179624 [==========>...................] - ETA: 1s\r\n",
      "101752832/243179624 [===========>..................] - ETA: 1s\r\n",
      "107905024/243179624 [============>.................] - ETA: 1s\r\n",
      "113016832/243179624 [============>.................] - ETA: 1s\r\n",
      "118063104/243179624 [=============>................] - ETA: 1s\r\n",
      "122970112/243179624 [==============>...............] - ETA: 1s\r\n",
      "128008192/243179624 [==============>...............] - ETA: 1s\r\n",
      "133046272/243179624 [===============>..............] - ETA: 1s\r\n",
      "138043392/243179624 [================>.............] - ETA: 0s\r\n",
      "143106048/243179624 [================>.............] - ETA: 0s\r\n",
      "148070400/243179624 [=================>............] - ETA: 0s\r\n",
      "153059328/243179624 [=================>............] - ETA: 0s\r\n",
      "154214400/243179624 [==================>...........] - ETA: 0s\r\n",
      "161505280/243179624 [==================>...........] - ETA: 0s\r\n",
      "168099840/243179624 [===================>..........] - ETA: 0s\r\n",
      "173113344/243179624 [====================>.........] - ETA: 0s\r\n",
      "178118656/243179624 [====================>.........] - ETA: 0s\r\n",
      "183222272/243179624 [=====================>........] - ETA: 0s\r\n",
      "188227584/243179624 [======================>.......] - ETA: 0s\r\n",
      "193191936/243179624 [======================>.......] - ETA: 0s\r\n",
      "198221824/243179624 [=======================>......] - ETA: 0s\r\n",
      "203202560/243179624 [========================>.....] - ETA: 0s\r\n",
      "208240640/243179624 [========================>.....] - ETA: 0s\r\n",
      "213245952/243179624 [=========================>....] - ETA: 0s\r\n",
      "218300416/243179624 [=========================>....] - ETA: 0s\r\n",
      "223313920/243179624 [==========================>...] - ETA: 0s\r\n",
      "228294656/243179624 [===========================>..] - ETA: 0s\r\n",
      "233398272/243179624 [===========================>..] - ETA: 0s\r\n",
      "238551040/243179624 [============================>.] - ETA: 0s\r\n",
      "243187712/243179624 [==============================] - 2s 0us/step\r\n",
      "{\"path\": \"/code/driver.py\", \"level\": \"INFO\", \"message\": \"Model loading time: 34613.09 ms\", \"stack_info\": null, \"logger\": \"model_driver\", \"tags\": [], \"timestamp\": \"2018-06-18T16:08:14.628768Z\", \"host\": \"azure-dl-56bf5dd85c-drkb4\"}\r\n",
      "Initialising\r\n",
      "{\"path\": \"/opt/conda/envs/py3.5/lib/python3.5/site-packages/werkzeug/_internal.py\", \"level\": \"INFO\", \"message\": \" * Running on http://127.0.0.1:5000/ (Press CTRL+C to quit)\", \"stack_info\": null, \"logger\": \"werkzeug\", \"tags\": [], \"timestamp\": \"2018-06-18T16:08:14.634632Z\", \"msg\": \" * Running on %s://%s:%d/ %s\", \"host\": \"azure-dl-56bf5dd85c-drkb4\"}\r\n"
     ]
    }
   ],
   "source": [
    "!kubectl logs {pod_dict['items'][0]['metadata']['name']}"
   ]
  },
  {
   "cell_type": "code",
   "execution_count": 45,
   "metadata": {},
   "outputs": [
    {
     "name": "stdout",
     "output_type": "stream",
     "text": [
      "NAME       DESIRED   CURRENT   UP-TO-DATE   AVAILABLE   AGE\r\n",
      "azure-dl   35        35        35           35          2h\r\n"
     ]
    }
   ],
   "source": [
    "!kubectl get deployment"
   ]
  },
  {
   "cell_type": "markdown",
   "metadata": {},
   "source": [
    "It can take a few minutes for the service to populate the EXTERNAL-IP field below. This will be the IP you use to call the service. You can also specify an IP to use, please see the AKS documentation for further details."
   ]
  },
  {
   "cell_type": "code",
   "execution_count": 35,
   "metadata": {},
   "outputs": [
    {
     "name": "stdout",
     "output_type": "stream",
     "text": [
      "NAME       TYPE           CLUSTER-IP    EXTERNAL-IP     PORT(S)        AGE\r\n",
      "azure-dl   LoadBalancer   10.0.158.59   40.121.69.221   80:32698/TCP   1h\r\n"
     ]
    }
   ],
   "source": [
    "!kubectl get service azure-dl"
   ]
  },
  {
   "cell_type": "markdown",
   "metadata": {},
   "source": [
    "Next, we will [test our web application deployed on AKS](05_TestWebApp.ipynb). Once, we are done with all the notebooks of the tutorial, below instructions can be used to delete the cluster and free resources."
   ]
  },
  {
   "cell_type": "markdown",
   "metadata": {},
   "source": [
    "# Scaling"
   ]
  },
  {
   "cell_type": "code",
   "execution_count": 25,
   "metadata": {},
   "outputs": [],
   "source": [
    "#!az aks scale --resource-group=$resource_group --name=$aks_name --node-count 3"
   ]
  },
  {
   "cell_type": "code",
   "execution_count": 26,
   "metadata": {},
   "outputs": [
    {
     "name": "stdout",
     "output_type": "stream",
     "text": [
      "NAME                       STATUS    ROLES     AGE       VERSION\r\n",
      "aks-nodepool1-13347348-0   Ready     agent     9d        v1.9.6\r\n",
      "aks-nodepool1-13347348-1   Ready     agent     9d        v1.9.6\r\n",
      "aks-nodepool1-13347348-2   Ready     agent     9d        v1.9.6\r\n",
      "aks-nodepool1-13347348-3   Ready     agent     9d        v1.9.6\r\n",
      "aks-nodepool1-13347348-4   Ready     agent     9d        v1.9.6\r\n"
     ]
    }
   ],
   "source": [
    "!kubectl get nodes"
   ]
  },
  {
   "cell_type": "code",
   "execution_count": 40,
   "metadata": {},
   "outputs": [
    {
     "name": "stdout",
     "output_type": "stream",
     "text": [
      "deployment.extensions \"azure-dl\" scaled\r\n"
     ]
    }
   ],
   "source": [
    "!kubectl scale --current-replicas=30 --replicas=35 deployment/azure-dl"
   ]
  },
  {
   "cell_type": "code",
   "execution_count": 48,
   "metadata": {},
   "outputs": [
    {
     "name": "stdout",
     "output_type": "stream",
     "text": [
      "NAMESPACE     NAME                                    READY     STATUS    RESTARTS   AGE\r\n",
      "default       azure-dl-56bf5dd85c-462vr               1/1       Running   0          20h\r\n",
      "default       azure-dl-56bf5dd85c-46z7c               1/1       Running   0          20h\r\n",
      "default       azure-dl-56bf5dd85c-5q4z8               1/1       Running   0          20h\r\n",
      "default       azure-dl-56bf5dd85c-5s78k               1/1       Running   0          20h\r\n",
      "default       azure-dl-56bf5dd85c-7xwgg               1/1       Running   0          20h\r\n",
      "default       azure-dl-56bf5dd85c-946br               1/1       Running   0          20h\r\n",
      "default       azure-dl-56bf5dd85c-9zvdh               1/1       Running   0          20h\r\n",
      "default       azure-dl-56bf5dd85c-drkb4               1/1       Running   0          21h\r\n",
      "default       azure-dl-56bf5dd85c-fw5l7               1/1       Running   0          20h\r\n",
      "default       azure-dl-56bf5dd85c-gkgmd               1/1       Running   0          20h\r\n",
      "default       azure-dl-56bf5dd85c-gmbf9               1/1       Running   0          20h\r\n",
      "default       azure-dl-56bf5dd85c-hhjmh               1/1       Running   0          20h\r\n",
      "default       azure-dl-56bf5dd85c-knkrm               1/1       Running   0          20h\r\n",
      "default       azure-dl-56bf5dd85c-knnkq               1/1       Running   0          21h\r\n",
      "default       azure-dl-56bf5dd85c-kpbgr               1/1       Running   0          20h\r\n",
      "default       azure-dl-56bf5dd85c-m7pvt               1/1       Running   0          20h\r\n",
      "default       azure-dl-56bf5dd85c-mx97g               1/1       Running   0          20h\r\n",
      "default       azure-dl-56bf5dd85c-p6l7f               1/1       Running   0          20h\r\n",
      "default       azure-dl-56bf5dd85c-ppcbc               1/1       Running   0          20h\r\n",
      "default       azure-dl-56bf5dd85c-ppdcq               1/1       Running   0          20h\r\n",
      "default       azure-dl-56bf5dd85c-rftpc               1/1       Running   0          20h\r\n",
      "default       azure-dl-56bf5dd85c-rt7fg               1/1       Running   0          20h\r\n",
      "default       azure-dl-56bf5dd85c-rv4x7               1/1       Running   0          20h\r\n",
      "default       azure-dl-56bf5dd85c-rzhtb               1/1       Running   0          20h\r\n",
      "default       azure-dl-56bf5dd85c-rzlmt               1/1       Running   0          20h\r\n",
      "default       azure-dl-56bf5dd85c-scclg               1/1       Running   0          20h\r\n",
      "default       azure-dl-56bf5dd85c-ss7dm               1/1       Running   0          20h\r\n",
      "default       azure-dl-56bf5dd85c-sxsgs               1/1       Running   0          20h\r\n",
      "default       azure-dl-56bf5dd85c-v288r               1/1       Running   0          20h\r\n",
      "default       azure-dl-56bf5dd85c-v4vjs               1/1       Running   0          20h\r\n",
      "default       azure-dl-56bf5dd85c-vlctc               1/1       Running   0          20h\r\n",
      "default       azure-dl-56bf5dd85c-vmhwp               1/1       Running   0          20h\r\n",
      "default       azure-dl-56bf5dd85c-w8jnb               1/1       Running   0          20h\r\n",
      "default       azure-dl-56bf5dd85c-xqvfn               1/1       Running   0          20h\r\n",
      "default       azure-dl-56bf5dd85c-z7jpr               1/1       Running   0          20h\r\n",
      "kube-system   azureproxy-79c5db744-j5hj4              1/1       Running   3          10d\r\n",
      "kube-system   heapster-55f855b47-bs86x                2/2       Running   0          10d\r\n",
      "kube-system   kube-dns-v20-7c556f89c5-96dfd           3/3       Running   0          10d\r\n",
      "kube-system   kube-dns-v20-7c556f89c5-fm7v2           3/3       Running   0          10d\r\n",
      "kube-system   kube-proxy-225hz                        1/1       Running   0          10d\r\n",
      "kube-system   kube-proxy-g5x5p                        1/1       Running   0          10d\r\n",
      "kube-system   kube-proxy-hw7fk                        1/1       Running   0          10d\r\n",
      "kube-system   kube-proxy-ttnsh                        1/1       Running   0          10d\r\n",
      "kube-system   kube-proxy-tvnpv                        1/1       Running   0          10d\r\n",
      "kube-system   kube-svc-redirect-278jk                 1/1       Running   0          10d\r\n",
      "kube-system   kube-svc-redirect-bhvsk                 1/1       Running   0          10d\r\n",
      "kube-system   kube-svc-redirect-chkj2                 1/1       Running   0          10d\r\n",
      "kube-system   kube-svc-redirect-k7fs6                 1/1       Running   0          10d\r\n",
      "kube-system   kube-svc-redirect-mg5cj                 1/1       Running   0          10d\r\n",
      "kube-system   kubernetes-dashboard-546f987686-rznkm   1/1       Running   2          10d\r\n",
      "kube-system   tunnelfront-5fcfb8fb44-ht5r8            1/1       Running   0          10d\r\n"
     ]
    }
   ],
   "source": [
    "!kubectl get pods --all-namespaces"
   ]
  },
  {
   "cell_type": "markdown",
   "metadata": {},
   "source": [
    "# Tear it all down"
   ]
  },
  {
   "cell_type": "markdown",
   "metadata": {},
   "source": [
    "Once you are done with your cluster you can use the following two commands to destroy it all."
   ]
  },
  {
   "cell_type": "code",
   "execution_count": 49,
   "metadata": {},
   "outputs": [
    {
     "name": "stdout",
     "output_type": "stream",
     "text": [
      "deployment.apps \"azure-dl\" deleted\n",
      "service \"azure-dl\" deleted\n"
     ]
    }
   ],
   "source": [
    "!kubectl delete -f az-dl.json"
   ]
  },
  {
   "cell_type": "code",
   "execution_count": 3,
   "metadata": {},
   "outputs": [
    {
     "name": "stdout",
     "output_type": "stream",
     "text": [
      "\r",
      "\u001b[K - Starting ..\r",
      "\r",
      "\u001b[K - Finished ..\r",
      "\r",
      "\u001b[K\u001b[0m"
     ]
    }
   ],
   "source": [
    "!az aks delete -n $aks_name -g $resource_group -y"
   ]
  },
  {
   "cell_type": "code",
   "execution_count": 4,
   "metadata": {},
   "outputs": [
    {
     "name": "stdout",
     "output_type": "stream",
     "text": [
      "\u001b[K - Finished ..\u001b[0m"
     ]
    }
   ],
   "source": [
    "!az group delete --name $resource_group -y"
   ]
  }
 ],
 "metadata": {
  "kernelspec": {
   "display_name": "Python [conda env:py35]",
   "language": "python",
   "name": "conda-env-py35-py"
  },
  "language_info": {
   "codemirror_mode": {
    "name": "ipython",
    "version": 3
   },
   "file_extension": ".py",
   "mimetype": "text/x-python",
   "name": "python",
   "nbconvert_exporter": "python",
   "pygments_lexer": "ipython3",
   "version": "3.5.4"
  }
 },
 "nbformat": 4,
 "nbformat_minor": 2
}
