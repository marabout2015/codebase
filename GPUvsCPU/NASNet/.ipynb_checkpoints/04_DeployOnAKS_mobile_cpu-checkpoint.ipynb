{
 "cells": [
  {
   "cell_type": "markdown",
   "metadata": {},
   "source": [
    "# Deploy Web App on Azure Container Services (AKS)\n"
   ]
  },
  {
   "cell_type": "markdown",
   "metadata": {},
   "source": [
    "In this notebook, we will set up an Azure Container Service which will be managed by Kubernetes. We will then take the Docker image we created earlier that contains our app and deploy it to the AKS cluster. Then, we will check everything is working by sending an image to it and getting it scored. \n",
    "\n",
    "The process is split into the following steps:\n",
    "- Define our resource names\n",
    "- Login to Azure\n",
    "- Create resource group and create AKS\n",
    "- Connect to AKS\n",
    "- Deploy our app\n",
    "- Tear it all down\n",
    "\n",
    "We assume that this notebook is running on Linux and Azure CLI is installed before proceeding."
   ]
  },
  {
   "cell_type": "markdown",
   "metadata": {},
   "source": [
    "## Setup"
   ]
  },
  {
   "cell_type": "markdown",
   "metadata": {},
   "source": [
    "Below are the various name definitions for the resources needed to setup AKS as well as the name of the Docker image we will be using."
   ]
  },
  {
   "cell_type": "code",
   "execution_count": 1,
   "metadata": {
    "collapsed": true
   },
   "outputs": [],
   "source": [
    "# Please modify the below as you see fit\n",
    "resource_group = \"<RESOURCE_GROUP>\" \n",
    "aks_name = \"<AKS_CLUSTER_NAME>\"\n",
    "location = \"eastus\"\n",
    "\n",
    "image_name = '<YOUR_DOCKER_IMAGE>' # 'fboylu/kerastf-gpu' Feel free to use this image if you want to \n",
    "                                   # skip creating your own container\n",
    "selected_subscription = \"'<YOUR_SUBSCRIPTION>'\" # If you have multiple subscriptions select \n",
    "                                                # the subscription you want to use here"
   ]
  },
  {
   "cell_type": "code",
   "execution_count": 1,
   "metadata": {},
   "outputs": [],
   "source": [
    "resource_group = \"fbakscpurg\" # Feel free to modify these\n",
    "aks_name = \"fbAKSClustercpu\"\n",
    "location = \"eastus\"\n",
    "\n",
    "image_name = \"fboylu/kerasnasm-cpu\" \n",
    "selected_subscription = \"'Team Danielle Internal'\""
   ]
  },
  {
   "cell_type": "markdown",
   "metadata": {},
   "source": [
    "## Azure account login"
   ]
  },
  {
   "cell_type": "markdown",
   "metadata": {},
   "source": [
    "The command below will initiate a login to your Azure account. It will pop up with an url to go to where you will enter a one off code and log into your Azure account using your browser."
   ]
  },
  {
   "cell_type": "code",
   "execution_count": 3,
   "metadata": {},
   "outputs": [
    {
     "name": "stdout",
     "output_type": "stream",
     "text": [
      "\u001b[33mTo sign in, use a web browser to open the page https://microsoft.com/devicelogin and enter the code FQ9PHU9ND to authenticate.\u001b[0m\n",
      "CloudName    IsDefault    Name                           State    TenantId\n",
      "-----------  -----------  -----------------------------  -------  ------------------------------------\n",
      "AzureCloud   False        Boston DS Dev                  Enabled  72f988bf-86f1-41af-91ab-2d7cd011db47\n",
      "AzureCloud   False        Internal Consumption           Enabled  72f988bf-86f1-41af-91ab-2d7cd011db47\n",
      "AzureCloud   True         Team Danielle Internal         Enabled  72f988bf-86f1-41af-91ab-2d7cd011db47\n",
      "AzureCloud   False        Boston Engineering             Enabled  72f988bf-86f1-41af-91ab-2d7cd011db47\n",
      "AzureCloud   False        ADLTrainingMS                  Enabled  72f988bf-86f1-41af-91ab-2d7cd011db47\n",
      "AzureCloud   False        Ads Eng Big Data Subscription  Enabled  72f988bf-86f1-41af-91ab-2d7cd011db47\n",
      "AzureCloud   False        Data Wrangling Preview         Enabled  72f988bf-86f1-41af-91ab-2d7cd011db47\n",
      "AzureCloud   False        R portal - Production          Enabled  72f988bf-86f1-41af-91ab-2d7cd011db47\n",
      "AzureCloud   False        Project Vienna Demo 1          Enabled  72f988bf-86f1-41af-91ab-2d7cd011db47\n",
      "AzureCloud   False        Solution Template Testing      Enabled  72f988bf-86f1-41af-91ab-2d7cd011db47\n",
      "AzureCloud   False        Team Ilan                      Enabled  72f988bf-86f1-41af-91ab-2d7cd011db47\n"
     ]
    }
   ],
   "source": [
    "!az login -o table"
   ]
  },
  {
   "cell_type": "code",
   "execution_count": 7,
   "metadata": {
    "collapsed": true
   },
   "outputs": [],
   "source": [
    "!az account set --subscription $selected_subscription"
   ]
  },
  {
   "cell_type": "code",
   "execution_count": 2,
   "metadata": {},
   "outputs": [
    {
     "name": "stdout",
     "output_type": "stream",
     "text": [
      "{\r\n",
      "  \"environmentName\": \"AzureCloud\",\r\n",
      "  \"id\": \"edf507a2-6235-46c5-b560-fd463ba2e771\",\r\n",
      "  \"isDefault\": true,\r\n",
      "  \"name\": \"Team Danielle Internal\",\r\n",
      "  \"state\": \"Enabled\",\r\n",
      "  \"tenantId\": \"72f988bf-86f1-41af-91ab-2d7cd011db47\",\r\n",
      "  \"user\": {\r\n",
      "    \"name\": \"fboylu@microsoft.com\",\r\n",
      "    \"type\": \"user\"\r\n",
      "  }\r\n",
      "}\r\n"
     ]
    }
   ],
   "source": [
    "!az account show"
   ]
  },
  {
   "cell_type": "markdown",
   "metadata": {},
   "source": [
    "You will also need to register the container service resources on your subscription if you haven't already done so."
   ]
  },
  {
   "cell_type": "code",
   "execution_count": 9,
   "metadata": {
    "collapsed": true
   },
   "outputs": [],
   "source": [
    "!az provider register -n Microsoft.ContainerService"
   ]
  },
  {
   "cell_type": "code",
   "execution_count": 3,
   "metadata": {},
   "outputs": [],
   "source": [
    "!az provider show -n Microsoft.ContainerService"
   ]
  },
  {
   "cell_type": "markdown",
   "metadata": {},
   "source": [
    "## Create resources and dependencies"
   ]
  },
  {
   "cell_type": "markdown",
   "metadata": {},
   "source": [
    "### Create resource group and AKS cluster"
   ]
  },
  {
   "cell_type": "markdown",
   "metadata": {},
   "source": [
    "Azure encourages the use of groups to organize all the Azure components you deploy. That way it is easier to find them but also we can delete a number of resources simply by deleting the group."
   ]
  },
  {
   "cell_type": "code",
   "execution_count": 4,
   "metadata": {},
   "outputs": [
    {
     "name": "stdout",
     "output_type": "stream",
     "text": [
      "{\r\n",
      "  \"id\": \"/subscriptions/edf507a2-6235-46c5-b560-fd463ba2e771/resourceGroups/fbakscpurg\",\r\n",
      "  \"location\": \"eastus\",\r\n",
      "  \"managedBy\": null,\r\n",
      "  \"name\": \"fbakscpurg\",\r\n",
      "  \"properties\": {\r\n",
      "    \"provisioningState\": \"Succeeded\"\r\n",
      "  },\r\n",
      "  \"tags\": null\r\n",
      "}\r\n"
     ]
    }
   ],
   "source": [
    "!az group create --name $resource_group --location $location"
   ]
  },
  {
   "cell_type": "markdown",
   "metadata": {},
   "source": [
    "Below, we create the AKS cluster in the resource group we created earlier."
   ]
  },
  {
   "cell_type": "code",
   "execution_count": 6,
   "metadata": {},
   "outputs": [
    {
     "name": "stdout",
     "output_type": "stream",
     "text": [
      "\u001b[K{- Finished ..\n",
      "  \"agentPoolProfiles\": [\n",
      "    {\n",
      "      \"count\": 5,\n",
      "      \"dnsPrefix\": null,\n",
      "      \"fqdn\": null,\n",
      "      \"name\": \"nodepool1\",\n",
      "      \"osDiskSizeGb\": null,\n",
      "      \"osType\": \"Linux\",\n",
      "      \"ports\": null,\n",
      "      \"storageProfile\": \"ManagedDisks\",\n",
      "      \"vmSize\": \"Standard_D4_v2\",\n",
      "      \"vnetSubnetId\": null\n",
      "    }\n",
      "  ],\n",
      "  \"dnsPrefix\": \"fbAKSClust-fbakscpurg-edf507\",\n",
      "  \"fqdn\": \"fbaksclust-fbakscpurg-edf507-74a0b7ae.hcp.eastus.azmk8s.io\",\n",
      "  \"id\": \"/subscriptions/edf507a2-6235-46c5-b560-fd463ba2e771/resourcegroups/fbakscpurg/providers/Microsoft.ContainerService/managedClusters/fbAKSClustercpu\",\n",
      "  \"kubernetesVersion\": \"1.9.6\",\n",
      "  \"linuxProfile\": {\n",
      "    \"adminUsername\": \"azureuser\",\n",
      "    \"ssh\": {\n",
      "      \"publicKeys\": [\n",
      "        {\n",
      "          \"keyData\": \"ssh-rsa AAAAB3NzaC1yc2EAAAADAQABAAABAQDTZYQFHNstYCR25qtvMrC6baTMS6TobaIRbgd0xOoafDy+2uBk0DMJuhGWoOcrsCnvadp5k/0K8qBRysyhlQGWb6+r8fBunThy+zpTKqdh3W8Q1y5UtKnGwwU1cqGXDOPUIXJYNPJqUKV829+MOrZjUynhHgSzDbY2ncGyoT+Farsvm01aGEdDapa+XRl4JAwtN1bb9q+Ii5y+MkpIOhLRMwATl05eNfAHmYQWtaIJZZJOHMNPswlBmLs293Wsj11vYh6/yo9S4ToEsc9Pbl5Zn6OFIu7jfzN2bM8cA3+8pru9WSthrxjJvPn8i4uTYozOdNIi09ArQ4lRT9t6rsMz\"\n",
      "        }\n",
      "      ]\n",
      "    }\n",
      "  },\n",
      "  \"location\": \"eastus\",\n",
      "  \"name\": \"fbAKSClustercpu\",\n",
      "  \"provisioningState\": \"Succeeded\",\n",
      "  \"resourceGroup\": \"fbakscpurg\",\n",
      "  \"servicePrincipalProfile\": {\n",
      "    \"clientId\": \"eeba3bfe-45f9-42de-9bdb-54416b67382d\",\n",
      "    \"keyVaultSecretRef\": null,\n",
      "    \"secret\": null\n",
      "  },\n",
      "  \"tags\": null,\n",
      "  \"type\": \"Microsoft.ContainerService/ManagedClusters\"\n",
      "}\n",
      "\u001b[0mCPU times: user 10.3 s, sys: 1.78 s, total: 12.1 s\n",
      "Wall time: 13min 40s\n"
     ]
    }
   ],
   "source": [
    "%%time\n",
    "!az aks create --resource-group $resource_group --name $aks_name --node-count 5 --generate-ssh-keys -s Standard_D4_v2"
   ]
  },
  {
   "cell_type": "code",
   "execution_count": 5,
   "metadata": {},
   "outputs": [],
   "source": [
    "# !az aks scale --resource-group=$resource_group --name=$aks_name --node-count 5"
   ]
  },
  {
   "cell_type": "code",
   "execution_count": 7,
   "metadata": {},
   "outputs": [
    {
     "name": "stdout",
     "output_type": "stream",
     "text": [
      "Name             Location    ResourceGroup    KubernetesVersion    ProvisioningState    Fqdn\r\n",
      "---------------  ----------  ---------------  -------------------  -------------------  ----------------------------------------------------------\r\n",
      "dangdevopsclstr  eastus      dangdevops       1.9.6                Succeeded            devops-3b040ce9.hcp.eastus.azmk8s.io\r\n",
      "ddaks            eastus      ddaksdeploy      1.8.11               Failed               ddaks-ddaksdeploy-edf507-eefe283f.hcp.eastus.azmk8s.io\r\n",
      "fbAKSClustercpu  eastus      fbakscpurg       1.9.6                Succeeded            fbaksclust-fbakscpurg-edf507-74a0b7ae.hcp.eastus.azmk8s.io\r\n",
      "fbAKSClustergpu  eastus      fbaksrg          1.9.6                Succeeded            fbaksclust-fbaksrg-edf507-e12d7f40.hcp.eastus.azmk8s.io\r\n",
      "msaksgpu         eastus      msaksrg          1.9.6                Succeeded            msaksgpu-msaksrg-edf507-0eeb29a6.hcp.eastus.azmk8s.io\r\n"
     ]
    }
   ],
   "source": [
    "!az aks list -o table"
   ]
  },
  {
   "cell_type": "markdown",
   "metadata": {},
   "source": [
    "### Install kubectl CLI"
   ]
  },
  {
   "cell_type": "markdown",
   "metadata": {},
   "source": [
    "To connect to the Kubernetes cluster, we will use kubectl, the Kubernetes command-line client. To install, run the following:"
   ]
  },
  {
   "cell_type": "code",
   "execution_count": 10,
   "metadata": {},
   "outputs": [
    {
     "name": "stdout",
     "output_type": "stream",
     "text": [
      "\u001b[33mDownloading client to /usr/local/bin/kubectl from https://storage.googleapis.com/kubernetes-release/release/v1.10.4/bin/linux/amd64/kubectl\u001b[0m\n",
      "\u001b[33mPlease ensure that /usr/local/bin is in your search PATH, so the `kubectl` command can be found.\u001b[0m\n"
     ]
    }
   ],
   "source": [
    "!sudo -i az aks install-cli"
   ]
  },
  {
   "cell_type": "markdown",
   "metadata": {},
   "source": [
    "## Connect to AKS cluster"
   ]
  },
  {
   "cell_type": "markdown",
   "metadata": {},
   "source": [
    "To configure kubectl to connect to the Kubernetes cluster, run the following command:"
   ]
  },
  {
   "cell_type": "code",
   "execution_count": 11,
   "metadata": {},
   "outputs": [
    {
     "name": "stdout",
     "output_type": "stream",
     "text": [
      "Merged \"fbAKSClustercpu\" as current context in /home/fboylu/.kube/config\r\n"
     ]
    }
   ],
   "source": [
    "!az aks get-credentials --resource-group $resource_group --name $aks_name"
   ]
  },
  {
   "cell_type": "markdown",
   "metadata": {},
   "source": [
    "Let's verify connection by listing the nodes."
   ]
  },
  {
   "cell_type": "code",
   "execution_count": 12,
   "metadata": {},
   "outputs": [
    {
     "name": "stdout",
     "output_type": "stream",
     "text": [
      "NAME                       STATUS    ROLES     AGE       VERSION\r\n",
      "aks-nodepool1-13347348-0   Ready     agent     10m       v1.9.6\r\n",
      "aks-nodepool1-13347348-1   Ready     agent     10m       v1.9.6\r\n",
      "aks-nodepool1-13347348-2   Ready     agent     10m       v1.9.6\r\n",
      "aks-nodepool1-13347348-3   Ready     agent     10m       v1.9.6\r\n",
      "aks-nodepool1-13347348-4   Ready     agent     11m       v1.9.6\r\n"
     ]
    }
   ],
   "source": [
    "!kubectl get nodes"
   ]
  },
  {
   "cell_type": "markdown",
   "metadata": {},
   "source": [
    "Let's check the pods on our cluster."
   ]
  },
  {
   "cell_type": "code",
   "execution_count": 13,
   "metadata": {},
   "outputs": [
    {
     "name": "stdout",
     "output_type": "stream",
     "text": [
      "NAMESPACE     NAME                                    READY     STATUS    RESTARTS   AGE\r\n",
      "kube-system   azureproxy-79c5db744-j5hj4              1/1       Running   3          13m\r\n",
      "kube-system   heapster-55f855b47-bs86x                2/2       Running   0          8m\r\n",
      "kube-system   kube-dns-v20-7c556f89c5-96dfd           3/3       Running   0          13m\r\n",
      "kube-system   kube-dns-v20-7c556f89c5-fm7v2           3/3       Running   0          13m\r\n",
      "kube-system   kube-proxy-225hz                        1/1       Running   0          10m\r\n",
      "kube-system   kube-proxy-g5x5p                        1/1       Running   0          10m\r\n",
      "kube-system   kube-proxy-hw7fk                        1/1       Running   0          10m\r\n",
      "kube-system   kube-proxy-ttnsh                        1/1       Running   0          10m\r\n",
      "kube-system   kube-proxy-tvnpv                        1/1       Running   0          11m\r\n",
      "kube-system   kube-svc-redirect-278jk                 1/1       Running   0          10m\r\n",
      "kube-system   kube-svc-redirect-bhvsk                 1/1       Running   0          10m\r\n",
      "kube-system   kube-svc-redirect-chkj2                 1/1       Running   0          10m\r\n",
      "kube-system   kube-svc-redirect-k7fs6                 1/1       Running   0          11m\r\n",
      "kube-system   kube-svc-redirect-mg5cj                 1/1       Running   0          10m\r\n",
      "kube-system   kubernetes-dashboard-546f987686-rznkm   1/1       Running   2          13m\r\n",
      "kube-system   tunnelfront-5fcfb8fb44-ht5r8            1/1       Running   0          13m\r\n"
     ]
    }
   ],
   "source": [
    "!kubectl get pods --all-namespaces"
   ]
  },
  {
   "cell_type": "markdown",
   "metadata": {},
   "source": [
    "## Deploy application"
   ]
  },
  {
   "cell_type": "markdown",
   "metadata": {},
   "source": [
    "Below we define our Kubernetes manifest file for our service and load balancer. Note that we have to specify the volume mounts to the drivers that are located on the node."
   ]
  },
  {
   "cell_type": "code",
   "execution_count": 14,
   "metadata": {},
   "outputs": [],
   "source": [
    "app_template = {\n",
    "  \"apiVersion\": \"apps/v1beta1\",\n",
    "  \"kind\": \"Deployment\",\n",
    "  \"metadata\": {\n",
    "      \"name\": \"azure-dl\"\n",
    "  },\n",
    "  \"spec\":{\n",
    "      \"replicas\":2,\n",
    "      \"template\":{\n",
    "          \"metadata\":{\n",
    "              \"labels\":{\n",
    "                  \"app\":\"azure-dl\"\n",
    "              }\n",
    "          },\n",
    "          \"spec\":{\n",
    "              \"containers\":[\n",
    "                  {\n",
    "                      \"name\": \"azure-dl\",\n",
    "                      \"image\": \"fboylu/kerasnasm-cpu\",\n",
    "\n",
    "                      \"ports\":[\n",
    "                          {\n",
    "                              \"containerPort\":80,\n",
    "                              \"name\":\"model\"\n",
    "                          }\n",
    "                      ],\n",
    "                      \"resources\":{\n",
    "                           \"requests\":{\n",
    "                               \"cpu\": 1\n",
    "                           },\n",
    "                           \"limits\":{\n",
    "                               \"cpu\": 1.25\n",
    "                           }\n",
    "                       }  \n",
    "                  }\n",
    "              ]\n",
    "          }\n",
    "      }\n",
    "  }\n",
    "}\n",
    "\n",
    "service_temp = {\n",
    "  \"apiVersion\": \"v1\",\n",
    "  \"kind\": \"Service\",\n",
    "  \"metadata\": {\n",
    "      \"name\": \"azure-dl\"\n",
    "  },\n",
    "  \"spec\":{\n",
    "      \"type\": \"LoadBalancer\",\n",
    "      \"ports\":[\n",
    "          {\n",
    "              \"port\":80\n",
    "          }\n",
    "      ],\n",
    "      \"selector\":{\n",
    "            \"app\":\"azure-dl\"\n",
    "      }\n",
    "   }\n",
    "}"
   ]
  },
  {
   "cell_type": "code",
   "execution_count": 15,
   "metadata": {},
   "outputs": [],
   "source": [
    "import json\n",
    "def write_json_to_file(json_dict, filename, mode='w'):\n",
    "    with open(filename, mode) as outfile:\n",
    "        json.dump(json_dict, outfile, indent=4, sort_keys=True)\n",
    "        outfile.write('\\n\\n')"
   ]
  },
  {
   "cell_type": "code",
   "execution_count": 16,
   "metadata": {},
   "outputs": [],
   "source": [
    "write_json_to_file(app_template, 'az-dl.json')"
   ]
  },
  {
   "cell_type": "code",
   "execution_count": 17,
   "metadata": {},
   "outputs": [],
   "source": [
    "write_json_to_file(service_temp, 'az-dl.json', mode='a')"
   ]
  },
  {
   "cell_type": "markdown",
   "metadata": {},
   "source": [
    "Let's check the manifest created."
   ]
  },
  {
   "cell_type": "code",
   "execution_count": 18,
   "metadata": {},
   "outputs": [
    {
     "name": "stdout",
     "output_type": "stream",
     "text": [
      "{\r\n",
      "    \"apiVersion\": \"apps/v1beta1\",\r\n",
      "    \"kind\": \"Deployment\",\r\n",
      "    \"metadata\": {\r\n",
      "        \"name\": \"azure-dl\"\r\n",
      "    },\r\n",
      "    \"spec\": {\r\n",
      "        \"replicas\": 2,\r\n",
      "        \"template\": {\r\n",
      "            \"metadata\": {\r\n",
      "                \"labels\": {\r\n",
      "                    \"app\": \"azure-dl\"\r\n",
      "                }\r\n",
      "            },\r\n",
      "            \"spec\": {\r\n",
      "                \"containers\": [\r\n",
      "                    {\r\n",
      "                        \"image\": \"fboylu/kerasnasm-cpu\",\r\n",
      "                        \"name\": \"azure-dl\",\r\n",
      "                        \"ports\": [\r\n",
      "                            {\r\n",
      "                                \"containerPort\": 80,\r\n",
      "                                \"name\": \"model\"\r\n",
      "                            }\r\n",
      "                        ],\r\n",
      "                        \"resources\": {\r\n",
      "                            \"limits\": {\r\n",
      "                                \"cpu\": 1.25\r\n",
      "                            },\r\n",
      "                            \"requests\": {\r\n",
      "                                \"cpu\": 1\r\n",
      "                            }\r\n",
      "                        }\r\n",
      "                    }\r\n",
      "                ]\r\n",
      "            }\r\n",
      "        }\r\n",
      "    }\r\n",
      "}\r\n",
      "\r\n",
      "{\r\n",
      "    \"apiVersion\": \"v1\",\r\n",
      "    \"kind\": \"Service\",\r\n",
      "    \"metadata\": {\r\n",
      "        \"name\": \"azure-dl\"\r\n",
      "    },\r\n",
      "    \"spec\": {\r\n",
      "        \"ports\": [\r\n",
      "            {\r\n",
      "                \"port\": 80\r\n",
      "            }\r\n",
      "        ],\r\n",
      "        \"selector\": {\r\n",
      "            \"app\": \"azure-dl\"\r\n",
      "        },\r\n",
      "        \"type\": \"LoadBalancer\"\r\n",
      "    }\r\n",
      "}\r\n",
      "\r\n"
     ]
    }
   ],
   "source": [
    "!cat az-dl.json"
   ]
  },
  {
   "cell_type": "markdown",
   "metadata": {},
   "source": [
    "Next, we will use kubectl create command to deploy our application."
   ]
  },
  {
   "cell_type": "code",
   "execution_count": 19,
   "metadata": {},
   "outputs": [
    {
     "name": "stdout",
     "output_type": "stream",
     "text": [
      "deployment.apps \"azure-dl\" created\n",
      "service \"azure-dl\" created\n"
     ]
    }
   ],
   "source": [
    "!kubectl create -f az-dl.json"
   ]
  },
  {
   "cell_type": "markdown",
   "metadata": {},
   "source": [
    "Let's check if the pod is deployed."
   ]
  },
  {
   "cell_type": "code",
   "execution_count": 21,
   "metadata": {},
   "outputs": [
    {
     "name": "stdout",
     "output_type": "stream",
     "text": [
      "NAMESPACE     NAME                                    READY     STATUS    RESTARTS   AGE\r\n",
      "default       azure-dl-65485c56d8-crtk4               1/1       Running   0          10m\r\n",
      "default       azure-dl-65485c56d8-d8jwc               1/1       Running   0          10m\r\n",
      "kube-system   azureproxy-79c5db744-j5hj4              1/1       Running   3          25m\r\n",
      "kube-system   heapster-55f855b47-bs86x                2/2       Running   0          20m\r\n",
      "kube-system   kube-dns-v20-7c556f89c5-96dfd           3/3       Running   0          25m\r\n",
      "kube-system   kube-dns-v20-7c556f89c5-fm7v2           3/3       Running   0          25m\r\n",
      "kube-system   kube-proxy-225hz                        1/1       Running   0          21m\r\n",
      "kube-system   kube-proxy-g5x5p                        1/1       Running   0          21m\r\n",
      "kube-system   kube-proxy-hw7fk                        1/1       Running   0          21m\r\n",
      "kube-system   kube-proxy-ttnsh                        1/1       Running   0          21m\r\n",
      "kube-system   kube-proxy-tvnpv                        1/1       Running   0          22m\r\n",
      "kube-system   kube-svc-redirect-278jk                 1/1       Running   0          21m\r\n",
      "kube-system   kube-svc-redirect-bhvsk                 1/1       Running   0          21m\r\n",
      "kube-system   kube-svc-redirect-chkj2                 1/1       Running   0          21m\r\n",
      "kube-system   kube-svc-redirect-k7fs6                 1/1       Running   0          22m\r\n",
      "kube-system   kube-svc-redirect-mg5cj                 1/1       Running   0          21m\r\n",
      "kube-system   kubernetes-dashboard-546f987686-rznkm   1/1       Running   2          25m\r\n",
      "kube-system   tunnelfront-5fcfb8fb44-ht5r8            1/1       Running   0          25m\r\n"
     ]
    }
   ],
   "source": [
    "!kubectl get pods --all-namespaces"
   ]
  },
  {
   "cell_type": "markdown",
   "metadata": {},
   "source": [
    "If anything goes wrong you can use the commands below to observe the events on the node as well as review the logs."
   ]
  },
  {
   "cell_type": "code",
   "execution_count": 22,
   "metadata": {},
   "outputs": [
    {
     "name": "stdout",
     "output_type": "stream",
     "text": [
      "LAST SEEN   FIRST SEEN   COUNT     NAME                                         KIND         SUBOBJECT                   TYPE      REASON                    SOURCE                                 MESSAGE\n",
      "26m         26m          8         aks-nodepool1-13347348-0.153649119b03952d    Node                                     Normal    NodeHasSufficientDisk     kubelet, aks-nodepool1-13347348-0      Node aks-nodepool1-13347348-0 status is now: NodeHasSufficientDisk\n",
      "26m         26m          8         aks-nodepool1-13347348-0.153649119b04154d    Node                                     Normal    NodeHasSufficientMemory   kubelet, aks-nodepool1-13347348-0      Node aks-nodepool1-13347348-0 status is now: NodeHasSufficientMemory\n",
      "26m         26m          8         aks-nodepool1-13347348-0.153649119b044d8d    Node                                     Normal    NodeHasNoDiskPressure     kubelet, aks-nodepool1-13347348-0      Node aks-nodepool1-13347348-0 status is now: NodeHasNoDiskPressure\n",
      "26m         26m          1         aks-nodepool1-13347348-0.153649119c454647    Node                                     Normal    NodeAllocatableEnforced   kubelet, aks-nodepool1-13347348-0      Updated Node Allocatable limit across pods\n",
      "21m         21m          1         aks-nodepool1-13347348-0.153649582eaadea9    Node                                     Normal    RegisteredNode            node-controller                        Node aks-nodepool1-13347348-0 event: Registered Node aks-nodepool1-13347348-0 in Controller\n",
      "21m         21m          1         aks-nodepool1-13347348-0.1536495912cfc6dc    Node                                     Normal    Starting                  kube-proxy, aks-nodepool1-13347348-0   Starting kube-proxy.\n",
      "27m         27m          8         aks-nodepool1-13347348-1.153649060e1e9b6d    Node                                     Normal    NodeHasSufficientDisk     kubelet, aks-nodepool1-13347348-1      Node aks-nodepool1-13347348-1 status is now: NodeHasSufficientDisk\n",
      "27m         27m          8         aks-nodepool1-13347348-1.153649060e1ed6ce    Node                                     Normal    NodeHasSufficientMemory   kubelet, aks-nodepool1-13347348-1      Node aks-nodepool1-13347348-1 status is now: NodeHasSufficientMemory\n",
      "27m         27m          8         aks-nodepool1-13347348-1.153649060e1f0a5e    Node                                     Normal    NodeHasNoDiskPressure     kubelet, aks-nodepool1-13347348-1      Node aks-nodepool1-13347348-1 status is now: NodeHasNoDiskPressure\n",
      "27m         27m          1         aks-nodepool1-13347348-1.153649060f435936    Node                                     Normal    NodeAllocatableEnforced   kubelet, aks-nodepool1-13347348-1      Updated Node Allocatable limit across pods\n",
      "21m         21m          1         aks-nodepool1-13347348-1.153649582eaaccb1    Node                                     Normal    RegisteredNode            node-controller                        Node aks-nodepool1-13347348-1 event: Registered Node aks-nodepool1-13347348-1 in Controller\n",
      "21m         21m          1         aks-nodepool1-13347348-1.15364958ed28325d    Node                                     Normal    Starting                  kube-proxy, aks-nodepool1-13347348-1   Starting kube-proxy.\n",
      "27m         27m          8         aks-nodepool1-13347348-2.15364904de1c3e07    Node                                     Normal    NodeHasSufficientDisk     kubelet, aks-nodepool1-13347348-2      Node aks-nodepool1-13347348-2 status is now: NodeHasSufficientDisk\n",
      "27m         27m          8         aks-nodepool1-13347348-2.15364904de1cc97c    Node                                     Normal    NodeHasSufficientMemory   kubelet, aks-nodepool1-13347348-2      Node aks-nodepool1-13347348-2 status is now: NodeHasSufficientMemory\n",
      "27m         27m          8         aks-nodepool1-13347348-2.15364904de1d0090    Node                                     Normal    NodeHasNoDiskPressure     kubelet, aks-nodepool1-13347348-2      Node aks-nodepool1-13347348-2 status is now: NodeHasNoDiskPressure\n",
      "27m         27m          1         aks-nodepool1-13347348-2.15364904df5c42da    Node                                     Normal    NodeAllocatableEnforced   kubelet, aks-nodepool1-13347348-2      Updated Node Allocatable limit across pods\n",
      "21m         21m          1         aks-nodepool1-13347348-2.15364956f428bf16    Node                                     Normal    RegisteredNode            node-controller                        Node aks-nodepool1-13347348-2 event: Registered Node aks-nodepool1-13347348-2 in Controller\n",
      "21m         21m          1         aks-nodepool1-13347348-2.15364957e03b65ae    Node                                     Normal    Starting                  kube-proxy, aks-nodepool1-13347348-2   Starting kube-proxy.\n",
      "27m         27m          8         aks-nodepool1-13347348-3.15364905a0abffc7    Node                                     Normal    NodeHasSufficientDisk     kubelet, aks-nodepool1-13347348-3      Node aks-nodepool1-13347348-3 status is now: NodeHasSufficientDisk\n",
      "27m         27m          8         aks-nodepool1-13347348-3.15364905a0ac6e53    Node                                     Normal    NodeHasSufficientMemory   kubelet, aks-nodepool1-13347348-3      Node aks-nodepool1-13347348-3 status is now: NodeHasSufficientMemory\n",
      "27m         27m          8         aks-nodepool1-13347348-3.15364905a0ac9d34    Node                                     Normal    NodeHasNoDiskPressure     kubelet, aks-nodepool1-13347348-3      Node aks-nodepool1-13347348-3 status is now: NodeHasNoDiskPressure\n",
      "27m         27m          1         aks-nodepool1-13347348-3.15364905a1be025f    Node                                     Normal    NodeAllocatableEnforced   kubelet, aks-nodepool1-13347348-3      Updated Node Allocatable limit across pods\n",
      "21m         21m          1         aks-nodepool1-13347348-3.153649582eaa7fbd    Node                                     Normal    RegisteredNode            node-controller                        Node aks-nodepool1-13347348-3 event: Registered Node aks-nodepool1-13347348-3 in Controller\n",
      "21m         21m          1         aks-nodepool1-13347348-3.153649587c7fea33    Node                                     Normal    Starting                  kube-proxy, aks-nodepool1-13347348-3   Starting kube-proxy.\n",
      "27m         27m          8         aks-nodepool1-13347348-4.15364908cc36caa7    Node                                     Normal    NodeHasSufficientDisk     kubelet, aks-nodepool1-13347348-4      Node aks-nodepool1-13347348-4 status is now: NodeHasSufficientDisk\n",
      "27m         27m          8         aks-nodepool1-13347348-4.15364908cc374e4c    Node                                     Normal    NodeHasSufficientMemory   kubelet, aks-nodepool1-13347348-4      Node aks-nodepool1-13347348-4 status is now: NodeHasSufficientMemory\n",
      "27m         27m          7         aks-nodepool1-13347348-4.15364908cc378178    Node                                     Normal    NodeHasNoDiskPressure     kubelet, aks-nodepool1-13347348-4      Node aks-nodepool1-13347348-4 status is now: NodeHasNoDiskPressure\n",
      "27m         27m          1         aks-nodepool1-13347348-4.15364908cd57dcb5    Node                                     Normal    NodeAllocatableEnforced   kubelet, aks-nodepool1-13347348-4      Updated Node Allocatable limit across pods\n",
      "22m         22m          1         aks-nodepool1-13347348-4.1536494d92b3ae80    Node                                     Normal    RegisteredNode            node-controller                        Node aks-nodepool1-13347348-4 event: Registered Node aks-nodepool1-13347348-4 in Controller\n",
      "22m         22m          1         aks-nodepool1-13347348-4.1536494e8678e2aa    Node                                     Normal    Starting                  kube-proxy, aks-nodepool1-13347348-4   Starting kube-proxy.\n",
      "22m         22m          1         aks-nodepool1-13347348-4.15364951ff89be5a    Node                                     Normal    NodeReady                 kubelet, aks-nodepool1-13347348-4      Node aks-nodepool1-13347348-4 status is now: NodeReady\n",
      "11m         11m          1         azure-dl-65485c56d8-crtk4.153649ed20b3b7ec   Pod                                      Normal    Scheduled                 default-scheduler                      Successfully assigned azure-dl-65485c56d8-crtk4 to aks-nodepool1-13347348-4\n",
      "11m         11m          1         azure-dl-65485c56d8-crtk4.153649ed318f71ff   Pod                                      Normal    SuccessfulMountVolume     kubelet, aks-nodepool1-13347348-4      MountVolume.SetUp succeeded for volume \"default-token-lls54\" \n",
      "11m         11m          1         azure-dl-65485c56d8-crtk4.153649ed5ffb9476   Pod          spec.containers{azure-dl}   Normal    Pulling                   kubelet, aks-nodepool1-13347348-4      pulling image \"fboylu/kerasnasm-cpu\"\n",
      "8m          8m           1         azure-dl-65485c56d8-crtk4.15364a0f7853d50e   Pod          spec.containers{azure-dl}   Normal    Pulled                    kubelet, aks-nodepool1-13347348-4      Successfully pulled image \"fboylu/kerasnasm-cpu\"\n",
      "8m          8m           1         azure-dl-65485c56d8-crtk4.15364a0f9394f484   Pod          spec.containers{azure-dl}   Normal    Created                   kubelet, aks-nodepool1-13347348-4      Created container\n",
      "8m          8m           1         azure-dl-65485c56d8-crtk4.15364a0f9ee0a979   Pod          spec.containers{azure-dl}   Normal    Started                   kubelet, aks-nodepool1-13347348-4      Started container\n",
      "11m         11m          1         azure-dl-65485c56d8-d8jwc.153649ed204ebf03   Pod                                      Normal    Scheduled                 default-scheduler                      Successfully assigned azure-dl-65485c56d8-d8jwc to aks-nodepool1-13347348-2\n",
      "11m         11m          1         azure-dl-65485c56d8-d8jwc.153649ed2e800829   Pod                                      Normal    SuccessfulMountVolume     kubelet, aks-nodepool1-13347348-2      MountVolume.SetUp succeeded for volume \"default-token-lls54\" \n",
      "11m         11m          1         azure-dl-65485c56d8-d8jwc.153649ed615c817a   Pod          spec.containers{azure-dl}   Normal    Pulling                   kubelet, aks-nodepool1-13347348-2      pulling image \"fboylu/kerasnasm-cpu\"\n",
      "9m          9m           1         azure-dl-65485c56d8-d8jwc.15364a08cf073dc6   Pod          spec.containers{azure-dl}   Normal    Pulled                    kubelet, aks-nodepool1-13347348-2      Successfully pulled image \"fboylu/kerasnasm-cpu\"\n",
      "9m          9m           1         azure-dl-65485c56d8-d8jwc.15364a08df859541   Pod          spec.containers{azure-dl}   Normal    Created                   kubelet, aks-nodepool1-13347348-2      Created container\n",
      "9m          9m           1         azure-dl-65485c56d8-d8jwc.15364a08edede25d   Pod          spec.containers{azure-dl}   Normal    Started                   kubelet, aks-nodepool1-13347348-2      Started container\n",
      "11m         11m          1         azure-dl-65485c56d8.153649ed2003a7a4         ReplicaSet                               Normal    SuccessfulCreate          replicaset-controller                  Created pod: azure-dl-65485c56d8-d8jwc\n",
      "11m         11m          1         azure-dl-65485c56d8.153649ed208ad8e0         ReplicaSet                               Normal    SuccessfulCreate          replicaset-controller                  Created pod: azure-dl-65485c56d8-crtk4\n",
      "11m         11m          1         azure-dl.153649ed1f791401                    Deployment                               Normal    ScalingReplicaSet         deployment-controller                  Scaled up replica set azure-dl-65485c56d8 to 2\n",
      "11m         11m          1         azure-dl.153649ed22f0862f                    Service                                  Normal    EnsuringLoadBalancer      service-controller                     Ensuring load balancer\n",
      "8m          8m           1         azure-dl.15364a170b7aa34a                    Service                                  Normal    EnsuredLoadBalancer       service-controller                     Ensured load balancer\n"
     ]
    }
   ],
   "source": [
    "!kubectl get events"
   ]
  },
  {
   "cell_type": "markdown",
   "metadata": {},
   "source": [
    "Check the logs for the application pod."
   ]
  },
  {
   "cell_type": "code",
   "execution_count": 23,
   "metadata": {},
   "outputs": [],
   "source": [
    "pod_json = !kubectl get pods -o json\n",
    "pod_dict = json.loads(''.join(pod_json))"
   ]
  },
  {
   "cell_type": "code",
   "execution_count": 24,
   "metadata": {},
   "outputs": [
    {
     "name": "stdout",
     "output_type": "stream",
     "text": [
      "2018-06-08 20:42:34,547 CRIT Supervisor running as root (no user in config file)\r\n",
      "2018-06-08 20:42:34,549 INFO supervisord started with pid 1\r\n",
      "2018-06-08 20:42:35,552 INFO spawned: 'program_exit' with pid 9\r\n",
      "2018-06-08 20:42:35,553 INFO spawned: 'nginx' with pid 10\r\n",
      "2018-06-08 20:42:35,555 INFO spawned: 'gunicorn' with pid 11\r\n",
      "2018-06-08 20:42:36,678 INFO success: program_exit entered RUNNING state, process has stayed up for > than 1 seconds (startsecs)\r\n",
      "2018-06-08 20:42:37.287292: I tensorflow/core/platform/cpu_feature_guard.cc:140] Your CPU supports instructions that this TensorFlow binary was not compiled to use: AVX2 FMA\r\n",
      "2018-06-08 20:42:41,291 INFO success: nginx entered RUNNING state, process has stayed up for > than 5 seconds (startsecs)\r\n",
      "2018-06-08 20:42:56,310 INFO success: gunicorn entered RUNNING state, process has stayed up for > than 20 seconds (startsecs)\r\n",
      "Downloading data from https://github.com/fchollet/deep-learning-models/releases/download/v0.8/NASNet-large.h5\r\n",
      "\r\n",
      "     8192/359746192 [..............................] - ETA: 1:10\r\n",
      "   819200/359746192 [..............................] - ETA: 23s \r\n",
      "  3260416/359746192 [..............................] - ETA: 11s\r\n",
      "  9207808/359746192 [..............................] - ETA: 5s \r\n",
      " 14663680/359746192 [>.............................] - ETA: 6s\r\n",
      " 17047552/359746192 [>.............................] - ETA: 6s\r\n",
      " 24969216/359746192 [=>............................] - ETA: 5s\r\n",
      " 33521664/359746192 [=>............................] - ETA: 4s\r\n",
      " 39682048/359746192 [==>...........................] - ETA: 3s\r\n",
      " 48005120/359746192 [===>..........................] - ETA: 3s\r\n",
      " 52740096/359746192 [===>..........................] - ETA: 3s\r\n",
      " 56614912/359746192 [===>..........................] - ETA: 3s\r\n",
      " 63127552/359746192 [====>.........................] - ETA: 3s\r\n",
      " 67371008/359746192 [====>.........................] - ETA: 3s\r\n",
      " 71614464/359746192 [====>.........................] - ETA: 3s\r\n",
      " 75808768/359746192 [=====>........................] - ETA: 3s\r\n",
      " 79167488/359746192 [=====>........................] - ETA: 3s\r\n",
      " 86573056/359746192 [======>.......................] - ETA: 3s\r\n",
      " 92651520/359746192 [======>.......................] - ETA: 3s\r\n",
      " 96952320/359746192 [=======>......................] - ETA: 2s\r\n",
      "101236736/359746192 [=======>......................] - ETA: 2s\r\n",
      "105512960/359746192 [=======>......................] - ETA: 2s\r\n",
      "109830144/359746192 [========>.....................] - ETA: 2s\r\n",
      "114073600/359746192 [========>.....................] - ETA: 2s\r\n",
      "118374400/359746192 [========>.....................] - ETA: 2s\r\n",
      "122658816/359746192 [=========>....................] - ETA: 2s\r\n",
      "126885888/359746192 [=========>....................] - ETA: 2s\r\n",
      "131121152/359746192 [=========>....................] - ETA: 2s\r\n",
      "135446528/359746192 [==========>...................] - ETA: 2s\r\n",
      "139714560/359746192 [==========>...................] - ETA: 2s\r\n",
      "143941632/359746192 [===========>..................] - ETA: 2s\r\n",
      "148250624/359746192 [===========>..................] - ETA: 2s\r\n",
      "150831104/359746192 [===========>..................] - ETA: 2s\r\n",
      "153231360/359746192 [===========>..................] - ETA: 2s\r\n",
      "160595968/359746192 [============>.................] - ETA: 2s\r\n",
      "168214528/359746192 [=============>................] - ETA: 2s\r\n",
      "175890432/359746192 [=============>................] - ETA: 2s\r\n",
      "182493184/359746192 [==============>...............] - ETA: 2s\r\n",
      "190095360/359746192 [==============>...............] - ETA: 1s\r\n",
      "196263936/359746192 [===============>..............] - ETA: 1s\r\n",
      "200531968/359746192 [===============>..............] - ETA: 1s\r\n",
      "204783616/359746192 [================>.............] - ETA: 1s\r\n",
      "209059840/359746192 [================>.............] - ETA: 1s\r\n",
      "213262336/359746192 [================>.............] - ETA: 1s\r\n",
      "217604096/359746192 [=================>............] - ETA: 1s\r\n",
      "221921280/359746192 [=================>............] - ETA: 1s\r\n",
      "226099200/359746192 [=================>............] - ETA: 1s\r\n",
      "230350848/359746192 [==================>...........] - ETA: 1s\r\n",
      "234668032/359746192 [==================>...........] - ETA: 1s\r\n",
      "238944256/359746192 [==================>...........] - ETA: 1s\r\n",
      "243154944/359746192 [===================>..........] - ETA: 1s\r\n",
      "247463936/359746192 [===================>..........] - ETA: 1s\r\n",
      "251715584/359746192 [===================>..........] - ETA: 1s\r\n",
      "255950848/359746192 [====================>.........] - ETA: 1s\r\n",
      "257155072/359746192 [====================>.........] - ETA: 1s\r\n",
      "261152768/359746192 [====================>.........] - ETA: 1s\r\n",
      "269287424/359746192 [=====================>........] - ETA: 1s\r\n",
      "274309120/359746192 [=====================>........] - ETA: 0s\r\n",
      "278659072/359746192 [======================>.......] - ETA: 0s\r\n",
      "282959872/359746192 [======================>.......] - ETA: 0s\r\n",
      "287227904/359746192 [======================>.......] - ETA: 0s\r\n",
      "291487744/359746192 [=======================>......] - ETA: 0s\r\n",
      "294985728/359746192 [=======================>......] - ETA: 0s\r\n",
      "303243264/359746192 [========================>.....] - ETA: 0s\r\n",
      "308723712/359746192 [========================>.....] - ETA: 0s\r\n",
      "313098240/359746192 [=========================>....] - ETA: 0s\r\n",
      "317349888/359746192 [=========================>....] - ETA: 0s\r\n",
      "321626112/359746192 [=========================>....] - ETA: 0s\r\n",
      "325853184/359746192 [==========================>...] - ETA: 0s\r\n",
      "330088448/359746192 [==========================>...] - ETA: 0s\r\n",
      "334405632/359746192 [==========================>...] - ETA: 0s\r\n",
      "338649088/359746192 [===========================>..] - ETA: 0s\r\n",
      "342908928/359746192 [===========================>..] - ETA: 0s\r\n",
      "347168768/359746192 [===========================>..] - ETA: 0s\r\n",
      "351461376/359746192 [============================>.] - ETA: 0s\r\n",
      "355680256/359746192 [============================>.] - ETA: 0s\r\n",
      "359751680/359746192 [==============================] - 4s 0us/step\r\n",
      "{\"host\": \"azure-dl-65485c56d8-crtk4\", \"level\": \"INFO\", \"logger\": \"model_driver\", \"message\": \"Model loading time: 61036.84 ms\", \"path\": \"/code/driver.py\", \"timestamp\": \"2018-06-08T20:43:38.292126Z\", \"stack_info\": null, \"tags\": []}\r\n",
      "Initialising\r\n",
      "{\"host\": \"azure-dl-65485c56d8-crtk4\", \"level\": \"INFO\", \"logger\": \"werkzeug\", \"message\": \" * Running on http://127.0.0.1:5000/ (Press CTRL+C to quit)\", \"path\": \"/opt/conda/envs/py3.5/lib/python3.5/site-packages/werkzeug/_internal.py\", \"timestamp\": \"2018-06-08T20:43:38.299953Z\", \"stack_info\": null, \"tags\": [], \"msg\": \" * Running on %s://%s:%d/ %s\"}\r\n"
     ]
    }
   ],
   "source": [
    "!kubectl logs {pod_dict['items'][0]['metadata']['name']}"
   ]
  },
  {
   "cell_type": "code",
   "execution_count": 25,
   "metadata": {},
   "outputs": [
    {
     "name": "stdout",
     "output_type": "stream",
     "text": [
      "NAME       DESIRED   CURRENT   UP-TO-DATE   AVAILABLE   AGE\r\n",
      "azure-dl   2         2         2            2           11m\r\n"
     ]
    }
   ],
   "source": [
    "!kubectl get deployment"
   ]
  },
  {
   "cell_type": "markdown",
   "metadata": {},
   "source": [
    "It can take a few minutes for the service to populate the EXTERNAL-IP field below. This will be the IP you use to call the service. You can also specify an IP to use, please see the AKS documentation for further details."
   ]
  },
  {
   "cell_type": "code",
   "execution_count": 27,
   "metadata": {},
   "outputs": [
    {
     "name": "stdout",
     "output_type": "stream",
     "text": [
      "NAME       TYPE           CLUSTER-IP     EXTERNAL-IP      PORT(S)        AGE\r\n",
      "azure-dl   LoadBalancer   10.0.251.131   104.41.128.114   80:31891/TCP   13m\r\n"
     ]
    }
   ],
   "source": [
    "!kubectl get service azure-dl"
   ]
  },
  {
   "cell_type": "markdown",
   "metadata": {},
   "source": [
    "Next, we will [test our web application deployed on AKS](05_TestWebApp.ipynb). Once, we are done with all the notebooks of the tutorial, below instructions can be used to delete the cluster and free resources."
   ]
  },
  {
   "cell_type": "markdown",
   "metadata": {},
   "source": [
    "# Scaling"
   ]
  },
  {
   "cell_type": "code",
   "execution_count": 37,
   "metadata": {},
   "outputs": [],
   "source": [
    "#!az aks scale --resource-group=$resource_group --name=$aks_name --node-count 3"
   ]
  },
  {
   "cell_type": "code",
   "execution_count": 75,
   "metadata": {},
   "outputs": [],
   "source": [
    "# !kubectl describe nodes"
   ]
  },
  {
   "cell_type": "code",
   "execution_count": 39,
   "metadata": {},
   "outputs": [
    {
     "name": "stdout",
     "output_type": "stream",
     "text": [
      "deployment.extensions \"azure-dl\" scaled\r\n"
     ]
    }
   ],
   "source": [
    "!kubectl scale --current-replicas=20 --replicas=35 deployment/azure-dl"
   ]
  },
  {
   "cell_type": "code",
   "execution_count": 40,
   "metadata": {},
   "outputs": [
    {
     "name": "stdout",
     "output_type": "stream",
     "text": [
      "NAMESPACE     NAME                                    READY     STATUS    RESTARTS   AGE\r\n",
      "default       azure-dl-65485c56d8-2pl5h               1/1       Running   0          10s\r\n",
      "default       azure-dl-65485c56d8-4klvn               1/1       Running   0          26m\r\n",
      "default       azure-dl-65485c56d8-5fkw5               1/1       Running   0          10s\r\n",
      "default       azure-dl-65485c56d8-5hzx8               1/1       Running   0          10s\r\n",
      "default       azure-dl-65485c56d8-6pmc6               1/1       Running   0          10s\r\n",
      "default       azure-dl-65485c56d8-79lhb               1/1       Running   0          26m\r\n",
      "default       azure-dl-65485c56d8-8j8wb               1/1       Running   0          11m\r\n",
      "default       azure-dl-65485c56d8-8s487               1/1       Running   0          26m\r\n",
      "default       azure-dl-65485c56d8-8xphs               1/1       Running   0          11m\r\n",
      "default       azure-dl-65485c56d8-9tx8f               1/1       Running   0          10s\r\n",
      "default       azure-dl-65485c56d8-9wpp6               1/1       Running   0          11m\r\n",
      "default       azure-dl-65485c56d8-c56j6               1/1       Running   0          11m\r\n",
      "default       azure-dl-65485c56d8-cg97m               1/1       Running   0          10s\r\n",
      "default       azure-dl-65485c56d8-cq8rq               1/1       Running   0          11m\r\n",
      "default       azure-dl-65485c56d8-crtk4               1/1       Running   0          46m\r\n",
      "default       azure-dl-65485c56d8-ctbbk               1/1       Running   0          10s\r\n",
      "default       azure-dl-65485c56d8-d8jwc               1/1       Running   0          46m\r\n",
      "default       azure-dl-65485c56d8-dd96n               1/1       Running   0          26m\r\n",
      "default       azure-dl-65485c56d8-dkb2h               1/1       Running   0          26m\r\n",
      "default       azure-dl-65485c56d8-fcsqp               1/1       Running   0          10s\r\n",
      "default       azure-dl-65485c56d8-hgdsl               1/1       Running   0          11m\r\n",
      "default       azure-dl-65485c56d8-hzpnc               1/1       Running   0          11m\r\n",
      "default       azure-dl-65485c56d8-nlsvm               1/1       Running   0          10s\r\n",
      "default       azure-dl-65485c56d8-nmq8x               1/1       Running   0          26m\r\n",
      "default       azure-dl-65485c56d8-p9fcc               1/1       Running   0          26m\r\n",
      "default       azure-dl-65485c56d8-rl85s               1/1       Running   0          11m\r\n",
      "default       azure-dl-65485c56d8-rmj5l               1/1       Running   0          26m\r\n",
      "default       azure-dl-65485c56d8-rzjnx               1/1       Running   0          10s\r\n",
      "default       azure-dl-65485c56d8-s9wxs               1/1       Running   0          11m\r\n",
      "default       azure-dl-65485c56d8-tqk2d               1/1       Running   0          10s\r\n",
      "default       azure-dl-65485c56d8-vbvdn               1/1       Running   0          10s\r\n",
      "default       azure-dl-65485c56d8-xqw6f               1/1       Running   0          10s\r\n",
      "default       azure-dl-65485c56d8-z7f7r               1/1       Running   0          11m\r\n",
      "default       azure-dl-65485c56d8-zhbmq               1/1       Running   0          10s\r\n",
      "default       azure-dl-65485c56d8-zjqn2               1/1       Running   0          10s\r\n",
      "kube-system   azureproxy-79c5db744-j5hj4              1/1       Running   3          1h\r\n",
      "kube-system   heapster-55f855b47-bs86x                2/2       Running   0          56m\r\n",
      "kube-system   kube-dns-v20-7c556f89c5-96dfd           3/3       Running   0          1h\r\n",
      "kube-system   kube-dns-v20-7c556f89c5-fm7v2           3/3       Running   0          1h\r\n",
      "kube-system   kube-proxy-225hz                        1/1       Running   0          57m\r\n",
      "kube-system   kube-proxy-g5x5p                        1/1       Running   0          57m\r\n",
      "kube-system   kube-proxy-hw7fk                        1/1       Running   0          57m\r\n",
      "kube-system   kube-proxy-ttnsh                        1/1       Running   0          57m\r\n",
      "kube-system   kube-proxy-tvnpv                        1/1       Running   0          58m\r\n",
      "kube-system   kube-svc-redirect-278jk                 1/1       Running   0          57m\r\n",
      "kube-system   kube-svc-redirect-bhvsk                 1/1       Running   0          57m\r\n",
      "kube-system   kube-svc-redirect-chkj2                 1/1       Running   0          57m\r\n",
      "kube-system   kube-svc-redirect-k7fs6                 1/1       Running   0          58m\r\n",
      "kube-system   kube-svc-redirect-mg5cj                 1/1       Running   0          57m\r\n",
      "kube-system   kubernetes-dashboard-546f987686-rznkm   1/1       Running   2          1h\r\n",
      "kube-system   tunnelfront-5fcfb8fb44-ht5r8            1/1       Running   0          1h\r\n"
     ]
    }
   ],
   "source": [
    "!kubectl get pods --all-namespaces"
   ]
  },
  {
   "cell_type": "code",
   "execution_count": 41,
   "metadata": {},
   "outputs": [
    {
     "name": "stdout",
     "output_type": "stream",
     "text": [
      "NAME       DESIRED   CURRENT   UP-TO-DATE   AVAILABLE   AGE\r\n",
      "azure-dl   35        35        35           35          47m\r\n"
     ]
    }
   ],
   "source": [
    "!kubectl get deployment"
   ]
  },
  {
   "cell_type": "code",
   "execution_count": 34,
   "metadata": {},
   "outputs": [
    {
     "name": "stdout",
     "output_type": "stream",
     "text": [
      "2018-06-08 21:03:29,053 CRIT Supervisor running as root (no user in config file)\n",
      "2018-06-08 21:03:29,055 INFO supervisord started with pid 1\n",
      "2018-06-08 21:03:30,058 INFO spawned: 'program_exit' with pid 10\n",
      "2018-06-08 21:03:30,060 INFO spawned: 'nginx' with pid 11\n",
      "2018-06-08 21:03:30,062 INFO spawned: 'gunicorn' with pid 12\n",
      "2018-06-08 21:03:31,173 INFO success: program_exit entered RUNNING state, process has stayed up for > than 1 seconds (startsecs)\n",
      "2018-06-08 21:03:31.782670: I tensorflow/core/platform/cpu_feature_guard.cc:140] Your CPU supports instructions that this TensorFlow binary was not compiled to use: AVX2 FMA\n",
      "2018-06-08 21:03:35,787 INFO success: nginx entered RUNNING state, process has stayed up for > than 5 seconds (startsecs)\n",
      "2018-06-08 21:03:50,804 INFO success: gunicorn entered RUNNING state, process has stayed up for > than 20 seconds (startsecs)\n",
      "Downloading data from https://github.com/fchollet/deep-learning-models/releases/download/v0.8/NASNet-large.h5\n",
      "\n",
      "     8192/359746192 [..............................] - ETA: 1:53\n",
      "   417792/359746192 [..............................] - ETA: 45s \n",
      "  1531904/359746192 [..............................] - ETA: 24s\n",
      "  3604480/359746192 [..............................] - ETA: 15s\n",
      "  6684672/359746192 [..............................] - ETA: 10s\n",
      " 10526720/359746192 [..............................] - ETA: 8s \n",
      " 15736832/359746192 [>.............................] - ETA: 6s\n",
      " 18055168/359746192 [>.............................] - ETA: 6s\n",
      " 22167552/359746192 [>.............................] - ETA: 6s\n",
      " 25714688/359746192 [=>............................] - ETA: 6s\n",
      " 30310400/359746192 [=>............................] - ETA: 5s\n",
      " 34856960/359746192 [=>............................] - ETA: 5s\n",
      " 39624704/359746192 [==>...........................] - ETA: 4s\n",
      " 44851200/359746192 [==>...........................] - ETA: 4s\n",
      " 49963008/359746192 [===>..........................] - ETA: 4s\n",
      " 54886400/359746192 [===>..........................] - ETA: 4s\n",
      " 60325888/359746192 [====>.........................] - ETA: 4s\n",
      " 65732608/359746192 [====>.........................] - ETA: 3s\n",
      " 71344128/359746192 [====>.........................] - ETA: 3s\n",
      " 76718080/359746192 [=====>........................] - ETA: 3s\n",
      " 82255872/359746192 [=====>........................] - ETA: 3s\n",
      " 87474176/359746192 [======>.......................] - ETA: 3s\n",
      " 93061120/359746192 [======>.......................] - ETA: 3s\n",
      " 98197504/359746192 [=======>......................] - ETA: 3s\n",
      "102309888/359746192 [=======>......................] - ETA: 3s\n",
      "107692032/359746192 [=======>......................] - ETA: 2s\n",
      "112566272/359746192 [========>.....................] - ETA: 2s\n",
      "117350400/359746192 [========>.....................] - ETA: 2s\n",
      "123076608/359746192 [=========>....................] - ETA: 2s\n",
      "128598016/359746192 [=========>....................] - ETA: 2s\n",
      "133988352/359746192 [==========>...................] - ETA: 2s\n",
      "139739136/359746192 [==========>...................] - ETA: 2s\n",
      "145793024/359746192 [===========>..................] - ETA: 2s\n",
      "151683072/359746192 [===========>..................] - ETA: 2s\n",
      "157728768/359746192 [============>.................] - ETA: 2s\n",
      "163741696/359746192 [============>.................] - ETA: 2s\n",
      "169828352/359746192 [=============>................] - ETA: 2s\n",
      "175775744/359746192 [=============>................] - ETA: 1s\n",
      "182083584/359746192 [==============>...............] - ETA: 1s\n",
      "188522496/359746192 [==============>...............] - ETA: 1s\n",
      "194330624/359746192 [===============>..............] - ETA: 1s\n",
      "200630272/359746192 [===============>..............] - ETA: 1s\n",
      "206946304/359746192 [================>.............] - ETA: 1s\n",
      "213516288/359746192 [================>.............] - ETA: 1s\n",
      "220217344/359746192 [=================>............] - ETA: 1s\n",
      "226918400/359746192 [=================>............] - ETA: 1s\n",
      "233865216/359746192 [==================>...........] - ETA: 1s\n",
      "240566272/359746192 [===================>..........] - ETA: 1s\n",
      "247111680/359746192 [===================>..........] - ETA: 1s\n",
      "251502592/359746192 [===================>..........] - ETA: 1s\n",
      "257507328/359746192 [====================>.........] - ETA: 0s\n",
      "264339456/359746192 [=====================>........] - ETA: 0s\n",
      "270819328/359746192 [=====================>........] - ETA: 0s\n",
      "276201472/359746192 [======================>.......] - ETA: 0s\n",
      "281247744/359746192 [======================>.......] - ETA: 0s\n",
      "286220288/359746192 [======================>.......] - ETA: 0s\n",
      "291201024/359746192 [=======================>......] - ETA: 0s\n",
      "296255488/359746192 [=======================>......] - ETA: 0s\n",
      "301293568/359746192 [========================>.....] - ETA: 0s\n",
      "306282496/359746192 [========================>.....] - ETA: 0s\n",
      "311279616/359746192 [========================>.....] - ETA: 0s\n",
      "315621376/359746192 [=========================>....] - ETA: 0s\n",
      "322224128/359746192 [=========================>....] - ETA: 0s\n",
      "329056256/359746192 [==========================>...] - ETA: 0s\n",
      "335757312/359746192 [==========================>...] - ETA: 0s\n",
      "340901888/359746192 [===========================>..] - ETA: 0s\n",
      "346013696/359746192 [===========================>..] - ETA: 0s\n",
      "351100928/359746192 [============================>.] - ETA: 0s\n",
      "356106240/359746192 [============================>.] - ETA: 0s\n",
      "359751680/359746192 [==============================] - 4s 0us/step\n",
      "{\"logger\": \"model_driver\", \"path\": \"/code/driver.py\", \"host\": \"azure-dl-65485c56d8-rmj5l\", \"tags\": [], \"stack_info\": null, \"level\": \"INFO\", \"message\": \"Model loading time: 57788.58 ms\", \"timestamp\": \"2018-06-08T21:04:29.545010Z\"}\n",
      "Initialising\n",
      "{\"logger\": \"werkzeug\", \"path\": \"/opt/conda/envs/py3.5/lib/python3.5/site-packages/werkzeug/_internal.py\", \"host\": \"azure-dl-65485c56d8-rmj5l\", \"tags\": [], \"msg\": \" * Running on %s://%s:%d/ %s\", \"stack_info\": null, \"level\": \"INFO\", \"message\": \" * Running on http://127.0.0.1:5000/ (Press CTRL+C to quit)\", \"timestamp\": \"2018-06-08T21:04:29.551542Z\"}\n"
     ]
    }
   ],
   "source": [
    "!kubectl logs azure-dl-65485c56d8-rmj5l"
   ]
  },
  {
   "cell_type": "markdown",
   "metadata": {},
   "source": [
    "# Tear it all down"
   ]
  },
  {
   "cell_type": "markdown",
   "metadata": {},
   "source": [
    "Once you are done with your cluster you can use the following two commands to destroy it all."
   ]
  },
  {
   "cell_type": "code",
   "execution_count": 54,
   "metadata": {},
   "outputs": [
    {
     "name": "stdout",
     "output_type": "stream",
     "text": [
      "deployment.apps \"azure-dl\" deleted\n",
      "service \"azure-dl\" deleted\n"
     ]
    }
   ],
   "source": [
    "!kubectl delete -f az-dl.json"
   ]
  },
  {
   "cell_type": "code",
   "execution_count": 55,
   "metadata": {},
   "outputs": [
    {
     "name": "stdout",
     "output_type": "stream",
     "text": [
      "\u001b[K\u001b[0minished .."
     ]
    }
   ],
   "source": [
    "!az aks delete -n $aks_name -g $resource_group -y"
   ]
  },
  {
   "cell_type": "code",
   "execution_count": 56,
   "metadata": {},
   "outputs": [
    {
     "name": "stdout",
     "output_type": "stream",
     "text": [
      "\u001b[K\u001b[0minished .."
     ]
    }
   ],
   "source": [
    "!az group delete --name $resource_group -y"
   ]
  }
 ],
 "metadata": {
  "kernelspec": {
   "display_name": "Python [conda env:aksenv]",
   "language": "python",
   "name": "conda-env-aksenv-py"
  },
  "language_info": {
   "codemirror_mode": {
    "name": "ipython",
    "version": 3
   },
   "file_extension": ".py",
   "mimetype": "text/x-python",
   "name": "python",
   "nbconvert_exporter": "python",
   "pygments_lexer": "ipython3",
   "version": "3.5.5"
  }
 },
 "nbformat": 4,
 "nbformat_minor": 2
}
