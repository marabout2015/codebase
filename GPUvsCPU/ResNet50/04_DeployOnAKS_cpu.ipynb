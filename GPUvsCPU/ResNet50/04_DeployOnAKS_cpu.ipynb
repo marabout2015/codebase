{
 "cells": [
  {
   "cell_type": "markdown",
   "metadata": {},
   "source": [
    "# Deploy Web App on Azure Container Services (AKS)\n"
   ]
  },
  {
   "cell_type": "markdown",
   "metadata": {},
   "source": [
    "In this notebook, we will set up an Azure Container Service which will be managed by Kubernetes. We will then take the Docker image we created earlier that contains our app and deploy it to the AKS cluster. Then, we will check everything is working by sending an image to it and getting it scored. \n",
    "\n",
    "The process is split into the following steps:\n",
    "- Define our resource names\n",
    "- Login to Azure\n",
    "- Create resource group and create AKS\n",
    "- Connect to AKS\n",
    "- Deploy our app\n",
    "- Tear it all down\n",
    "\n",
    "We assume that this notebook is running on Linux and Azure CLI is installed before proceeding."
   ]
  },
  {
   "cell_type": "markdown",
   "metadata": {},
   "source": [
    "## Setup"
   ]
  },
  {
   "cell_type": "markdown",
   "metadata": {},
   "source": [
    "Below are the various name definitions for the resources needed to setup AKS as well as the name of the Docker image we will be using."
   ]
  },
  {
   "cell_type": "code",
   "execution_count": 1,
   "metadata": {
    "collapsed": true
   },
   "outputs": [],
   "source": [
    "# Please modify the below as you see fit\n",
    "resource_group = \"<RESOURCE_GROUP>\" \n",
    "aks_name = \"<AKS_CLUSTER_NAME>\"\n",
    "location = \"eastus\"\n",
    "\n",
    "image_name = '<YOUR_DOCKER_IMAGE>' # 'fboylu/kerastf-gpu' Feel free to use this image if you want to \n",
    "                                   # skip creating your own container\n",
    "selected_subscription = \"'<YOUR_SUBSCRIPTION>'\" # If you have multiple subscriptions select \n",
    "                                                # the subscription you want to use here"
   ]
  },
  {
   "cell_type": "code",
   "execution_count": 1,
   "metadata": {},
   "outputs": [],
   "source": [
    "resource_group = \"fbakscpurg\" # Feel free to modify these\n",
    "aks_name = \"fbAKSClustercpu\"\n",
    "location = \"eastus\"\n",
    "\n",
    "image_name = \"fboylu/kerasres50-cpu\" \n",
    "selected_subscription = \"'Team Danielle Internal'\""
   ]
  },
  {
   "cell_type": "markdown",
   "metadata": {},
   "source": [
    "## Azure account login"
   ]
  },
  {
   "cell_type": "markdown",
   "metadata": {},
   "source": [
    "The command below will initiate a login to your Azure account. It will pop up with an url to go to where you will enter a one off code and log into your Azure account using your browser."
   ]
  },
  {
   "cell_type": "code",
   "execution_count": 6,
   "metadata": {
    "collapsed": true
   },
   "outputs": [],
   "source": [
    "!az login -o table"
   ]
  },
  {
   "cell_type": "code",
   "execution_count": 7,
   "metadata": {
    "collapsed": true
   },
   "outputs": [],
   "source": [
    "!az account set --subscription $selected_subscription"
   ]
  },
  {
   "cell_type": "code",
   "execution_count": 2,
   "metadata": {},
   "outputs": [
    {
     "name": "stdout",
     "output_type": "stream",
     "text": [
      "{\r\n",
      "  \"environmentName\": \"AzureCloud\",\r\n",
      "  \"id\": \"edf507a2-6235-46c5-b560-fd463ba2e771\",\r\n",
      "  \"isDefault\": true,\r\n",
      "  \"name\": \"Team Danielle Internal\",\r\n",
      "  \"state\": \"Enabled\",\r\n",
      "  \"tenantId\": \"72f988bf-86f1-41af-91ab-2d7cd011db47\",\r\n",
      "  \"user\": {\r\n",
      "    \"name\": \"fboylu@microsoft.com\",\r\n",
      "    \"type\": \"user\"\r\n",
      "  }\r\n",
      "}\r\n"
     ]
    }
   ],
   "source": [
    "!az account show"
   ]
  },
  {
   "cell_type": "markdown",
   "metadata": {},
   "source": [
    "You will also need to register the container service resources on your subscription if you haven't already done so."
   ]
  },
  {
   "cell_type": "code",
   "execution_count": 9,
   "metadata": {
    "collapsed": true
   },
   "outputs": [],
   "source": [
    "!az provider register -n Microsoft.ContainerService"
   ]
  },
  {
   "cell_type": "code",
   "execution_count": 10,
   "metadata": {
    "collapsed": true
   },
   "outputs": [],
   "source": [
    "!az provider show -n Microsoft.ContainerService"
   ]
  },
  {
   "cell_type": "markdown",
   "metadata": {},
   "source": [
    "## Create resources and dependencies"
   ]
  },
  {
   "cell_type": "markdown",
   "metadata": {},
   "source": [
    "### Create resource group and AKS cluster"
   ]
  },
  {
   "cell_type": "markdown",
   "metadata": {},
   "source": [
    "Azure encourages the use of groups to organize all the Azure components you deploy. That way it is easier to find them but also we can delete a number of resources simply by deleting the group."
   ]
  },
  {
   "cell_type": "code",
   "execution_count": 3,
   "metadata": {},
   "outputs": [
    {
     "name": "stdout",
     "output_type": "stream",
     "text": [
      "{\r\n",
      "  \"id\": \"/subscriptions/edf507a2-6235-46c5-b560-fd463ba2e771/resourceGroups/fbaksrg\",\r\n",
      "  \"location\": \"eastus\",\r\n",
      "  \"managedBy\": null,\r\n",
      "  \"name\": \"fbaksrg\",\r\n",
      "  \"properties\": {\r\n",
      "    \"provisioningState\": \"Succeeded\"\r\n",
      "  },\r\n",
      "  \"tags\": null\r\n",
      "}\r\n"
     ]
    }
   ],
   "source": [
    "!az group create --name $resource_group --location $location"
   ]
  },
  {
   "cell_type": "markdown",
   "metadata": {},
   "source": [
    "Below, we create the AKS cluster in the resource group we created earlier."
   ]
  },
  {
   "cell_type": "code",
   "execution_count": 6,
   "metadata": {},
   "outputs": [
    {
     "name": "stdout",
     "output_type": "stream",
     "text": [
      "\u001b[K{- Finished ..\n",
      "  \"agentPoolProfiles\": [\n",
      "    {\n",
      "      \"count\": 1,\n",
      "      \"dnsPrefix\": null,\n",
      "      \"fqdn\": null,\n",
      "      \"name\": \"nodepool1\",\n",
      "      \"osDiskSizeGb\": null,\n",
      "      \"osType\": \"Linux\",\n",
      "      \"ports\": null,\n",
      "      \"storageProfile\": \"ManagedDisks\",\n",
      "      \"vmSize\": \"Standard_NC6\",\n",
      "      \"vnetSubnetId\": null\n",
      "    }\n",
      "  ],\n",
      "  \"dnsPrefix\": \"fbAKSClust-fbaksrg-edf507\",\n",
      "  \"fqdn\": \"fbaksclust-fbaksrg-edf507-e12d7f40.hcp.eastus.azmk8s.io\",\n",
      "  \"id\": \"/subscriptions/edf507a2-6235-46c5-b560-fd463ba2e771/resourcegroups/fbaksrg/providers/Microsoft.ContainerService/managedClusters/fbAKSClustergpu\",\n",
      "  \"kubernetesVersion\": \"1.9.6\",\n",
      "  \"linuxProfile\": {\n",
      "    \"adminUsername\": \"azureuser\",\n",
      "    \"ssh\": {\n",
      "      \"publicKeys\": [\n",
      "        {\n",
      "          \"keyData\": \"ssh-rsa AAAAB3NzaC1yc2EAAAADAQABAAABAQDTZYQFHNstYCR25qtvMrC6baTMS6TobaIRbgd0xOoafDy+2uBk0DMJuhGWoOcrsCnvadp5k/0K8qBRysyhlQGWb6+r8fBunThy+zpTKqdh3W8Q1y5UtKnGwwU1cqGXDOPUIXJYNPJqUKV829+MOrZjUynhHgSzDbY2ncGyoT+Farsvm01aGEdDapa+XRl4JAwtN1bb9q+Ii5y+MkpIOhLRMwATl05eNfAHmYQWtaIJZZJOHMNPswlBmLs293Wsj11vYh6/yo9S4ToEsc9Pbl5Zn6OFIu7jfzN2bM8cA3+8pru9WSthrxjJvPn8i4uTYozOdNIi09ArQ4lRT9t6rsMz\"\n",
      "        }\n",
      "      ]\n",
      "    }\n",
      "  },\n",
      "  \"location\": \"eastus\",\n",
      "  \"name\": \"fbAKSClustergpu\",\n",
      "  \"provisioningState\": \"Succeeded\",\n",
      "  \"resourceGroup\": \"fbaksrg\",\n",
      "  \"servicePrincipalProfile\": {\n",
      "    \"clientId\": \"eeba3bfe-45f9-42de-9bdb-54416b67382d\",\n",
      "    \"keyVaultSecretRef\": null,\n",
      "    \"secret\": null\n",
      "  },\n",
      "  \"tags\": null,\n",
      "  \"type\": \"Microsoft.ContainerService/ManagedClusters\"\n",
      "}\n",
      "\u001b[0mCPU times: user 15.4 s, sys: 5.92 s, total: 21.3 s\n",
      "Wall time: 15min 43s\n"
     ]
    }
   ],
   "source": [
    "%%time\n",
    "!az aks create --resource-group $resource_group --name $aks_name --node-count 1 --generate-ssh-keys -s Standard_D4_v2"
   ]
  },
  {
   "cell_type": "markdown",
   "metadata": {},
   "source": [
    "### Install kubectl CLI"
   ]
  },
  {
   "cell_type": "markdown",
   "metadata": {},
   "source": [
    "To connect to the Kubernetes cluster, we will use kubectl, the Kubernetes command-line client. To install, run the following:"
   ]
  },
  {
   "cell_type": "code",
   "execution_count": 3,
   "metadata": {},
   "outputs": [
    {
     "name": "stdout",
     "output_type": "stream",
     "text": [
      "\u001b[33mDownloading client to /usr/local/bin/kubectl from https://storage.googleapis.com/kubernetes-release/release/v1.10.4/bin/linux/amd64/kubectl\u001b[0m\n",
      "\u001b[33mPlease ensure that /usr/local/bin is in your search PATH, so the `kubectl` command can be found.\u001b[0m\n"
     ]
    }
   ],
   "source": [
    "!sudo az aks install-cli"
   ]
  },
  {
   "cell_type": "markdown",
   "metadata": {},
   "source": [
    "## Connect to AKS cluster"
   ]
  },
  {
   "cell_type": "markdown",
   "metadata": {},
   "source": [
    "To configure kubectl to connect to the Kubernetes cluster, run the following command:"
   ]
  },
  {
   "cell_type": "code",
   "execution_count": 4,
   "metadata": {},
   "outputs": [
    {
     "name": "stdout",
     "output_type": "stream",
     "text": [
      "Merged \"fbAKSClustercpu\" as current context in /home/fboylu/.kube/config\r\n"
     ]
    }
   ],
   "source": [
    "!az aks get-credentials --resource-group $resource_group --name $aks_name"
   ]
  },
  {
   "cell_type": "markdown",
   "metadata": {},
   "source": [
    "Let's verify connection by listing the nodes."
   ]
  },
  {
   "cell_type": "code",
   "execution_count": 5,
   "metadata": {},
   "outputs": [
    {
     "name": "stdout",
     "output_type": "stream",
     "text": [
      "NAME                       STATUS    ROLES     AGE       VERSION\r\n",
      "aks-nodepool1-13347348-0   Ready     agent     6d        v1.9.6\r\n",
      "aks-nodepool1-13347348-1   Ready     agent     6d        v1.9.6\r\n",
      "aks-nodepool1-13347348-2   Ready     agent     6d        v1.9.6\r\n",
      "aks-nodepool1-13347348-3   Ready     agent     6d        v1.9.6\r\n",
      "aks-nodepool1-13347348-4   Ready     agent     6d        v1.9.6\r\n"
     ]
    }
   ],
   "source": [
    "!kubectl get nodes"
   ]
  },
  {
   "cell_type": "markdown",
   "metadata": {},
   "source": [
    "Let's check the pods on our cluster."
   ]
  },
  {
   "cell_type": "code",
   "execution_count": 13,
   "metadata": {},
   "outputs": [
    {
     "name": "stdout",
     "output_type": "stream",
     "text": [
      "NAMESPACE     NAME                                    READY     STATUS    RESTARTS   AGE\r\n",
      "kube-system   azureproxy-79c5db744-j5hj4              1/1       Running   3          6d\r\n",
      "kube-system   heapster-55f855b47-bs86x                2/2       Running   0          6d\r\n",
      "kube-system   kube-dns-v20-7c556f89c5-96dfd           3/3       Running   0          6d\r\n",
      "kube-system   kube-dns-v20-7c556f89c5-fm7v2           3/3       Running   0          6d\r\n",
      "kube-system   kube-proxy-225hz                        1/1       Running   0          6d\r\n",
      "kube-system   kube-proxy-g5x5p                        1/1       Running   0          6d\r\n",
      "kube-system   kube-proxy-hw7fk                        1/1       Running   0          6d\r\n",
      "kube-system   kube-proxy-ttnsh                        1/1       Running   0          6d\r\n",
      "kube-system   kube-proxy-tvnpv                        1/1       Running   0          6d\r\n",
      "kube-system   kube-svc-redirect-278jk                 1/1       Running   0          6d\r\n",
      "kube-system   kube-svc-redirect-bhvsk                 1/1       Running   0          6d\r\n",
      "kube-system   kube-svc-redirect-chkj2                 1/1       Running   0          6d\r\n",
      "kube-system   kube-svc-redirect-k7fs6                 1/1       Running   0          6d\r\n",
      "kube-system   kube-svc-redirect-mg5cj                 1/1       Running   0          6d\r\n",
      "kube-system   kubernetes-dashboard-546f987686-rznkm   1/1       Running   2          6d\r\n",
      "kube-system   tunnelfront-5fcfb8fb44-ht5r8            1/1       Running   0          6d\r\n"
     ]
    }
   ],
   "source": [
    "!kubectl get pods --all-namespaces"
   ]
  },
  {
   "cell_type": "markdown",
   "metadata": {},
   "source": [
    "## Deploy application"
   ]
  },
  {
   "cell_type": "markdown",
   "metadata": {},
   "source": [
    "Below we define our Kubernetes manifest file for our service and load balancer. Note that we have to specify the volume mounts to the drivers that are located on the node."
   ]
  },
  {
   "cell_type": "code",
   "execution_count": 14,
   "metadata": {},
   "outputs": [],
   "source": [
    "app_template = {\n",
    "  \"apiVersion\": \"apps/v1beta1\",\n",
    "  \"kind\": \"Deployment\",\n",
    "  \"metadata\": {\n",
    "      \"name\": \"azure-dl\"\n",
    "  },\n",
    "  \"spec\":{\n",
    "      \"replicas\":2,\n",
    "      \"template\":{\n",
    "          \"metadata\":{\n",
    "              \"labels\":{\n",
    "                  \"app\":\"azure-dl\"\n",
    "              }\n",
    "          },\n",
    "          \"spec\":{\n",
    "              \"containers\":[\n",
    "                  {\n",
    "                      \"name\": \"azure-dl\",\n",
    "                      \"image\": \"fboylu/kerasres50-cpu\",\n",
    "\n",
    "                      \"ports\":[\n",
    "                          {\n",
    "                              \"containerPort\":80,\n",
    "                              \"name\":\"model\"\n",
    "                          }\n",
    "                      ],\n",
    "                      \"resources\":{\n",
    "                           \"requests\":{\n",
    "                               \"cpu\": 1\n",
    "                           },\n",
    "                           \"limits\":{\n",
    "                               \"cpu\": 1.25\n",
    "                           }\n",
    "                       }  \n",
    "                  }\n",
    "              ]\n",
    "          }\n",
    "      }\n",
    "  }\n",
    "}\n",
    "\n",
    "service_temp = {\n",
    "  \"apiVersion\": \"v1\",\n",
    "  \"kind\": \"Service\",\n",
    "  \"metadata\": {\n",
    "      \"name\": \"azure-dl\"\n",
    "  },\n",
    "  \"spec\":{\n",
    "      \"type\": \"LoadBalancer\",\n",
    "      \"ports\":[\n",
    "          {\n",
    "              \"port\":80\n",
    "          }\n",
    "      ],\n",
    "      \"selector\":{\n",
    "            \"app\":\"azure-dl\"\n",
    "      }\n",
    "   }\n",
    "}"
   ]
  },
  {
   "cell_type": "code",
   "execution_count": 15,
   "metadata": {},
   "outputs": [],
   "source": [
    "import json\n",
    "def write_json_to_file(json_dict, filename, mode='w'):\n",
    "    with open(filename, mode) as outfile:\n",
    "        json.dump(json_dict, outfile, indent=4, sort_keys=True)\n",
    "        outfile.write('\\n\\n')"
   ]
  },
  {
   "cell_type": "code",
   "execution_count": 16,
   "metadata": {},
   "outputs": [],
   "source": [
    "write_json_to_file(app_template, 'az-dl.json')"
   ]
  },
  {
   "cell_type": "code",
   "execution_count": 17,
   "metadata": {},
   "outputs": [],
   "source": [
    "write_json_to_file(service_temp, 'az-dl.json', mode='a')"
   ]
  },
  {
   "cell_type": "markdown",
   "metadata": {},
   "source": [
    "Let's check the manifest created."
   ]
  },
  {
   "cell_type": "code",
   "execution_count": 18,
   "metadata": {},
   "outputs": [
    {
     "name": "stdout",
     "output_type": "stream",
     "text": [
      "{\r\n",
      "    \"apiVersion\": \"apps/v1beta1\",\r\n",
      "    \"kind\": \"Deployment\",\r\n",
      "    \"metadata\": {\r\n",
      "        \"name\": \"azure-dl\"\r\n",
      "    },\r\n",
      "    \"spec\": {\r\n",
      "        \"replicas\": 2,\r\n",
      "        \"template\": {\r\n",
      "            \"metadata\": {\r\n",
      "                \"labels\": {\r\n",
      "                    \"app\": \"azure-dl\"\r\n",
      "                }\r\n",
      "            },\r\n",
      "            \"spec\": {\r\n",
      "                \"containers\": [\r\n",
      "                    {\r\n",
      "                        \"image\": \"fboylu/kerasres50-cpu\",\r\n",
      "                        \"name\": \"azure-dl\",\r\n",
      "                        \"ports\": [\r\n",
      "                            {\r\n",
      "                                \"containerPort\": 80,\r\n",
      "                                \"name\": \"model\"\r\n",
      "                            }\r\n",
      "                        ],\r\n",
      "                        \"resources\": {\r\n",
      "                            \"limits\": {\r\n",
      "                                \"cpu\": 1.25\r\n",
      "                            },\r\n",
      "                            \"requests\": {\r\n",
      "                                \"cpu\": 1\r\n",
      "                            }\r\n",
      "                        }\r\n",
      "                    }\r\n",
      "                ]\r\n",
      "            }\r\n",
      "        }\r\n",
      "    }\r\n",
      "}\r\n",
      "\r\n",
      "{\r\n",
      "    \"apiVersion\": \"v1\",\r\n",
      "    \"kind\": \"Service\",\r\n",
      "    \"metadata\": {\r\n",
      "        \"name\": \"azure-dl\"\r\n",
      "    },\r\n",
      "    \"spec\": {\r\n",
      "        \"ports\": [\r\n",
      "            {\r\n",
      "                \"port\": 80\r\n",
      "            }\r\n",
      "        ],\r\n",
      "        \"selector\": {\r\n",
      "            \"app\": \"azure-dl\"\r\n",
      "        },\r\n",
      "        \"type\": \"LoadBalancer\"\r\n",
      "    }\r\n",
      "}\r\n",
      "\r\n"
     ]
    }
   ],
   "source": [
    "!cat az-dl.json"
   ]
  },
  {
   "cell_type": "markdown",
   "metadata": {},
   "source": [
    "Next, we will use kubectl create command to deploy our application."
   ]
  },
  {
   "cell_type": "code",
   "execution_count": 19,
   "metadata": {},
   "outputs": [
    {
     "name": "stdout",
     "output_type": "stream",
     "text": [
      "deployment.apps \"azure-dl\" created\n",
      "service \"azure-dl\" created\n"
     ]
    }
   ],
   "source": [
    "!kubectl create -f az-dl.json"
   ]
  },
  {
   "cell_type": "markdown",
   "metadata": {},
   "source": [
    "Let's check if the pod is deployed."
   ]
  },
  {
   "cell_type": "code",
   "execution_count": 28,
   "metadata": {},
   "outputs": [
    {
     "name": "stdout",
     "output_type": "stream",
     "text": [
      "NAMESPACE     NAME                                    READY     STATUS    RESTARTS   AGE\r\n",
      "default       azure-dl-6bcd9d5bfb-2txj4               1/1       Running   0          25m\r\n",
      "default       azure-dl-6bcd9d5bfb-jjjfv               1/1       Running   0          25m\r\n",
      "kube-system   azureproxy-79c5db744-j5hj4              1/1       Running   3          6d\r\n",
      "kube-system   heapster-55f855b47-bs86x                2/2       Running   0          6d\r\n",
      "kube-system   kube-dns-v20-7c556f89c5-96dfd           3/3       Running   0          6d\r\n",
      "kube-system   kube-dns-v20-7c556f89c5-fm7v2           3/3       Running   0          6d\r\n",
      "kube-system   kube-proxy-225hz                        1/1       Running   0          6d\r\n",
      "kube-system   kube-proxy-g5x5p                        1/1       Running   0          6d\r\n",
      "kube-system   kube-proxy-hw7fk                        1/1       Running   0          6d\r\n",
      "kube-system   kube-proxy-ttnsh                        1/1       Running   0          6d\r\n",
      "kube-system   kube-proxy-tvnpv                        1/1       Running   0          6d\r\n",
      "kube-system   kube-svc-redirect-278jk                 1/1       Running   0          6d\r\n",
      "kube-system   kube-svc-redirect-bhvsk                 1/1       Running   0          6d\r\n",
      "kube-system   kube-svc-redirect-chkj2                 1/1       Running   0          6d\r\n",
      "kube-system   kube-svc-redirect-k7fs6                 1/1       Running   0          6d\r\n",
      "kube-system   kube-svc-redirect-mg5cj                 1/1       Running   0          6d\r\n",
      "kube-system   kubernetes-dashboard-546f987686-rznkm   1/1       Running   2          6d\r\n",
      "kube-system   tunnelfront-5fcfb8fb44-ht5r8            1/1       Running   0          6d\r\n"
     ]
    }
   ],
   "source": [
    "!kubectl get pods --all-namespaces"
   ]
  },
  {
   "cell_type": "markdown",
   "metadata": {},
   "source": [
    "If anything goes wrong you can use the commands below to observe the events on the node as well as review the logs."
   ]
  },
  {
   "cell_type": "code",
   "execution_count": 29,
   "metadata": {},
   "outputs": [
    {
     "name": "stdout",
     "output_type": "stream",
     "text": [
      "LAST SEEN   FIRST SEEN   COUNT     NAME                                         KIND         SUBOBJECT                   TYPE      REASON                       SOURCE                              MESSAGE\r\n",
      "25m         25m          1         azure-dl-6bcd9d5bfb-2txj4.1538679fef02be92   Pod                                      Normal    Scheduled                    default-scheduler                   Successfully assigned azure-dl-6bcd9d5bfb-2txj4 to aks-nodepool1-13347348-2\r\n",
      "25m         25m          1         azure-dl-6bcd9d5bfb-2txj4.1538679ffc604553   Pod                                      Normal    SuccessfulMountVolume        kubelet, aks-nodepool1-13347348-2   MountVolume.SetUp succeeded for volume \"default-token-lls54\" \r\n",
      "22m         25m          2         azure-dl-6bcd9d5bfb-2txj4.153867a04b38abca   Pod          spec.containers{azure-dl}   Normal    Pulling                      kubelet, aks-nodepool1-13347348-2   pulling image \"fboylu/kerasres50-cpu\"\r\n",
      "22m         22m          1         azure-dl-6bcd9d5bfb-2txj4.153867c8d4c1deab   Pod          spec.containers{azure-dl}   Warning   Failed                       kubelet, aks-nodepool1-13347348-2   Failed to pull image \"fboylu/kerasres50-cpu\": rpc error: code = Canceled desc = context canceled\r\n",
      "22m         22m          1         azure-dl-6bcd9d5bfb-2txj4.153867c8d4c27aed   Pod          spec.containers{azure-dl}   Warning   Failed                       kubelet, aks-nodepool1-13347348-2   Error: ErrImagePull\r\n",
      "22m         22m          1         azure-dl-6bcd9d5bfb-2txj4.153867c8eacd52af   Pod          spec.containers{azure-dl}   Normal    BackOff                      kubelet, aks-nodepool1-13347348-2   Back-off pulling image \"fboylu/kerasres50-cpu\"\r\n",
      "22m         22m          1         azure-dl-6bcd9d5bfb-2txj4.153867c8eacd8834   Pod          spec.containers{azure-dl}   Warning   Failed                       kubelet, aks-nodepool1-13347348-2   Error: ImagePullBackOff\r\n",
      "1m          1m           1         azure-dl-6bcd9d5bfb-2txj4.153868ed51af2cc8   Pod          spec.containers{azure-dl}   Normal    Pulled                       kubelet, aks-nodepool1-13347348-2   Successfully pulled image \"fboylu/kerasres50-cpu\"\r\n",
      "1m          1m           1         azure-dl-6bcd9d5bfb-2txj4.153868ed610e110a   Pod          spec.containers{azure-dl}   Normal    Created                      kubelet, aks-nodepool1-13347348-2   Created container\r\n",
      "1m          1m           1         azure-dl-6bcd9d5bfb-2txj4.153868ed6caa25b0   Pod          spec.containers{azure-dl}   Normal    Started                      kubelet, aks-nodepool1-13347348-2   Started container\r\n",
      "25m         25m          1         azure-dl-6bcd9d5bfb-jjjfv.1538679fee3a5872   Pod                                      Normal    Scheduled                    default-scheduler                   Successfully assigned azure-dl-6bcd9d5bfb-jjjfv to aks-nodepool1-13347348-4\r\n",
      "25m         25m          1         azure-dl-6bcd9d5bfb-jjjfv.1538679ffa929654   Pod                                      Normal    SuccessfulMountVolume        kubelet, aks-nodepool1-13347348-4   MountVolume.SetUp succeeded for volume \"default-token-lls54\" \r\n",
      "22m         25m          2         azure-dl-6bcd9d5bfb-jjjfv.153867a02c00f47b   Pod          spec.containers{azure-dl}   Normal    Pulling                      kubelet, aks-nodepool1-13347348-4   pulling image \"fboylu/kerasres50-cpu\"\r\n",
      "22m         22m          1         azure-dl-6bcd9d5bfb-jjjfv.153867c8b70cc8be   Pod          spec.containers{azure-dl}   Warning   Failed                       kubelet, aks-nodepool1-13347348-4   Failed to pull image \"fboylu/kerasres50-cpu\": rpc error: code = Canceled desc = context canceled\r\n",
      "22m         22m          1         azure-dl-6bcd9d5bfb-jjjfv.153867c8b70d393f   Pod          spec.containers{azure-dl}   Warning   Failed                       kubelet, aks-nodepool1-13347348-4   Error: ErrImagePull\r\n",
      "22m         22m          1         azure-dl-6bcd9d5bfb-jjjfv.153867c8e90c01cb   Pod                                      Normal    SandboxChanged               kubelet, aks-nodepool1-13347348-4   Pod sandbox changed, it will be killed and re-created.\r\n",
      "22m         22m          3         azure-dl-6bcd9d5bfb-jjjfv.153867c92d0c8d7e   Pod          spec.containers{azure-dl}   Normal    BackOff                      kubelet, aks-nodepool1-13347348-4   Back-off pulling image \"fboylu/kerasres50-cpu\"\r\n",
      "22m         22m          3         azure-dl-6bcd9d5bfb-jjjfv.153867c92d0cb5ba   Pod          spec.containers{azure-dl}   Warning   Failed                       kubelet, aks-nodepool1-13347348-4   Error: ImagePullBackOff\r\n",
      "12m         12m          1         azure-dl-6bcd9d5bfb-jjjfv.1538684dfa61990d   Pod          spec.containers{azure-dl}   Normal    Pulled                       kubelet, aks-nodepool1-13347348-4   Successfully pulled image \"fboylu/kerasres50-cpu\"\r\n",
      "12m         12m          1         azure-dl-6bcd9d5bfb-jjjfv.1538684e0bf994c7   Pod          spec.containers{azure-dl}   Normal    Created                      kubelet, aks-nodepool1-13347348-4   Created container\r\n",
      "12m         12m          1         azure-dl-6bcd9d5bfb-jjjfv.1538684e173e5398   Pod          spec.containers{azure-dl}   Normal    Started                      kubelet, aks-nodepool1-13347348-4   Started container\r\n",
      "25m         25m          1         azure-dl-6bcd9d5bfb.1538679fee111a6e         ReplicaSet                               Normal    SuccessfulCreate             replicaset-controller               Created pod: azure-dl-6bcd9d5bfb-jjjfv\r\n",
      "25m         25m          1         azure-dl-6bcd9d5bfb.1538679fee6c27b3         ReplicaSet                               Normal    SuccessfulCreate             replicaset-controller               Created pod: azure-dl-6bcd9d5bfb-2txj4\r\n",
      "26m         26m          1         azure-dl-7fdd7b85d5-22996.15386793e771aeed   Pod          spec.containers{azure-dl}   Normal    Killing                      kubelet, aks-nodepool1-13347348-1   Killing container with id docker://azure-dl:Need to kill Pod\r\n",
      "26m         26m          1         azure-dl-7fdd7b85d5-4p5m9.15386793dc629a1b   Pod          spec.containers{azure-dl}   Normal    Killing                      kubelet, aks-nodepool1-13347348-3   Killing container with id docker://azure-dl:Need to kill Pod\r\n",
      "26m         26m          1         azure-dl-7fdd7b85d5-6l7rp.15386793dc60446b   Pod          spec.containers{azure-dl}   Normal    Killing                      kubelet, aks-nodepool1-13347348-3   Killing container with id docker://azure-dl:Need to kill Pod\r\n",
      "26m         26m          1         azure-dl-7fdd7b85d5-7w26q.15386793dcec80b0   Pod          spec.containers{azure-dl}   Normal    Killing                      kubelet, aks-nodepool1-13347348-4   Killing container with id docker://azure-dl:Need to kill Pod\r\n",
      "26m         26m          1         azure-dl-7fdd7b85d5-8n6vm.15386793d8a7bd8c   Pod          spec.containers{azure-dl}   Normal    Killing                      kubelet, aks-nodepool1-13347348-1   Killing container with id docker://azure-dl:Need to kill Pod\r\n",
      "26m         26m          1         azure-dl-7fdd7b85d5-98rvv.15386793da801f9b   Pod          spec.containers{azure-dl}   Normal    Killing                      kubelet, aks-nodepool1-13347348-3   Killing container with id docker://azure-dl:Need to kill Pod\r\n",
      "26m         26m          1         azure-dl-7fdd7b85d5-9dss5.1538679420668ab3   Pod          spec.containers{azure-dl}   Normal    Killing                      kubelet, aks-nodepool1-13347348-0   Killing container with id docker://azure-dl:Need to kill Pod\r\n",
      "26m         26m          1         azure-dl-7fdd7b85d5-9k5zp.15386793da805070   Pod          spec.containers{azure-dl}   Normal    Killing                      kubelet, aks-nodepool1-13347348-3   Killing container with id docker://azure-dl:Need to kill Pod\r\n",
      "26m         26m          1         azure-dl-7fdd7b85d5-9zd2f.153867942615fcd7   Pod          spec.containers{azure-dl}   Normal    Killing                      kubelet, aks-nodepool1-13347348-0   Killing container with id docker://azure-dl:Need to kill Pod\r\n",
      "26m         26m          1         azure-dl-7fdd7b85d5-b8lgp.15386793d9d7b096   Pod          spec.containers{azure-dl}   Normal    Killing                      kubelet, aks-nodepool1-13347348-4   Killing container with id docker://azure-dl:Need to kill Pod\r\n",
      "26m         26m          1         azure-dl-7fdd7b85d5-c4hqc.15386793d8a572dc   Pod          spec.containers{azure-dl}   Normal    Killing                      kubelet, aks-nodepool1-13347348-3   Killing container with id docker://azure-dl:Need to kill Pod\r\n",
      "26m         26m          1         azure-dl-7fdd7b85d5-g95x2.15386793d9d800aa   Pod          spec.containers{azure-dl}   Normal    Killing                      kubelet, aks-nodepool1-13347348-4   Killing container with id docker://azure-dl:Need to kill Pod\r\n",
      "26m         26m          1         azure-dl-7fdd7b85d5-gtsqg.15386793d9d6b374   Pod          spec.containers{azure-dl}   Normal    Killing                      kubelet, aks-nodepool1-13347348-4   Killing container with id docker://azure-dl:Need to kill Pod\r\n",
      "26m         26m          1         azure-dl-7fdd7b85d5-hrlmf.15386793e77796b3   Pod          spec.containers{azure-dl}   Normal    Killing                      kubelet, aks-nodepool1-13347348-1   Killing container with id docker://azure-dl:Need to kill Pod\r\n",
      "26m         26m          1         azure-dl-7fdd7b85d5-lf9gc.15386793da7efa3c   Pod          spec.containers{azure-dl}   Normal    Killing                      kubelet, aks-nodepool1-13347348-3   Killing container with id docker://azure-dl:Need to kill Pod\r\n",
      "26m         26m          1         azure-dl-7fdd7b85d5-lk2m7.15386793da7e08d1   Pod          spec.containers{azure-dl}   Normal    Killing                      kubelet, aks-nodepool1-13347348-3   Killing container with id docker://azure-dl:Need to kill Pod\r\n",
      "26m         26m          1         azure-dl-7fdd7b85d5-mdr95.15386793dc67753c   Pod          spec.containers{azure-dl}   Normal    Killing                      kubelet, aks-nodepool1-13347348-2   Killing container with id docker://azure-dl:Need to kill Pod\r\n",
      "26m         26m          1         azure-dl-7fdd7b85d5-mj87w.15386793d9d78dd1   Pod          spec.containers{azure-dl}   Normal    Killing                      kubelet, aks-nodepool1-13347348-4   Killing container with id docker://azure-dl:Need to kill Pod\r\n",
      "26m         26m          1         azure-dl-7fdd7b85d5-nh4km.15386794224a4d43   Pod          spec.containers{azure-dl}   Normal    Killing                      kubelet, aks-nodepool1-13347348-0   Killing container with id docker://azure-dl:Need to kill Pod\r\n"
     ]
    },
    {
     "name": "stdout",
     "output_type": "stream",
     "text": [
      "26m         26m          1         azure-dl-7fdd7b85d5-nn2zm.15386793db6d13c7   Pod          spec.containers{azure-dl}   Normal    Killing                      kubelet, aks-nodepool1-13347348-2   Killing container with id docker://azure-dl:Need to kill Pod\r\n",
      "26m         26m          1         azure-dl-7fdd7b85d5-nxcbl.15386793d8a6a7ce   Pod          spec.containers{azure-dl}   Normal    Killing                      kubelet, aks-nodepool1-13347348-1   Killing container with id docker://azure-dl:Need to kill Pod\r\n",
      "26m         26m          1         azure-dl-7fdd7b85d5-pvkns.15386794224a3c13   Pod          spec.containers{azure-dl}   Normal    Killing                      kubelet, aks-nodepool1-13347348-0   Killing container with id docker://azure-dl:Need to kill Pod\r\n",
      "26m         26m          1         azure-dl-7fdd7b85d5-r4d9z.15386793d4f6a7f1   Pod          spec.containers{azure-dl}   Normal    Killing                      kubelet, aks-nodepool1-13347348-2   Killing container with id docker://azure-dl:Need to kill Pod\r\n",
      "26m         26m          1         azure-dl-7fdd7b85d5-r75kq.15386793e59344ba   Pod          spec.containers{azure-dl}   Normal    Killing                      kubelet, aks-nodepool1-13347348-1   Killing container with id docker://azure-dl:Need to kill Pod\r\n",
      "26m         26m          1         azure-dl-7fdd7b85d5-s2tph.15386793dc6825ce   Pod          spec.containers{azure-dl}   Normal    Killing                      kubelet, aks-nodepool1-13347348-2   Killing container with id docker://azure-dl:Need to kill Pod\r\n",
      "26m         26m          1         azure-dl-7fdd7b85d5-v2xcm.1538679420668ab3   Pod          spec.containers{azure-dl}   Normal    Killing                      kubelet, aks-nodepool1-13347348-0   Killing container with id docker://azure-dl:Need to kill Pod\r\n",
      "26m         26m          1         azure-dl-7fdd7b85d5-vkjgm.15386793dcecb56c   Pod          spec.containers{azure-dl}   Normal    Killing                      kubelet, aks-nodepool1-13347348-4   Killing container with id docker://azure-dl:Need to kill Pod\r\n",
      "26m         26m          1         azure-dl-7fdd7b85d5-vrkhq.15386793d99ed12c   Pod          spec.containers{azure-dl}   Normal    Killing                      kubelet, aks-nodepool1-13347348-2   Killing container with id docker://azure-dl:Need to kill Pod\r\n",
      "26m         26m          1         azure-dl-7fdd7b85d5-vwgcq.15386794224dafb5   Pod          spec.containers{azure-dl}   Normal    Killing                      kubelet, aks-nodepool1-13347348-0   Killing container with id docker://azure-dl:Need to kill Pod\r\n",
      "26m         26m          1         azure-dl-7fdd7b85d5-vzg75.15386794224ada49   Pod          spec.containers{azure-dl}   Normal    Killing                      kubelet, aks-nodepool1-13347348-0   Killing container with id docker://azure-dl:Need to kill Pod\r\n",
      "26m         26m          1         azure-dl-7fdd7b85d5-wj99t.15386793d8a7e371   Pod          spec.containers{azure-dl}   Normal    Killing                      kubelet, aks-nodepool1-13347348-1   Killing container with id docker://azure-dl:Need to kill Pod\r\n",
      "26m         26m          1         azure-dl-7fdd7b85d5-wrkjm.15386793dc676538   Pod          spec.containers{azure-dl}   Normal    Killing                      kubelet, aks-nodepool1-13347348-2   Killing container with id docker://azure-dl:Need to kill Pod\r\n",
      "26m         26m          1         azure-dl-7fdd7b85d5-xdnzq.15386793d4f8673a   Pod          spec.containers{azure-dl}   Normal    Killing                      kubelet, aks-nodepool1-13347348-2   Killing container with id docker://azure-dl:Need to kill Pod\r\n",
      "26m         26m          1         azure-dl-7fdd7b85d5-xv6nw.15386793d8aed412   Pod          spec.containers{azure-dl}   Normal    Killing                      kubelet, aks-nodepool1-13347348-1   Killing container with id docker://azure-dl:Need to kill Pod\r\n",
      "26m         26m          1         azure-dl-7fdd7b85d5-zfqrq.15386793dcecc0c0   Pod          spec.containers{azure-dl}   Normal    Killing                      kubelet, aks-nodepool1-13347348-4   Killing container with id docker://azure-dl:Need to kill Pod\r\n",
      "26m         26m          1         azure-dl-7fdd7b85d5.153867916f5d7efa         ReplicaSet                               Normal    SuccessfulDelete             replicaset-controller               Deleted pod: azure-dl-7fdd7b85d5-nn2zm\r\n",
      "26m         26m          1         azure-dl-7fdd7b85d5.153867916f5fcb41         ReplicaSet                               Normal    SuccessfulDelete             replicaset-controller               Deleted pod: azure-dl-7fdd7b85d5-lf9gc\r\n",
      "26m         26m          1         azure-dl-7fdd7b85d5.153867916f608e2d         ReplicaSet                               Normal    SuccessfulDelete             replicaset-controller               Deleted pod: azure-dl-7fdd7b85d5-98rvv\r\n",
      "26m         26m          1         azure-dl-7fdd7b85d5.153867916f673de3         ReplicaSet                               Normal    SuccessfulDelete             replicaset-controller               Deleted pod: azure-dl-7fdd7b85d5-vrkhq\r\n",
      "26m         26m          1         azure-dl-7fdd7b85d5.153867916f67cc13         ReplicaSet                               Normal    SuccessfulDelete             replicaset-controller               Deleted pod: azure-dl-7fdd7b85d5-hrlmf\r\n",
      "26m         26m          1         azure-dl-7fdd7b85d5.153867916feaf030         ReplicaSet                               Normal    SuccessfulDelete             replicaset-controller               Deleted pod: azure-dl-7fdd7b85d5-vzg75\r\n",
      "26m         26m          1         azure-dl-7fdd7b85d5.153867916feb34f0         ReplicaSet                               Normal    SuccessfulDelete             replicaset-controller               Deleted pod: azure-dl-7fdd7b85d5-xdnzq\r\n",
      "26m         26m          1         azure-dl-7fdd7b85d5.153867916fef2843         ReplicaSet                               Normal    SuccessfulDelete             replicaset-controller               Deleted pod: azure-dl-7fdd7b85d5-v2xcm\r\n",
      "26m         26m          1         azure-dl-7fdd7b85d5.153867917013b6d0         ReplicaSet                               Normal    SuccessfulDelete             replicaset-controller               Deleted pod: azure-dl-7fdd7b85d5-xv6nw\r\n",
      "26m         26m          16        azure-dl-7fdd7b85d5.153867919929f38a         ReplicaSet                               Normal    SuccessfulDelete             replicaset-controller               (combined from similar events): Deleted pod: azure-dl-7fdd7b85d5-b8lgp\r\n",
      "26m         26m          1         azure-dl.153867916eb5ca5b                    Deployment                               Normal    ScalingReplicaSet            deployment-controller               Scaled down replica set azure-dl-7fdd7b85d5 to 0\r\n",
      "26m         26m          1         azure-dl.15386791c373ee56                    Service                                  Normal    DeletingLoadBalancer         service-controller                  Deleting load balancer\r\n",
      "25m         25m          1         azure-dl.1538679fecd4b0d7                    Deployment                               Normal    ScalingReplicaSet            deployment-controller               Scaled up replica set azure-dl-6bcd9d5bfb to 2\r\n",
      "23m         23m          1         azure-dl.153867b81b0f28a0                    Service                                  Normal    DeletedLoadBalancer          service-controller                  Deleted load balancer\r\n",
      "20m         23m          3         azure-dl.153867b81b0fbd10                    Service                                  Normal    EnsuringLoadBalancer         service-controller                  Ensuring load balancer\r\n",
      "20m         20m          1         azure-dl.153867dead78b1fe                    Service                                  Warning   CreatingLoadBalancerFailed   service-controller                  Error creating load balancer (will retry): failed to ensure load balancer for service default/azure-dl: [ensure(default/azure-dl): lb(kubernetes) - failed to ensure host in pool: \"network.InterfacesClient#CreateOrUpdate: Failure responding to request: StatusCode=429 -- Original Error: autorest/azure: Service returned an error. Status=429 Code=\\\"RetryableError\\\" Message=\\\"A retryable error occurred.\\\" Details=[{\\\"code\\\":\\\"ReferencedResourceNotProvisioned\\\",\\\"message\\\":\\\"Cannot proceed with operation because resource /subscriptions/edf507a2-6235-46c5-b560-fd463ba2e771/resourceGroups/MC_fbakscpurg_fbAKSClustercpu_eastus/providers/Microsoft.Compute/availabilitySets/nodepool1-availabilitySet-13347348 used by resource aks-nodepool1-13347348-nic-3 is not in Succeeded state. Resource is in Updating state and the last operation that updated/is updating the resource is InternalOperation.\\\"}]\", ensure(default/azure-dl): lb(kubernetes) - failed to ensure host in pool: \"network.InterfacesClient#CreateOrUpdate: Failure responding to request: StatusCode=429 -- Original Error: autorest/azure: Service returned an error. Status=429 Code=\\\"RetryableError\\\" Message=\\\"A retryable error occurred.\\\" Details=[{\\\"code\\\":\\\"ReferencedResourceNotProvisioned\\\",\\\"message\\\":\\\"Cannot proceed with operation because resource /subscriptions/edf507a2-6235-46c5-b560-fd463ba2e771/resourceGroups/MC_fbakscpurg_fbAKSClustercpu_eastus/providers/Microsoft.Compute/availabilitySets/nodepool1-availabilitySet-13347348 used by resource aks-nodepool1-13347348-nic-2 is not in Succeeded state. Resource is in Updating state and the last operation that updated/is updating the resource is InternalOperation.\\\"}]\", ensure(default/azure-dl): lb(kubernetes) - failed to ensure host in pool: \"network.InterfacesClient#CreateOrUpdate: Failure responding to request: StatusCode=429 -- Original Error: autorest/azure: Service returned an error. Status=429 Code=\\\"RetryableError\\\" Message=\\\"A retryable error occurred.\\\" Details=[{\\\"code\\\":\\\"ReferencedResourceNotProvisioned\\\",\\\"message\\\":\\\"Cannot proceed with operation because resource /subscriptions/edf507a2-6235-46c5-b560-fd463ba2e771/resourceGroups/MC_fbakscpurg_fbAKSClustercpu_eastus/providers/Microsoft.Compute/availabilitySets/nodepool1-availabilitySet-13347348 used by resource aks-nodepool1-13347348-nic-1 is not in Succeeded state. Resource is in Updating state and the last operation that updated/is updating the resource is InternalOperation.\\\"}]\"]\r\n",
      "20m         20m          1         azure-dl.153867e72a2a14a2                    Service                                  Warning   CreatingLoadBalancerFailed   service-controller                  Error creating load balancer (will retry): failed to ensure load balancer for service default/azure-dl: [ensure(default/azure-dl): lb(kubernetes) - failed to ensure host in pool: \"network.InterfacesClient#CreateOrUpdate: Failure responding to request: StatusCode=429 -- Original Error: autorest/azure: Service returned an error. Status=429 Code=\\\"RetryableError\\\" Message=\\\"A retryable error occurred.\\\" Details=[{\\\"code\\\":\\\"ReferencedResourceNotProvisioned\\\",\\\"message\\\":\\\"Cannot proceed with operation because resource /subscriptions/edf507a2-6235-46c5-b560-fd463ba2e771/resourceGroups/MC_fbakscpurg_fbAKSClustercpu_eastus/providers/Microsoft.Compute/availabilitySets/nodepool1-availabilitySet-13347348 used by resource aks-nodepool1-13347348-nic-2 is not in Succeeded state. Resource is in Updating state and the last operation that updated/is updating the resource is InternalOperation.\\\"}]\", ensure(default/azure-dl): lb(kubernetes) - failed to ensure host in pool: \"network.InterfacesClient#CreateOrUpdate: Failure responding to request: StatusCode=429 -- Original Error: autorest/azure: Service returned an error. Status=429 Code=\\\"RetryableError\\\" Message=\\\"A retryable error occurred.\\\" Details=[{\\\"code\\\":\\\"ReferencedResourceNotProvisioned\\\",\\\"message\\\":\\\"Cannot proceed with operation because resource /subscriptions/edf507a2-6235-46c5-b560-fd463ba2e771/resourceGroups/MC_fbakscpurg_fbAKSClustercpu_eastus/providers/Microsoft.Compute/availabilitySets/nodepool1-availabilitySet-13347348 used by resource aks-nodepool1-13347348-nic-1 is not in Succeeded state. Resource is in Updating state and the last operation that updated/is updating the resource is InternalOperation.\\\"}]\"]\r\n",
      "19m         19m          1         azure-dl.153867f85646f6de                    Service                                  Normal    EnsuredLoadBalancer          service-controller                  Ensured load balancer\r\n"
     ]
    }
   ],
   "source": [
    "!kubectl get events"
   ]
  },
  {
   "cell_type": "markdown",
   "metadata": {},
   "source": [
    "Check the logs for the application pod."
   ]
  },
  {
   "cell_type": "code",
   "execution_count": 30,
   "metadata": {},
   "outputs": [],
   "source": [
    "pod_json = !kubectl get pods -o json\n",
    "pod_dict = json.loads(''.join(pod_json))"
   ]
  },
  {
   "cell_type": "code",
   "execution_count": 31,
   "metadata": {},
   "outputs": [
    {
     "name": "stdout",
     "output_type": "stream",
     "text": [
      "2018-06-15 18:30:42,485 CRIT Supervisor running as root (no user in config file)\r\n",
      "2018-06-15 18:30:42,487 INFO supervisord started with pid 1\r\n",
      "2018-06-15 18:30:43,489 INFO spawned: 'program_exit' with pid 9\r\n",
      "2018-06-15 18:30:43,491 INFO spawned: 'nginx' with pid 10\r\n",
      "2018-06-15 18:30:43,493 INFO spawned: 'gunicorn' with pid 11\r\n",
      "2018-06-15 18:30:44,597 INFO success: program_exit entered RUNNING state, process has stayed up for > than 1 seconds (startsecs)\r\n",
      "2018-06-15 18:30:45.344927: I tensorflow/core/platform/cpu_feature_guard.cc:140] Your CPU supports instructions that this TensorFlow binary was not compiled to use: AVX2 FMA\r\n",
      "2018-06-15 18:30:49,350 INFO success: nginx entered RUNNING state, process has stayed up for > than 5 seconds (startsecs)\r\n",
      "Downloading data from https://github.com/fchollet/deep-learning-models/releases/download/v0.2/resnet50_weights_tf_dim_ordering_tf_kernels.h5\r\n",
      "\r\n",
      "     8192/102853048 [..............................] - ETA: 32s\r\n",
      "   131072/102853048 [..............................] - ETA: 1:22\r\n",
      "   770048/102853048 [..............................] - ETA: 20s \r\n",
      "  2080768/102853048 [..............................] - ETA: 9s \r\n",
      "  3923968/102853048 [>.............................] - ETA: 6s\r\n",
      "  6520832/102853048 [>.............................] - ETA: 4s\r\n",
      " 10993664/102853048 [==>...........................] - ETA: 2s\r\n",
      " 16826368/102853048 [===>..........................] - ETA: 2s\r\n",
      " 23224320/102853048 [=====>........................] - ETA: 1s\r\n",
      " 29220864/102853048 [=======>......................] - ETA: 1s\r\n",
      " 34766848/102853048 [=========>....................] - ETA: 1s\r\n",
      " 41353216/102853048 [===========>..................] - ETA: 0s\r\n",
      " 46669824/102853048 [============>.................] - ETA: 0s\r\n",
      " 54001664/102853048 [==============>...............] - ETA: 0s\r\n",
      " 61054976/102853048 [================>.............] - ETA: 0s\r\n",
      " 68190208/102853048 [==================>...........] - ETA: 0s\r\n",
      " 75816960/102853048 [=====================>........] - ETA: 0s\r\n",
      " 83173376/102853048 [=======================>......] - ETA: 0s\r\n",
      " 91267072/102853048 [=========================>....] - ETA: 0s\r\n",
      " 99606528/102853048 [============================>.] - ETA: 0s\r\n",
      "102850560/102853048 [============================>.] - ETA: 0s\r\n",
      "102858752/102853048 [==============================] - 2s 0us/step\r\n",
      "{\"level\": \"INFO\", \"path\": \"/code/driver.py\", \"host\": \"azure-dl-6bcd9d5bfb-2txj4\", \"timestamp\": \"2018-06-15T18:30:56.674076Z\", \"tags\": [], \"message\": \"Model loading time: 11361.6 ms\", \"stack_info\": null, \"logger\": \"model_driver\"}\r\n",
      "Initialising\r\n",
      "{\"level\": \"INFO\", \"path\": \"/opt/conda/envs/py3.5/lib/python3.5/site-packages/werkzeug/_internal.py\", \"host\": \"azure-dl-6bcd9d5bfb-2txj4\", \"timestamp\": \"2018-06-15T18:30:56.680493Z\", \"msg\": \" * Running on %s://%s:%d/ %s\", \"tags\": [], \"message\": \" * Running on http://127.0.0.1:5000/ (Press CTRL+C to quit)\", \"stack_info\": null, \"logger\": \"werkzeug\"}\r\n",
      "2018-06-15 18:31:03,689 INFO success: gunicorn entered RUNNING state, process has stayed up for > than 20 seconds (startsecs)\r\n"
     ]
    }
   ],
   "source": [
    "!kubectl logs {pod_dict['items'][0]['metadata']['name']}"
   ]
  },
  {
   "cell_type": "code",
   "execution_count": 32,
   "metadata": {},
   "outputs": [
    {
     "name": "stdout",
     "output_type": "stream",
     "text": [
      "NAME       DESIRED   CURRENT   UP-TO-DATE   AVAILABLE   AGE\r\n",
      "azure-dl   2         2         2            2           25m\r\n"
     ]
    }
   ],
   "source": [
    "!kubectl get deployment"
   ]
  },
  {
   "cell_type": "markdown",
   "metadata": {},
   "source": [
    "It can take a few minutes for the service to populate the EXTERNAL-IP field below. This will be the IP you use to call the service. You can also specify an IP to use, please see the AKS documentation for further details."
   ]
  },
  {
   "cell_type": "code",
   "execution_count": 33,
   "metadata": {},
   "outputs": [
    {
     "name": "stdout",
     "output_type": "stream",
     "text": [
      "NAME       TYPE           CLUSTER-IP     EXTERNAL-IP      PORT(S)        AGE\r\n",
      "azure-dl   LoadBalancer   10.0.210.143   168.62.183.212   80:31468/TCP   25m\r\n"
     ]
    }
   ],
   "source": [
    "!kubectl get service azure-dl"
   ]
  },
  {
   "cell_type": "markdown",
   "metadata": {},
   "source": [
    "Next, we will [test our web application deployed on AKS](05_TestWebApp.ipynb). Once, we are done with all the notebooks of the tutorial, below instructions can be used to delete the cluster and free resources."
   ]
  },
  {
   "cell_type": "markdown",
   "metadata": {},
   "source": [
    "# Scaling"
   ]
  },
  {
   "cell_type": "code",
   "execution_count": 51,
   "metadata": {},
   "outputs": [
    {
     "name": "stdout",
     "output_type": "stream",
     "text": [
      "\u001b[K{- Finished ..\n",
      "  \"agentPoolProfiles\": [\n",
      "    {\n",
      "      \"count\": 3,\n",
      "      \"dnsPrefix\": null,\n",
      "      \"fqdn\": null,\n",
      "      \"name\": \"nodepool1\",\n",
      "      \"osDiskSizeGb\": null,\n",
      "      \"osType\": \"Linux\",\n",
      "      \"ports\": null,\n",
      "      \"storageProfile\": \"ManagedDisks\",\n",
      "      \"vmSize\": \"Standard_NC6\",\n",
      "      \"vnetSubnetId\": null\n",
      "    }\n",
      "  ],\n",
      "  \"dnsPrefix\": \"fbAKSClust-fbaksrg-edf507\",\n",
      "  \"fqdn\": \"fbaksclust-fbaksrg-edf507-e12d7f40.hcp.eastus.azmk8s.io\",\n",
      "  \"id\": \"/subscriptions/edf507a2-6235-46c5-b560-fd463ba2e771/resourcegroups/fbaksrg/providers/Microsoft.ContainerService/managedClusters/fbAKSClustergpu\",\n",
      "  \"kubernetesVersion\": \"1.9.6\",\n",
      "  \"linuxProfile\": {\n",
      "    \"adminUsername\": \"azureuser\",\n",
      "    \"ssh\": {\n",
      "      \"publicKeys\": [\n",
      "        {\n",
      "          \"keyData\": \"ssh-rsa AAAAB3NzaC1yc2EAAAADAQABAAABAQDTZYQFHNstYCR25qtvMrC6baTMS6TobaIRbgd0xOoafDy+2uBk0DMJuhGWoOcrsCnvadp5k/0K8qBRysyhlQGWb6+r8fBunThy+zpTKqdh3W8Q1y5UtKnGwwU1cqGXDOPUIXJYNPJqUKV829+MOrZjUynhHgSzDbY2ncGyoT+Farsvm01aGEdDapa+XRl4JAwtN1bb9q+Ii5y+MkpIOhLRMwATl05eNfAHmYQWtaIJZZJOHMNPswlBmLs293Wsj11vYh6/yo9S4ToEsc9Pbl5Zn6OFIu7jfzN2bM8cA3+8pru9WSthrxjJvPn8i4uTYozOdNIi09ArQ4lRT9t6rsMz\"\n",
      "        }\n",
      "      ]\n",
      "    }\n",
      "  },\n",
      "  \"location\": \"eastus\",\n",
      "  \"name\": \"fbAKSClustergpu\",\n",
      "  \"provisioningState\": \"Succeeded\",\n",
      "  \"resourceGroup\": \"fbaksrg\",\n",
      "  \"servicePrincipalProfile\": {\n",
      "    \"clientId\": \"eeba3bfe-45f9-42de-9bdb-54416b67382d\",\n",
      "    \"keyVaultSecretRef\": null,\n",
      "    \"secret\": null\n",
      "  },\n",
      "  \"tags\": null,\n",
      "  \"type\": \"Microsoft.ContainerService/ManagedClusters\"\n",
      "}\n",
      "\u001b[0m"
     ]
    }
   ],
   "source": [
    "!az aks scale --resource-group=$resource_group --name=$aks_name --node-count 3"
   ]
  },
  {
   "cell_type": "code",
   "execution_count": 34,
   "metadata": {},
   "outputs": [
    {
     "name": "stdout",
     "output_type": "stream",
     "text": [
      "NAME                       STATUS    ROLES     AGE       VERSION\r\n",
      "aks-nodepool1-13347348-0   Ready     agent     6d        v1.9.6\r\n",
      "aks-nodepool1-13347348-1   Ready     agent     6d        v1.9.6\r\n",
      "aks-nodepool1-13347348-2   Ready     agent     6d        v1.9.6\r\n",
      "aks-nodepool1-13347348-3   Ready     agent     6d        v1.9.6\r\n",
      "aks-nodepool1-13347348-4   Ready     agent     6d        v1.9.6\r\n"
     ]
    }
   ],
   "source": [
    "!kubectl get nodes"
   ]
  },
  {
   "cell_type": "code",
   "execution_count": 42,
   "metadata": {},
   "outputs": [
    {
     "name": "stdout",
     "output_type": "stream",
     "text": [
      "deployment.extensions \"azure-dl\" scaled\r\n"
     ]
    }
   ],
   "source": [
    "!kubectl scale --current-replicas=20 --replicas=35 deployment/azure-dl"
   ]
  },
  {
   "cell_type": "code",
   "execution_count": 44,
   "metadata": {},
   "outputs": [
    {
     "name": "stdout",
     "output_type": "stream",
     "text": [
      "NAMESPACE     NAME                                    READY     STATUS    RESTARTS   AGE\r\n",
      "default       azure-dl-6bcd9d5bfb-2m8b4               1/1       Running   0          36m\r\n",
      "default       azure-dl-6bcd9d5bfb-2pfph               1/1       Running   0          8m\r\n",
      "default       azure-dl-6bcd9d5bfb-2txj4               1/1       Running   0          1h\r\n",
      "default       azure-dl-6bcd9d5bfb-5hdpn               1/1       Running   0          25m\r\n",
      "default       azure-dl-6bcd9d5bfb-69gz8               1/1       Running   0          36m\r\n",
      "default       azure-dl-6bcd9d5bfb-6bdmj               1/1       Running   0          8m\r\n",
      "default       azure-dl-6bcd9d5bfb-6qtjq               1/1       Running   0          36m\r\n",
      "default       azure-dl-6bcd9d5bfb-75tw9               1/1       Running   0          8m\r\n",
      "default       azure-dl-6bcd9d5bfb-7jjs5               1/1       Running   0          25m\r\n",
      "default       azure-dl-6bcd9d5bfb-bx54r               1/1       Running   0          25m\r\n",
      "default       azure-dl-6bcd9d5bfb-cw6gw               1/1       Running   0          8m\r\n",
      "default       azure-dl-6bcd9d5bfb-czqkk               1/1       Running   0          36m\r\n",
      "default       azure-dl-6bcd9d5bfb-dw5xd               1/1       Running   0          8m\r\n",
      "default       azure-dl-6bcd9d5bfb-dxrbr               1/1       Running   0          8m\r\n",
      "default       azure-dl-6bcd9d5bfb-f9wnh               1/1       Running   0          8m\r\n",
      "default       azure-dl-6bcd9d5bfb-jcf82               1/1       Running   0          8m\r\n",
      "default       azure-dl-6bcd9d5bfb-jjjfv               1/1       Running   0          1h\r\n",
      "default       azure-dl-6bcd9d5bfb-jp2fd               1/1       Running   0          25m\r\n",
      "default       azure-dl-6bcd9d5bfb-kfp6v               1/1       Running   0          8m\r\n",
      "default       azure-dl-6bcd9d5bfb-kn457               1/1       Running   0          8m\r\n",
      "default       azure-dl-6bcd9d5bfb-ksr95               1/1       Running   0          25m\r\n",
      "default       azure-dl-6bcd9d5bfb-lnbp6               1/1       Running   0          8m\r\n",
      "default       azure-dl-6bcd9d5bfb-m2z57               1/1       Running   0          36m\r\n",
      "default       azure-dl-6bcd9d5bfb-n5xm7               1/1       Running   0          25m\r\n",
      "default       azure-dl-6bcd9d5bfb-pb5xz               1/1       Running   0          36m\r\n",
      "default       azure-dl-6bcd9d5bfb-pljnj               1/1       Running   0          36m\r\n",
      "default       azure-dl-6bcd9d5bfb-prk64               1/1       Running   0          8m\r\n",
      "default       azure-dl-6bcd9d5bfb-pxklj               1/1       Running   0          25m\r\n",
      "default       azure-dl-6bcd9d5bfb-qjjls               1/1       Running   0          8m\r\n",
      "default       azure-dl-6bcd9d5bfb-smwcz               1/1       Running   0          25m\r\n",
      "default       azure-dl-6bcd9d5bfb-spx7g               1/1       Running   0          8m\r\n",
      "default       azure-dl-6bcd9d5bfb-v5pqm               1/1       Running   0          36m\r\n",
      "default       azure-dl-6bcd9d5bfb-wtbbp               1/1       Running   0          25m\r\n",
      "default       azure-dl-6bcd9d5bfb-wtpk7               1/1       Running   0          8m\r\n",
      "default       azure-dl-6bcd9d5bfb-zc4tq               1/1       Running   0          25m\r\n",
      "kube-system   azureproxy-79c5db744-j5hj4              1/1       Running   3          6d\r\n",
      "kube-system   heapster-55f855b47-bs86x                2/2       Running   0          6d\r\n",
      "kube-system   kube-dns-v20-7c556f89c5-96dfd           3/3       Running   0          6d\r\n",
      "kube-system   kube-dns-v20-7c556f89c5-fm7v2           3/3       Running   0          6d\r\n",
      "kube-system   kube-proxy-225hz                        1/1       Running   0          6d\r\n",
      "kube-system   kube-proxy-g5x5p                        1/1       Running   0          6d\r\n",
      "kube-system   kube-proxy-hw7fk                        1/1       Running   0          6d\r\n",
      "kube-system   kube-proxy-ttnsh                        1/1       Running   0          6d\r\n",
      "kube-system   kube-proxy-tvnpv                        1/1       Running   0          6d\r\n",
      "kube-system   kube-svc-redirect-278jk                 1/1       Running   0          6d\r\n",
      "kube-system   kube-svc-redirect-bhvsk                 1/1       Running   0          6d\r\n",
      "kube-system   kube-svc-redirect-chkj2                 1/1       Running   0          6d\r\n",
      "kube-system   kube-svc-redirect-k7fs6                 1/1       Running   0          6d\r\n",
      "kube-system   kube-svc-redirect-mg5cj                 1/1       Running   0          6d\r\n",
      "kube-system   kubernetes-dashboard-546f987686-rznkm   1/1       Running   2          6d\r\n",
      "kube-system   tunnelfront-5fcfb8fb44-ht5r8            1/1       Running   0          6d\r\n"
     ]
    }
   ],
   "source": [
    "!kubectl get pods --all-namespaces"
   ]
  },
  {
   "cell_type": "code",
   "execution_count": 46,
   "metadata": {},
   "outputs": [
    {
     "name": "stdout",
     "output_type": "stream",
     "text": [
      "NAME       DESIRED   CURRENT   UP-TO-DATE   AVAILABLE   AGE\r\n",
      "azure-dl   35        35        35           35          1h\r\n"
     ]
    }
   ],
   "source": [
    "!kubectl get deployment"
   ]
  },
  {
   "cell_type": "code",
   "execution_count": 61,
   "metadata": {},
   "outputs": [
    {
     "name": "stdout",
     "output_type": "stream",
     "text": [
      "\u001b[K{- Finished ..\n",
      "  \"agentPoolProfiles\": [\n",
      "    {\n",
      "      \"count\": 1,\n",
      "      \"dnsPrefix\": null,\n",
      "      \"fqdn\": null,\n",
      "      \"name\": \"nodepool1\",\n",
      "      \"osDiskSizeGb\": null,\n",
      "      \"osType\": \"Linux\",\n",
      "      \"ports\": null,\n",
      "      \"storageProfile\": \"ManagedDisks\",\n",
      "      \"vmSize\": \"Standard_NC6\",\n",
      "      \"vnetSubnetId\": null\n",
      "    }\n",
      "  ],\n",
      "  \"dnsPrefix\": \"fbAKSClust-fbaksrg-edf507\",\n",
      "  \"fqdn\": \"fbaksclust-fbaksrg-edf507-e12d7f40.hcp.eastus.azmk8s.io\",\n",
      "  \"id\": \"/subscriptions/edf507a2-6235-46c5-b560-fd463ba2e771/resourcegroups/fbaksrg/providers/Microsoft.ContainerService/managedClusters/fbAKSClustergpu\",\n",
      "  \"kubernetesVersion\": \"1.9.6\",\n",
      "  \"linuxProfile\": {\n",
      "    \"adminUsername\": \"azureuser\",\n",
      "    \"ssh\": {\n",
      "      \"publicKeys\": [\n",
      "        {\n",
      "          \"keyData\": \"ssh-rsa AAAAB3NzaC1yc2EAAAADAQABAAABAQDTZYQFHNstYCR25qtvMrC6baTMS6TobaIRbgd0xOoafDy+2uBk0DMJuhGWoOcrsCnvadp5k/0K8qBRysyhlQGWb6+r8fBunThy+zpTKqdh3W8Q1y5UtKnGwwU1cqGXDOPUIXJYNPJqUKV829+MOrZjUynhHgSzDbY2ncGyoT+Farsvm01aGEdDapa+XRl4JAwtN1bb9q+Ii5y+MkpIOhLRMwATl05eNfAHmYQWtaIJZZJOHMNPswlBmLs293Wsj11vYh6/yo9S4ToEsc9Pbl5Zn6OFIu7jfzN2bM8cA3+8pru9WSthrxjJvPn8i4uTYozOdNIi09ArQ4lRT9t6rsMz\"\n",
      "        }\n",
      "      ]\n",
      "    }\n",
      "  },\n",
      "  \"location\": \"eastus\",\n",
      "  \"name\": \"fbAKSClustergpu\",\n",
      "  \"provisioningState\": \"Succeeded\",\n",
      "  \"resourceGroup\": \"fbaksrg\",\n",
      "  \"servicePrincipalProfile\": {\n",
      "    \"clientId\": \"eeba3bfe-45f9-42de-9bdb-54416b67382d\",\n",
      "    \"keyVaultSecretRef\": null,\n",
      "    \"secret\": null\n",
      "  },\n",
      "  \"tags\": null,\n",
      "  \"type\": \"Microsoft.ContainerService/ManagedClusters\"\n",
      "}\n",
      "\u001b[0m"
     ]
    }
   ],
   "source": [
    "!az aks scale --resource-group=$resource_group --name=$aks_name --node-count 1"
   ]
  },
  {
   "cell_type": "markdown",
   "metadata": {},
   "source": [
    "# Tear it all down"
   ]
  },
  {
   "cell_type": "markdown",
   "metadata": {},
   "source": [
    "Once you are done with your cluster you can use the following two commands to destroy it all."
   ]
  },
  {
   "cell_type": "code",
   "execution_count": 10,
   "metadata": {},
   "outputs": [
    {
     "name": "stdout",
     "output_type": "stream",
     "text": [
      "deployment.apps \"azure-dl\" deleted\n",
      "service \"azure-dl\" deleted\n"
     ]
    }
   ],
   "source": [
    "!kubectl delete -f az-dl.json"
   ]
  },
  {
   "cell_type": "code",
   "execution_count": 3,
   "metadata": {},
   "outputs": [
    {
     "name": "stdout",
     "output_type": "stream",
     "text": [
      "\r",
      "\u001b[K - Starting ..\r",
      "\r",
      "\u001b[K - Finished ..\r",
      "\r",
      "\u001b[K\u001b[0m"
     ]
    }
   ],
   "source": [
    "!az aks delete -n $aks_name -g $resource_group -y"
   ]
  },
  {
   "cell_type": "code",
   "execution_count": 4,
   "metadata": {},
   "outputs": [
    {
     "name": "stdout",
     "output_type": "stream",
     "text": [
      "\u001b[K - Finished ..\u001b[0m"
     ]
    }
   ],
   "source": [
    "!az group delete --name $resource_group -y"
   ]
  }
 ],
 "metadata": {
  "kernelspec": {
   "display_name": "Python [conda env:py35]",
   "language": "python",
   "name": "conda-env-py35-py"
  },
  "language_info": {
   "codemirror_mode": {
    "name": "ipython",
    "version": 3
   },
   "file_extension": ".py",
   "mimetype": "text/x-python",
   "name": "python",
   "nbconvert_exporter": "python",
   "pygments_lexer": "ipython3",
   "version": "3.5.4"
  }
 },
 "nbformat": 4,
 "nbformat_minor": 2
}
